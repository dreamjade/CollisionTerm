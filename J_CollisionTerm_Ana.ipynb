{
 "cells": [
  {
   "cell_type": "markdown",
   "id": "5082d8d6-6131-456f-a5ba-b81aaa7a7cd8",
   "metadata": {},
   "source": [
    "# Collision Term\n",
    "\n",
    "## EOM:\n",
    "\n",
    "$$\n",
    "\\begin{cases}\n",
    "    \\dot{\\textbf{P}} = \\omega \\textbf{B} \\times \\textbf{P}+ \\mu (\\textbf{P}-\\bar{\\textbf{P}}) \\times \\textbf{P} - \\Gamma^{CC}_+ \\textbf{P}_T + \\Gamma^{AE}_+ (\\textbf{P}^{AE} - \\textbf{P}) + \\Gamma^{AE}_- (P^{AE}_0 -P_0)\\textbf{z} \\\\\n",
    "    \\dot{\\bar{\\textbf{P}}} = -\\omega \\textbf{B} \\times \\bar{\\textbf{P}}+ \\mu (\\textbf{P}-\\bar{\\textbf{P}}) \\times \\bar{\\textbf{P}} - \\bar{\\Gamma}^{CC}_+ \\bar{\\textbf{P}}_T + \\bar{\\Gamma}^{AE}_+ (\\bar{\\textbf{P}}^{AE} - \\bar{\\textbf{P}}) + \\bar{\\Gamma}^{AE}_- (\\bar{P}^{AE}_0 -\\bar{P}_0)\\textbf{z} \\\\\n",
    "    \\dot{P_0} = \\Gamma^{AE}_+ (P^{AE}_0 -P_0) + \\Gamma^{AE}_- (P^{AE}_z -P_z) \\\\\n",
    "    \\dot{\\bar{P}_0} = \\bar{\\Gamma}^{AE}_+ (\\bar{P}^{AE}_0 -\\bar{P}_0) + \\bar{\\Gamma}^{AE}_- (\\bar{P}^{AE}_z -\\bar{P}_z)\n",
    "\\end{cases}\n",
    "$$\n",
    "\n",
    "We choose the parameters\n",
    "$$\n",
    "\\begin{bmatrix}\n",
    "\\omega \\\\ \\textbf{B} \\\\ \\mu \\\\ \\theta\n",
    "\\end{bmatrix}\n",
    "= \\begin{bmatrix}\n",
    "0.3 ~km^{-1} \\\\ -sin 2\\theta~\\textbf{e}_x^f + cos 2\\theta~\\textbf{e}_z^f \\\\ 3 \\times 10^5 ~km^{-1} \\\\ 10^{-6}\n",
    "\\end{bmatrix}\n",
    "$$\n",
    "\n",
    "$$\n",
    "\\begin{bmatrix}\n",
    "\\Gamma^{CC}_+ \\\\ \\Gamma^{AE}_+ \\\\ \\Gamma^{AE}_-\n",
    "\\end{bmatrix}\n",
    "= \\begin{bmatrix}\n",
    "0.5/11.4 ~km^{-1} \\\\ 0.5/0.417 ~km^{-1} \\\\ 0.5/0.417 ~km^{-1}\n",
    "\\end{bmatrix}\n",
    "$$\n",
    "\n",
    "$$\n",
    "\\begin{bmatrix}\n",
    "\\bar{\\Gamma}^{CC}_+ \\\\ \\bar{\\Gamma}^{AE}_+ \\\\ \\bar{\\Gamma}^{AE}_-\n",
    "\\end{bmatrix}\n",
    "= \\begin{bmatrix}\n",
    "0.5/37.2 ~km^{-1} \\\\ 0.5/4.36 ~km^{-1} \\\\ 0.5/4.36 ~km^{-1} \n",
    "\\end{bmatrix}\n",
    "$$\n",
    "\n",
    "$$\n",
    "\\begin{bmatrix}\n",
    "\\textbf{P}^{AE} \\\\ P^{AE}_0 \\\\ \\bar{\\textbf{P}}^{AE} \\\\ \\bar{P}^{AE}_0\n",
    "\\end{bmatrix}\n",
    "= \\begin{bmatrix}\n",
    "2 ~\\textbf{e}_z^f\\\\ 4 \\\\ 1.5 ~\\textbf{e}_z^f \\\\ 3.5\n",
    "\\end{bmatrix}\n",
    "$$\n",
    "\n",
    "and theinitial condition\n",
    "$$\n",
    "\\begin{bmatrix}\n",
    "\\textbf{P} \\\\ P_0 \\\\ \\bar{\\textbf{P}} \\\\ \\bar{P}_0\n",
    "\\end{bmatrix}\n",
    "= \\begin{bmatrix}\n",
    "2 ~\\textbf{e}_z^f\\\\ 4 \\\\ 1.5 ~\\textbf{e}_z^f \\\\ 3.5\n",
    "\\end{bmatrix}\n",
    "$$"
   ]
  },
  {
   "cell_type": "markdown",
   "id": "5ebe78c6-ffee-44c7-b2c8-5fa02765182e",
   "metadata": {},
   "source": [
    "## Linearlized EOM\n",
    "Ignoring nonlinear terms, we have\n",
    "\n",
    "$$\n",
    "\\begin{cases}\n",
    "    i \\partial_t \\rho_{ex} = \\omega ~sin2\\theta P_{z}\n",
    "    +\\left[-\\omega ~cos2\\theta-\\sqrt{2}G_F(n_{\\bar{\\nu_e}}-n_{\\bar{\\nu_x}})- i \\Gamma \\right]\\rho_{ex} + \\sqrt{2}G_F(n_{\\nu_e}-n_{\\nu_x}) \\bar{\\rho}_{ex}\\\\\n",
    "    i \\partial_t \\bar{\\rho}_{ex} = - \\omega ~sin2\\theta \\bar{P}_{z} +\\left[+\\omega ~cos2\\theta + \\sqrt{2}G_F(n_{\\nu_e}-n_{\\nu_x}) - i \\bar{\\Gamma} \\right]\\bar{\\rho}_{ex} -\\sqrt{2}G_F(n_{\\bar{\\nu_e}}-n_{\\bar{\\nu_x}}) \\rho_{ex}\n",
    "\\end{cases}\n",
    "$$,\n",
    "where\n",
    "$$\n",
    "\\begin{cases}\n",
    "B \\equiv (sin 2\\theta,0 ,cos 2\\theta)\n",
    "\\\\\n",
    "\\rho_{ex} \\equiv \\rho_{21} = P_x+i P_y\n",
    "\\\\\n",
    "\\bar{\\rho}_{ex} \\equiv \\bar{\\rho}_{21} = \\bar{P}_x+i \\bar{P}_y\n",
    "\\\\\n",
    "\\Gamma \\equiv \\Gamma^{AE} + \\Gamma^{CC}\n",
    "\\\\\n",
    "\\bar{\\Gamma} \\equiv \\bar{\\Gamma}^{AE} + \\bar{\\Gamma}^{CC}\n",
    "\\end{cases}\n",
    "$$\n",
    "\n",
    "Let\n",
    "$$\n",
    "\\begin{cases}\n",
    "\\mu_+ \\equiv \\left(\\frac{S+D}{2}\\right) \\mu\n",
    "\\\\\n",
    "\\mu_- \\equiv \\left(\\frac{S-D}{2}\\right) \\mu\n",
    "\\end{cases}\n",
    "$$\n",
    "and\n",
    "$$\n",
    "A = \\begin{bmatrix}\n",
    "-\\omega ~cos2\\theta-\\mu_--i\\Gamma ~~~~~~~~~~~~~~~~~~ \\mu_+ ~~~~~~~~~~~~~~~~\\\\ ~~~~~~~~~~~ -\\mu_- ~~~~~~~~~~~~~~~ \\omega ~cos2\\theta+\\mu_+-i\\bar{\\Gamma}\n",
    "\\end{bmatrix}\n",
    "$$\n",
    ", we have\n",
    "$$\n",
    "i \\partial_t \\begin{bmatrix}\n",
    "\\rho_{ex} \\\\ \\bar{\\rho}_{ex}\n",
    "\\end{bmatrix} =\n",
    "\\begin{bmatrix}\n",
    "\\omega ~sin2\\theta \\\\ - \\omega ~sin2\\theta\n",
    "\\end{bmatrix} + A \\begin{bmatrix}\n",
    "\\rho_{ex} \\\\ \\bar{\\rho}_{ex}\n",
    "\\end{bmatrix}\n",
    "$$\n",
    "when $P_{z}$ and $\\bar{P}_{z}$ close to 1.\n",
    "\n",
    "Assume\n",
    "$$\n",
    "\\begin{cases}\n",
    "\\rho_{ex}(t) = \\rho^0_{ex} + Q e^{-i\\Omega t}\n",
    "\\\\\n",
    "\\bar{\\rho}_{ex}(t) = \\bar{\\rho}^0_{ex} + \\bar{Q} e^{-i\\Omega t}\n",
    "\\end{cases}\n",
    "$$, where $\\rho^0_{ex}$ and $\\bar{\\rho}^0_{ex}$ satisfy\n",
    "$$\n",
    "0= \\begin{bmatrix}\n",
    "\\omega ~sin2\\theta \\\\ - \\omega ~sin2\\theta\n",
    "\\end{bmatrix}  + \n",
    "A \\begin{bmatrix} \\rho^0_{ex} \\\\ \\bar{\\rho}^0_{ex}\n",
    "\\end{bmatrix}\n",
    "$$\n",
    ", then\n",
    "$$\n",
    "\\Omega \n",
    "\\begin{bmatrix}\n",
    "Q \\\\ \\bar{Q}\n",
    "\\end{bmatrix}\n",
    "= A\n",
    "\\begin{bmatrix}\n",
    "Q \\\\ \\bar{Q}\n",
    "\\end{bmatrix}\n",
    "$$"
   ]
  },
  {
   "cell_type": "markdown",
   "id": "c35cbd47-2c31-4cee-a4ab-9b23f1f56ae5",
   "metadata": {},
   "source": [
    "### Aproximation (not used in this simulation)\n",
    "\n",
    "For $\\theta \\ll 1$ and $P_x~,P_y \\ll P_z$, we have\n",
    "$$\n",
    "\\begin{cases}\n",
    "    i \\partial_t \\rho_{ex} = 2\\omega\\theta\n",
    "    +\\left[-\\omega-\\sqrt{2}G_F(n_{\\bar{\\nu_e}}-n_{\\bar{\\nu_x}})- i \\Gamma \\right]\\rho_{ex} + \\sqrt{2}G_F(n_{\\nu_e}-n_{\\nu_x}) \\bar{\\rho}_{ex}\\\\\n",
    "    i \\partial_t \\bar{\\rho}_{ex} = - 2\\omega\\theta +\\left[+\\omega + \\sqrt{2}G_F(n_{\\nu_e}-n_{\\nu_x}) - i \\bar{\\Gamma} \\right]\\bar{\\rho}_{ex} -\\sqrt{2}G_F(n_{\\bar{\\nu_e}}-n_{\\bar{\\nu_x}}) \\rho_{ex}\n",
    "\\end{cases}\n",
    "$$\n",
    "\n",
    "Then,\n",
    "$$\n",
    "\\Omega \n",
    "\\begin{bmatrix}\n",
    "Q \\\\ \\bar{Q}\n",
    "\\end{bmatrix}\n",
    "= \n",
    "\\begin{bmatrix}\n",
    "-\\omega-\\mu_--i\\Gamma ~~~~ \\mu_+ ~~~~~~~~~~~~~~~~\\\\ -\\mu_- ~~~~~~~~~~~~~~~~~~~~ \\omega+\\mu_+-i\\bar{\\Gamma}\n",
    "\\end{bmatrix}\n",
    "\\begin{bmatrix}\n",
    "Q \\\\ \\bar{Q}\n",
    "\\end{bmatrix}\n",
    "$$\n",
    "\n",
    "Under the assumption that $\\mu S, \\mu D>> \\omega >>\\gamma$, we have the eigenvalue of the above equation is\n",
    "$$\n",
    "\\begin{cases}\n",
    "\\Omega_+ \\simeq \\mu D + i\\left[ -\\frac{1}{2}(\\Gamma + \\bar{\\Gamma}) + \\frac{S}{2 D}(\\Gamma - \\bar{\\Gamma})\\right]\n",
    "\\\\\n",
    "\\Omega_- \\simeq \\frac{\\omega S}{D} + i\\left[ -\\frac{1}{2}(\\Gamma + \\bar{\\Gamma}) - \\frac{S}{2 D}(\\Gamma - \\bar{\\Gamma})\\right]\n",
    "\\end{cases}\n",
    "$$\n",
    "Notice that for + mode,\n",
    "$$\n",
    "Q_+ \\simeq \\bar{Q}_+\n",
    "$$\n",
    "; for - mode,\n",
    "$$\n",
    "Q_- \\simeq \\frac{S+D}{S-D}\\bar{Q}_-\n",
    "$$"
   ]
  },
  {
   "cell_type": "markdown",
   "id": "1395746c-1e15-4164-929c-d31d19322000",
   "metadata": {},
   "source": [
    "### Draw the proportions of each mode with eigenvalues and eigenvectors\n",
    "First, we have to find the eigenvalues of matrix $A$, and denote the eigenvalues and normalized eigenvectors as $\\Omega_\\pm$ and $\\vec{v}_\\pm$.\n",
    "\n",
    "Then,\n",
    "$$\n",
    "\\begin{bmatrix}\n",
    "\\rho_{ex} (t)\\\\ \\bar{\\rho}_{ex} (t)\n",
    "\\end{bmatrix}\n",
    "= \\begin{bmatrix} \n",
    "\\rho^0_{ex} \\\\ \\bar{\\rho}^0_{ex}\n",
    "\\end{bmatrix} + \n",
    "Q_+ \\vec{v}_+\n",
    "e^{-i \\Omega_{+} ~\\bf{t}} +\n",
    "Q_- \\vec{v}_-\n",
    "e^{-i \\Omega_{-} ~\\bf{t}}\n",
    "=\n",
    "\\begin{bmatrix}\n",
    "\\vec{v}_- ~~ \\vec{v}_+\n",
    "\\end{bmatrix}\n",
    "\\begin{bmatrix}\n",
    "Q_-e^{-i \\Omega_{-} ~\\bf{t}} \\\\ Q_+e^{-i \\Omega_{+} ~\\bf{t}}\n",
    "\\end{bmatrix} + \n",
    "\\begin{bmatrix} \n",
    "\\rho^0_{ex} \\\\ \\bar{\\rho}^0_{ex}\n",
    "\\end{bmatrix}\n",
    "$$, or\n",
    "$$\n",
    "\\begin{bmatrix}\n",
    "Q_-e^{-i \\Omega_{-} ~\\bf{t}} \\\\ Q_+e^{-i \\Omega_{+} ~\\bf{t}}\n",
    "\\end{bmatrix} =\n",
    "\\begin{bmatrix}\n",
    "\\vec{v}_- ~~ \\vec{v}_+\n",
    "\\end{bmatrix}^{-1}\n",
    "\\begin{bmatrix}\n",
    "\\rho_{ex} (t) - \\rho^0_{ex} \\\\ \\bar{\\rho}_{ex} (t) -\\bar{\\rho}^0_{ex}\n",
    "\\end{bmatrix}\n",
    "$$"
   ]
  },
  {
   "cell_type": "markdown",
   "id": "9bb40cdf-2ea3-402e-b299-eee44a3f197a",
   "metadata": {
    "execution": {
     "iopub.execute_input": "2022-06-29T09:57:45.160000-06:00",
     "iopub.status.busy": "2022-06-29T09:57:45.160000-06:00",
     "iopub.status.idle": "2022-06-29T09:57:45.204000-06:00",
     "shell.execute_reply": "2022-06-29T09:57:45.204000-06:00"
    }
   },
   "source": [
    "## Comparing the proportions of each mode with eigenvalues and eigenvectors\n",
    "From the above discussion, we are able to do a analytic simulation\n",
    "\n",
    "$$\n",
    "\\begin{bmatrix}\n",
    "\\rho_{ex} (t)\\\\ \\bar{\\rho}_{ex} (t)\n",
    "\\end{bmatrix}\n",
    "=\n",
    "\\begin{bmatrix}\n",
    "\\vec{v}_- ~~ \\vec{v}_+\n",
    "\\end{bmatrix}\n",
    "\\begin{bmatrix}\n",
    "Q_-e^{-i \\Omega_{-} ~\\bf{t}} \\\\ Q_+e^{-i \\Omega_{+} ~\\bf{t}}\n",
    "\\end{bmatrix} + \n",
    "\\begin{bmatrix} \n",
    "\\rho^0_{ex} \\\\ \\bar{\\rho}^0_{ex}\n",
    "\\end{bmatrix}\n",
    "$$, where $Q_-$ and $Q_+$ satisfy\n",
    "$$\n",
    "\\begin{bmatrix}\n",
    "Q_- \\\\ Q_+\n",
    "\\end{bmatrix} =\n",
    "\\begin{bmatrix}\n",
    "\\vec{v}_- ~~ \\vec{v}_+\n",
    "\\end{bmatrix}^{-1}\n",
    "\\begin{bmatrix}\n",
    "\\rho_{ex} (0) - \\rho^0_{ex} \\\\ \\bar{\\rho}_{ex} (0) -\\bar{\\rho}^0_{ex}\n",
    "\\end{bmatrix}=\n",
    "\\begin{bmatrix}\n",
    "\\vec{v}_- ~~ \\vec{v}_+\n",
    "\\end{bmatrix}^{-1}\n",
    "\\begin{bmatrix}\n",
    "- \\rho^0_{ex} \\\\ -\\bar{\\rho}^0_{ex}\n",
    "\\end{bmatrix}\n",
    "$$"
   ]
  },
  {
   "cell_type": "code",
   "execution_count": 62,
   "id": "6c7e80e6-52c7-4fe1-a250-0a4b36e7631a",
   "metadata": {
    "execution": {
     "iopub.execute_input": "2022-10-13T08:20:44.894000-06:00",
     "iopub.status.busy": "2022-10-13T08:20:44.894000-06:00",
     "iopub.status.idle": "2022-10-13T08:20:44.897000-06:00",
     "shell.execute_reply": "2022-10-13T08:20:44.896000-06:00"
    },
    "tags": []
   },
   "outputs": [
    {
     "data": {
      "text/plain": [
       "(-4.3313945636790777e-7 + 9.461830938178508e-7im, -1.6970206348777513e-11 + 5.918072682146479e-16im)"
      ]
     },
     "execution_count": 62,
     "metadata": {},
     "output_type": "execute_result"
    }
   ],
   "source": [
    "Qma, Qpa"
   ]
  },
  {
   "cell_type": "code",
   "execution_count": null,
   "id": "53a69600-70ce-4ad6-93d0-b54b16dc635f",
   "metadata": {},
   "outputs": [],
   "source": []
  },
  {
   "cell_type": "code",
   "execution_count": 66,
   "id": "998fedfc-f95d-4ddb-a738-d334acaf1f83",
   "metadata": {
    "execution": {
     "iopub.execute_input": "2022-10-13T09:36:14.332000-06:00",
     "iopub.status.busy": "2022-10-13T09:36:14.331000-06:00",
     "iopub.status.idle": "2022-10-13T09:36:14.335000-06:00",
     "shell.execute_reply": "2022-10-13T09:36:14.334000-06:00"
    },
    "tags": []
   },
   "outputs": [
    {
     "data": {
      "text/plain": [
       "1.697056274847714e-11"
      ]
     },
     "execution_count": 66,
     "metadata": {},
     "output_type": "execute_result"
    }
   ],
   "source": [
    "2^0.5*w_0*theta/D/mu_0*(1.75*S/D-0.25)"
   ]
  },
  {
   "cell_type": "code",
   "execution_count": 24,
   "id": "24ab94d6-540c-48ad-9651-f1c61edbb5e6",
   "metadata": {
    "execution": {
     "iopub.execute_input": "2022-10-13T08:12:26.820000-06:00",
     "iopub.status.busy": "2022-10-13T08:12:26.820000-06:00",
     "iopub.status.idle": "2022-10-13T08:12:27.286000-06:00",
     "shell.execute_reply": "2022-10-13T08:12:27.286000-06:00"
    }
   },
   "outputs": [
    {
     "data": {
      "text/plain": [
       "2×2 Matrix{ComplexF64}:\n",
       " 0.800001+0.0im         0.707106-2.62752e-6im\n",
       " 0.599999-2.22953e-6im  0.707107+0.0im"
      ]
     },
     "execution_count": 24,
     "metadata": {},
     "output_type": "execute_result"
    }
   ],
   "source": [
    "eigvecs(A)"
   ]
  },
  {
   "cell_type": "code",
   "execution_count": 25,
   "id": "5c6b23a9-cbfb-47f4-a4cd-951fcdaf1a4d",
   "metadata": {
    "execution": {
     "iopub.execute_input": "2022-10-13T08:12:34.241000-06:00",
     "iopub.status.busy": "2022-10-13T08:12:34.240000-06:00",
     "iopub.status.idle": "2022-10-13T08:12:34.444000-06:00",
     "shell.execute_reply": "2022-10-13T08:12:34.444000-06:00"
    }
   },
   "outputs": [
    {
     "data": {
      "text/plain": [
       "2×2 Matrix{Float64}:\n",
       "  5.0      -5.0\n",
       " -4.24264   5.65685"
      ]
     },
     "execution_count": 25,
     "metadata": {},
     "output_type": "execute_result"
    }
   ],
   "source": [
    "(S^2+D^2)^0.5/D*[2^-0.5 -2^-0.5; -0.6 0.8]"
   ]
  },
  {
   "cell_type": "code",
   "execution_count": 26,
   "id": "5a23f295-736f-4c05-89c2-af93a095930d",
   "metadata": {
    "execution": {
     "iopub.execute_input": "2022-10-13T08:12:46.378000-06:00",
     "iopub.status.busy": "2022-10-13T08:12:46.378000-06:00",
     "iopub.status.idle": "2022-10-13T08:12:46.381000-06:00",
     "shell.execute_reply": "2022-10-13T08:12:46.380000-06:00"
    }
   },
   "outputs": [
    {
     "data": {
      "text/plain": [
       "(-3.465238143226912e-7 + 7.569470205276548e-7im, -2.598932313811112e-7 + 5.677100957203353e-7im)"
      ]
     },
     "execution_count": 26,
     "metadata": {},
     "output_type": "execute_result"
    }
   ],
   "source": [
    "adjrho, adjbrho"
   ]
  },
  {
   "cell_type": "code",
   "execution_count": 27,
   "id": "9a86b108-9fae-4b5c-9baa-28ab7f3db950",
   "metadata": {
    "execution": {
     "iopub.execute_input": "2022-10-13T08:12:51.089000-06:00",
     "iopub.status.busy": "2022-10-13T08:12:51.089000-06:00",
     "iopub.status.idle": "2022-10-13T08:12:51.123000-06:00",
     "shell.execute_reply": "2022-10-13T08:12:51.123000-06:00"
    }
   },
   "outputs": [
    {
     "data": {
      "text/plain": [
       "(-3.960272693015802e-7 + 8.650824174288679e-7im, -2.9702045197618513e-7 + 6.48811813071651e-7im)"
      ]
     },
     "execution_count": 27,
     "metadata": {},
     "output_type": "execute_result"
    }
   ],
   "source": [
    " -4*w_0*theta*((mu_0*S*w_0)+1im*(mup*g-mum*bg))^-1*mup,  -4*w_0*theta*((mu_0*S*w_0)+1im*(mup*g-mum*bg))^-1*mum"
   ]
  },
  {
   "cell_type": "code",
   "execution_count": 28,
   "id": "328962c6-f8f2-454b-bbb2-eabe64a2a011",
   "metadata": {
    "execution": {
     "iopub.execute_input": "2022-10-13T08:12:52.845000-06:00",
     "iopub.status.busy": "2022-10-13T08:12:52.844000-06:00",
     "iopub.status.idle": "2022-10-13T08:12:52.867000-06:00",
     "shell.execute_reply": "2022-10-13T08:12:52.866000-06:00"
    }
   },
   "outputs": [
    {
     "data": {
      "text/plain": [
       "(-3.9602727262409254e-7 + 8.65082546705386e-7im, -2.970209494843008e-7 + 6.488117161142623e-7im)"
      ]
     },
     "execution_count": 28,
     "metadata": {},
     "output_type": "execute_result"
    }
   ],
   "source": [
    "-2*w_0*theta*((mu_0*S*w_0)+1im*(mup*g-mum*bg))^-1*(2*mup+w_0-1im*bg),  -2*w_0*theta*((mu_0*S*w_0)+1im*(mup*g-mum*bg))^-1*(2*mum+w_0+1im*g)"
   ]
  },
  {
   "cell_type": "code",
   "execution_count": 29,
   "id": "b95645cf-77e2-4f9a-8fa4-48d83f738bd6",
   "metadata": {
    "execution": {
     "iopub.execute_input": "2022-10-13T08:13:06.093000-06:00",
     "iopub.status.busy": "2022-10-13T08:13:06.093000-06:00",
     "iopub.status.idle": "2022-10-13T08:13:06.100000-06:00",
     "shell.execute_reply": "2022-10-13T08:13:06.099000-06:00"
    }
   },
   "outputs": [
    {
     "data": {
      "text/plain": [
       "2×2 Matrix{ComplexF64}:\n",
       "  4.99994-0.000111473im  -4.99993+0.000130052im\n",
       " -4.24258+0.000110353im   5.65678-0.000126118im"
      ]
     },
     "execution_count": 29,
     "metadata": {},
     "output_type": "execute_result"
    }
   ],
   "source": [
    "inv(eigvecs(A))"
   ]
  },
  {
   "cell_type": "code",
   "execution_count": 30,
   "id": "965b6557-c34a-497e-b2d8-4e193b0caa3f",
   "metadata": {
    "execution": {
     "iopub.execute_input": "2022-10-13T08:13:14.232000-06:00",
     "iopub.status.busy": "2022-10-13T08:13:14.231000-06:00",
     "iopub.status.idle": "2022-10-13T08:13:14.363000-06:00",
     "shell.execute_reply": "2022-10-13T08:13:14.363000-06:00"
    }
   },
   "outputs": [
    {
     "data": {
      "text/plain": [
       "5.656780706871254 - 0.00012611761064500288im"
      ]
     },
     "execution_count": 30,
     "metadata": {},
     "output_type": "execute_result"
    }
   ],
   "source": [
    "inv(eigvecs(A))[4]"
   ]
  },
  {
   "cell_type": "code",
   "execution_count": 31,
   "id": "80edba8b-73db-4f15-a383-84ff001fca80",
   "metadata": {
    "execution": {
     "iopub.execute_input": "2022-10-13T08:13:17.620000-06:00",
     "iopub.status.busy": "2022-10-13T08:13:17.619000-06:00",
     "iopub.status.idle": "2022-10-13T08:13:17.626000-06:00",
     "shell.execute_reply": "2022-10-13T08:13:17.625000-06:00"
    }
   },
   "outputs": [
    {
     "data": {
      "text/plain": [
       "2×2 Matrix{ComplexF64}:\n",
       "    -9.0e5-1.2429im  1.2e6+0.0im\n",
       " -900000.0+0.0im     1.2e6-0.12812im"
      ]
     },
     "execution_count": 31,
     "metadata": {},
     "output_type": "execute_result"
    }
   ],
   "source": [
    "A"
   ]
  },
  {
   "cell_type": "code",
   "execution_count": 32,
   "id": "993ff8a5-38be-4c52-9fbc-df70b9061265",
   "metadata": {
    "execution": {
     "iopub.execute_input": "2022-10-13T08:13:18.635000-06:00",
     "iopub.status.busy": "2022-10-13T08:13:18.634000-06:00",
     "iopub.status.idle": "2022-10-13T08:13:18.636000-06:00",
     "shell.execute_reply": "2022-10-13T08:13:18.636000-06:00"
    }
   },
   "outputs": [
    {
     "data": {
      "text/plain": [
       "-2.1000353075796614 - 4.587188878501907im"
      ]
     },
     "execution_count": 32,
     "metadata": {},
     "output_type": "execute_result"
    }
   ],
   "source": [
    "omegam"
   ]
  },
  {
   "cell_type": "code",
   "execution_count": 33,
   "id": "4beb456f-99e6-4a5b-be7e-0fac52d94602",
   "metadata": {
    "execution": {
     "iopub.execute_input": "2022-10-13T08:13:20.171000-06:00",
     "iopub.status.busy": "2022-10-13T08:13:20.171000-06:00",
     "iopub.status.idle": "2022-10-13T08:13:20.175000-06:00",
     "shell.execute_reply": "2022-10-13T08:13:20.175000-06:00"
    }
   },
   "outputs": [
    {
     "data": {
      "text/plain": [
       "2.1 - 3.3443419716338267im"
      ]
     },
     "execution_count": 33,
     "metadata": {},
     "output_type": "execute_result"
    }
   ],
   "source": [
    "new_omegam = w_0*S/D+1im*(g-0.5*(g+bg)-0.5S*(g-bg)/D)"
   ]
  },
  {
   "cell_type": "code",
   "execution_count": 34,
   "id": "9930517d-a4f1-4e01-8fe0-35f60c1610b6",
   "metadata": {
    "execution": {
     "iopub.execute_input": "2022-10-13T08:13:21.132000-06:00",
     "iopub.status.busy": "2022-10-13T08:13:21.131000-06:00",
     "iopub.status.idle": "2022-10-13T08:13:21.146000-06:00",
     "shell.execute_reply": "2022-10-13T08:13:21.146000-06:00"
    }
   },
   "outputs": [
    {
     "data": {
      "text/plain": [
       "899998.1999646925 - 3.344288461993009im"
      ]
     },
     "execution_count": 34,
     "metadata": {},
     "output_type": "execute_result"
    }
   ],
   "source": [
    "adjmum = mum+w_0+1im*g+omegam"
   ]
  },
  {
   "cell_type": "code",
   "execution_count": 35,
   "id": "a5914712-b80c-4b00-aebb-b6da1c75a048",
   "metadata": {
    "execution": {
     "iopub.execute_input": "2022-10-13T08:13:23.965000-06:00",
     "iopub.status.busy": "2022-10-13T08:13:23.965000-06:00",
     "iopub.status.idle": "2022-10-13T08:13:23.970000-06:00",
     "shell.execute_reply": "2022-10-13T08:13:23.969000-06:00"
    }
   },
   "outputs": [
    {
     "data": {
      "text/plain": [
       "899998.2000000001 - 3.3443419716338267im"
      ]
     },
     "execution_count": 35,
     "metadata": {},
     "output_type": "execute_result"
    }
   ],
   "source": [
    "adjmum = mum+w_0-w_0*S/D+1im*(g-0.5*(g+bg)-0.5S*(g-bg)/D)"
   ]
  },
  {
   "cell_type": "code",
   "execution_count": 36,
   "id": "65950b04-3369-4ceb-8f99-dc602bbc74ae",
   "metadata": {
    "execution": {
     "iopub.execute_input": "2022-10-13T08:13:26.672000-06:00",
     "iopub.status.busy": "2022-10-13T08:13:26.672000-06:00",
     "iopub.status.idle": "2022-10-13T08:13:26.779000-06:00",
     "shell.execute_reply": "2022-10-13T08:13:26.779000-06:00"
    }
   },
   "outputs": [
    {
     "data": {
      "text/plain": [
       "2×2 Matrix{ComplexF64}:\n",
       "  4.99997-6.2427e-5im   -4.99997+6.2427e-5im\n",
       " -4.24261+6.30608e-5im   5.65682-6.30608e-5im"
      ]
     },
     "execution_count": 36,
     "metadata": {},
     "output_type": "execute_result"
    }
   ],
   "source": [
    "new_invA=inv([(mup/(adjmum^2+mup^2)^0.5) 2^-0.5;(adjmum/(adjmum^2+mup^2)^0.5) 2^-0.5])"
   ]
  },
  {
   "cell_type": "code",
   "execution_count": 37,
   "id": "de994fe1-b25c-4526-b4f9-b525b3209407",
   "metadata": {
    "execution": {
     "iopub.execute_input": "2022-10-13T08:13:29.033000-06:00",
     "iopub.status.busy": "2022-10-13T08:13:29.032000-06:00",
     "iopub.status.idle": "2022-10-13T08:13:29.205000-06:00",
     "shell.execute_reply": "2022-10-13T08:13:29.204000-06:00"
    }
   },
   "outputs": [
    {
     "data": {
      "text/plain": [
       "(-4.242632201837911 + 1.5765379244993783e-5im, 5.656854249492381)"
      ]
     },
     "execution_count": 37,
     "metadata": {},
     "output_type": "execute_result"
    }
   ],
   "source": [
    "-2^0.5*adjmum/D/mu_0, 2^0.5*mup/D/mu_0"
   ]
  },
  {
   "cell_type": "code",
   "execution_count": 38,
   "id": "82e24ae1-7ecc-455b-b871-c83e3950af65",
   "metadata": {
    "execution": {
     "iopub.execute_input": "2022-10-13T08:13:30.922000-06:00",
     "iopub.status.busy": "2022-10-13T08:13:30.922000-06:00",
     "iopub.status.idle": "2022-10-13T08:13:30.929000-06:00",
     "shell.execute_reply": "2022-10-13T08:13:30.928000-06:00"
    }
   },
   "outputs": [
    {
     "data": {
      "text/plain": [
       "2×2 Matrix{ComplexF64}:\n",
       "  4.99994-0.000111473im  -4.99993+0.000130052im\n",
       " -4.24258+0.000110353im   5.65678-0.000126118im"
      ]
     },
     "execution_count": 38,
     "metadata": {},
     "output_type": "execute_result"
    }
   ],
   "source": [
    "inv(eigvecs(A))"
   ]
  },
  {
   "cell_type": "code",
   "execution_count": 39,
   "id": "be484943-7587-4c13-9773-5e76083a35cb",
   "metadata": {
    "execution": {
     "iopub.execute_input": "2022-10-13T08:13:37.499000-06:00",
     "iopub.status.busy": "2022-10-13T08:13:37.499000-06:00",
     "iopub.status.idle": "2022-10-13T08:13:37.506000-06:00",
     "shell.execute_reply": "2022-10-13T08:13:37.506000-06:00"
    }
   },
   "outputs": [
    {
     "data": {
      "text/plain": [
       "-1.979858223756177e-11 + 6.863317389188463e-16im"
      ]
     },
     "execution_count": 39,
     "metadata": {},
     "output_type": "execute_result"
    }
   ],
   "source": [
    "inv(eigvecs(A))[2]*(-2*w_0*theta*((mu_0*S*w_0)+1im*(mup*g-mum*bg))^-1*(2*mup+w_0-1im*bg))+(-2*w_0*theta*((mu_0*S*w_0)+1im*(mup*g-mum*bg))^-1*(2*mum+w_0+1im*g))*inv(eigvecs(A))[4]"
   ]
  },
  {
   "cell_type": "code",
   "execution_count": 40,
   "id": "558a7bb7-d0e1-4097-bf47-cab9635982e6",
   "metadata": {
    "execution": {
     "iopub.execute_input": "2022-10-13T08:13:38.408000-06:00",
     "iopub.status.busy": "2022-10-13T08:13:38.408000-06:00",
     "iopub.status.idle": "2022-10-13T08:13:38.424000-06:00",
     "shell.execute_reply": "2022-10-13T08:13:38.424000-06:00"
    }
   },
   "outputs": [
    {
     "data": {
      "text/plain": [
       "-1.979883964007477e-11 + 2.449267764786326e-16im"
      ]
     },
     "execution_count": 40,
     "metadata": {},
     "output_type": "execute_result"
    }
   ],
   "source": [
    "-2^0.5*(mum+w_0+1im*g+omegam)/D/mu_0*(-2*w_0*theta*((mu_0*S*w_0)+1im*(mup*g-mum*bg))^-1*(2*mup+w_0-1im*bg))+(-2*w_0*theta*((mu_0*S*w_0)+1im*(mup*g-mum*bg))^-1*(2*mum+w_0+1im*g))*2^0.5*mup/D/mu_0"
   ]
  },
  {
   "cell_type": "code",
   "execution_count": 41,
   "id": "157a0e31-e7ef-4011-a689-ecb80d8dccf4",
   "metadata": {
    "execution": {
     "iopub.execute_input": "2022-10-13T08:13:39.320000-06:00",
     "iopub.status.busy": "2022-10-13T08:13:39.319000-06:00",
     "iopub.status.idle": "2022-10-13T08:13:39.323000-06:00",
     "shell.execute_reply": "2022-10-13T08:13:39.323000-06:00"
    }
   },
   "outputs": [
    {
     "data": {
      "text/plain": [
       "(-2.1 - 4.587242388142725im, -2.1000353075796614 - 4.587188878501907im)"
      ]
     },
     "execution_count": 41,
     "metadata": {},
     "output_type": "execute_result"
    }
   ],
   "source": [
    "-w_0*S/D - 1im *(0.5*(g+bg)+0.5*S*(g-bg)/D), omegam"
   ]
  },
  {
   "cell_type": "code",
   "execution_count": 42,
   "id": "c4b68b06-a30e-49e6-a723-a4d639ed530b",
   "metadata": {
    "execution": {
     "iopub.execute_input": "2022-10-13T08:13:39.874000-06:00",
     "iopub.status.busy": "2022-10-13T08:13:39.873000-06:00",
     "iopub.status.idle": "2022-10-13T08:13:39.908000-06:00",
     "shell.execute_reply": "2022-10-13T08:13:39.907000-06:00"
    }
   },
   "outputs": [
    {
     "data": {
      "text/plain": [
       "-1.9798989873223327e-11 + 0.0im"
      ]
     },
     "execution_count": 42,
     "metadata": {},
     "output_type": "execute_result"
    }
   ],
   "source": [
    "-2^1.5*w_0*theta*((mu_0*S*w_0)+1im*(mup*g-mum*bg))^-1/D*((0.5S+0.5D)*(-w_0+2*(w_0*S/D+ 1im *(0.5*(g+bg)+0.5*S*(g-bg)/D)))-(0.5S-0.5D)*w_0+1im*bg*(0.5S-0.5D)-1im*g*(0.5S+0.5D))"
   ]
  },
  {
   "cell_type": "code",
   "execution_count": 43,
   "id": "6847cc3e-d268-4dcd-8bdb-0dce8af35fa7",
   "metadata": {
    "execution": {
     "iopub.execute_input": "2022-10-13T08:13:40.968000-06:00",
     "iopub.status.busy": "2022-10-13T08:13:40.968000-06:00",
     "iopub.status.idle": "2022-10-13T08:13:41.094000-06:00",
     "shell.execute_reply": "2022-10-13T08:13:41.093000-06:00"
    }
   },
   "outputs": [
    {
     "data": {
      "text/plain": [
       "-1.9798989873223327e-11"
      ]
     },
     "execution_count": 43,
     "metadata": {},
     "output_type": "execute_result"
    }
   ],
   "source": [
    "-2^1.5*w_0*theta*S/D^2/mu_0"
   ]
  },
  {
   "cell_type": "code",
   "execution_count": 44,
   "id": "e207cc8d-a6af-4aa1-a0f6-84f9ee63093f",
   "metadata": {
    "execution": {
     "iopub.execute_input": "2022-10-13T08:13:41.779000-06:00",
     "iopub.status.busy": "2022-10-13T08:13:41.778000-06:00",
     "iopub.status.idle": "2022-10-13T08:13:41.781000-06:00",
     "shell.execute_reply": "2022-10-13T08:13:41.780000-06:00"
    }
   },
   "outputs": [
    {
     "data": {
      "text/plain": [
       "-1.6970206348777513e-11 + 5.918072682146479e-16im"
      ]
     },
     "execution_count": 44,
     "metadata": {},
     "output_type": "execute_result"
    }
   ],
   "source": [
    "Qpa"
   ]
  },
  {
   "cell_type": "code",
   "execution_count": 45,
   "id": "59eaa07e-ed5b-41c2-a9b6-7b143d8cc52d",
   "metadata": {
    "execution": {
     "iopub.execute_input": "2022-10-13T08:13:42.332000-06:00",
     "iopub.status.busy": "2022-10-13T08:13:42.331000-06:00",
     "iopub.status.idle": "2022-10-13T08:13:42.338000-06:00",
     "shell.execute_reply": "2022-10-13T08:13:42.337000-06:00"
    }
   },
   "outputs": [
    {
     "data": {
      "text/plain": [
       "7.3500000000000005 + 16.055348358499536im"
      ]
     },
     "execution_count": 45,
     "metadata": {},
     "output_type": "execute_result"
    }
   ],
   "source": [
    "((0.5S+0.5D)*(-w_0+2*(w_0*S/D+ 1im *(0.5*(g+bg)+0.5*S*(g-bg)/D)))-(0.5S-0.5D)*w_0+1im*bg*(0.5S-0.5D)-1im*g*(0.5S+0.5D))"
   ]
  },
  {
   "cell_type": "code",
   "execution_count": 46,
   "id": "0606852e-d337-489c-97b7-de774f202ba3",
   "metadata": {
    "execution": {
     "iopub.execute_input": "2022-10-13T08:13:43.117000-06:00",
     "iopub.status.busy": "2022-10-13T08:13:43.116000-06:00",
     "iopub.status.idle": "2022-10-13T08:13:43.132000-06:00",
     "shell.execute_reply": "2022-10-13T08:13:43.132000-06:00"
    }
   },
   "outputs": [
    {
     "data": {
      "text/plain": [
       "0.0 + 16.055348358499536im"
      ]
     },
     "execution_count": 46,
     "metadata": {},
     "output_type": "execute_result"
    }
   ],
   "source": [
    "((0.5S+0.5D)*1im *((g+bg)+S*(g-bg)/D)+1im*bg*(0.5S-0.5D)-1im*g*(0.5S+0.5D))"
   ]
  },
  {
   "cell_type": "code",
   "execution_count": 47,
   "id": "8313a6ee-72f0-4a17-9867-5c4bb66d055e",
   "metadata": {
    "execution": {
     "iopub.execute_input": "2022-10-13T08:13:45.156000-06:00",
     "iopub.status.busy": "2022-10-13T08:13:45.156000-06:00",
     "iopub.status.idle": "2022-10-13T08:13:45.164000-06:00",
     "shell.execute_reply": "2022-10-13T08:13:45.163000-06:00"
    }
   },
   "outputs": [
    {
     "data": {
      "text/plain": [
       "8.223427434895819e-12 - 5.299192644217308e-12im"
      ]
     },
     "execution_count": 47,
     "metadata": {},
     "output_type": "execute_result"
    }
   ],
   "source": [
    "2^1.5*w_0^2*theta*((mu_0*S*w_0)+1im*(mup*g-mum*bg))^-1/D*((S^2/D)+1im*(D*bg+S/D*(g-bg)*(0.5S+0.5D)))"
   ]
  },
  {
   "cell_type": "code",
   "execution_count": 48,
   "id": "405ba2d2-5503-4427-bd8f-5524535bae45",
   "metadata": {
    "execution": {
     "iopub.execute_input": "2022-10-13T08:13:45.784000-06:00",
     "iopub.status.busy": "2022-10-13T08:13:45.784000-06:00",
     "iopub.status.idle": "2022-10-13T08:13:45.859000-06:00",
     "shell.execute_reply": "2022-10-13T08:13:45.859000-06:00"
    }
   },
   "outputs": [
    {
     "data": {
      "text/plain": [
       "2×2 Matrix{ComplexF64}:\n",
       " -0.330023+0.720902im  0.330023-0.720902im\n",
       " -0.247517+0.540677im  0.247517-0.540677im"
      ]
     },
     "execution_count": 48,
     "metadata": {},
     "output_type": "execute_result"
    }
   ],
   "source": [
    " (-mu_0*S*w_0*cos(2*theta)+1im*mum*bg-1im*mup*g)^-1* [mup -mup ; mum -mum]"
   ]
  },
  {
   "cell_type": "code",
   "execution_count": 49,
   "id": "f14e8249-10df-4bfe-9a84-0877b058ac84",
   "metadata": {
    "execution": {
     "iopub.execute_input": "2022-10-13T08:13:46.949000-06:00",
     "iopub.status.busy": "2022-10-13T08:13:46.948000-06:00",
     "iopub.status.idle": "2022-10-13T08:13:46.956000-06:00",
     "shell.execute_reply": "2022-10-13T08:13:46.955000-06:00"
    }
   },
   "outputs": [
    {
     "data": {
      "text/plain": [
       "2×2 Matrix{ComplexF64}:\n",
       "  4.99994-0.000111473im  -4.99993+0.000130052im\n",
       " -4.24258+0.000110353im   5.65678-0.000126118im"
      ]
     },
     "execution_count": 49,
     "metadata": {},
     "output_type": "execute_result"
    }
   ],
   "source": [
    "inv(eigvecs(A))"
   ]
  },
  {
   "cell_type": "code",
   "execution_count": 50,
   "id": "e0494fc3-7a1d-4882-914c-bd52f2866fba",
   "metadata": {
    "execution": {
     "iopub.execute_input": "2022-10-13T08:13:49.903000-06:00",
     "iopub.status.busy": "2022-10-13T08:13:49.902000-06:00",
     "iopub.status.idle": "2022-10-13T08:13:49.910000-06:00",
     "shell.execute_reply": "2022-10-13T08:13:49.909000-06:00"
    }
   },
   "outputs": [
    {
     "data": {
      "text/plain": [
       "1×2 Matrix{ComplexF64}:\n",
       " -4.33139e-7+9.46183e-7im  -1.69702e-11+5.91807e-16im"
      ]
     },
     "execution_count": 50,
     "metadata": {},
     "output_type": "execute_result"
    }
   ],
   "source": [
    "[adjrho adjbrho]*transpose(inv(eigvecs(A)))"
   ]
  },
  {
   "cell_type": "code",
   "execution_count": 51,
   "id": "928dfc68-fba3-471b-b3af-0f194a570259",
   "metadata": {
    "execution": {
     "iopub.execute_input": "2022-10-13T08:13:50.685000-06:00",
     "iopub.status.busy": "2022-10-13T08:13:50.684000-06:00",
     "iopub.status.idle": "2022-10-13T08:13:50.693000-06:00",
     "shell.execute_reply": "2022-10-13T08:13:50.692000-06:00"
    }
   },
   "outputs": [
    {
     "data": {
      "text/plain": [
       "2×2 Matrix{ComplexF64}:\n",
       "    -9.0e5-1.2429im  1.2e6+0.0im\n",
       " -900000.0+0.0im     1.2e6-0.12812im"
      ]
     },
     "execution_count": 51,
     "metadata": {},
     "output_type": "execute_result"
    }
   ],
   "source": [
    "A = [-w_0*cos(2*theta)-mum-1im*g mup ; -mum w_0*cos(2*theta)+mup-1im*bg]"
   ]
  },
  {
   "cell_type": "code",
   "execution_count": 52,
   "id": "7d9fc331-445b-44d8-ae55-23e18c3c29f7",
   "metadata": {
    "execution": {
     "iopub.execute_input": "2022-10-13T08:13:51.505000-06:00",
     "iopub.status.busy": "2022-10-13T08:13:51.504000-06:00",
     "iopub.status.idle": "2022-10-13T08:13:51.508000-06:00",
     "shell.execute_reply": "2022-10-13T08:13:51.508000-06:00"
    }
   },
   "outputs": [
    {
     "data": {
      "text/plain": [
       "(-2.1000353075796614 - 4.587188878501907im, -4.587242388142725)"
      ]
     },
     "execution_count": 52,
     "metadata": {},
     "output_type": "execute_result"
    }
   ],
   "source": [
    "omegam, -0.5(g+bg)-0.5S*(g-bg)/D"
   ]
  },
  {
   "cell_type": "code",
   "execution_count": 53,
   "id": "96cad0d0-5c2a-4ac5-b550-8400f183801f",
   "metadata": {
    "execution": {
     "iopub.execute_input": "2022-10-13T08:13:52.140000-06:00",
     "iopub.status.busy": "2022-10-13T08:13:52.140000-06:00",
     "iopub.status.idle": "2022-10-13T08:13:52.142000-06:00",
     "shell.execute_reply": "2022-10-13T08:13:52.142000-06:00"
    }
   },
   "outputs": [
    {
     "data": {
      "text/plain": [
       "1.3333333333333333"
      ]
     },
     "execution_count": 53,
     "metadata": {},
     "output_type": "execute_result"
    }
   ],
   "source": [
    "mup/mum"
   ]
  },
  {
   "cell_type": "code",
   "execution_count": 54,
   "id": "62b03735-764d-4048-a31a-7f1bc5cea17a",
   "metadata": {
    "execution": {
     "iopub.execute_input": "2022-10-13T08:13:52.436000-06:00",
     "iopub.status.busy": "2022-10-13T08:13:52.436000-06:00",
     "iopub.status.idle": "2022-10-13T08:13:52.440000-06:00",
     "shell.execute_reply": "2022-10-13T08:13:52.439000-06:00"
    }
   },
   "outputs": [
    {
     "data": {
      "text/plain": [
       "-2.7501893701498623e-7 + 6.007516787700472e-7im"
      ]
     },
     "execution_count": 54,
     "metadata": {},
     "output_type": "execute_result"
    }
   ],
   "source": [
    "(-mu_0*S*w_0+1im*mum*bg-1im*mup*g)^-1"
   ]
  },
  {
   "cell_type": "code",
   "execution_count": 55,
   "id": "1220f040-c1b2-4d60-87a7-b4053d1c4dac",
   "metadata": {
    "execution": {
     "iopub.execute_input": "2022-10-13T08:13:52.734000-06:00",
     "iopub.status.busy": "2022-10-13T08:13:52.733000-06:00",
     "iopub.status.idle": "2022-10-13T08:13:52.739000-06:00",
     "shell.execute_reply": "2022-10-13T08:13:52.739000-06:00"
    }
   },
   "outputs": [
    {
     "data": {
      "text/plain": [
       "(2.9702045197618513e-7 - 6.48811813071651e-7im, 3.960272693015802e-7 - 8.650824174288679e-7im)"
      ]
     },
     "execution_count": 55,
     "metadata": {},
     "output_type": "execute_result"
    }
   ],
   "source": [
    " 4*w_0*theta*((mu_0*S*w_0)+1im*(mup*g-mum*bg))^-1*mum,  4*w_0*theta*((mu_0*S*w_0)+1im*(mup*g-mum*bg))^-1*mup"
   ]
  },
  {
   "cell_type": "code",
   "execution_count": 56,
   "id": "2efde3bb-30c7-4389-913a-0052d59ef44d",
   "metadata": {
    "execution": {
     "iopub.execute_input": "2022-10-13T08:13:53.562000-06:00",
     "iopub.status.busy": "2022-10-13T08:13:53.562000-06:00",
     "iopub.status.idle": "2022-10-13T08:13:53.568000-06:00",
     "shell.execute_reply": "2022-10-13T08:13:53.568000-06:00"
    }
   },
   "outputs": [
    {
     "data": {
      "text/plain": [
       "2×2 Matrix{ComplexF64}:\n",
       "    -9.0e5-1.2429im  1.2e6+0.0im\n",
       " -900000.0+0.0im     1.2e6-0.12812im"
      ]
     },
     "execution_count": 56,
     "metadata": {},
     "output_type": "execute_result"
    }
   ],
   "source": [
    "A"
   ]
  },
  {
   "cell_type": "code",
   "execution_count": 57,
   "id": "85925e14-777e-4343-a4f1-f8ab54cafc32",
   "metadata": {
    "execution": {
     "iopub.execute_input": "2022-10-13T08:13:53.997000-06:00",
     "iopub.status.busy": "2022-10-13T08:13:53.996000-06:00",
     "iopub.status.idle": "2022-10-13T08:13:54.005000-06:00",
     "shell.execute_reply": "2022-10-13T08:13:54.004000-06:00"
    }
   },
   "outputs": [
    {
     "data": {
      "text/plain": [
       "2×2 Matrix{ComplexF64}:\n",
       " -0.330023+0.720902im  0.330023-0.720902im\n",
       " -0.247517+0.540677im  0.247517-0.540677im"
      ]
     },
     "execution_count": 57,
     "metadata": {},
     "output_type": "execute_result"
    }
   ],
   "source": [
    " (-mu_0*S*w_0*cos(2*theta)+1im*mum*bg-1im*mup*g)^-1* [mup -mup ; mum -mum]"
   ]
  },
  {
   "cell_type": "code",
   "execution_count": 58,
   "id": "66a05dac-295b-4132-8f71-11cc3cc8411d",
   "metadata": {
    "execution": {
     "iopub.execute_input": "2022-10-13T08:13:54.597000-06:00",
     "iopub.status.busy": "2022-10-13T08:13:54.597000-06:00",
     "iopub.status.idle": "2022-10-13T08:13:54.603000-06:00",
     "shell.execute_reply": "2022-10-13T08:13:54.603000-06:00"
    }
   },
   "outputs": [
    {
     "data": {
      "text/plain": [
       "2×2 Matrix{ComplexF64}:\n",
       " -0.330023+0.720902im  0.330023-0.720902im\n",
       " -0.247517+0.540676im  0.247518-0.540676im"
      ]
     },
     "execution_count": 58,
     "metadata": {},
     "output_type": "execute_result"
    }
   ],
   "source": [
    "inv(A)"
   ]
  },
  {
   "cell_type": "code",
   "execution_count": 59,
   "id": "30f33dd3-eb15-4181-8f95-e3ece3e76e77",
   "metadata": {
    "execution": {
     "iopub.execute_input": "2022-10-13T08:13:55.294000-06:00",
     "iopub.status.busy": "2022-10-13T08:13:55.293000-06:00",
     "iopub.status.idle": "2022-10-13T08:13:55.296000-06:00",
     "shell.execute_reply": "2022-10-13T08:13:55.296000-06:00"
    }
   },
   "outputs": [
    {
     "data": {
      "text/plain": [
       "-3.465238143226912e-7 + 7.569470205276548e-7im"
      ]
     },
     "execution_count": 59,
     "metadata": {},
     "output_type": "execute_result"
    }
   ],
   "source": [
    "rho_ini-rho0"
   ]
  },
  {
   "cell_type": "code",
   "execution_count": 60,
   "id": "fc83dd58-1c8e-489e-86aa-172b7e80bd7e",
   "metadata": {
    "execution": {
     "iopub.execute_input": "2022-10-13T08:13:55.908000-06:00",
     "iopub.status.busy": "2022-10-13T08:13:55.907000-06:00",
     "iopub.status.idle": "2022-10-13T08:13:55.910000-06:00",
     "shell.execute_reply": "2022-10-13T08:13:55.909000-06:00"
    }
   },
   "outputs": [
    {
     "data": {
      "text/plain": [
       "-2.598932313811112e-7 + 5.677100957203353e-7im"
      ]
     },
     "execution_count": 60,
     "metadata": {},
     "output_type": "execute_result"
    }
   ],
   "source": [
    "brho_ini-brho0"
   ]
  },
  {
   "cell_type": "code",
   "execution_count": 17,
   "id": "59ea2e11-63f1-46b9-b1b7-2e6f2e3ca974",
   "metadata": {
    "execution": {
     "iopub.execute_input": "2022-10-13T08:09:56.601000-06:00",
     "iopub.status.busy": "2022-10-13T08:09:56.600000-06:00",
     "iopub.status.idle": "2022-10-13T08:09:56.642000-06:00",
     "shell.execute_reply": "2022-10-13T08:09:56.642000-06:00"
    },
    "tags": []
   },
   "outputs": [
    {
     "data": {
      "text/plain": [
       "starttime (generic function with 1 method)"
      ]
     },
     "execution_count": 17,
     "metadata": {},
     "output_type": "execute_result"
    }
   ],
   "source": [
    "using LinearAlgebra\n",
    "using DifferentialEquations, StaticArrays\n",
    "using Plots\n",
    "using LaTeXStrings\n",
    "using Plots\n",
    "\n",
    "#parameters\n",
    "const w_0 = 0.3 #km^-1\n",
    "\n",
    "const gcc = 0.5/11.4 #km^-1\n",
    "const gaep = 0.5/0.417#km^-1\n",
    "const gaem = 0.5/0.417#km^-1\n",
    "PAE = SA[0.0,0.0,2.0]\n",
    "const PAEZ = PAE[3]\n",
    "const PAE0 = 4.0\n",
    "\n",
    "const bgcc = 0.5/37.2 #km^-1\n",
    "const bgaep = 0.5/4.36 #km^-1\n",
    "const bgaem = 0.5/4.36 #km^-1\n",
    "bPAE = SA[0.0,0.0,1.5]\n",
    "const bPAEZ = bPAE[3]\n",
    "const bPAE0 = 3.5\n",
    "\n",
    "tkm = 0.0:0.001:25. #time in km^-1\n",
    "t = (10/3)tkm #time in microsecond\n",
    "\n",
    "#initial P_w\n",
    "Pi = [0.0,0.0,2.0]\n",
    "const Pi0 = 4.0\n",
    "bPi = [0.0,0.0,1.5] #P_bar\n",
    "const bPi0 = 3.5\n",
    "print()\n",
    "\n",
    "#parameters\n",
    "S=3.5\n",
    "D=0.5\n",
    "\n",
    "g = gcc+gaep #gamma\n",
    "bg = bgcc+bgaep #gamma_bar\n",
    "\n",
    "rho_ini = 0.5*Pi[1]+0.5im*Pi[2] #rho_ex = Px+i Py\n",
    "brho_ini = 0.5*bPi[1]+0.5im*bPi[2] #bar{rho}_ex = bPx+i bPy\n",
    "\n",
    "function starttime(mu_0,theta)\n",
    "    #B= SA[-sin(2*theta),0,cos(2*theta)]\n",
    "    @fastmath @inbounds wB = w_0*SA[-sin(2*theta),0,cos(2*theta)]\n",
    "    mup = 0.5(S+D)*mu_0\n",
    "    mum = 0.5(S-D)*mu_0\n",
    "    A = [-w_0*cos(2*theta)-mum-1im*g mup ; -mum w_0*cos(2*theta)+mup-1im*bg]\n",
    "    omegam, omegap = eigvals(A)\n",
    "\n",
    "    #adj\n",
    "    rho0,brho0 = 0.5w_0*sin(2*theta)*inv(A)*[-Pi[3]; bPi[3]]\n",
    "    adjrho = rho_ini-rho0\n",
    "    adjbrho = brho_ini-brho0\n",
    "\n",
    "    #v^-1 \\rho\n",
    "    Qexp = [adjrho adjbrho]*transpose(inv(eigvecs(A)))\n",
    "    Qexp_abs = broadcast(abs,Qexp)\n",
    "    Omegap = mu_0*D + 1im*(-0.5*(g+bg)+0.5*S*(g-bg)/D)\n",
    "    Omegam = w_0*S/D - 1im*(0.5*(g+bg)+0.5*S*(g-bg)/D)\n",
    "    iomegaptf(t) = exp(1im*Omegap*t)\n",
    "    iomegapt = broadcast(iomegaptf,tkm)\n",
    "    iomegamtf(t) = exp(1im*Omegam*t)\n",
    "    iomegamt = broadcast(iomegamtf,tkm)\n",
    "    Qm = broadcast(abs,Qexp[:,1].*iomegamt)\n",
    "    Qp = broadcast(abs,Qexp[:,2].*iomegapt)\n",
    "\n",
    "    #analytical solution\n",
    "    Qma, Qpa=Qexp[1,1], Qexp[1,2]\n",
    "    miomegaptf(t) = exp(-1im*Omegap*t)\n",
    "    miomegapt = broadcast(miomegaptf,tkm)\n",
    "    miomegamtf(t) = exp(-1im*Omegam*t)\n",
    "    miomegamt = broadcast(miomegamtf,tkm)\n",
    "    anasol = eigvecs(A)*transpose([Qma*miomegamt Qpa*miomegapt])\n",
    "    abs_anarho = broadcast(abs,anasol[1,:].+rho0)\n",
    "    abs_anabrho = broadcast(abs,anasol[2,:].+brho0)\n",
    "\n",
    "    #abs(Qp*vp*exp(-i*Omema_p*t))\n",
    "    a = broadcast(abs, eigvecs(A)[2,2]*Qpa*miomegapt)\n",
    "    b = broadcast(abs, eigvecs(A)[1,2]*Qpa*miomegapt) \n",
    "    check_point = [0.0,0.0]\n",
    "    for i in 1:length(t)\n",
    "        if a[i]>abs(adjbrho) && check_point[1]==0\n",
    "        #if a[i]>0.9 && check_point[1]==0\n",
    "            check_point[1] = t[i]\n",
    "        end\n",
    "        if b[i]>abs(adjrho) && check_point[2]==0\n",
    "        #if b[i]>0.9 && check_point[2]==0\n",
    "            check_point[2] = t[i]\n",
    "        end\n",
    "    end\n",
    "    return check_point\n",
    "end"
   ]
  },
  {
   "cell_type": "code",
   "execution_count": 18,
   "id": "963597ad-ddbc-4578-8e8f-e9660f964fc0",
   "metadata": {
    "execution": {
     "iopub.execute_input": "2022-10-13T08:09:57.010000-06:00",
     "iopub.status.busy": "2022-10-13T08:09:57.009000-06:00",
     "iopub.status.idle": "2022-10-13T08:09:57.594000-06:00",
     "shell.execute_reply": "2022-10-13T08:09:57.593000-06:00"
    },
    "tags": []
   },
   "outputs": [
    {
     "data": {
      "image/svg+xml": [
       "<?xml version=\"1.0\" encoding=\"utf-8\"?>\n",
       "<svg xmlns=\"http://www.w3.org/2000/svg\" xmlns:xlink=\"http://www.w3.org/1999/xlink\" width=\"600\" height=\"400\" viewBox=\"0 0 2400 1600\">\n",
       "<defs>\n",
       "  <clipPath id=\"clip320\">\n",
       "    <rect x=\"0\" y=\"0\" width=\"2400\" height=\"1600\"/>\n",
       "  </clipPath>\n",
       "</defs>\n",
       "<path clip-path=\"url(#clip320)\" d=\"\n",
       "M0 1600 L2400 1600 L2400 0 L0 0  Z\n",
       "  \" fill=\"#ffffff\" fill-rule=\"evenodd\" fill-opacity=\"1\"/>\n",
       "<defs>\n",
       "  <clipPath id=\"clip321\">\n",
       "    <rect x=\"480\" y=\"0\" width=\"1681\" height=\"1600\"/>\n",
       "  </clipPath>\n",
       "</defs>\n",
       "<defs>\n",
       "  <clipPath id=\"clip322\">\n",
       "    <rect x=\"188\" y=\"47\" width=\"2165\" height=\"1440\"/>\n",
       "  </clipPath>\n",
       "</defs>\n",
       "<path clip-path=\"url(#clip320)\" d=\"\n",
       "M202.227 1402.7 L2352.76 1402.7 L2352.76 47.2441 L202.227 47.2441  Z\n",
       "  \" fill=\"#ffffff\" fill-rule=\"evenodd\" fill-opacity=\"1\"/>\n",
       "<defs>\n",
       "  <clipPath id=\"clip323\">\n",
       "    <rect x=\"202\" y=\"47\" width=\"2152\" height=\"1356\"/>\n",
       "  </clipPath>\n",
       "</defs>\n",
       "<polyline clip-path=\"url(#clip323)\" style=\"stroke:#000000; stroke-linecap:round; stroke-linejoin:round; stroke-width:2; stroke-opacity:0.1; fill:none\" points=\"\n",
       "  413.12,1402.7 413.12,47.2441 \n",
       "  \"/>\n",
       "<polyline clip-path=\"url(#clip323)\" style=\"stroke:#000000; stroke-linecap:round; stroke-linejoin:round; stroke-width:2; stroke-opacity:0.1; fill:none\" points=\"\n",
       "  1089.39,1402.7 1089.39,47.2441 \n",
       "  \"/>\n",
       "<polyline clip-path=\"url(#clip323)\" style=\"stroke:#000000; stroke-linecap:round; stroke-linejoin:round; stroke-width:2; stroke-opacity:0.1; fill:none\" points=\"\n",
       "  1765.65,1402.7 1765.65,47.2441 \n",
       "  \"/>\n",
       "<polyline clip-path=\"url(#clip320)\" style=\"stroke:#000000; stroke-linecap:round; stroke-linejoin:round; stroke-width:4; stroke-opacity:1; fill:none\" points=\"\n",
       "  202.227,1402.7 2352.76,1402.7 \n",
       "  \"/>\n",
       "<polyline clip-path=\"url(#clip320)\" style=\"stroke:#000000; stroke-linecap:round; stroke-linejoin:round; stroke-width:4; stroke-opacity:1; fill:none\" points=\"\n",
       "  413.12,1402.7 413.12,1383.8 \n",
       "  \"/>\n",
       "<polyline clip-path=\"url(#clip320)\" style=\"stroke:#000000; stroke-linecap:round; stroke-linejoin:round; stroke-width:4; stroke-opacity:1; fill:none\" points=\"\n",
       "  1089.39,1402.7 1089.39,1383.8 \n",
       "  \"/>\n",
       "<polyline clip-path=\"url(#clip320)\" style=\"stroke:#000000; stroke-linecap:round; stroke-linejoin:round; stroke-width:4; stroke-opacity:1; fill:none\" points=\"\n",
       "  1765.65,1402.7 1765.65,1383.8 \n",
       "  \"/>\n",
       "<path clip-path=\"url(#clip320)\" d=\"M378.564 1476.83 L386.203 1476.83 L386.203 1450.46 L377.893 1452.13 L377.893 1447.87 L386.157 1446.2 L390.832 1446.2 L390.832 1476.83 L398.471 1476.83 L398.471 1480.76 L378.564 1480.76 L378.564 1476.83 Z\" fill=\"#000000\" fill-rule=\"evenodd\" fill-opacity=\"1\" /><path clip-path=\"url(#clip320)\" d=\"M417.916 1449.28 Q414.305 1449.28 412.476 1452.84 Q410.67 1456.39 410.67 1463.52 Q410.67 1470.62 412.476 1474.19 Q414.305 1477.73 417.916 1477.73 Q421.55 1477.73 423.355 1474.19 Q425.184 1470.62 425.184 1463.52 Q425.184 1456.39 423.355 1452.84 Q421.55 1449.28 417.916 1449.28 M417.916 1445.58 Q423.726 1445.58 426.781 1450.18 Q429.86 1454.77 429.86 1463.52 Q429.86 1472.24 426.781 1476.85 Q423.726 1481.43 417.916 1481.43 Q412.106 1481.43 409.027 1476.85 Q405.971 1472.24 405.971 1463.52 Q405.971 1454.77 409.027 1450.18 Q412.106 1445.58 417.916 1445.58 Z\" fill=\"#000000\" fill-rule=\"evenodd\" fill-opacity=\"1\" /><path clip-path=\"url(#clip320)\" d=\"M442.555 1438.21 Q445.282 1438.79 446.806 1440.64 Q448.348 1442.48 448.348 1445.19 Q448.348 1449.34 445.489 1451.62 Q442.631 1453.9 437.364 1453.9 Q435.596 1453.9 433.716 1453.54 Q431.854 1453.2 429.86 1452.5 L429.86 1448.84 Q431.44 1449.76 433.321 1450.23 Q435.201 1450.7 437.252 1450.7 Q440.825 1450.7 442.687 1449.29 Q444.568 1447.88 444.568 1445.19 Q444.568 1442.7 442.819 1441.31 Q441.088 1439.9 437.985 1439.9 L434.712 1439.9 L434.712 1436.78 L438.135 1436.78 Q440.938 1436.78 442.424 1435.67 Q443.909 1434.54 443.909 1432.44 Q443.909 1430.27 442.367 1429.13 Q440.844 1427.96 437.985 1427.96 Q436.424 1427.96 434.637 1428.3 Q432.851 1428.64 430.706 1429.35 L430.706 1425.97 Q432.869 1425.36 434.75 1425.06 Q436.65 1424.76 438.324 1424.76 Q442.649 1424.76 445.17 1426.74 Q447.69 1428.69 447.69 1432.04 Q447.69 1434.37 446.354 1435.99 Q445.019 1437.59 442.555 1438.21 Z\" fill=\"#000000\" fill-rule=\"evenodd\" fill-opacity=\"1\" /><path clip-path=\"url(#clip320)\" d=\"M1053.84 1476.83 L1061.48 1476.83 L1061.48 1450.46 L1053.17 1452.13 L1053.17 1447.87 L1061.44 1446.2 L1066.11 1446.2 L1066.11 1476.83 L1073.75 1476.83 L1073.75 1480.76 L1053.84 1480.76 L1053.84 1476.83 Z\" fill=\"#000000\" fill-rule=\"evenodd\" fill-opacity=\"1\" /><path clip-path=\"url(#clip320)\" d=\"M1093.2 1449.28 Q1089.58 1449.28 1087.76 1452.84 Q1085.95 1456.39 1085.95 1463.52 Q1085.95 1470.62 1087.76 1474.19 Q1089.58 1477.73 1093.2 1477.73 Q1096.83 1477.73 1098.63 1474.19 Q1100.46 1470.62 1100.46 1463.52 Q1100.46 1456.39 1098.63 1452.84 Q1096.83 1449.28 1093.2 1449.28 M1093.2 1445.58 Q1099.01 1445.58 1102.06 1450.18 Q1105.14 1454.77 1105.14 1463.52 Q1105.14 1472.24 1102.06 1476.85 Q1099.01 1481.43 1093.2 1481.43 Q1087.38 1481.43 1084.31 1476.85 Q1081.25 1472.24 1081.25 1463.52 Q1081.25 1454.77 1084.31 1450.18 Q1087.38 1445.58 1093.2 1445.58 Z\" fill=\"#000000\" fill-rule=\"evenodd\" fill-opacity=\"1\" /><path clip-path=\"url(#clip320)\" d=\"M1117.82 1428.58 L1108.22 1443.57 L1117.82 1443.57 L1117.82 1428.58 M1116.82 1425.27 L1121.6 1425.27 L1121.6 1443.57 L1125.6 1443.57 L1125.6 1446.73 L1121.6 1446.73 L1121.6 1453.35 L1117.82 1453.35 L1117.82 1446.73 L1105.14 1446.73 L1105.14 1443.06 L1116.82 1425.27 Z\" fill=\"#000000\" fill-rule=\"evenodd\" fill-opacity=\"1\" /><path clip-path=\"url(#clip320)\" d=\"M1731.26 1476.83 L1738.9 1476.83 L1738.9 1450.46 L1730.59 1452.13 L1730.59 1447.87 L1738.85 1446.2 L1743.53 1446.2 L1743.53 1476.83 L1751.16 1476.83 L1751.16 1480.76 L1731.26 1480.76 L1731.26 1476.83 Z\" fill=\"#000000\" fill-rule=\"evenodd\" fill-opacity=\"1\" /><path clip-path=\"url(#clip320)\" d=\"M1770.61 1449.28 Q1767 1449.28 1765.17 1452.84 Q1763.36 1456.39 1763.36 1463.52 Q1763.36 1470.62 1765.17 1474.19 Q1767 1477.73 1770.61 1477.73 Q1774.24 1477.73 1776.05 1474.19 Q1777.88 1470.62 1777.88 1463.52 Q1777.88 1456.39 1776.05 1452.84 Q1774.24 1449.28 1770.61 1449.28 M1770.61 1445.58 Q1776.42 1445.58 1779.47 1450.18 Q1782.55 1454.77 1782.55 1463.52 Q1782.55 1472.24 1779.47 1476.85 Q1776.42 1481.43 1770.61 1481.43 Q1764.8 1481.43 1761.72 1476.85 Q1758.66 1472.24 1758.66 1463.52 Q1758.66 1454.77 1761.72 1450.18 Q1764.8 1445.58 1770.61 1445.58 Z\" fill=\"#000000\" fill-rule=\"evenodd\" fill-opacity=\"1\" /><path clip-path=\"url(#clip320)\" d=\"M1783.74 1425.27 L1798.65 1425.27 L1798.65 1428.47 L1787.22 1428.47 L1787.22 1435.35 Q1788.05 1435.07 1788.87 1434.94 Q1789.7 1434.79 1790.53 1434.79 Q1795.23 1434.79 1797.98 1437.36 Q1800.72 1439.94 1800.72 1444.34 Q1800.72 1448.87 1797.9 1451.39 Q1795.08 1453.9 1789.94 1453.9 Q1788.18 1453.9 1786.33 1453.59 Q1784.51 1453.29 1782.55 1452.69 L1782.55 1448.87 Q1784.25 1449.8 1786.05 1450.25 Q1787.86 1450.7 1789.87 1450.7 Q1793.12 1450.7 1795.02 1448.99 Q1796.92 1447.28 1796.92 1444.34 Q1796.92 1441.41 1795.02 1439.7 Q1793.12 1437.98 1789.87 1437.98 Q1788.35 1437.98 1786.82 1438.32 Q1785.32 1438.66 1783.74 1439.38 L1783.74 1425.27 Z\" fill=\"#000000\" fill-rule=\"evenodd\" fill-opacity=\"1\" /><path clip-path=\"url(#clip320)\" d=\"M1167.85 1541.37 Q1167.01 1545.52 1165.88 1547.91 Q1164.08 1551.55 1160.99 1551.55 Q1158.8 1551.55 1157.12 1550.23 Q1155.48 1548.91 1155.06 1546.72 Q1154.22 1547.71 1153.61 1548.29 Q1153.03 1548.87 1151.87 1549.77 Q1150.75 1550.64 1149.33 1551.1 Q1147.91 1551.55 1146.3 1551.55 Q1142.37 1551.55 1139.89 1549.49 Q1136.54 1562.98 1136.25 1563.66 Q1135.32 1565.04 1133.97 1565.04 Q1133.13 1565.04 1132.61 1564.53 Q1132.1 1564.04 1132.1 1563.27 Q1132.13 1563.01 1132.32 1562.21 L1141.79 1524.04 Q1142.05 1523.01 1142.7 1522.43 Q1143.37 1521.82 1143.76 1521.76 Q1144.14 1521.66 1144.43 1521.66 Q1145.3 1521.66 1145.82 1522.14 Q1146.37 1522.59 1146.37 1523.43 Q1146.37 1523.56 1146.17 1524.3 Q1146.01 1525.01 1145.75 1526.1 Q1145.5 1527.17 1145.37 1527.65 L1142.6 1538.73 Q1141.66 1542.53 1141.66 1544.33 Q1141.66 1547.07 1142.89 1548.58 Q1144.14 1550.06 1146.56 1550.06 Q1148.07 1550.06 1149.49 1549.45 Q1150.91 1548.81 1151.87 1547.94 Q1152.84 1547.07 1153.61 1546.14 Q1154.39 1545.17 1154.74 1544.56 Q1155.09 1543.91 1155.13 1543.75 L1156.83 1537.02 L1159.96 1524.69 Q1160.15 1523.91 1160.51 1523.4 Q1160.89 1522.85 1161.34 1522.66 Q1161.79 1522.46 1162.05 1522.43 Q1162.31 1522.37 1162.53 1522.37 Q1163.34 1522.37 1163.89 1522.85 Q1164.43 1523.33 1164.43 1524.17 Q1164.43 1524.33 1164.24 1525.11 Q1164.08 1525.85 1163.82 1526.94 Q1163.56 1528 1163.44 1528.58 Q1162.41 1532.64 1162.31 1533.06 L1160.47 1540.18 Q1160.38 1540.6 1160.05 1541.95 Q1159.76 1543.3 1159.6 1544.01 Q1159.44 1544.69 1159.28 1545.62 Q1159.15 1546.52 1159.15 1547.04 Q1159.15 1550.06 1161.15 1550.06 Q1161.92 1550.06 1162.6 1549.61 Q1163.27 1549.13 1163.73 1548.45 Q1164.21 1547.78 1164.66 1546.62 Q1165.14 1545.43 1165.43 1544.46 Q1165.72 1543.46 1166.14 1541.92 Q1166.3 1541.18 1166.46 1540.95 Q1166.62 1540.73 1167.08 1540.73 Q1167.85 1540.73 1167.85 1541.37 Z\" fill=\"#000000\" fill-rule=\"evenodd\" fill-opacity=\"1\" /><path clip-path=\"url(#clip320)\" d=\"M1174.55 1568.41 Q1174.55 1561.62 1176.26 1557.93 Q1178.65 1552.43 1184.28 1552.43 Q1185.48 1552.43 1186.72 1552.76 Q1187.98 1553.08 1189.56 1554.32 Q1191.16 1555.56 1192.13 1557.59 Q1193.98 1561.51 1193.98 1568.41 Q1193.98 1575.15 1192.27 1578.82 Q1189.76 1584.19 1184.24 1584.19 Q1182.17 1584.19 1180.05 1583.13 Q1177.95 1582.07 1176.62 1579.52 Q1174.55 1575.71 1174.55 1568.41 M1178.38 1567.85 Q1178.38 1574.81 1178.87 1577.58 Q1179.44 1580.58 1180.97 1581.89 Q1182.53 1583.18 1184.24 1583.18 Q1186.09 1583.18 1187.62 1581.8 Q1189.18 1580.4 1189.65 1577.4 Q1190.17 1574.45 1190.15 1567.85 Q1190.15 1561.42 1189.7 1558.85 Q1189.09 1555.85 1187.46 1554.66 Q1185.86 1553.44 1184.24 1553.44 Q1183.63 1553.44 1182.98 1553.62 Q1182.35 1553.8 1181.42 1554.32 Q1180.5 1554.84 1179.78 1556.12 Q1179.08 1557.41 1178.74 1559.35 Q1178.38 1561.85 1178.38 1567.85 Z\" fill=\"#000000\" fill-rule=\"evenodd\" fill-opacity=\"1\" /><path clip-path=\"url(#clip320)\" d=\"M1218.26 1534.32 Q1218.26 1523.17 1222.41 1514.19 Q1224.18 1510.42 1226.66 1507.26 Q1229.14 1504.11 1230.78 1502.72 Q1232.43 1501.34 1232.88 1501.34 Q1233.52 1501.34 1233.55 1501.98 Q1233.55 1502.3 1232.68 1503.11 Q1222.06 1513.93 1222.09 1534.32 Q1222.09 1554.77 1232.43 1565.17 Q1233.55 1566.3 1233.55 1566.65 Q1233.55 1567.29 1232.88 1567.29 Q1232.43 1567.29 1230.85 1565.97 Q1229.27 1564.65 1226.82 1561.63 Q1224.37 1558.6 1222.6 1554.9 Q1218.26 1545.91 1218.26 1534.32 Z\" fill=\"#000000\" fill-rule=\"evenodd\" fill-opacity=\"1\" /><path clip-path=\"url(#clip320)\" d=\"M1239.62 1550.81 L1239.62 1548.78 Q1243.13 1548.78 1243.94 1548.36 Q1244.78 1547.91 1244.78 1545.78 L1244.78 1511.48 Q1244.78 1509.03 1243.91 1508.42 Q1243.07 1507.81 1239.62 1507.81 L1239.62 1505.75 L1249.12 1505.04 L1249.12 1536.7 L1258.43 1528.65 Q1259.88 1527.39 1259.88 1526.07 Q1259.88 1524.56 1257.98 1524.43 L1257.98 1522.37 Q1260.75 1522.56 1265.36 1522.56 Q1268.06 1522.56 1269.96 1522.37 L1269.96 1524.43 Q1265.81 1524.62 1261.65 1527.97 Q1260.72 1528.71 1258.5 1530.64 Q1256.31 1532.54 1256.31 1532.74 Q1256.31 1532.8 1256.37 1532.96 Q1256.47 1533.12 1256.6 1533.25 Q1256.72 1533.38 1256.72 1533.45 L1265.1 1545.27 Q1266.8 1547.65 1268.06 1548.23 Q1269.32 1548.78 1271.51 1548.78 L1271.51 1550.81 Q1268.67 1550.61 1265.74 1550.61 Q1264.16 1550.61 1258.62 1550.81 L1258.62 1548.78 Q1261.01 1548.78 1261.01 1547.23 Q1261.01 1546.17 1255.66 1538.79 Q1255.28 1538.28 1254.41 1537.15 Q1253.6 1535.96 1253.15 1535.38 L1248.93 1538.99 L1248.93 1545.78 Q1248.93 1547.91 1249.74 1548.36 Q1250.57 1548.78 1254.08 1548.78 L1254.08 1550.81 Q1250.12 1550.61 1246.84 1550.61 Q1246.16 1550.61 1239.62 1550.81 Z\" fill=\"#000000\" fill-rule=\"evenodd\" fill-opacity=\"1\" /><path clip-path=\"url(#clip320)\" d=\"M1274.04 1550.81 L1274.04 1548.78 Q1277.55 1548.78 1278.36 1548.36 Q1279.16 1547.91 1279.16 1545.78 L1279.16 1528.1 Q1279.16 1525.65 1278.29 1525.04 Q1277.46 1524.43 1274.04 1524.43 L1274.04 1522.37 L1283.32 1521.66 L1283.32 1528.58 Q1286.41 1521.66 1293.08 1521.66 Q1300.8 1521.66 1301.87 1528.1 Q1302.99 1525.59 1305.35 1523.62 Q1307.73 1521.66 1311.43 1521.66 Q1316.39 1521.66 1318.36 1524.11 Q1319.81 1525.75 1320.1 1527.59 Q1320.39 1529.42 1320.39 1534.19 L1320.39 1546.78 Q1320.45 1548.16 1321.51 1548.49 Q1322.58 1548.78 1325.54 1548.78 L1325.54 1550.81 Q1318.81 1550.61 1318.16 1550.61 Q1317.65 1550.61 1310.69 1550.81 L1310.69 1548.78 Q1314.2 1548.78 1315.01 1548.36 Q1315.84 1547.91 1315.84 1545.78 L1315.84 1530.42 Q1315.84 1527.07 1314.81 1525.11 Q1313.78 1523.11 1310.95 1523.11 Q1307.54 1523.11 1304.8 1525.97 Q1302.06 1528.84 1302.06 1533.67 L1302.06 1545.78 Q1302.06 1547.91 1302.87 1548.36 Q1303.7 1548.78 1307.21 1548.78 L1307.21 1550.81 Q1300.48 1550.61 1299.81 1550.61 Q1299.29 1550.61 1292.37 1550.81 L1292.37 1548.78 Q1295.88 1548.78 1296.68 1548.36 Q1297.52 1547.91 1297.52 1545.78 L1297.52 1530.42 Q1297.52 1527.07 1296.49 1525.11 Q1295.46 1523.11 1292.62 1523.11 Q1289.21 1523.11 1286.47 1525.97 Q1283.74 1528.84 1283.74 1533.67 L1283.74 1545.78 Q1283.74 1547.91 1284.54 1548.36 Q1285.38 1548.78 1288.86 1548.78 L1288.86 1550.81 Q1282.13 1550.61 1281.48 1550.61 Q1280.97 1550.61 1274.04 1550.81 Z\" fill=\"#000000\" fill-rule=\"evenodd\" fill-opacity=\"1\" /><path clip-path=\"url(#clip320)\" d=\"M1362.56 1518.87 Q1362.83 1519.14 1362.83 1519.53 Q1362.83 1519.91 1362.56 1520.18 Q1362.29 1520.45 1361.91 1520.45 L1333.01 1520.45 Q1332.62 1520.45 1332.35 1520.18 Q1332.08 1519.91 1332.08 1519.53 Q1332.08 1519.14 1332.35 1518.87 Q1332.62 1518.6 1333.01 1518.6 L1361.91 1518.6 Q1362.29 1518.6 1362.56 1518.87 Z\" fill=\"#000000\" fill-rule=\"evenodd\" fill-opacity=\"1\" /><path clip-path=\"url(#clip320)\" d=\"M1367.65 1504.71 L1367.65 1503.27 Q1373.2 1503.27 1376.06 1500.32 Q1376.85 1500.32 1376.98 1500.5 Q1377.12 1500.68 1377.12 1501.51 L1377.12 1527.42 Q1377.12 1528.79 1377.8 1529.22 Q1378.47 1529.65 1381.43 1529.65 L1382.89 1529.65 L1382.89 1531.07 Q1381.27 1530.93 1375.41 1530.93 Q1369.55 1530.93 1367.94 1531.07 L1367.94 1529.65 L1369.41 1529.65 Q1372.32 1529.65 1373.02 1529.24 Q1373.72 1528.81 1373.72 1527.42 L1373.72 1503.5 Q1371.3 1504.71 1367.65 1504.71 Z\" fill=\"#000000\" fill-rule=\"evenodd\" fill-opacity=\"1\" /><path clip-path=\"url(#clip320)\" d=\"M1397.56 1566.65 Q1397.56 1566.33 1398.39 1565.52 Q1409.02 1554.7 1409.02 1534.32 Q1409.02 1513.87 1398.81 1503.53 Q1397.56 1502.34 1397.56 1501.98 Q1397.56 1501.34 1398.2 1501.34 Q1398.65 1501.34 1400.23 1502.66 Q1401.84 1503.98 1404.26 1507.01 Q1406.7 1510.03 1408.51 1513.74 Q1412.85 1522.72 1412.85 1534.32 Q1412.85 1545.46 1408.7 1554.44 Q1406.93 1558.21 1404.45 1561.37 Q1401.97 1564.53 1400.33 1565.91 Q1398.68 1567.29 1398.2 1567.29 Q1397.56 1567.29 1397.56 1566.65 Z\" fill=\"#000000\" fill-rule=\"evenodd\" fill-opacity=\"1\" /><polyline clip-path=\"url(#clip323)\" style=\"stroke:#000000; stroke-linecap:round; stroke-linejoin:round; stroke-width:2; stroke-opacity:0.1; fill:none\" points=\"\n",
       "  202.227,1384.98 2352.76,1384.98 \n",
       "  \"/>\n",
       "<polyline clip-path=\"url(#clip323)\" style=\"stroke:#000000; stroke-linecap:round; stroke-linejoin:round; stroke-width:2; stroke-opacity:0.1; fill:none\" points=\"\n",
       "  202.227,1040.93 2352.76,1040.93 \n",
       "  \"/>\n",
       "<polyline clip-path=\"url(#clip323)\" style=\"stroke:#000000; stroke-linecap:round; stroke-linejoin:round; stroke-width:2; stroke-opacity:0.1; fill:none\" points=\"\n",
       "  202.227,696.875 2352.76,696.875 \n",
       "  \"/>\n",
       "<polyline clip-path=\"url(#clip323)\" style=\"stroke:#000000; stroke-linecap:round; stroke-linejoin:round; stroke-width:2; stroke-opacity:0.1; fill:none\" points=\"\n",
       "  202.227,352.821 2352.76,352.821 \n",
       "  \"/>\n",
       "<polyline clip-path=\"url(#clip320)\" style=\"stroke:#000000; stroke-linecap:round; stroke-linejoin:round; stroke-width:4; stroke-opacity:1; fill:none\" points=\"\n",
       "  202.227,1402.7 202.227,47.2441 \n",
       "  \"/>\n",
       "<polyline clip-path=\"url(#clip320)\" style=\"stroke:#000000; stroke-linecap:round; stroke-linejoin:round; stroke-width:4; stroke-opacity:1; fill:none\" points=\"\n",
       "  202.227,1384.98 221.125,1384.98 \n",
       "  \"/>\n",
       "<polyline clip-path=\"url(#clip320)\" style=\"stroke:#000000; stroke-linecap:round; stroke-linejoin:round; stroke-width:4; stroke-opacity:1; fill:none\" points=\"\n",
       "  202.227,1040.93 221.125,1040.93 \n",
       "  \"/>\n",
       "<polyline clip-path=\"url(#clip320)\" style=\"stroke:#000000; stroke-linecap:round; stroke-linejoin:round; stroke-width:4; stroke-opacity:1; fill:none\" points=\"\n",
       "  202.227,696.875 221.125,696.875 \n",
       "  \"/>\n",
       "<polyline clip-path=\"url(#clip320)\" style=\"stroke:#000000; stroke-linecap:round; stroke-linejoin:round; stroke-width:4; stroke-opacity:1; fill:none\" points=\"\n",
       "  202.227,352.821 221.125,352.821 \n",
       "  \"/>\n",
       "<path clip-path=\"url(#clip320)\" d=\"M156.644 1371.78 L144.839 1390.22 L156.644 1390.22 L156.644 1371.78 M155.417 1367.7 L161.297 1367.7 L161.297 1390.22 L166.227 1390.22 L166.227 1394.11 L161.297 1394.11 L161.297 1402.26 L156.644 1402.26 L156.644 1394.11 L141.042 1394.11 L141.042 1389.6 L155.417 1367.7 Z\" fill=\"#000000\" fill-rule=\"evenodd\" fill-opacity=\"1\" /><path clip-path=\"url(#clip320)\" d=\"M154.7 1039.06 Q151.552 1039.06 149.7 1041.22 Q147.871 1043.37 147.871 1047.12 Q147.871 1050.85 149.7 1053.02 Q151.552 1055.18 154.7 1055.18 Q157.848 1055.18 159.677 1053.02 Q161.528 1050.85 161.528 1047.12 Q161.528 1043.37 159.677 1041.22 Q157.848 1039.06 154.7 1039.06 M163.982 1024.41 L163.982 1028.67 Q162.223 1027.84 160.417 1027.4 Q158.635 1026.96 156.876 1026.96 Q152.246 1026.96 149.792 1030.08 Q147.362 1033.21 147.015 1039.53 Q148.38 1037.51 150.441 1036.45 Q152.501 1035.36 154.978 1035.36 Q160.186 1035.36 163.195 1038.53 Q166.227 1041.68 166.227 1047.12 Q166.227 1052.44 163.079 1055.66 Q159.931 1058.88 154.7 1058.88 Q148.704 1058.88 145.533 1054.3 Q142.362 1049.69 142.362 1040.96 Q142.362 1032.77 146.251 1027.91 Q150.14 1023.02 156.69 1023.02 Q158.45 1023.02 160.232 1023.37 Q162.038 1023.72 163.982 1024.41 Z\" fill=\"#000000\" fill-rule=\"evenodd\" fill-opacity=\"1\" /><path clip-path=\"url(#clip320)\" d=\"M154.376 697.743 Q151.042 697.743 149.121 699.525 Q147.223 701.307 147.223 704.432 Q147.223 707.557 149.121 709.34 Q151.042 711.122 154.376 711.122 Q157.709 711.122 159.63 709.34 Q161.552 707.534 161.552 704.432 Q161.552 701.307 159.63 699.525 Q157.732 697.743 154.376 697.743 M149.7 695.752 Q146.691 695.011 145.001 692.951 Q143.334 690.891 143.334 687.928 Q143.334 683.784 146.274 681.377 Q149.237 678.97 154.376 678.97 Q159.538 678.97 162.477 681.377 Q165.417 683.784 165.417 687.928 Q165.417 690.891 163.727 692.951 Q162.061 695.011 159.075 695.752 Q162.454 696.539 164.329 698.831 Q166.227 701.122 166.227 704.432 Q166.227 709.456 163.149 712.141 Q160.093 714.826 154.376 714.826 Q148.658 714.826 145.579 712.141 Q142.524 709.456 142.524 704.432 Q142.524 701.122 144.422 698.831 Q146.32 696.539 149.7 695.752 M147.987 688.368 Q147.987 691.053 149.653 692.557 Q151.343 694.062 154.376 694.062 Q157.385 694.062 159.075 692.557 Q160.788 691.053 160.788 688.368 Q160.788 685.683 159.075 684.178 Q157.385 682.673 154.376 682.673 Q151.343 682.673 149.653 684.178 Q147.987 685.683 147.987 688.368 Z\" fill=\"#000000\" fill-rule=\"evenodd\" fill-opacity=\"1\" /><path clip-path=\"url(#clip320)\" d=\"M114.931 366.166 L122.57 366.166 L122.57 339.8 L114.26 341.467 L114.26 337.208 L122.524 335.541 L127.2 335.541 L127.2 366.166 L134.839 366.166 L134.839 370.101 L114.931 370.101 L114.931 366.166 Z\" fill=\"#000000\" fill-rule=\"evenodd\" fill-opacity=\"1\" /><path clip-path=\"url(#clip320)\" d=\"M154.283 338.62 Q150.672 338.62 148.843 342.184 Q147.038 345.726 147.038 352.856 Q147.038 359.962 148.843 363.527 Q150.672 367.069 154.283 367.069 Q157.917 367.069 159.723 363.527 Q161.552 359.962 161.552 352.856 Q161.552 345.726 159.723 342.184 Q157.917 338.62 154.283 338.62 M154.283 334.916 Q160.093 334.916 163.149 339.522 Q166.227 344.106 166.227 352.856 Q166.227 361.583 163.149 366.189 Q160.093 370.772 154.283 370.772 Q148.473 370.772 145.394 366.189 Q142.339 361.583 142.339 352.856 Q142.339 344.106 145.394 339.522 Q148.473 334.916 154.283 334.916 Z\" fill=\"#000000\" fill-rule=\"evenodd\" fill-opacity=\"1\" /><path clip-path=\"url(#clip320)\" d=\"M65.2145 933.75 L56.519 933.75 Q55.7782 933.75 55.5206 933.718 Q55.2629 933.686 55.0697 933.492 Q54.8765 933.299 54.8765 932.913 Q54.8765 932.462 55.0697 932.301 Q55.2629 932.107 56.0037 931.979 Q60.5447 930.98 62.9601 928.855 Q65.3434 926.697 65.3434 922.8 Q65.3434 919.096 63.7009 917.228 Q62.0584 915.36 59.3531 915.36 Q54.5222 915.36 53.2984 922.22 Q52.4932 926.182 51.9779 927.824 Q51.4304 929.467 50.2388 930.916 Q47.92 933.75 44.635 933.75 Q41.35 933.75 38.9346 931.27 Q36.5191 928.758 36.5191 923.219 Q36.5191 919.515 38.3871 917.003 Q37.8073 916.262 37.3243 915.876 Q36.5191 915.006 36.5191 914.555 Q36.5191 914.04 36.8734 913.943 Q37.1954 913.847 38.1294 913.847 L44.7638 913.847 Q45.5045 913.847 45.7622 913.879 Q46.0198 913.911 46.2131 914.104 Q46.3741 914.298 46.3741 914.716 Q46.3741 915.457 45.7622 915.489 Q37.7751 916.005 37.7751 923.219 Q37.7751 927.116 39.2888 928.855 Q40.7703 930.594 42.7993 930.594 Q43.9265 930.594 44.796 930.078 Q45.6334 929.531 46.1487 928.855 Q46.6318 928.146 47.1148 926.858 Q47.5657 925.57 47.7268 924.797 Q47.8878 923.992 48.2098 922.478 Q49.2082 917.196 51.366 914.974 Q54.1357 912.204 57.6462 912.204 Q61.5431 912.204 64.1839 914.845 Q66.8248 917.486 66.8248 922.8 Q66.8248 927.083 63.9585 930.078 Q64.345 930.465 64.6992 930.755 Q65.0213 931.045 65.1501 931.173 Q65.2789 931.27 65.3756 931.302 Q65.44 931.334 65.5044 931.399 Q66.8248 932.719 66.8248 933.041 Q66.8248 933.557 66.4706 933.653 Q66.1485 933.75 65.2145 933.75 Z\" fill=\"#000000\" fill-rule=\"evenodd\" fill-opacity=\"1\" /><path clip-path=\"url(#clip320)\" d=\"M39.7075 910.374 L38.2582 910.374 Q38.1294 907.346 36.0038 905.35 Q33.846 903.321 31.2051 902.644 Q28.5643 901.936 25.5047 901.871 L25.5047 900.229 L37.6463 900.229 L37.6463 890.793 L39.7075 890.793 L39.7075 900.229 L58.0326 900.229 Q65.1501 900.229 65.1501 895.784 Q65.1501 893.884 63.2178 892.628 Q61.2532 891.372 57.775 891.372 L54.1357 891.372 L54.1357 889.73 L57.9038 889.73 Q61.4787 889.73 64.1517 891.372 Q66.8248 893.015 66.8248 896.268 Q66.8248 897.459 66.5028 898.651 Q66.2129 899.81 65.44 901.356 Q64.6348 902.87 62.7025 903.836 Q60.7379 904.77 57.9038 904.77 L39.7075 904.77 L39.7075 910.374 Z\" fill=\"#000000\" fill-rule=\"evenodd\" fill-opacity=\"1\" /><path clip-path=\"url(#clip320)\" d=\"M59.804 885.643 Q54.2001 885.643 51.2372 879.041 Q49.337 875.08 48.854 866.9 L46.4385 866.9 Q42.3484 866.9 40.1906 869.057 Q38.0006 871.183 38.0006 873.888 Q38.0006 878.719 41.0279 881.038 Q41.0923 879.073 42.0907 878.365 Q43.0569 877.656 44.0553 877.656 Q45.3757 877.656 46.2453 878.494 Q47.0826 879.299 47.0826 880.684 Q47.0826 882.004 46.2775 882.874 Q45.4401 883.743 43.9909 883.743 Q40.7703 883.743 38.6447 880.845 Q36.5191 877.914 36.5191 873.759 Q36.5191 868.349 40.1584 864.742 Q41.2856 863.615 42.7348 863.067 Q44.1841 862.487 45.1503 862.423 Q46.0843 862.358 47.9522 862.358 L61.1244 862.358 Q61.5109 862.358 62.155 862.23 Q62.7991 862.101 63.6364 861.521 Q64.4416 860.909 64.4416 859.911 Q64.4416 857.528 60.2226 857.56 L56.519 857.56 L56.519 855.885 L60.2226 855.885 Q63.7331 855.885 65.1179 857.753 Q66.4706 859.589 66.4706 861.296 Q66.4706 863.486 64.8603 864.871 Q63.25 866.255 61.06 866.449 Q63.572 867.447 65.2145 869.734 Q66.8248 871.988 66.8248 875.08 Q66.8248 877.463 66.2129 879.717 Q65.6332 881.94 63.9907 883.808 Q62.316 885.643 59.804 885.643 M59.7395 880.555 Q62.1872 880.555 63.7653 878.816 Q65.3434 877.077 65.3434 874.629 Q65.3434 871.859 63.2178 869.379 Q61.06 866.9 56.841 866.9 L50.2388 866.9 Q50.4965 874.21 53.4272 877.399 Q56.3257 880.555 59.7395 880.555 Z\" fill=\"#000000\" fill-rule=\"evenodd\" fill-opacity=\"1\" /><path clip-path=\"url(#clip320)\" d=\"M66.0841 854.563 L64.0551 854.563 Q64.0551 851.053 63.6364 850.248 Q63.1856 849.41 61.06 849.41 L43.379 849.41 Q40.9313 849.41 40.3194 850.28 Q39.7075 851.117 39.7075 854.563 L37.6463 854.563 L36.9378 845.385 L44.1841 845.385 Q41.35 844.451 39.16 842.486 Q36.9378 840.489 36.9378 837.269 Q36.9378 835.143 38.1294 833.79 Q39.321 832.406 40.9635 832.406 Q42.4128 832.406 43.1535 833.307 Q43.8621 834.177 43.8621 835.24 Q43.8621 836.431 43.1213 837.269 Q42.3484 838.074 41.0279 838.074 Q40.2228 838.074 39.6109 837.72 Q38.9668 837.333 38.7413 837.043 Q38.5159 836.753 38.4515 836.56 Q38.3871 836.689 38.3871 837.269 Q38.3871 840.908 42.0263 843.001 Q45.6334 845.063 50.7863 845.063 L60.9312 845.063 Q62.8313 845.063 63.4432 844.29 Q64.0551 843.484 64.0551 840.038 L64.0551 838.654 L66.0841 838.654 Q65.8909 841.294 65.8909 847.027 Q65.8909 847.832 65.9231 849.088 Q65.9553 850.344 66.0197 851.987 Q66.0841 853.629 66.0841 854.563 Z\" fill=\"#000000\" fill-rule=\"evenodd\" fill-opacity=\"1\" /><path clip-path=\"url(#clip320)\" d=\"M39.7075 825.932 L38.2582 825.932 Q38.1294 822.905 36.0038 820.908 Q33.846 818.879 31.2051 818.203 Q28.5643 817.495 25.5047 817.43 L25.5047 815.788 L37.6463 815.788 L37.6463 806.351 L39.7075 806.351 L39.7075 815.788 L58.0326 815.788 Q65.1501 815.788 65.1501 811.343 Q65.1501 809.443 63.2178 808.187 Q61.2532 806.931 57.775 806.931 L54.1357 806.931 L54.1357 805.289 L57.9038 805.289 Q61.4787 805.289 64.1517 806.931 Q66.8248 808.574 66.8248 811.826 Q66.8248 813.018 66.5028 814.21 Q66.2129 815.369 65.44 816.915 Q64.6348 818.429 62.7025 819.395 Q60.7379 820.329 57.9038 820.329 L39.7075 820.329 L39.7075 825.932 Z\" fill=\"#000000\" fill-rule=\"evenodd\" fill-opacity=\"1\" /><path clip-path=\"url(#clip320)\" d=\"M39.7075 783.174 L38.2582 783.174 Q38.1294 780.147 36.0038 778.15 Q33.846 776.121 31.2051 775.445 Q28.5643 774.736 25.5047 774.672 L25.5047 773.029 L37.6463 773.029 L37.6463 763.593 L39.7075 763.593 L39.7075 773.029 L58.0326 773.029 Q65.1501 773.029 65.1501 768.585 Q65.1501 766.685 63.2178 765.429 Q61.2532 764.173 57.775 764.173 L54.1357 764.173 L54.1357 762.53 L57.9038 762.53 Q61.4787 762.53 64.1517 764.173 Q66.8248 765.815 66.8248 769.068 Q66.8248 770.26 66.5028 771.451 Q66.2129 772.611 65.44 774.157 Q64.6348 775.67 62.7025 776.636 Q60.7379 777.57 57.9038 777.57 L39.7075 777.57 L39.7075 783.174 Z\" fill=\"#000000\" fill-rule=\"evenodd\" fill-opacity=\"1\" /><path clip-path=\"url(#clip320)\" d=\"M66.0841 758.639 L64.0551 758.639 Q64.0551 755.128 63.6364 754.323 Q63.1856 753.518 61.06 753.518 L43.3146 753.518 Q40.8669 753.518 40.2872 754.355 Q39.7075 755.161 39.7075 758.381 L37.6463 758.381 L36.9378 749.17 L61.1244 749.17 Q63.0889 749.17 63.572 748.462 Q64.0551 747.753 64.0551 744.533 L66.0841 744.533 Q65.8909 751.264 65.8909 751.392 Q65.8909 752.294 66.0841 758.639 M25.4403 755.869 Q24.1199 755.869 23.0571 754.871 Q21.9621 753.84 21.9621 752.391 Q21.9621 750.942 22.9604 749.911 Q23.9266 748.88 25.4725 748.88 Q26.9862 748.88 27.9846 749.911 Q28.9507 750.942 28.9507 752.391 Q28.9507 753.905 27.8879 754.903 Q26.8252 755.869 25.4403 755.869 Z\" fill=\"#000000\" fill-rule=\"evenodd\" fill-opacity=\"1\" /><path clip-path=\"url(#clip320)\" d=\"M66.0841 740.024 L64.0551 740.024 Q64.0551 736.514 63.6364 735.709 Q63.1856 734.904 61.06 734.904 L43.379 734.904 Q40.9313 734.904 40.3194 735.773 Q39.7075 736.611 39.7075 740.024 L37.6463 740.024 L36.9378 730.749 L43.8621 730.749 Q36.9378 727.657 36.9378 720.991 Q36.9378 713.261 43.379 712.198 Q40.8669 711.071 38.9023 708.72 Q36.9378 706.337 36.9378 702.633 Q36.9378 697.674 39.3854 695.709 Q41.0279 694.26 42.8637 693.97 Q44.6994 693.68 49.4659 693.68 L62.0584 693.68 Q63.4432 693.616 63.7653 692.553 Q64.0551 691.49 64.0551 688.527 L66.0841 688.527 Q65.8909 695.258 65.8909 695.902 Q65.8909 696.418 66.0841 703.374 L64.0551 703.374 Q64.0551 699.864 63.6364 699.058 Q63.1856 698.221 61.06 698.221 L45.6978 698.221 Q42.3484 698.221 40.3838 699.252 Q38.3871 700.282 38.3871 703.116 Q38.3871 706.53 41.2534 709.268 Q44.1197 712.005 48.9506 712.005 L61.06 712.005 Q63.1856 712.005 63.6364 711.2 Q64.0551 710.363 64.0551 706.852 L66.0841 706.852 Q65.8909 713.583 65.8909 714.26 Q65.8909 714.775 66.0841 721.699 L64.0551 721.699 Q64.0551 718.189 63.6364 717.384 Q63.1856 716.546 61.06 716.546 L45.6978 716.546 Q42.3484 716.546 40.3838 717.577 Q38.3871 718.607 38.3871 721.442 Q38.3871 724.855 41.2534 727.593 Q44.1197 730.33 48.9506 730.33 L61.06 730.33 Q63.1856 730.33 63.6364 729.525 Q64.0551 728.688 64.0551 725.21 L66.0841 725.21 Q65.8909 731.941 65.8909 732.585 Q65.8909 733.1 66.0841 740.024 Z\" fill=\"#000000\" fill-rule=\"evenodd\" fill-opacity=\"1\" /><path clip-path=\"url(#clip320)\" d=\"M51.5593 684.581 Q45.3435 684.581 40.9313 680.588 Q36.5191 676.594 36.5191 670.862 Q36.5191 665.065 40.2872 662.069 Q44.0553 659.042 49.4659 659.042 Q50.4643 659.042 50.6575 659.3 Q50.8507 659.557 50.8507 660.685 L50.8507 679.106 Q57.5817 679.106 60.7379 677.11 Q65.1501 674.34 65.1501 669.67 Q65.1501 669.026 65.0213 668.253 Q64.8925 667.48 64.345 665.902 Q63.7653 664.324 62.2516 662.939 Q60.7379 661.554 58.3547 660.749 Q57.4207 660.556 57.4529 659.912 Q57.4529 659.042 58.2259 659.042 Q58.8056 659.042 60.126 659.686 Q61.4142 660.298 62.9601 661.49 Q64.506 662.681 65.6654 665 Q66.8248 667.287 66.8248 670.057 Q66.8248 675.854 62.4448 680.234 Q58.0326 684.581 51.5593 684.581 M49.4659 679.042 L49.4659 663.39 Q48.081 663.39 46.5351 663.648 Q44.9893 663.873 42.8637 664.582 Q40.7059 665.258 39.3532 666.868 Q38.0006 668.478 38.0006 670.862 Q38.0006 671.924 38.4515 673.084 Q38.9023 674.211 39.9973 675.596 Q41.0923 676.981 43.5722 677.947 Q46.052 678.913 49.4659 679.042 Z\" fill=\"#000000\" fill-rule=\"evenodd\" fill-opacity=\"1\" /><path clip-path=\"url(#clip320)\" d=\"M49.5947 638.155 Q38.4515 638.155 29.466 634 Q25.6979 632.229 22.5418 629.749 Q19.3856 627.269 18.0007 625.627 Q16.6159 623.984 16.6159 623.533 Q16.6159 622.889 17.26 622.857 Q17.5821 622.857 18.3872 623.727 Q29.2084 634.354 49.5947 634.322 Q70.0454 634.322 80.4479 623.984 Q81.5751 622.857 81.9294 622.857 Q82.5735 622.857 82.5735 623.533 Q82.5735 623.984 81.2531 625.562 Q79.9326 627.14 76.9053 629.588 Q73.8779 632.036 70.1742 633.807 Q61.1888 638.155 49.5947 638.155 Z\" fill=\"#000000\" fill-rule=\"evenodd\" fill-opacity=\"1\" /><path clip-path=\"url(#clip320)\" d=\"M56.6478 577.079 Q60.8023 577.916 63.1856 579.043 Q66.8248 580.847 66.8248 583.939 Q66.8248 586.129 65.5044 587.803 Q64.1839 589.446 61.994 589.865 Q62.9923 590.702 63.572 591.314 Q64.1517 591.894 65.0535 593.053 Q65.9231 594.18 66.3739 595.597 Q66.8248 597.014 66.8248 598.625 Q66.8248 602.554 64.7637 605.034 Q78.2579 608.383 78.9342 608.673 Q80.3191 609.607 80.3191 610.959 Q80.3191 611.797 79.8038 612.312 Q79.3207 612.827 78.5478 612.827 Q78.2901 612.795 77.485 612.602 L39.321 603.133 Q38.2904 602.876 37.7107 602.232 Q37.0988 601.555 37.0344 601.169 Q36.9378 600.782 36.9378 600.493 Q36.9378 599.623 37.4209 599.108 Q37.8718 598.56 38.7091 598.56 Q38.8379 598.56 39.5787 598.753 Q40.2872 598.914 41.3822 599.172 Q42.445 599.43 42.9281 599.559 L54.0069 602.328 Q57.8072 603.262 59.6107 603.262 Q62.3482 603.262 63.8619 602.038 Q65.3434 600.782 65.3434 598.367 Q65.3434 596.853 64.7314 595.436 Q64.0873 594.019 63.2178 593.053 Q62.3482 592.087 61.4142 591.314 Q60.4481 590.541 59.8362 590.187 Q59.192 589.832 59.031 589.8 L52.3 588.093 L39.9651 584.969 Q39.1922 584.776 38.6769 584.422 Q38.1294 584.035 37.9362 583.584 Q37.7429 583.134 37.7107 582.876 Q37.6463 582.618 37.6463 582.393 Q37.6463 581.588 38.1294 581.04 Q38.6125 580.493 39.4498 580.493 Q39.6109 580.493 40.3838 580.686 Q41.1246 580.847 42.2196 581.105 Q43.2823 581.362 43.8621 581.491 Q47.92 582.522 48.3387 582.618 L55.4562 584.454 Q55.8748 584.551 57.2275 584.873 Q58.5801 585.163 59.2887 585.324 Q59.965 585.485 60.899 585.646 Q61.8007 585.774 62.316 585.774 Q65.3434 585.774 65.3434 583.778 Q65.3434 583.005 64.8925 582.328 Q64.4094 581.652 63.7331 581.201 Q63.0567 580.718 61.8973 580.267 Q60.7057 579.784 59.7395 579.494 Q58.7412 579.204 57.1953 578.786 Q56.4545 578.625 56.2291 578.464 Q56.0037 578.303 56.0037 577.852 Q56.0037 577.079 56.6478 577.079 Z\" fill=\"#000000\" fill-rule=\"evenodd\" fill-opacity=\"1\" /><path clip-path=\"url(#clip320)\" d=\"M42.606 547.861 Q44.4096 547.861 45.3757 548.763 Q46.3097 549.665 46.3097 550.889 Q46.3097 551.887 45.73 552.435 Q45.1503 552.95 44.3773 552.95 Q43.2501 552.95 42.3484 552.048 Q41.4466 551.114 41.4144 549.762 Q40.2228 550.212 39.5143 551.404 Q38.7735 552.596 38.5803 553.658 Q38.3871 554.689 38.3871 555.72 Q38.3871 557.749 39.0312 559.294 Q39.6753 560.84 40.6737 561.613 Q41.6398 562.386 42.5738 562.741 Q43.5078 563.095 44.3129 563.095 Q45.0215 563.095 45.6012 562.934 Q46.1487 562.741 46.5673 562.29 Q46.9538 561.839 47.2115 561.517 Q47.4691 561.162 47.6945 560.389 Q47.92 559.617 48.0166 559.294 Q48.081 558.972 48.2743 558.071 Q48.6607 556.203 48.8862 555.365 Q49.0794 554.528 49.6269 553.433 Q50.1744 552.306 51.044 551.468 Q53.0729 549.439 55.8748 549.439 Q56.9054 549.439 58.1615 549.794 Q59.4175 550.116 60.9956 551.05 Q62.5737 551.984 63.8297 553.401 Q65.0857 554.818 65.9553 557.266 Q66.8248 559.681 66.8248 562.708 Q66.8248 566.927 65.0535 569.536 Q63.25 572.145 60.4159 572.145 Q58.3547 572.145 57.2275 571.017 Q56.0681 569.89 56.0681 568.441 Q56.0681 567.346 56.68 566.67 Q57.2597 565.993 58.3547 565.993 Q59.8362 565.993 60.9634 567.185 Q62.0906 568.377 61.8651 570.148 Q65.3434 568.634 65.3434 562.644 Q65.3434 560.389 64.7637 558.65 Q64.1517 556.879 63.3144 555.913 Q62.4448 554.914 61.382 554.27 Q60.3192 553.626 59.5141 553.433 Q58.709 553.208 58.097 553.208 Q57.0342 553.208 56.2291 553.626 Q55.424 554.045 54.9731 554.625 Q54.49 555.172 54.1035 556.235 Q53.6848 557.266 53.5238 558.006 Q53.3628 558.747 53.1051 560.067 Q52.9763 560.679 52.9119 561.066 Q52.8153 561.452 52.5576 562.257 Q52.2678 563.03 51.9779 563.578 Q51.6881 564.093 51.1728 564.769 Q50.6575 565.446 50.0456 565.864 Q49.4337 566.283 48.5319 566.573 Q47.6301 566.863 46.5673 566.863 Q45.6012 566.863 44.4418 566.573 Q43.2823 566.251 41.9297 565.446 Q40.5771 564.608 39.4821 563.417 Q38.3871 562.225 37.6785 560.228 Q36.9378 558.199 36.9378 555.72 Q36.9378 552.113 38.6125 549.987 Q40.255 547.861 42.606 547.861 Z\" fill=\"#000000\" fill-rule=\"evenodd\" fill-opacity=\"1\" /><path clip-path=\"url(#clip320)\" d=\"M81.9294 541.522 Q81.6073 541.522 80.8022 540.685 Q69.981 530.057 49.5947 530.057 Q29.144 530.057 18.8059 540.266 Q17.6143 541.522 17.26 541.522 Q16.6159 541.522 16.6159 540.878 Q16.6159 540.427 17.9363 538.849 Q19.2568 537.239 22.2841 534.823 Q25.3115 532.376 29.0151 530.572 Q38.0006 526.224 49.5947 526.224 Q60.7379 526.224 69.7234 530.379 Q73.4914 532.15 76.6476 534.63 Q79.8038 537.11 81.1886 538.752 Q82.5735 540.395 82.5735 540.878 Q82.5735 541.522 81.9294 541.522 Z\" fill=\"#000000\" fill-rule=\"evenodd\" fill-opacity=\"1\" /><polyline clip-path=\"url(#clip323)\" style=\"stroke:#009af9; stroke-linecap:round; stroke-linejoin:round; stroke-width:4; stroke-opacity:1; fill:none\" points=\"\n",
       "  263.091,1364.34 330.718,1324.2 398.345,1284.06 465.972,1243.35 533.598,1202.63 601.225,1161.92 668.852,1121.21 736.478,1079.92 804.105,1039.21 871.732,998.495 \n",
       "  939.358,957.208 1006.98,916.495 1074.61,875.209 1142.24,834.496 1209.87,793.21 1277.49,752.497 1345.12,711.21 1412.75,670.497 1480.37,629.211 1548,587.924 \n",
       "  1615.63,547.211 1683.25,505.925 1750.88,465.212 1818.51,423.925 1886.13,383.212 1953.76,341.926 2021.39,300.64 2089.01,259.927 2156.64,218.64 2224.27,177.927 \n",
       "  2291.89,136.641 \n",
       "  \"/>\n",
       "<polyline clip-path=\"url(#clip323)\" style=\"stroke:#e26f46; stroke-linecap:round; stroke-linejoin:round; stroke-width:4; stroke-opacity:1; fill:none\" points=\"\n",
       "  263.091,1312.73 330.718,1272.59 398.345,1232.45 465.972,1191.74 533.598,1151.03 601.225,1110.31 668.852,1069.6 736.478,1028.89 804.105,988.173 871.732,946.887 \n",
       "  939.358,906.174 1006.98,864.887 1074.61,824.174 1142.24,782.888 1209.87,742.175 1277.49,700.889 1345.12,660.176 1412.75,618.889 1480.37,578.176 1548,536.89 \n",
       "  1615.63,495.603 1683.25,454.89 1750.88,413.604 1818.51,372.891 1886.13,331.604 1953.76,290.318 2021.39,249.605 2089.01,208.319 2156.64,167.606 2224.27,126.319 \n",
       "  2291.89,85.6061 \n",
       "  \"/>\n",
       "<path clip-path=\"url(#clip320)\" d=\"\n",
       "M2018.13 247.946 L2281.07 247.946 L2281.07 92.426 L2018.13 92.426  Z\n",
       "  \" fill=\"#ffffff\" fill-rule=\"evenodd\" fill-opacity=\"1\"/>\n",
       "<polyline clip-path=\"url(#clip320)\" style=\"stroke:#000000; stroke-linecap:round; stroke-linejoin:round; stroke-width:4; stroke-opacity:1; fill:none\" points=\"\n",
       "  2018.13,247.946 2281.07,247.946 2281.07,92.426 2018.13,92.426 2018.13,247.946 \n",
       "  \"/>\n",
       "<polyline clip-path=\"url(#clip320)\" style=\"stroke:#009af9; stroke-linecap:round; stroke-linejoin:round; stroke-width:4; stroke-opacity:1; fill:none\" points=\"\n",
       "  2042.02,144.266 2185.39,144.266 \n",
       "  \"/>\n",
       "<path clip-path=\"url(#clip320)\" d=\"M2230.64 126.408 L2218.53 126.408 L2218.53 125.359 L2230.64 125.359 L2230.64 126.408 Z\" fill=\"#000000\" fill-rule=\"evenodd\" fill-opacity=\"1\" /><path clip-path=\"url(#clip320)\" d=\"M2232.94 139.338 Q2232.94 142.805 2231.16 146.061 Q2229.4 149.316 2226.64 151.284 Q2223.9 153.251 2221.13 153.251 Q2218.02 153.251 2216.4 150.019 Q2213.47 161.754 2213.31 162.058 Q2212.63 163.065 2211.65 163.065 Q2211.04 163.065 2210.66 162.691 Q2210.29 162.339 2210.29 161.777 Q2210.31 161.59 2210.45 161.004 L2215.14 142.149 Q2216.21 137.769 2219.47 134.654 Q2222.75 131.515 2226.26 131.515 Q2229.05 131.515 2230.99 133.6 Q2232.94 135.685 2232.94 139.338 M2229.49 137.277 Q2229.49 134.935 2228.56 133.764 Q2227.62 132.569 2226.17 132.569 Q2224.83 132.569 2223.22 133.647 Q2221.62 134.724 2220.22 137.113 Q2219.47 138.495 2218.93 140.205 Q2218.39 141.915 2217.34 146.131 Q2216.96 147.817 2216.96 147.911 Q2216.96 148.098 2217.06 148.52 Q2217.17 148.942 2217.46 149.598 Q2217.76 150.23 2218.18 150.792 Q2218.6 151.354 2219.38 151.776 Q2220.15 152.174 2221.09 152.174 Q2222.54 152.174 2224.08 151.003 Q2225.65 149.808 2226.8 147.63 Q2227.76 145.873 2228.63 142.571 Q2229.49 139.245 2229.49 137.277 Z\" fill=\"#000000\" fill-rule=\"evenodd\" fill-opacity=\"1\" /><polyline clip-path=\"url(#clip320)\" style=\"stroke:#e26f46; stroke-linecap:round; stroke-linejoin:round; stroke-width:4; stroke-opacity:1; fill:none\" points=\"\n",
       "  2042.02,196.106 2185.39,196.106 \n",
       "  \"/>\n",
       "<path clip-path=\"url(#clip320)\" d=\"M2230.64 178.248 L2218.53 178.248 L2218.53 177.199 L2230.64 177.199 L2230.64 178.248 Z\" fill=\"#000000\" fill-rule=\"evenodd\" fill-opacity=\"1\" /><path clip-path=\"url(#clip320)\" d=\"M2232.94 191.178 Q2232.94 194.645 2231.16 197.901 Q2229.4 201.156 2226.64 203.124 Q2223.9 205.091 2221.13 205.091 Q2218.02 205.091 2216.4 201.859 Q2213.47 213.594 2213.31 213.898 Q2212.63 214.905 2211.65 214.905 Q2211.04 214.905 2210.66 214.531 Q2210.29 214.179 2210.29 213.617 Q2210.31 213.43 2210.45 212.844 L2215.14 193.989 Q2216.21 189.609 2219.47 186.494 Q2222.75 183.355 2226.26 183.355 Q2229.05 183.355 2230.99 185.44 Q2232.94 187.525 2232.94 191.178 M2229.49 189.117 Q2229.49 186.775 2228.56 185.604 Q2227.62 184.409 2226.17 184.409 Q2224.83 184.409 2223.22 185.487 Q2221.62 186.564 2220.22 188.953 Q2219.47 190.335 2218.93 192.045 Q2218.39 193.755 2217.34 197.971 Q2216.96 199.657 2216.96 199.751 Q2216.96 199.938 2217.06 200.36 Q2217.17 200.782 2217.46 201.438 Q2217.76 202.07 2218.18 202.632 Q2218.6 203.194 2219.38 203.616 Q2220.15 204.014 2221.09 204.014 Q2222.54 204.014 2224.08 202.843 Q2225.65 201.648 2226.8 199.47 Q2227.76 197.713 2228.63 194.411 Q2229.49 191.085 2229.49 189.117 Z\" fill=\"#000000\" fill-rule=\"evenodd\" fill-opacity=\"1\" /></svg>\n"
      ]
     },
     "execution_count": 18,
     "metadata": {},
     "output_type": "execute_result"
    }
   ],
   "source": [
    "#variables\n",
    "mu_0s = [6*10^i for i = 2:0.1:5]\n",
    "starttimes = zeros(length(mu_0s), 2)\n",
    "theta = 1e-6 #1e-6\n",
    "for i in 1:length(mu_0s)\n",
    "    starttimes[i,:] = starttime(mu_0s[i],theta)\n",
    "end\n",
    "plot(mu_0s, starttimes, linestyle=:solid, xaxis=:log, label = L\"\\bar{\\rho}\", xlabel =L\"\\mu_0 ~\\textrm{(km^{-1})}\", ylabel =L\"\\textrm{start~time~(} \\mu s\\textrm{)}\")\n",
    "#plot(mu_0s, starttimes[:,1], linestyle=:solid, xaxis=:log, label = L\"\\bar{\\rho}\", xlabel =L\"\\mu_0 ~\\textrm{(km^{-1})}\", ylabel =L\"\\textrm{time}@\\rho=0.9\\textrm{~(} \\mu s\\textrm{)}\")\n",
    "#plot!(mu_0s, starttimes[:,2], linestyle=:dash, label = L\"\\rho\")\n",
    "#savefig(\"compare.png\")"
   ]
  },
  {
   "cell_type": "code",
   "execution_count": 19,
   "id": "c1eaf8d1-a367-4ade-9348-bf1c7a6c5a38",
   "metadata": {
    "execution": {
     "iopub.execute_input": "2022-10-13T08:09:57.594000-06:00",
     "iopub.status.busy": "2022-10-13T08:09:57.594000-06:00",
     "iopub.status.idle": "2022-10-13T08:09:57.983000-06:00",
     "shell.execute_reply": "2022-10-13T08:09:57.983000-06:00"
    },
    "tags": []
   },
   "outputs": [
    {
     "data": {
      "image/svg+xml": [
       "<?xml version=\"1.0\" encoding=\"utf-8\"?>\n",
       "<svg xmlns=\"http://www.w3.org/2000/svg\" xmlns:xlink=\"http://www.w3.org/1999/xlink\" width=\"600\" height=\"400\" viewBox=\"0 0 2400 1600\">\n",
       "<defs>\n",
       "  <clipPath id=\"clip360\">\n",
       "    <rect x=\"0\" y=\"0\" width=\"2400\" height=\"1600\"/>\n",
       "  </clipPath>\n",
       "</defs>\n",
       "<path clip-path=\"url(#clip360)\" d=\"\n",
       "M0 1600 L2400 1600 L2400 0 L0 0  Z\n",
       "  \" fill=\"#ffffff\" fill-rule=\"evenodd\" fill-opacity=\"1\"/>\n",
       "<defs>\n",
       "  <clipPath id=\"clip361\">\n",
       "    <rect x=\"480\" y=\"0\" width=\"1681\" height=\"1600\"/>\n",
       "  </clipPath>\n",
       "</defs>\n",
       "<defs>\n",
       "  <clipPath id=\"clip362\">\n",
       "    <rect x=\"202\" y=\"47\" width=\"2152\" height=\"1356\"/>\n",
       "  </clipPath>\n",
       "</defs>\n",
       "<path clip-path=\"url(#clip360)\" d=\"\n",
       "M277.621 1410.9 L2352.76 1410.9 L2352.76 47.2441 L277.621 47.2441  Z\n",
       "  \" fill=\"#ffffff\" fill-rule=\"evenodd\" fill-opacity=\"1\"/>\n",
       "<defs>\n",
       "  <clipPath id=\"clip363\">\n",
       "    <rect x=\"277\" y=\"47\" width=\"2076\" height=\"1365\"/>\n",
       "  </clipPath>\n",
       "</defs>\n",
       "<polyline clip-path=\"url(#clip363)\" style=\"stroke:#000000; stroke-linecap:round; stroke-linejoin:round; stroke-width:2; stroke-opacity:0.1; fill:none\" points=\"\n",
       "  336.351,1410.9 336.351,47.2441 \n",
       "  \"/>\n",
       "<polyline clip-path=\"url(#clip363)\" style=\"stroke:#000000; stroke-linecap:round; stroke-linejoin:round; stroke-width:2; stroke-opacity:0.1; fill:none\" points=\"\n",
       "  825.77,1410.9 825.77,47.2441 \n",
       "  \"/>\n",
       "<polyline clip-path=\"url(#clip363)\" style=\"stroke:#000000; stroke-linecap:round; stroke-linejoin:round; stroke-width:2; stroke-opacity:0.1; fill:none\" points=\"\n",
       "  1315.19,1410.9 1315.19,47.2441 \n",
       "  \"/>\n",
       "<polyline clip-path=\"url(#clip363)\" style=\"stroke:#000000; stroke-linecap:round; stroke-linejoin:round; stroke-width:2; stroke-opacity:0.1; fill:none\" points=\"\n",
       "  1804.61,1410.9 1804.61,47.2441 \n",
       "  \"/>\n",
       "<polyline clip-path=\"url(#clip363)\" style=\"stroke:#000000; stroke-linecap:round; stroke-linejoin:round; stroke-width:2; stroke-opacity:0.1; fill:none\" points=\"\n",
       "  2294.03,1410.9 2294.03,47.2441 \n",
       "  \"/>\n",
       "<polyline clip-path=\"url(#clip360)\" style=\"stroke:#000000; stroke-linecap:round; stroke-linejoin:round; stroke-width:4; stroke-opacity:1; fill:none\" points=\"\n",
       "  277.621,1410.9 2352.76,1410.9 \n",
       "  \"/>\n",
       "<polyline clip-path=\"url(#clip360)\" style=\"stroke:#000000; stroke-linecap:round; stroke-linejoin:round; stroke-width:4; stroke-opacity:1; fill:none\" points=\"\n",
       "  336.351,1410.9 336.351,1392 \n",
       "  \"/>\n",
       "<polyline clip-path=\"url(#clip360)\" style=\"stroke:#000000; stroke-linecap:round; stroke-linejoin:round; stroke-width:4; stroke-opacity:1; fill:none\" points=\"\n",
       "  825.77,1410.9 825.77,1392 \n",
       "  \"/>\n",
       "<polyline clip-path=\"url(#clip360)\" style=\"stroke:#000000; stroke-linecap:round; stroke-linejoin:round; stroke-width:4; stroke-opacity:1; fill:none\" points=\"\n",
       "  1315.19,1410.9 1315.19,1392 \n",
       "  \"/>\n",
       "<polyline clip-path=\"url(#clip360)\" style=\"stroke:#000000; stroke-linecap:round; stroke-linejoin:round; stroke-width:4; stroke-opacity:1; fill:none\" points=\"\n",
       "  1804.61,1410.9 1804.61,1392 \n",
       "  \"/>\n",
       "<polyline clip-path=\"url(#clip360)\" style=\"stroke:#000000; stroke-linecap:round; stroke-linejoin:round; stroke-width:4; stroke-opacity:1; fill:none\" points=\"\n",
       "  2294.03,1410.9 2294.03,1392 \n",
       "  \"/>\n",
       "<path clip-path=\"url(#clip360)\" d=\"M285.902 1485.02 L293.541 1485.02 L293.541 1458.66 L285.231 1460.32 L285.231 1456.06 L293.494 1454.4 L298.17 1454.4 L298.17 1485.02 L305.809 1485.02 L305.809 1488.96 L285.902 1488.96 L285.902 1485.02 Z\" fill=\"#000000\" fill-rule=\"evenodd\" fill-opacity=\"1\" /><path clip-path=\"url(#clip360)\" d=\"M325.254 1457.48 Q321.642 1457.48 319.814 1461.04 Q318.008 1464.58 318.008 1471.71 Q318.008 1478.82 319.814 1482.38 Q321.642 1485.92 325.254 1485.92 Q328.888 1485.92 330.693 1482.38 Q332.522 1478.82 332.522 1471.71 Q332.522 1464.58 330.693 1461.04 Q328.888 1457.48 325.254 1457.48 M325.254 1453.77 Q331.064 1453.77 334.119 1458.38 Q337.198 1462.96 337.198 1471.71 Q337.198 1480.44 334.119 1485.04 Q331.064 1489.63 325.254 1489.63 Q319.443 1489.63 316.365 1485.04 Q313.309 1480.44 313.309 1471.71 Q313.309 1462.96 316.365 1458.38 Q319.443 1453.77 325.254 1453.77 Z\" fill=\"#000000\" fill-rule=\"evenodd\" fill-opacity=\"1\" /><path clip-path=\"url(#clip360)\" d=\"M337.198 1447.87 L361.309 1447.87 L361.309 1451.07 L337.198 1451.07 L337.198 1447.87 Z\" fill=\"#000000\" fill-rule=\"evenodd\" fill-opacity=\"1\" /><path clip-path=\"url(#clip360)\" d=\"M378.105 1445.99 Q375.547 1445.99 374.042 1447.74 Q372.557 1449.49 372.557 1452.54 Q372.557 1455.57 374.042 1457.33 Q375.547 1459.08 378.105 1459.08 Q380.663 1459.08 382.148 1457.33 Q383.653 1455.57 383.653 1452.54 Q383.653 1449.49 382.148 1447.74 Q380.663 1445.99 378.105 1445.99 M385.647 1434.09 L385.647 1437.55 Q384.217 1436.87 382.75 1436.51 Q381.302 1436.16 379.873 1436.16 Q376.111 1436.16 374.118 1438.69 Q372.143 1441.23 371.861 1446.37 Q372.97 1444.73 374.644 1443.87 Q376.318 1442.98 378.33 1442.98 Q382.562 1442.98 385.007 1445.56 Q387.471 1448.12 387.471 1452.54 Q387.471 1456.86 384.913 1459.48 Q382.355 1462.09 378.105 1462.09 Q373.234 1462.09 370.657 1458.37 Q368.08 1454.62 368.08 1447.53 Q368.08 1440.88 371.24 1436.93 Q374.4 1432.96 379.722 1432.96 Q381.152 1432.96 382.6 1433.24 Q384.067 1433.52 385.647 1434.09 Z\" fill=\"#000000\" fill-rule=\"evenodd\" fill-opacity=\"1\" /><path clip-path=\"url(#clip360)\" d=\"M775.791 1485.02 L783.43 1485.02 L783.43 1458.66 L775.119 1460.32 L775.119 1456.06 L783.383 1454.4 L788.059 1454.4 L788.059 1485.02 L795.698 1485.02 L795.698 1488.96 L775.791 1488.96 L775.791 1485.02 Z\" fill=\"#000000\" fill-rule=\"evenodd\" fill-opacity=\"1\" /><path clip-path=\"url(#clip360)\" d=\"M815.142 1457.48 Q811.531 1457.48 809.703 1461.04 Q807.897 1464.58 807.897 1471.71 Q807.897 1478.82 809.703 1482.38 Q811.531 1485.92 815.142 1485.92 Q818.777 1485.92 820.582 1482.38 Q822.411 1478.82 822.411 1471.71 Q822.411 1464.58 820.582 1461.04 Q818.777 1457.48 815.142 1457.48 M815.142 1453.77 Q820.953 1453.77 824.008 1458.38 Q827.087 1462.96 827.087 1471.71 Q827.087 1480.44 824.008 1485.04 Q820.953 1489.63 815.142 1489.63 Q809.332 1489.63 806.254 1485.04 Q803.198 1480.44 803.198 1471.71 Q803.198 1462.96 806.254 1458.38 Q809.332 1453.77 815.142 1453.77 Z\" fill=\"#000000\" fill-rule=\"evenodd\" fill-opacity=\"1\" /><path clip-path=\"url(#clip360)\" d=\"M827.087 1447.87 L851.198 1447.87 L851.198 1451.07 L827.087 1451.07 L827.087 1447.87 Z\" fill=\"#000000\" fill-rule=\"evenodd\" fill-opacity=\"1\" /><path clip-path=\"url(#clip360)\" d=\"M859.436 1433.47 L874.351 1433.47 L874.351 1436.66 L862.916 1436.66 L862.916 1443.55 Q863.743 1443.27 864.571 1443.13 Q865.398 1442.98 866.226 1442.98 Q870.928 1442.98 873.674 1445.56 Q876.42 1448.14 876.42 1452.54 Q876.42 1457.07 873.598 1459.59 Q870.777 1462.09 865.643 1462.09 Q863.875 1462.09 862.032 1461.79 Q860.207 1461.49 858.251 1460.89 L858.251 1457.07 Q859.944 1457.99 861.75 1458.44 Q863.555 1458.89 865.568 1458.89 Q868.821 1458.89 870.721 1457.18 Q872.62 1455.47 872.62 1452.54 Q872.62 1449.6 870.721 1447.89 Q868.821 1446.18 865.568 1446.18 Q864.044 1446.18 862.521 1446.52 Q861.016 1446.86 859.436 1447.57 L859.436 1433.47 Z\" fill=\"#000000\" fill-rule=\"evenodd\" fill-opacity=\"1\" /><path clip-path=\"url(#clip360)\" d=\"M1264.61 1485.02 L1272.25 1485.02 L1272.25 1458.66 L1263.94 1460.32 L1263.94 1456.06 L1272.2 1454.4 L1276.88 1454.4 L1276.88 1485.02 L1284.51 1485.02 L1284.51 1488.96 L1264.61 1488.96 L1264.61 1485.02 Z\" fill=\"#000000\" fill-rule=\"evenodd\" fill-opacity=\"1\" /><path clip-path=\"url(#clip360)\" d=\"M1303.96 1457.48 Q1300.35 1457.48 1298.52 1461.04 Q1296.71 1464.58 1296.71 1471.71 Q1296.71 1478.82 1298.52 1482.38 Q1300.35 1485.92 1303.96 1485.92 Q1307.59 1485.92 1309.4 1482.38 Q1311.23 1478.82 1311.23 1471.71 Q1311.23 1464.58 1309.4 1461.04 Q1307.59 1457.48 1303.96 1457.48 M1303.96 1453.77 Q1309.77 1453.77 1312.82 1458.38 Q1315.9 1462.96 1315.9 1471.71 Q1315.9 1480.44 1312.82 1485.04 Q1309.77 1489.63 1303.96 1489.63 Q1298.15 1489.63 1295.07 1485.04 Q1292.01 1480.44 1292.01 1471.71 Q1292.01 1462.96 1295.07 1458.38 Q1298.15 1453.77 1303.96 1453.77 Z\" fill=\"#000000\" fill-rule=\"evenodd\" fill-opacity=\"1\" /><path clip-path=\"url(#clip360)\" d=\"M1315.9 1447.87 L1340.02 1447.87 L1340.02 1451.07 L1315.9 1451.07 L1315.9 1447.87 Z\" fill=\"#000000\" fill-rule=\"evenodd\" fill-opacity=\"1\" /><path clip-path=\"url(#clip360)\" d=\"M1358.65 1436.78 L1349.06 1451.77 L1358.65 1451.77 L1358.65 1436.78 M1357.66 1433.47 L1362.43 1433.47 L1362.43 1451.77 L1366.44 1451.77 L1366.44 1454.93 L1362.43 1454.93 L1362.43 1461.55 L1358.65 1461.55 L1358.65 1454.93 L1345.98 1454.93 L1345.98 1451.26 L1357.66 1433.47 Z\" fill=\"#000000\" fill-rule=\"evenodd\" fill-opacity=\"1\" /><path clip-path=\"url(#clip360)\" d=\"M1754.49 1485.02 L1762.13 1485.02 L1762.13 1458.66 L1753.82 1460.32 L1753.82 1456.06 L1762.08 1454.4 L1766.76 1454.4 L1766.76 1485.02 L1774.39 1485.02 L1774.39 1488.96 L1754.49 1488.96 L1754.49 1485.02 Z\" fill=\"#000000\" fill-rule=\"evenodd\" fill-opacity=\"1\" /><path clip-path=\"url(#clip360)\" d=\"M1793.84 1457.48 Q1790.23 1457.48 1788.4 1461.04 Q1786.59 1464.58 1786.59 1471.71 Q1786.59 1478.82 1788.4 1482.38 Q1790.23 1485.92 1793.84 1485.92 Q1797.47 1485.92 1799.28 1482.38 Q1801.11 1478.82 1801.11 1471.71 Q1801.11 1464.58 1799.28 1461.04 Q1797.47 1457.48 1793.84 1457.48 M1793.84 1453.77 Q1799.65 1453.77 1802.7 1458.38 Q1805.78 1462.96 1805.78 1471.71 Q1805.78 1480.44 1802.7 1485.04 Q1799.65 1489.63 1793.84 1489.63 Q1788.03 1489.63 1784.95 1485.04 Q1781.89 1480.44 1781.89 1471.71 Q1781.89 1462.96 1784.95 1458.38 Q1788.03 1453.77 1793.84 1453.77 Z\" fill=\"#000000\" fill-rule=\"evenodd\" fill-opacity=\"1\" /><path clip-path=\"url(#clip360)\" d=\"M1805.78 1447.87 L1829.89 1447.87 L1829.89 1451.07 L1805.78 1451.07 L1805.78 1447.87 Z\" fill=\"#000000\" fill-rule=\"evenodd\" fill-opacity=\"1\" /><path clip-path=\"url(#clip360)\" d=\"M1849.61 1446.41 Q1852.33 1446.99 1853.86 1448.83 Q1855.4 1450.68 1855.4 1453.38 Q1855.4 1457.54 1852.54 1459.82 Q1849.68 1462.09 1844.41 1462.09 Q1842.65 1462.09 1840.77 1461.73 Q1838.9 1461.4 1836.91 1460.7 L1836.91 1457.03 Q1838.49 1457.95 1840.37 1458.42 Q1842.25 1458.89 1844.3 1458.89 Q1847.87 1458.89 1849.74 1457.48 Q1851.62 1456.07 1851.62 1453.38 Q1851.62 1450.9 1849.87 1449.51 Q1848.14 1448.1 1845.03 1448.1 L1841.76 1448.1 L1841.76 1444.98 L1845.19 1444.98 Q1847.99 1444.98 1849.47 1443.87 Q1850.96 1442.74 1850.96 1440.63 Q1850.96 1438.47 1849.42 1437.32 Q1847.89 1436.16 1845.03 1436.16 Q1843.47 1436.16 1841.69 1436.49 Q1839.9 1436.83 1837.76 1437.55 L1837.76 1434.16 Q1839.92 1433.56 1841.8 1433.26 Q1843.7 1432.96 1845.37 1432.96 Q1849.7 1432.96 1852.22 1434.93 Q1854.74 1436.89 1854.74 1440.24 Q1854.74 1442.57 1853.4 1444.19 Q1852.07 1445.79 1849.61 1446.41 Z\" fill=\"#000000\" fill-rule=\"evenodd\" fill-opacity=\"1\" /><path clip-path=\"url(#clip360)\" d=\"M2244.29 1485.02 L2251.93 1485.02 L2251.93 1458.66 L2243.62 1460.32 L2243.62 1456.06 L2251.88 1454.4 L2256.56 1454.4 L2256.56 1485.02 L2264.2 1485.02 L2264.2 1488.96 L2244.29 1488.96 L2244.29 1485.02 Z\" fill=\"#000000\" fill-rule=\"evenodd\" fill-opacity=\"1\" /><path clip-path=\"url(#clip360)\" d=\"M2283.64 1457.48 Q2280.03 1457.48 2278.2 1461.04 Q2276.4 1464.58 2276.4 1471.71 Q2276.4 1478.82 2278.2 1482.38 Q2280.03 1485.92 2283.64 1485.92 Q2287.28 1485.92 2289.08 1482.38 Q2290.91 1478.82 2290.91 1471.71 Q2290.91 1464.58 2289.08 1461.04 Q2287.28 1457.48 2283.64 1457.48 M2283.64 1453.77 Q2289.45 1453.77 2292.51 1458.38 Q2295.59 1462.96 2295.59 1471.71 Q2295.59 1480.44 2292.51 1485.04 Q2289.45 1489.63 2283.64 1489.63 Q2277.83 1489.63 2274.75 1485.04 Q2271.7 1480.44 2271.7 1471.71 Q2271.7 1462.96 2274.75 1458.38 Q2277.83 1453.77 2283.64 1453.77 Z\" fill=\"#000000\" fill-rule=\"evenodd\" fill-opacity=\"1\" /><path clip-path=\"url(#clip360)\" d=\"M2295.59 1447.87 L2319.7 1447.87 L2319.7 1451.07 L2295.59 1451.07 L2295.59 1447.87 Z\" fill=\"#000000\" fill-rule=\"evenodd\" fill-opacity=\"1\" /><path clip-path=\"url(#clip360)\" d=\"M2331.17 1458.35 L2344.43 1458.35 L2344.43 1461.55 L2326.6 1461.55 L2326.6 1458.35 Q2328.76 1456.11 2332.49 1452.35 Q2336.23 1448.57 2337.19 1447.48 Q2339.01 1445.43 2339.73 1444.02 Q2340.46 1442.59 2340.46 1441.22 Q2340.46 1438.98 2338.88 1437.57 Q2337.32 1436.16 2334.8 1436.16 Q2333.01 1436.16 2331.02 1436.78 Q2329.05 1437.4 2326.79 1438.66 L2326.79 1434.82 Q2329.08 1433.9 2331.08 1433.43 Q2333.07 1432.96 2334.73 1432.96 Q2339.09 1432.96 2341.69 1435.14 Q2344.28 1437.32 2344.28 1440.97 Q2344.28 1442.7 2343.62 1444.26 Q2342.98 1445.8 2341.27 1447.91 Q2340.8 1448.46 2338.28 1451.07 Q2335.76 1453.67 2331.17 1458.35 Z\" fill=\"#000000\" fill-rule=\"evenodd\" fill-opacity=\"1\" /><path clip-path=\"url(#clip360)\" d=\"M1327.12 1535.36 Q1327.12 1540.77 1325.38 1546.86 Q1323.68 1552.91 1320.97 1557.81 Q1318.27 1562.67 1314.72 1565.89 Q1311.18 1569.08 1307.8 1569.08 Q1305.64 1569.08 1304.03 1567.89 Q1302.45 1566.66 1301.58 1564.63 Q1300.71 1562.57 1300.3 1560.32 Q1299.88 1558.03 1299.88 1555.55 Q1299.88 1551.85 1300.68 1547.82 Q1301.49 1543.76 1302.84 1540.09 Q1304.19 1536.39 1306.09 1533.04 Q1307.99 1529.66 1310.09 1527.21 Q1312.21 1524.73 1314.6 1523.28 Q1316.98 1521.83 1319.2 1521.83 Q1320.81 1521.83 1322.1 1522.54 Q1323.42 1523.22 1324.26 1524.41 Q1325.09 1525.57 1325.67 1526.95 Q1326.29 1528.34 1326.58 1529.95 Q1326.87 1531.53 1326.99 1532.85 Q1327.12 1534.13 1327.12 1535.36 M1322.78 1531.27 Q1322.78 1529.63 1322.65 1528.4 Q1322.52 1527.15 1322.16 1525.89 Q1321.81 1524.63 1321.04 1523.96 Q1320.3 1523.28 1319.14 1523.28 Q1315.75 1523.28 1311.95 1530.21 Q1310.73 1532.36 1309.64 1535.29 Q1308.54 1538.23 1308.15 1539.61 Q1307.77 1540.99 1306.87 1544.41 L1320.65 1544.41 Q1322.78 1535.62 1322.78 1531.27 M1320.07 1546.5 L1306.35 1546.5 Q1304.22 1554.55 1304.22 1559.58 Q1304.22 1563.96 1305.13 1565.79 Q1306.06 1567.6 1307.8 1567.6 Q1309.8 1567.6 1311.66 1565.6 Q1313.53 1563.57 1315.43 1559.9 Q1317.94 1555.13 1320.07 1546.5 Z\" fill=\"#000000\" fill-rule=\"evenodd\" fill-opacity=\"1\" /><polyline clip-path=\"url(#clip363)\" style=\"stroke:#000000; stroke-linecap:round; stroke-linejoin:round; stroke-width:2; stroke-opacity:0.1; fill:none\" points=\"\n",
       "  277.621,1401.21 2352.76,1401.21 \n",
       "  \"/>\n",
       "<polyline clip-path=\"url(#clip363)\" style=\"stroke:#000000; stroke-linecap:round; stroke-linejoin:round; stroke-width:2; stroke-opacity:0.1; fill:none\" points=\"\n",
       "  277.621,1184.39 2352.76,1184.39 \n",
       "  \"/>\n",
       "<polyline clip-path=\"url(#clip363)\" style=\"stroke:#000000; stroke-linecap:round; stroke-linejoin:round; stroke-width:2; stroke-opacity:0.1; fill:none\" points=\"\n",
       "  277.621,967.572 2352.76,967.572 \n",
       "  \"/>\n",
       "<polyline clip-path=\"url(#clip363)\" style=\"stroke:#000000; stroke-linecap:round; stroke-linejoin:round; stroke-width:2; stroke-opacity:0.1; fill:none\" points=\"\n",
       "  277.621,750.752 2352.76,750.752 \n",
       "  \"/>\n",
       "<polyline clip-path=\"url(#clip363)\" style=\"stroke:#000000; stroke-linecap:round; stroke-linejoin:round; stroke-width:2; stroke-opacity:0.1; fill:none\" points=\"\n",
       "  277.621,533.932 2352.76,533.932 \n",
       "  \"/>\n",
       "<polyline clip-path=\"url(#clip363)\" style=\"stroke:#000000; stroke-linecap:round; stroke-linejoin:round; stroke-width:2; stroke-opacity:0.1; fill:none\" points=\"\n",
       "  277.621,317.113 2352.76,317.113 \n",
       "  \"/>\n",
       "<polyline clip-path=\"url(#clip363)\" style=\"stroke:#000000; stroke-linecap:round; stroke-linejoin:round; stroke-width:2; stroke-opacity:0.1; fill:none\" points=\"\n",
       "  277.621,100.293 2352.76,100.293 \n",
       "  \"/>\n",
       "<polyline clip-path=\"url(#clip360)\" style=\"stroke:#000000; stroke-linecap:round; stroke-linejoin:round; stroke-width:4; stroke-opacity:1; fill:none\" points=\"\n",
       "  277.621,1410.9 277.621,47.2441 \n",
       "  \"/>\n",
       "<polyline clip-path=\"url(#clip360)\" style=\"stroke:#000000; stroke-linecap:round; stroke-linejoin:round; stroke-width:4; stroke-opacity:1; fill:none\" points=\"\n",
       "  277.621,1401.21 296.518,1401.21 \n",
       "  \"/>\n",
       "<polyline clip-path=\"url(#clip360)\" style=\"stroke:#000000; stroke-linecap:round; stroke-linejoin:round; stroke-width:4; stroke-opacity:1; fill:none\" points=\"\n",
       "  277.621,1184.39 296.518,1184.39 \n",
       "  \"/>\n",
       "<polyline clip-path=\"url(#clip360)\" style=\"stroke:#000000; stroke-linecap:round; stroke-linejoin:round; stroke-width:4; stroke-opacity:1; fill:none\" points=\"\n",
       "  277.621,967.572 296.518,967.572 \n",
       "  \"/>\n",
       "<polyline clip-path=\"url(#clip360)\" style=\"stroke:#000000; stroke-linecap:round; stroke-linejoin:round; stroke-width:4; stroke-opacity:1; fill:none\" points=\"\n",
       "  277.621,750.752 296.518,750.752 \n",
       "  \"/>\n",
       "<polyline clip-path=\"url(#clip360)\" style=\"stroke:#000000; stroke-linecap:round; stroke-linejoin:round; stroke-width:4; stroke-opacity:1; fill:none\" points=\"\n",
       "  277.621,533.932 296.518,533.932 \n",
       "  \"/>\n",
       "<polyline clip-path=\"url(#clip360)\" style=\"stroke:#000000; stroke-linecap:round; stroke-linejoin:round; stroke-width:4; stroke-opacity:1; fill:none\" points=\"\n",
       "  277.621,317.113 296.518,317.113 \n",
       "  \"/>\n",
       "<polyline clip-path=\"url(#clip360)\" style=\"stroke:#000000; stroke-linecap:round; stroke-linejoin:round; stroke-width:4; stroke-opacity:1; fill:none\" points=\"\n",
       "  277.621,100.293 296.518,100.293 \n",
       "  \"/>\n",
       "<path clip-path=\"url(#clip360)\" d=\"M115.927 1414.56 L123.566 1414.56 L123.566 1388.19 L115.256 1389.86 L115.256 1385.6 L123.519 1383.93 L128.195 1383.93 L128.195 1414.56 L135.834 1414.56 L135.834 1418.49 L115.927 1418.49 L115.927 1414.56 Z\" fill=\"#000000\" fill-rule=\"evenodd\" fill-opacity=\"1\" /><path clip-path=\"url(#clip360)\" d=\"M146.089 1414.56 L153.728 1414.56 L153.728 1388.19 L145.417 1389.86 L145.417 1385.6 L153.681 1383.93 L158.357 1383.93 L158.357 1414.56 L165.996 1414.56 L165.996 1418.49 L146.089 1418.49 L146.089 1414.56 Z\" fill=\"#000000\" fill-rule=\"evenodd\" fill-opacity=\"1\" /><path clip-path=\"url(#clip360)\" d=\"M175.44 1412.61 L180.325 1412.61 L180.325 1418.49 L175.44 1418.49 L175.44 1412.61 Z\" fill=\"#000000\" fill-rule=\"evenodd\" fill-opacity=\"1\" /><path clip-path=\"url(#clip360)\" d=\"M194.538 1414.56 L210.857 1414.56 L210.857 1418.49 L188.913 1418.49 L188.913 1414.56 Q191.575 1411.8 196.158 1407.17 Q200.764 1402.52 201.945 1401.18 Q204.19 1398.65 205.07 1396.92 Q205.973 1395.16 205.973 1393.47 Q205.973 1390.71 204.028 1388.98 Q202.107 1387.24 199.005 1387.24 Q196.806 1387.24 194.352 1388.01 Q191.922 1388.77 189.144 1390.32 L189.144 1385.6 Q191.968 1384.46 194.422 1383.89 Q196.875 1383.31 198.912 1383.31 Q204.283 1383.31 207.477 1385.99 Q210.672 1388.68 210.672 1393.17 Q210.672 1395.3 209.861 1397.22 Q209.074 1399.12 206.968 1401.71 Q206.389 1402.38 203.287 1405.6 Q200.186 1408.79 194.538 1414.56 Z\" fill=\"#000000\" fill-rule=\"evenodd\" fill-opacity=\"1\" /><path clip-path=\"url(#clip360)\" d=\"M220.718 1383.93 L239.074 1383.93 L239.074 1387.87 L225 1387.87 L225 1396.34 Q226.019 1395.99 227.037 1395.83 Q228.056 1395.64 229.074 1395.64 Q234.861 1395.64 238.241 1398.82 Q241.621 1401.99 241.621 1407.4 Q241.621 1412.98 238.148 1416.08 Q234.676 1419.16 228.357 1419.16 Q226.181 1419.16 223.912 1418.79 Q221.667 1418.42 219.26 1417.68 L219.26 1412.98 Q221.343 1414.12 223.565 1414.67 Q225.787 1415.23 228.264 1415.23 Q232.269 1415.23 234.607 1413.12 Q236.945 1411.02 236.945 1407.4 Q236.945 1403.79 234.607 1401.69 Q232.269 1399.58 228.264 1399.58 Q226.389 1399.58 224.514 1400 Q222.662 1400.41 220.718 1401.29 L220.718 1383.93 Z\" fill=\"#000000\" fill-rule=\"evenodd\" fill-opacity=\"1\" /><path clip-path=\"url(#clip360)\" d=\"M114.931 1197.74 L122.57 1197.74 L122.57 1171.37 L114.26 1173.04 L114.26 1168.78 L122.524 1167.11 L127.2 1167.11 L127.2 1197.74 L134.839 1197.74 L134.839 1201.67 L114.931 1201.67 L114.931 1197.74 Z\" fill=\"#000000\" fill-rule=\"evenodd\" fill-opacity=\"1\" /><path clip-path=\"url(#clip360)\" d=\"M145.093 1197.74 L152.732 1197.74 L152.732 1171.37 L144.422 1173.04 L144.422 1168.78 L152.686 1167.11 L157.362 1167.11 L157.362 1197.74 L165.001 1197.74 L165.001 1201.67 L145.093 1201.67 L145.093 1197.74 Z\" fill=\"#000000\" fill-rule=\"evenodd\" fill-opacity=\"1\" /><path clip-path=\"url(#clip360)\" d=\"M174.445 1195.79 L179.329 1195.79 L179.329 1201.67 L174.445 1201.67 L174.445 1195.79 Z\" fill=\"#000000\" fill-rule=\"evenodd\" fill-opacity=\"1\" /><path clip-path=\"url(#clip360)\" d=\"M203.681 1183.04 Q207.037 1183.76 208.912 1186.02 Q210.811 1188.29 210.811 1191.63 Q210.811 1196.74 207.292 1199.54 Q203.774 1202.34 197.292 1202.34 Q195.116 1202.34 192.801 1201.9 Q190.51 1201.49 188.056 1200.63 L188.056 1196.12 Q190 1197.25 192.315 1197.83 Q194.63 1198.41 197.153 1198.41 Q201.551 1198.41 203.843 1196.67 Q206.158 1194.94 206.158 1191.63 Q206.158 1188.57 204.005 1186.86 Q201.875 1185.12 198.056 1185.12 L194.028 1185.12 L194.028 1181.28 L198.241 1181.28 Q201.69 1181.28 203.519 1179.91 Q205.348 1178.52 205.348 1175.93 Q205.348 1173.27 203.449 1171.86 Q201.575 1170.42 198.056 1170.42 Q196.135 1170.42 193.936 1170.84 Q191.737 1171.26 189.098 1172.14 L189.098 1167.97 Q191.76 1167.23 194.075 1166.86 Q196.412 1166.49 198.473 1166.49 Q203.797 1166.49 206.899 1168.92 Q210 1171.33 210 1175.45 Q210 1178.32 208.357 1180.31 Q206.713 1182.27 203.681 1183.04 Z\" fill=\"#000000\" fill-rule=\"evenodd\" fill-opacity=\"1\" /><path clip-path=\"url(#clip360)\" d=\"M229.676 1170.19 Q226.065 1170.19 224.236 1173.76 Q222.431 1177.3 222.431 1184.43 Q222.431 1191.53 224.236 1195.1 Q226.065 1198.64 229.676 1198.64 Q233.31 1198.64 235.116 1195.1 Q236.945 1191.53 236.945 1184.43 Q236.945 1177.3 235.116 1173.76 Q233.31 1170.19 229.676 1170.19 M229.676 1166.49 Q235.486 1166.49 238.542 1171.09 Q241.621 1175.68 241.621 1184.43 Q241.621 1193.15 238.542 1197.76 Q235.486 1202.34 229.676 1202.34 Q223.866 1202.34 220.787 1197.76 Q217.732 1193.15 217.732 1184.43 Q217.732 1175.68 220.787 1171.09 Q223.866 1166.49 229.676 1166.49 Z\" fill=\"#000000\" fill-rule=\"evenodd\" fill-opacity=\"1\" /><path clip-path=\"url(#clip360)\" d=\"M115.927 980.917 L123.566 980.917 L123.566 954.551 L115.256 956.218 L115.256 951.959 L123.519 950.292 L128.195 950.292 L128.195 980.917 L135.834 980.917 L135.834 984.852 L115.927 984.852 L115.927 980.917 Z\" fill=\"#000000\" fill-rule=\"evenodd\" fill-opacity=\"1\" /><path clip-path=\"url(#clip360)\" d=\"M146.089 980.917 L153.728 980.917 L153.728 954.551 L145.417 956.218 L145.417 951.959 L153.681 950.292 L158.357 950.292 L158.357 980.917 L165.996 980.917 L165.996 984.852 L146.089 984.852 L146.089 980.917 Z\" fill=\"#000000\" fill-rule=\"evenodd\" fill-opacity=\"1\" /><path clip-path=\"url(#clip360)\" d=\"M175.44 978.973 L180.325 978.973 L180.325 984.852 L175.44 984.852 L175.44 978.973 Z\" fill=\"#000000\" fill-rule=\"evenodd\" fill-opacity=\"1\" /><path clip-path=\"url(#clip360)\" d=\"M204.676 966.218 Q208.033 966.936 209.908 969.204 Q211.806 971.473 211.806 974.806 Q211.806 979.922 208.287 982.723 Q204.769 985.524 198.287 985.524 Q196.112 985.524 193.797 985.084 Q191.505 984.667 189.051 983.811 L189.051 979.297 Q190.996 980.431 193.311 981.01 Q195.625 981.588 198.149 981.588 Q202.547 981.588 204.838 979.852 Q207.153 978.116 207.153 974.806 Q207.153 971.75 205 970.038 Q202.871 968.301 199.051 968.301 L195.024 968.301 L195.024 964.459 L199.237 964.459 Q202.686 964.459 204.514 963.093 Q206.343 961.704 206.343 959.112 Q206.343 956.45 204.445 955.038 Q202.57 953.602 199.051 953.602 Q197.13 953.602 194.931 954.019 Q192.732 954.436 190.093 955.315 L190.093 951.149 Q192.755 950.408 195.07 950.038 Q197.408 949.667 199.468 949.667 Q204.792 949.667 207.894 952.098 Q210.996 954.505 210.996 958.626 Q210.996 961.496 209.352 963.487 Q207.709 965.454 204.676 966.218 Z\" fill=\"#000000\" fill-rule=\"evenodd\" fill-opacity=\"1\" /><path clip-path=\"url(#clip360)\" d=\"M220.718 950.292 L239.074 950.292 L239.074 954.227 L225 954.227 L225 962.7 Q226.019 962.352 227.037 962.19 Q228.056 962.005 229.074 962.005 Q234.861 962.005 238.241 965.176 Q241.621 968.348 241.621 973.764 Q241.621 979.343 238.148 982.445 Q234.676 985.524 228.357 985.524 Q226.181 985.524 223.912 985.153 Q221.667 984.783 219.26 984.042 L219.26 979.343 Q221.343 980.477 223.565 981.033 Q225.787 981.588 228.264 981.588 Q232.269 981.588 234.607 979.482 Q236.945 977.375 236.945 973.764 Q236.945 970.153 234.607 968.047 Q232.269 965.94 228.264 965.94 Q226.389 965.94 224.514 966.357 Q222.662 966.774 220.718 967.653 L220.718 950.292 Z\" fill=\"#000000\" fill-rule=\"evenodd\" fill-opacity=\"1\" /><path clip-path=\"url(#clip360)\" d=\"M114.931 764.097 L122.57 764.097 L122.57 737.732 L114.26 739.398 L114.26 735.139 L122.524 733.472 L127.2 733.472 L127.2 764.097 L134.839 764.097 L134.839 768.032 L114.931 768.032 L114.931 764.097 Z\" fill=\"#000000\" fill-rule=\"evenodd\" fill-opacity=\"1\" /><path clip-path=\"url(#clip360)\" d=\"M145.093 764.097 L152.732 764.097 L152.732 737.732 L144.422 739.398 L144.422 735.139 L152.686 733.472 L157.362 733.472 L157.362 764.097 L165.001 764.097 L165.001 768.032 L145.093 768.032 L145.093 764.097 Z\" fill=\"#000000\" fill-rule=\"evenodd\" fill-opacity=\"1\" /><path clip-path=\"url(#clip360)\" d=\"M174.445 762.153 L179.329 762.153 L179.329 768.032 L174.445 768.032 L174.445 762.153 Z\" fill=\"#000000\" fill-rule=\"evenodd\" fill-opacity=\"1\" /><path clip-path=\"url(#clip360)\" d=\"M202.362 737.546 L190.556 755.995 L202.362 755.995 L202.362 737.546 M201.135 733.472 L207.014 733.472 L207.014 755.995 L211.945 755.995 L211.945 759.884 L207.014 759.884 L207.014 768.032 L202.362 768.032 L202.362 759.884 L186.76 759.884 L186.76 755.37 L201.135 733.472 Z\" fill=\"#000000\" fill-rule=\"evenodd\" fill-opacity=\"1\" /><path clip-path=\"url(#clip360)\" d=\"M229.676 736.551 Q226.065 736.551 224.236 740.116 Q222.431 743.657 222.431 750.787 Q222.431 757.894 224.236 761.458 Q226.065 765 229.676 765 Q233.31 765 235.116 761.458 Q236.945 757.894 236.945 750.787 Q236.945 743.657 235.116 740.116 Q233.31 736.551 229.676 736.551 M229.676 732.847 Q235.486 732.847 238.542 737.454 Q241.621 742.037 241.621 750.787 Q241.621 759.514 238.542 764.12 Q235.486 768.704 229.676 768.704 Q223.866 768.704 220.787 764.12 Q217.732 759.514 217.732 750.787 Q217.732 742.037 220.787 737.454 Q223.866 732.847 229.676 732.847 Z\" fill=\"#000000\" fill-rule=\"evenodd\" fill-opacity=\"1\" /><path clip-path=\"url(#clip360)\" d=\"M115.927 547.277 L123.566 547.277 L123.566 520.912 L115.256 522.578 L115.256 518.319 L123.519 516.652 L128.195 516.652 L128.195 547.277 L135.834 547.277 L135.834 551.212 L115.927 551.212 L115.927 547.277 Z\" fill=\"#000000\" fill-rule=\"evenodd\" fill-opacity=\"1\" /><path clip-path=\"url(#clip360)\" d=\"M146.089 547.277 L153.728 547.277 L153.728 520.912 L145.417 522.578 L145.417 518.319 L153.681 516.652 L158.357 516.652 L158.357 547.277 L165.996 547.277 L165.996 551.212 L146.089 551.212 L146.089 547.277 Z\" fill=\"#000000\" fill-rule=\"evenodd\" fill-opacity=\"1\" /><path clip-path=\"url(#clip360)\" d=\"M175.44 545.333 L180.325 545.333 L180.325 551.212 L175.44 551.212 L175.44 545.333 Z\" fill=\"#000000\" fill-rule=\"evenodd\" fill-opacity=\"1\" /><path clip-path=\"url(#clip360)\" d=\"M203.357 520.727 L191.551 539.175 L203.357 539.175 L203.357 520.727 M202.13 516.652 L208.01 516.652 L208.01 539.175 L212.94 539.175 L212.94 543.064 L208.01 543.064 L208.01 551.212 L203.357 551.212 L203.357 543.064 L187.755 543.064 L187.755 538.551 L202.13 516.652 Z\" fill=\"#000000\" fill-rule=\"evenodd\" fill-opacity=\"1\" /><path clip-path=\"url(#clip360)\" d=\"M220.718 516.652 L239.074 516.652 L239.074 520.588 L225 520.588 L225 529.06 Q226.019 528.713 227.037 528.551 Q228.056 528.365 229.074 528.365 Q234.861 528.365 238.241 531.537 Q241.621 534.708 241.621 540.125 Q241.621 545.703 238.148 548.805 Q234.676 551.884 228.357 551.884 Q226.181 551.884 223.912 551.513 Q221.667 551.143 219.26 550.402 L219.26 545.703 Q221.343 546.837 223.565 547.393 Q225.787 547.949 228.264 547.949 Q232.269 547.949 234.607 545.842 Q236.945 543.736 236.945 540.125 Q236.945 536.513 234.607 534.407 Q232.269 532.301 228.264 532.301 Q226.389 532.301 224.514 532.717 Q222.662 533.134 220.718 534.013 L220.718 516.652 Z\" fill=\"#000000\" fill-rule=\"evenodd\" fill-opacity=\"1\" /><path clip-path=\"url(#clip360)\" d=\"M114.931 330.457 L122.57 330.457 L122.57 304.092 L114.26 305.758 L114.26 301.499 L122.524 299.833 L127.2 299.833 L127.2 330.457 L134.839 330.457 L134.839 334.393 L114.931 334.393 L114.931 330.457 Z\" fill=\"#000000\" fill-rule=\"evenodd\" fill-opacity=\"1\" /><path clip-path=\"url(#clip360)\" d=\"M145.093 330.457 L152.732 330.457 L152.732 304.092 L144.422 305.758 L144.422 301.499 L152.686 299.833 L157.362 299.833 L157.362 330.457 L165.001 330.457 L165.001 334.393 L145.093 334.393 L145.093 330.457 Z\" fill=\"#000000\" fill-rule=\"evenodd\" fill-opacity=\"1\" /><path clip-path=\"url(#clip360)\" d=\"M174.445 328.513 L179.329 328.513 L179.329 334.393 L174.445 334.393 L174.445 328.513 Z\" fill=\"#000000\" fill-rule=\"evenodd\" fill-opacity=\"1\" /><path clip-path=\"url(#clip360)\" d=\"M189.561 299.833 L207.917 299.833 L207.917 303.768 L193.843 303.768 L193.843 312.24 Q194.862 311.893 195.88 311.731 Q196.899 311.545 197.917 311.545 Q203.704 311.545 207.084 314.717 Q210.463 317.888 210.463 323.305 Q210.463 328.883 206.991 331.985 Q203.519 335.064 197.2 335.064 Q195.024 335.064 192.755 334.694 Q190.51 334.323 188.102 333.582 L188.102 328.883 Q190.186 330.018 192.408 330.573 Q194.63 331.129 197.107 331.129 Q201.112 331.129 203.449 329.022 Q205.787 326.916 205.787 323.305 Q205.787 319.694 203.449 317.587 Q201.112 315.481 197.107 315.481 Q195.232 315.481 193.357 315.897 Q191.505 316.314 189.561 317.194 L189.561 299.833 Z\" fill=\"#000000\" fill-rule=\"evenodd\" fill-opacity=\"1\" /><path clip-path=\"url(#clip360)\" d=\"M229.676 302.911 Q226.065 302.911 224.236 306.476 Q222.431 310.018 222.431 317.147 Q222.431 324.254 224.236 327.819 Q226.065 331.36 229.676 331.36 Q233.31 331.36 235.116 327.819 Q236.945 324.254 236.945 317.147 Q236.945 310.018 235.116 306.476 Q233.31 302.911 229.676 302.911 M229.676 299.208 Q235.486 299.208 238.542 303.814 Q241.621 308.397 241.621 317.147 Q241.621 325.874 238.542 330.481 Q235.486 335.064 229.676 335.064 Q223.866 335.064 220.787 330.481 Q217.732 325.874 217.732 317.147 Q217.732 308.397 220.787 303.814 Q223.866 299.208 229.676 299.208 Z\" fill=\"#000000\" fill-rule=\"evenodd\" fill-opacity=\"1\" /><path clip-path=\"url(#clip360)\" d=\"M115.927 113.638 L123.566 113.638 L123.566 87.2719 L115.256 88.9386 L115.256 84.6794 L123.519 83.0127 L128.195 83.0127 L128.195 113.638 L135.834 113.638 L135.834 117.573 L115.927 117.573 L115.927 113.638 Z\" fill=\"#000000\" fill-rule=\"evenodd\" fill-opacity=\"1\" /><path clip-path=\"url(#clip360)\" d=\"M146.089 113.638 L153.728 113.638 L153.728 87.2719 L145.417 88.9386 L145.417 84.6794 L153.681 83.0127 L158.357 83.0127 L158.357 113.638 L165.996 113.638 L165.996 117.573 L146.089 117.573 L146.089 113.638 Z\" fill=\"#000000\" fill-rule=\"evenodd\" fill-opacity=\"1\" /><path clip-path=\"url(#clip360)\" d=\"M175.44 111.693 L180.325 111.693 L180.325 117.573 L175.44 117.573 L175.44 111.693 Z\" fill=\"#000000\" fill-rule=\"evenodd\" fill-opacity=\"1\" /><path clip-path=\"url(#clip360)\" d=\"M190.556 83.0127 L208.912 83.0127 L208.912 86.9479 L194.838 86.9479 L194.838 95.42 Q195.857 95.0728 196.875 94.9108 Q197.894 94.7256 198.912 94.7256 Q204.699 94.7256 208.079 97.8969 Q211.459 101.068 211.459 106.485 Q211.459 112.063 207.987 115.165 Q204.514 118.244 198.195 118.244 Q196.019 118.244 193.75 117.874 Q191.505 117.503 189.098 116.763 L189.098 112.063 Q191.181 113.198 193.403 113.753 Q195.625 114.309 198.102 114.309 Q202.107 114.309 204.445 112.202 Q206.783 110.096 206.783 106.485 Q206.783 102.874 204.445 100.767 Q202.107 98.6608 198.102 98.6608 Q196.227 98.6608 194.352 99.0774 Q192.5 99.4941 190.556 100.374 L190.556 83.0127 Z\" fill=\"#000000\" fill-rule=\"evenodd\" fill-opacity=\"1\" /><path clip-path=\"url(#clip360)\" d=\"M220.718 83.0127 L239.074 83.0127 L239.074 86.9479 L225 86.9479 L225 95.42 Q226.019 95.0728 227.037 94.9108 Q228.056 94.7256 229.074 94.7256 Q234.861 94.7256 238.241 97.8969 Q241.621 101.068 241.621 106.485 Q241.621 112.063 238.148 115.165 Q234.676 118.244 228.357 118.244 Q226.181 118.244 223.912 117.874 Q221.667 117.503 219.26 116.763 L219.26 112.063 Q221.343 113.198 223.565 113.753 Q225.787 114.309 228.264 114.309 Q232.269 114.309 234.607 112.202 Q236.945 110.096 236.945 106.485 Q236.945 102.874 234.607 100.767 Q232.269 98.6608 228.264 98.6608 Q226.389 98.6608 224.514 99.0774 Q222.662 99.4941 220.718 100.374 L220.718 83.0127 Z\" fill=\"#000000\" fill-rule=\"evenodd\" fill-opacity=\"1\" /><path clip-path=\"url(#clip360)\" d=\"M65.2145 937.848 L56.519 937.848 Q55.7782 937.848 55.5206 937.816 Q55.2629 937.784 55.0697 937.59 Q54.8765 937.397 54.8765 937.011 Q54.8765 936.56 55.0697 936.399 Q55.2629 936.206 56.0037 936.077 Q60.5447 935.078 62.9601 932.953 Q65.3434 930.795 65.3434 926.898 Q65.3434 923.194 63.7009 921.326 Q62.0584 919.458 59.3531 919.458 Q54.5222 919.458 53.2984 926.318 Q52.4932 930.28 51.9779 931.922 Q51.4304 933.565 50.2388 935.014 Q47.92 937.848 44.635 937.848 Q41.35 937.848 38.9346 935.368 Q36.5191 932.856 36.5191 927.317 Q36.5191 923.613 38.3871 921.101 Q37.8073 920.36 37.3243 919.974 Q36.5191 919.104 36.5191 918.653 Q36.5191 918.138 36.8734 918.041 Q37.1954 917.945 38.1294 917.945 L44.7638 917.945 Q45.5045 917.945 45.7622 917.977 Q46.0198 918.009 46.2131 918.202 Q46.3741 918.396 46.3741 918.814 Q46.3741 919.555 45.7622 919.587 Q37.7751 920.103 37.7751 927.317 Q37.7751 931.214 39.2888 932.953 Q40.7703 934.692 42.7993 934.692 Q43.9265 934.692 44.796 934.177 Q45.6334 933.629 46.1487 932.953 Q46.6318 932.244 47.1148 930.956 Q47.5657 929.668 47.7268 928.895 Q47.8878 928.09 48.2098 926.576 Q49.2082 921.294 51.366 919.072 Q54.1357 916.302 57.6462 916.302 Q61.5431 916.302 64.1839 918.943 Q66.8248 921.584 66.8248 926.898 Q66.8248 931.181 63.9585 934.177 Q64.345 934.563 64.6992 934.853 Q65.0213 935.143 65.1501 935.272 Q65.2789 935.368 65.3756 935.4 Q65.44 935.433 65.5044 935.497 Q66.8248 936.817 66.8248 937.139 Q66.8248 937.655 66.4706 937.751 Q66.1485 937.848 65.2145 937.848 Z\" fill=\"#000000\" fill-rule=\"evenodd\" fill-opacity=\"1\" /><path clip-path=\"url(#clip360)\" d=\"M39.7075 914.472 L38.2582 914.472 Q38.1294 911.444 36.0038 909.448 Q33.846 907.419 31.2051 906.742 Q28.5643 906.034 25.5047 905.969 L25.5047 904.327 L37.6463 904.327 L37.6463 894.891 L39.7075 894.891 L39.7075 904.327 L58.0326 904.327 Q65.1501 904.327 65.1501 899.883 Q65.1501 897.982 63.2178 896.726 Q61.2532 895.47 57.775 895.47 L54.1357 895.47 L54.1357 893.828 L57.9038 893.828 Q61.4787 893.828 64.1517 895.47 Q66.8248 897.113 66.8248 900.366 Q66.8248 901.557 66.5028 902.749 Q66.2129 903.908 65.44 905.454 Q64.6348 906.968 62.7025 907.934 Q60.7379 908.868 57.9038 908.868 L39.7075 908.868 L39.7075 914.472 Z\" fill=\"#000000\" fill-rule=\"evenodd\" fill-opacity=\"1\" /><path clip-path=\"url(#clip360)\" d=\"M59.804 889.741 Q54.2001 889.741 51.2372 883.139 Q49.337 879.178 48.854 870.998 L46.4385 870.998 Q42.3484 870.998 40.1906 873.155 Q38.0006 875.281 38.0006 877.986 Q38.0006 882.817 41.0279 885.136 Q41.0923 883.171 42.0907 882.463 Q43.0569 881.754 44.0553 881.754 Q45.3757 881.754 46.2453 882.592 Q47.0826 883.397 47.0826 884.782 Q47.0826 886.102 46.2775 886.972 Q45.4401 887.841 43.9909 887.841 Q40.7703 887.841 38.6447 884.943 Q36.5191 882.012 36.5191 877.857 Q36.5191 872.447 40.1584 868.84 Q41.2856 867.713 42.7348 867.165 Q44.1841 866.585 45.1503 866.521 Q46.0843 866.457 47.9522 866.457 L61.1244 866.457 Q61.5109 866.457 62.155 866.328 Q62.7991 866.199 63.6364 865.619 Q64.4416 865.007 64.4416 864.009 Q64.4416 861.626 60.2226 861.658 L56.519 861.658 L56.519 859.983 L60.2226 859.983 Q63.7331 859.983 65.1179 861.851 Q66.4706 863.687 66.4706 865.394 Q66.4706 867.584 64.8603 868.969 Q63.25 870.353 61.06 870.547 Q63.572 871.545 65.2145 873.832 Q66.8248 876.086 66.8248 879.178 Q66.8248 881.561 66.2129 883.816 Q65.6332 886.038 63.9907 887.906 Q62.316 889.741 59.804 889.741 M59.7395 884.653 Q62.1872 884.653 63.7653 882.914 Q65.3434 881.175 65.3434 878.727 Q65.3434 875.957 63.2178 873.477 Q61.06 870.998 56.841 870.998 L50.2388 870.998 Q50.4965 878.308 53.4272 881.497 Q56.3257 884.653 59.7395 884.653 Z\" fill=\"#000000\" fill-rule=\"evenodd\" fill-opacity=\"1\" /><path clip-path=\"url(#clip360)\" d=\"M66.0841 858.661 L64.0551 858.661 Q64.0551 855.151 63.6364 854.346 Q63.1856 853.508 61.06 853.508 L43.379 853.508 Q40.9313 853.508 40.3194 854.378 Q39.7075 855.215 39.7075 858.661 L37.6463 858.661 L36.9378 849.483 L44.1841 849.483 Q41.35 848.549 39.16 846.584 Q36.9378 844.587 36.9378 841.367 Q36.9378 839.241 38.1294 837.889 Q39.321 836.504 40.9635 836.504 Q42.4128 836.504 43.1535 837.405 Q43.8621 838.275 43.8621 839.338 Q43.8621 840.529 43.1213 841.367 Q42.3484 842.172 41.0279 842.172 Q40.2228 842.172 39.6109 841.818 Q38.9668 841.431 38.7413 841.141 Q38.5159 840.852 38.4515 840.658 Q38.3871 840.787 38.3871 841.367 Q38.3871 845.006 42.0263 847.099 Q45.6334 849.161 50.7863 849.161 L60.9312 849.161 Q62.8313 849.161 63.4432 848.388 Q64.0551 847.583 64.0551 844.137 L64.0551 842.752 L66.0841 842.752 Q65.8909 845.393 65.8909 851.125 Q65.8909 851.93 65.9231 853.186 Q65.9553 854.442 66.0197 856.085 Q66.0841 857.727 66.0841 858.661 Z\" fill=\"#000000\" fill-rule=\"evenodd\" fill-opacity=\"1\" /><path clip-path=\"url(#clip360)\" d=\"M39.7075 830.031 L38.2582 830.031 Q38.1294 827.003 36.0038 825.006 Q33.846 822.977 31.2051 822.301 Q28.5643 821.593 25.5047 821.528 L25.5047 819.886 L37.6463 819.886 L37.6463 810.449 L39.7075 810.449 L39.7075 819.886 L58.0326 819.886 Q65.1501 819.886 65.1501 815.441 Q65.1501 813.541 63.2178 812.285 Q61.2532 811.029 57.775 811.029 L54.1357 811.029 L54.1357 809.387 L57.9038 809.387 Q61.4787 809.387 64.1517 811.029 Q66.8248 812.672 66.8248 815.924 Q66.8248 817.116 66.5028 818.308 Q66.2129 819.467 65.44 821.013 Q64.6348 822.527 62.7025 823.493 Q60.7379 824.427 57.9038 824.427 L39.7075 824.427 L39.7075 830.031 Z\" fill=\"#000000\" fill-rule=\"evenodd\" fill-opacity=\"1\" /><path clip-path=\"url(#clip360)\" d=\"M39.7075 787.272 L38.2582 787.272 Q38.1294 784.245 36.0038 782.248 Q33.846 780.219 31.2051 779.543 Q28.5643 778.834 25.5047 778.77 L25.5047 777.127 L37.6463 777.127 L37.6463 767.691 L39.7075 767.691 L39.7075 777.127 L58.0326 777.127 Q65.1501 777.127 65.1501 772.683 Q65.1501 770.783 63.2178 769.527 Q61.2532 768.271 57.775 768.271 L54.1357 768.271 L54.1357 766.628 L57.9038 766.628 Q61.4787 766.628 64.1517 768.271 Q66.8248 769.913 66.8248 773.166 Q66.8248 774.358 66.5028 775.549 Q66.2129 776.709 65.44 778.255 Q64.6348 779.768 62.7025 780.734 Q60.7379 781.668 57.9038 781.668 L39.7075 781.668 L39.7075 787.272 Z\" fill=\"#000000\" fill-rule=\"evenodd\" fill-opacity=\"1\" /><path clip-path=\"url(#clip360)\" d=\"M66.0841 762.737 L64.0551 762.737 Q64.0551 759.226 63.6364 758.421 Q63.1856 757.616 61.06 757.616 L43.3146 757.616 Q40.8669 757.616 40.2872 758.453 Q39.7075 759.259 39.7075 762.479 L37.6463 762.479 L36.9378 753.268 L61.1244 753.268 Q63.0889 753.268 63.572 752.56 Q64.0551 751.851 64.0551 748.631 L66.0841 748.631 Q65.8909 755.362 65.8909 755.491 Q65.8909 756.392 66.0841 762.737 M25.4403 759.967 Q24.1199 759.967 23.0571 758.969 Q21.9621 757.938 21.9621 756.489 Q21.9621 755.04 22.9604 754.009 Q23.9266 752.978 25.4725 752.978 Q26.9862 752.978 27.9846 754.009 Q28.9507 755.04 28.9507 756.489 Q28.9507 758.003 27.8879 759.001 Q26.8252 759.967 25.4403 759.967 Z\" fill=\"#000000\" fill-rule=\"evenodd\" fill-opacity=\"1\" /><path clip-path=\"url(#clip360)\" d=\"M66.0841 744.122 L64.0551 744.122 Q64.0551 740.612 63.6364 739.807 Q63.1856 739.002 61.06 739.002 L43.379 739.002 Q40.9313 739.002 40.3194 739.871 Q39.7075 740.709 39.7075 744.122 L37.6463 744.122 L36.9378 734.847 L43.8621 734.847 Q36.9378 731.755 36.9378 725.089 Q36.9378 717.359 43.379 716.297 Q40.8669 715.169 38.9023 712.818 Q36.9378 710.435 36.9378 706.731 Q36.9378 701.772 39.3854 699.807 Q41.0279 698.358 42.8637 698.068 Q44.6994 697.778 49.4659 697.778 L62.0584 697.778 Q63.4432 697.714 63.7653 696.651 Q64.0551 695.588 64.0551 692.625 L66.0841 692.625 Q65.8909 699.356 65.8909 700 Q65.8909 700.516 66.0841 707.472 L64.0551 707.472 Q64.0551 703.962 63.6364 703.157 Q63.1856 702.319 61.06 702.319 L45.6978 702.319 Q42.3484 702.319 40.3838 703.35 Q38.3871 704.38 38.3871 707.214 Q38.3871 710.628 41.2534 713.366 Q44.1197 716.103 48.9506 716.103 L61.06 716.103 Q63.1856 716.103 63.6364 715.298 Q64.0551 714.461 64.0551 710.95 L66.0841 710.95 Q65.8909 717.681 65.8909 718.358 Q65.8909 718.873 66.0841 725.797 L64.0551 725.797 Q64.0551 722.287 63.6364 721.482 Q63.1856 720.644 61.06 720.644 L45.6978 720.644 Q42.3484 720.644 40.3838 721.675 Q38.3871 722.706 38.3871 725.54 Q38.3871 728.953 41.2534 731.691 Q44.1197 734.428 48.9506 734.428 L61.06 734.428 Q63.1856 734.428 63.6364 733.623 Q64.0551 732.786 64.0551 729.308 L66.0841 729.308 Q65.8909 736.039 65.8909 736.683 Q65.8909 737.198 66.0841 744.122 Z\" fill=\"#000000\" fill-rule=\"evenodd\" fill-opacity=\"1\" /><path clip-path=\"url(#clip360)\" d=\"M51.5593 688.679 Q45.3435 688.679 40.9313 684.686 Q36.5191 680.692 36.5191 674.96 Q36.5191 669.163 40.2872 666.168 Q44.0553 663.14 49.4659 663.14 Q50.4643 663.14 50.6575 663.398 Q50.8507 663.656 50.8507 664.783 L50.8507 683.204 Q57.5817 683.204 60.7379 681.208 Q65.1501 678.438 65.1501 673.768 Q65.1501 673.124 65.0213 672.351 Q64.8925 671.578 64.345 670 Q63.7653 668.422 62.2516 667.037 Q60.7379 665.652 58.3547 664.847 Q57.4207 664.654 57.4529 664.01 Q57.4529 663.14 58.2259 663.14 Q58.8056 663.14 60.126 663.784 Q61.4142 664.396 62.9601 665.588 Q64.506 666.779 65.6654 669.098 Q66.8248 671.385 66.8248 674.155 Q66.8248 679.952 62.4448 684.332 Q58.0326 688.679 51.5593 688.679 M49.4659 683.14 L49.4659 667.488 Q48.081 667.488 46.5351 667.746 Q44.9893 667.971 42.8637 668.68 Q40.7059 669.356 39.3532 670.966 Q38.0006 672.577 38.0006 674.96 Q38.0006 676.023 38.4515 677.182 Q38.9023 678.309 39.9973 679.694 Q41.0923 681.079 43.5722 682.045 Q46.052 683.011 49.4659 683.14 Z\" fill=\"#000000\" fill-rule=\"evenodd\" fill-opacity=\"1\" /><path clip-path=\"url(#clip360)\" d=\"M49.5947 642.253 Q38.4515 642.253 29.466 638.098 Q25.6979 636.327 22.5418 633.847 Q19.3856 631.367 18.0007 629.725 Q16.6159 628.082 16.6159 627.631 Q16.6159 626.987 17.26 626.955 Q17.5821 626.955 18.3872 627.825 Q29.2084 638.453 49.5947 638.42 Q70.0454 638.42 80.4479 628.082 Q81.5751 626.955 81.9294 626.955 Q82.5735 626.955 82.5735 627.631 Q82.5735 628.082 81.2531 629.66 Q79.9326 631.238 76.9053 633.686 Q73.8779 636.134 70.1742 637.905 Q61.1888 642.253 49.5947 642.253 Z\" fill=\"#000000\" fill-rule=\"evenodd\" fill-opacity=\"1\" /><path clip-path=\"url(#clip360)\" d=\"M56.6478 581.177 Q60.8023 582.014 63.1856 583.141 Q66.8248 584.945 66.8248 588.037 Q66.8248 590.227 65.5044 591.901 Q64.1839 593.544 61.994 593.963 Q62.9923 594.8 63.572 595.412 Q64.1517 595.992 65.0535 597.151 Q65.9231 598.278 66.3739 599.695 Q66.8248 601.112 66.8248 602.723 Q66.8248 606.652 64.7637 609.132 Q78.2579 612.481 78.9342 612.771 Q80.3191 613.705 80.3191 615.058 Q80.3191 615.895 79.8038 616.41 Q79.3207 616.925 78.5478 616.925 Q78.2901 616.893 77.485 616.7 L39.321 607.231 Q38.2904 606.974 37.7107 606.33 Q37.0988 605.653 37.0344 605.267 Q36.9378 604.88 36.9378 604.591 Q36.9378 603.721 37.4209 603.206 Q37.8718 602.658 38.7091 602.658 Q38.8379 602.658 39.5787 602.851 Q40.2872 603.013 41.3822 603.27 Q42.445 603.528 42.9281 603.657 L54.0069 606.426 Q57.8072 607.36 59.6107 607.36 Q62.3482 607.36 63.8619 606.136 Q65.3434 604.88 65.3434 602.465 Q65.3434 600.951 64.7314 599.534 Q64.0873 598.117 63.2178 597.151 Q62.3482 596.185 61.4142 595.412 Q60.4481 594.639 59.8362 594.285 Q59.192 593.93 59.031 593.898 L52.3 592.191 L39.9651 589.067 Q39.1922 588.874 38.6769 588.52 Q38.1294 588.133 37.9362 587.683 Q37.7429 587.232 37.7107 586.974 Q37.6463 586.716 37.6463 586.491 Q37.6463 585.686 38.1294 585.138 Q38.6125 584.591 39.4498 584.591 Q39.6109 584.591 40.3838 584.784 Q41.1246 584.945 42.2196 585.203 Q43.2823 585.46 43.8621 585.589 Q47.92 586.62 48.3387 586.716 L55.4562 588.552 Q55.8748 588.649 57.2275 588.971 Q58.5801 589.261 59.2887 589.422 Q59.965 589.583 60.899 589.744 Q61.8007 589.873 62.316 589.873 Q65.3434 589.873 65.3434 587.876 Q65.3434 587.103 64.8925 586.426 Q64.4094 585.75 63.7331 585.299 Q63.0567 584.816 61.8973 584.365 Q60.7057 583.882 59.7395 583.592 Q58.7412 583.303 57.1953 582.884 Q56.4545 582.723 56.2291 582.562 Q56.0037 582.401 56.0037 581.95 Q56.0037 581.177 56.6478 581.177 Z\" fill=\"#000000\" fill-rule=\"evenodd\" fill-opacity=\"1\" /><path clip-path=\"url(#clip360)\" d=\"M42.606 551.959 Q44.4096 551.959 45.3757 552.861 Q46.3097 553.763 46.3097 554.987 Q46.3097 555.985 45.73 556.533 Q45.1503 557.048 44.3773 557.048 Q43.2501 557.048 42.3484 556.146 Q41.4466 555.212 41.4144 553.86 Q40.2228 554.311 39.5143 555.502 Q38.7735 556.694 38.5803 557.757 Q38.3871 558.787 38.3871 559.818 Q38.3871 561.847 39.0312 563.393 Q39.6753 564.938 40.6737 565.711 Q41.6398 566.484 42.5738 566.839 Q43.5078 567.193 44.3129 567.193 Q45.0215 567.193 45.6012 567.032 Q46.1487 566.839 46.5673 566.388 Q46.9538 565.937 47.2115 565.615 Q47.4691 565.261 47.6945 564.488 Q47.92 563.715 48.0166 563.393 Q48.081 563.071 48.2743 562.169 Q48.6607 560.301 48.8862 559.463 Q49.0794 558.626 49.6269 557.531 Q50.1744 556.404 51.044 555.567 Q53.0729 553.538 55.8748 553.538 Q56.9054 553.538 58.1615 553.892 Q59.4175 554.214 60.9956 555.148 Q62.5737 556.082 63.8297 557.499 Q65.0857 558.916 65.9553 561.364 Q66.8248 563.779 66.8248 566.806 Q66.8248 571.025 65.0535 573.634 Q63.25 576.243 60.4159 576.243 Q58.3547 576.243 57.2275 575.115 Q56.0681 573.988 56.0681 572.539 Q56.0681 571.444 56.68 570.768 Q57.2597 570.091 58.3547 570.091 Q59.8362 570.091 60.9634 571.283 Q62.0906 572.475 61.8651 574.246 Q65.3434 572.732 65.3434 566.742 Q65.3434 564.488 64.7637 562.748 Q64.1517 560.977 63.3144 560.011 Q62.4448 559.013 61.382 558.368 Q60.3192 557.724 59.5141 557.531 Q58.709 557.306 58.097 557.306 Q57.0342 557.306 56.2291 557.724 Q55.424 558.143 54.9731 558.723 Q54.49 559.27 54.1035 560.333 Q53.6848 561.364 53.5238 562.104 Q53.3628 562.845 53.1051 564.166 Q52.9763 564.777 52.9119 565.164 Q52.8153 565.55 52.5576 566.356 Q52.2678 567.128 51.9779 567.676 Q51.6881 568.191 51.1728 568.868 Q50.6575 569.544 50.0456 569.963 Q49.4337 570.381 48.5319 570.671 Q47.6301 570.961 46.5673 570.961 Q45.6012 570.961 44.4418 570.671 Q43.2823 570.349 41.9297 569.544 Q40.5771 568.707 39.4821 567.515 Q38.3871 566.323 37.6785 564.327 Q36.9378 562.298 36.9378 559.818 Q36.9378 556.211 38.6125 554.085 Q40.255 551.959 42.606 551.959 Z\" fill=\"#000000\" fill-rule=\"evenodd\" fill-opacity=\"1\" /><path clip-path=\"url(#clip360)\" d=\"M81.9294 545.62 Q81.6073 545.62 80.8022 544.783 Q69.981 534.155 49.5947 534.155 Q29.144 534.155 18.8059 544.364 Q17.6143 545.62 17.26 545.62 Q16.6159 545.62 16.6159 544.976 Q16.6159 544.525 17.9363 542.947 Q19.2568 541.337 22.2841 538.921 Q25.3115 536.474 29.0151 534.67 Q38.0006 530.322 49.5947 530.322 Q60.7379 530.322 69.7234 534.477 Q73.4914 536.248 76.6476 538.728 Q79.8038 541.208 81.1886 542.85 Q82.5735 544.493 82.5735 544.976 Q82.5735 545.62 81.9294 545.62 Z\" fill=\"#000000\" fill-rule=\"evenodd\" fill-opacity=\"1\" /><polyline clip-path=\"url(#clip363)\" style=\"stroke:#009af9; stroke-linecap:round; stroke-linejoin:round; stroke-width:4; stroke-opacity:1; fill:none\" points=\"\n",
       "  336.351,1372.3 385.293,1372.3 434.235,1372.3 483.176,1372.3 532.118,1372.3 581.06,1372.3 630.002,1372.3 678.944,1372.3 727.886,1372.3 776.828,1372.3 \n",
       "  825.77,1372.3 874.711,1372.3 923.653,1372.3 972.595,1372.3 1021.54,1372.3 1070.48,1372.3 1119.42,1372.3 1168.36,1372.3 1217.3,1372.3 1266.25,1372.3 \n",
       "  1315.19,1372.3 1364.13,1372.3 1413.07,1372.3 1462.01,1372.3 1510.96,1372.3 1559.9,1372.3 1608.84,1372.3 1657.78,1372.3 1706.72,1372.3 1755.67,1372.3 \n",
       "  1804.61,1372.3 1853.55,1372.3 1902.49,1372.3 1951.43,1372.3 2000.37,1372.3 2049.32,1372.3 2098.26,1372.3 2147.2,1372.3 2196.14,1372.3 2245.08,1372.3 \n",
       "  2294.03,1372.3 \n",
       "  \"/>\n",
       "<polyline clip-path=\"url(#clip363)\" style=\"stroke:#e26f46; stroke-linecap:round; stroke-linejoin:round; stroke-width:4; stroke-opacity:1; fill:none\" points=\"\n",
       "  336.351,85.838 385.293,85.838 434.235,85.838 483.176,85.838 532.118,85.838 581.06,85.838 630.002,85.838 678.944,85.838 727.886,85.838 776.828,85.838 \n",
       "  825.77,85.838 874.711,85.838 923.653,85.838 972.595,85.838 1021.54,85.838 1070.48,85.838 1119.42,85.838 1168.36,85.838 1217.3,85.838 1266.25,85.838 \n",
       "  1315.19,85.838 1364.13,85.838 1413.07,85.838 1462.01,85.838 1510.96,85.838 1559.9,85.838 1608.84,85.838 1657.78,85.838 1706.72,85.838 1755.67,85.838 \n",
       "  1804.61,85.838 1853.55,85.838 1902.49,85.838 1951.43,85.838 2000.37,85.838 2049.32,85.838 2098.26,85.838 2147.2,85.838 2196.14,85.838 2245.08,85.838 \n",
       "  2294.03,85.838 \n",
       "  \"/>\n",
       "<path clip-path=\"url(#clip360)\" d=\"\n",
       "M2028.48 248.219 L2283.58 248.219 L2283.58 92.6992 L2028.48 92.6992  Z\n",
       "  \" fill=\"#ffffff\" fill-rule=\"evenodd\" fill-opacity=\"1\"/>\n",
       "<polyline clip-path=\"url(#clip360)\" style=\"stroke:#000000; stroke-linecap:round; stroke-linejoin:round; stroke-width:4; stroke-opacity:1; fill:none\" points=\"\n",
       "  2028.48,248.219 2283.58,248.219 2283.58,92.6992 2028.48,92.6992 2028.48,248.219 \n",
       "  \"/>\n",
       "<polyline clip-path=\"url(#clip360)\" style=\"stroke:#009af9; stroke-linecap:round; stroke-linejoin:round; stroke-width:4; stroke-opacity:1; fill:none\" points=\"\n",
       "  2051.53,144.539 2189.87,144.539 \n",
       "  \"/>\n",
       "<path clip-path=\"url(#clip360)\" d=\"M2234.29 126.681 L2222.17 126.681 L2222.17 125.632 L2234.29 125.632 L2234.29 126.681 Z\" fill=\"#000000\" fill-rule=\"evenodd\" fill-opacity=\"1\" /><path clip-path=\"url(#clip360)\" d=\"M2236.58 139.612 Q2236.58 143.078 2234.8 146.334 Q2233.04 149.59 2230.28 151.557 Q2227.54 153.525 2224.78 153.525 Q2221.66 153.525 2220.05 150.292 Q2217.12 162.027 2216.95 162.331 Q2216.27 163.339 2215.29 163.339 Q2214.68 163.339 2214.31 162.964 Q2213.93 162.613 2213.93 162.05 Q2213.96 161.863 2214.1 161.277 L2218.78 142.422 Q2219.86 138.042 2223.11 134.927 Q2226.39 131.789 2229.91 131.789 Q2232.69 131.789 2234.64 133.873 Q2236.58 135.958 2236.58 139.612 M2233.14 137.551 Q2233.14 135.208 2232.2 134.037 Q2231.26 132.843 2229.81 132.843 Q2228.48 132.843 2226.86 133.92 Q2225.27 134.997 2223.86 137.387 Q2223.11 138.768 2222.57 140.478 Q2222.04 142.188 2220.98 146.404 Q2220.61 148.091 2220.61 148.184 Q2220.61 148.372 2220.7 148.793 Q2220.82 149.215 2221.1 149.871 Q2221.4 150.503 2221.83 151.065 Q2222.25 151.627 2223.02 152.049 Q2223.79 152.447 2224.73 152.447 Q2226.18 152.447 2227.73 151.276 Q2229.3 150.082 2230.44 147.903 Q2231.41 146.147 2232.27 142.844 Q2233.14 139.518 2233.14 137.551 Z\" fill=\"#000000\" fill-rule=\"evenodd\" fill-opacity=\"1\" /><polyline clip-path=\"url(#clip360)\" style=\"stroke:#e26f46; stroke-linecap:round; stroke-linejoin:round; stroke-width:4; stroke-opacity:1; fill:none\" points=\"\n",
       "  2051.53,196.379 2189.87,196.379 \n",
       "  \"/>\n",
       "<path clip-path=\"url(#clip360)\" d=\"M2235.58 188.372 Q2235.58 191.839 2233.8 195.094 Q2232.04 198.35 2229.28 200.318 Q2226.54 202.285 2223.78 202.285 Q2220.66 202.285 2219.05 199.053 Q2216.12 210.787 2215.95 211.092 Q2215.27 212.099 2214.29 212.099 Q2213.68 212.099 2213.31 211.724 Q2212.93 211.373 2212.93 210.811 Q2212.96 210.623 2213.1 210.038 L2217.78 191.183 Q2218.86 186.803 2222.11 183.688 Q2225.39 180.549 2228.91 180.549 Q2231.69 180.549 2233.64 182.634 Q2235.58 184.718 2235.58 188.372 M2232.14 186.311 Q2232.14 183.969 2231.2 182.798 Q2230.26 181.603 2228.81 181.603 Q2227.48 181.603 2225.86 182.68 Q2224.27 183.758 2222.86 186.147 Q2222.11 187.529 2221.57 189.239 Q2221.04 190.949 2219.98 195.165 Q2219.61 196.851 2219.61 196.945 Q2219.61 197.132 2219.7 197.554 Q2219.82 197.975 2220.1 198.631 Q2220.4 199.264 2220.83 199.826 Q2221.25 200.388 2222.02 200.809 Q2222.79 201.208 2223.73 201.208 Q2225.18 201.208 2226.73 200.037 Q2228.3 198.842 2229.44 196.664 Q2230.41 194.907 2231.27 191.604 Q2232.14 188.278 2232.14 186.311 Z\" fill=\"#000000\" fill-rule=\"evenodd\" fill-opacity=\"1\" /></svg>\n"
      ]
     },
     "execution_count": 19,
     "metadata": {},
     "output_type": "execute_result"
    }
   ],
   "source": [
    "#variables\n",
    "mu_0 = 6e5 #6e5 km^-1\n",
    "thetas = [10^i for i = -6:0.1:-2]\n",
    "starttimes = zeros(length(thetas), 2)\n",
    "for i in 1:length(thetas)\n",
    "    starttimes[i,:] = starttime(mu_0,thetas[i])\n",
    "end\n",
    "plot(thetas, starttimes, xaxis=:log, label = [L\"\\bar{\\rho}\" L\"\\rho\"], xlabel =L\"\\theta\", ylabel =L\"\\textrm{start~time~(} \\mu s\\textrm{)}\")\n",
    "#plot(thetas, starttimes[:,1], linestyle=:solid, xaxis=:log, label = L\"\\bar{\\rho}\", xlabel =L\"\\theta\", ylabel =L\"\\textrm{time}@\\rho=0.9\\textrm{~(} \\mu s\\textrm{)}\")\n",
    "#plot!(thetas, starttimes[:,2], linestyle=:dash, label = L\"\\rho\")\n",
    "#savefig(\"compare.png\")"
   ]
  },
  {
   "cell_type": "code",
   "execution_count": 20,
   "id": "54927a25-a0fa-42a6-9bef-a1ba4d36933a",
   "metadata": {
    "execution": {
     "iopub.execute_input": "2022-10-13T08:09:57.984000-06:00",
     "iopub.status.busy": "2022-10-13T08:09:57.984000-06:00",
     "iopub.status.idle": "2022-10-13T08:09:58.123000-06:00",
     "shell.execute_reply": "2022-10-13T08:09:58.123000-06:00"
    },
    "tags": []
   },
   "outputs": [
    {
     "data": {
      "image/svg+xml": [
       "<?xml version=\"1.0\" encoding=\"utf-8\"?>\n",
       "<svg xmlns=\"http://www.w3.org/2000/svg\" xmlns:xlink=\"http://www.w3.org/1999/xlink\" width=\"600\" height=\"400\" viewBox=\"0 0 2400 1600\">\n",
       "<defs>\n",
       "  <clipPath id=\"clip400\">\n",
       "    <rect x=\"0\" y=\"0\" width=\"2400\" height=\"1600\"/>\n",
       "  </clipPath>\n",
       "</defs>\n",
       "<path clip-path=\"url(#clip400)\" d=\"\n",
       "M0 1600 L2400 1600 L2400 0 L0 0  Z\n",
       "  \" fill=\"#ffffff\" fill-rule=\"evenodd\" fill-opacity=\"1\"/>\n",
       "<defs>\n",
       "  <clipPath id=\"clip401\">\n",
       "    <rect x=\"480\" y=\"0\" width=\"1681\" height=\"1600\"/>\n",
       "  </clipPath>\n",
       "</defs>\n",
       "<defs>\n",
       "  <clipPath id=\"clip402\">\n",
       "    <rect x=\"277\" y=\"47\" width=\"2076\" height=\"1365\"/>\n",
       "  </clipPath>\n",
       "</defs>\n",
       "<path clip-path=\"url(#clip400)\" d=\"\n",
       "M158.369 1486.45 L2352.76 1486.45 L2352.76 47.2441 L158.369 47.2441  Z\n",
       "  \" fill=\"#ffffff\" fill-rule=\"evenodd\" fill-opacity=\"1\"/>\n",
       "<defs>\n",
       "  <clipPath id=\"clip403\">\n",
       "    <rect x=\"158\" y=\"47\" width=\"2195\" height=\"1440\"/>\n",
       "  </clipPath>\n",
       "</defs>\n",
       "<polyline clip-path=\"url(#clip403)\" style=\"stroke:#000000; stroke-linecap:round; stroke-linejoin:round; stroke-width:2; stroke-opacity:0.1; fill:none\" points=\"\n",
       "  218.291,1486.45 218.291,47.2441 \n",
       "  \"/>\n",
       "<polyline clip-path=\"url(#clip403)\" style=\"stroke:#000000; stroke-linecap:round; stroke-linejoin:round; stroke-width:2; stroke-opacity:0.1; fill:none\" points=\"\n",
       "  873.41,1486.45 873.41,47.2441 \n",
       "  \"/>\n",
       "<polyline clip-path=\"url(#clip403)\" style=\"stroke:#000000; stroke-linecap:round; stroke-linejoin:round; stroke-width:2; stroke-opacity:0.1; fill:none\" points=\"\n",
       "  1528.53,1486.45 1528.53,47.2441 \n",
       "  \"/>\n",
       "<polyline clip-path=\"url(#clip403)\" style=\"stroke:#000000; stroke-linecap:round; stroke-linejoin:round; stroke-width:2; stroke-opacity:0.1; fill:none\" points=\"\n",
       "  2183.65,1486.45 2183.65,47.2441 \n",
       "  \"/>\n",
       "<polyline clip-path=\"url(#clip400)\" style=\"stroke:#000000; stroke-linecap:round; stroke-linejoin:round; stroke-width:4; stroke-opacity:1; fill:none\" points=\"\n",
       "  158.369,1486.45 2352.76,1486.45 \n",
       "  \"/>\n",
       "<polyline clip-path=\"url(#clip400)\" style=\"stroke:#000000; stroke-linecap:round; stroke-linejoin:round; stroke-width:4; stroke-opacity:1; fill:none\" points=\"\n",
       "  218.291,1486.45 218.291,1467.55 \n",
       "  \"/>\n",
       "<polyline clip-path=\"url(#clip400)\" style=\"stroke:#000000; stroke-linecap:round; stroke-linejoin:round; stroke-width:4; stroke-opacity:1; fill:none\" points=\"\n",
       "  873.41,1486.45 873.41,1467.55 \n",
       "  \"/>\n",
       "<polyline clip-path=\"url(#clip400)\" style=\"stroke:#000000; stroke-linecap:round; stroke-linejoin:round; stroke-width:4; stroke-opacity:1; fill:none\" points=\"\n",
       "  1528.53,1486.45 1528.53,1467.55 \n",
       "  \"/>\n",
       "<polyline clip-path=\"url(#clip400)\" style=\"stroke:#000000; stroke-linecap:round; stroke-linejoin:round; stroke-width:4; stroke-opacity:1; fill:none\" points=\"\n",
       "  2183.65,1486.45 2183.65,1467.55 \n",
       "  \"/>\n",
       "<path clip-path=\"url(#clip400)\" d=\"M218.291 1517.37 Q214.68 1517.37 212.851 1520.93 Q211.045 1524.47 211.045 1531.6 Q211.045 1538.71 212.851 1542.27 Q214.68 1545.82 218.291 1545.82 Q221.925 1545.82 223.73 1542.27 Q225.559 1538.71 225.559 1531.6 Q225.559 1524.47 223.73 1520.93 Q221.925 1517.37 218.291 1517.37 M218.291 1513.66 Q224.101 1513.66 227.156 1518.27 Q230.235 1522.85 230.235 1531.6 Q230.235 1540.33 227.156 1544.94 Q224.101 1549.52 218.291 1549.52 Q212.48 1549.52 209.402 1544.94 Q206.346 1540.33 206.346 1531.6 Q206.346 1522.85 209.402 1518.27 Q212.48 1513.66 218.291 1513.66 Z\" fill=\"#000000\" fill-rule=\"evenodd\" fill-opacity=\"1\" /><path clip-path=\"url(#clip400)\" d=\"M848.097 1544.91 L855.736 1544.91 L855.736 1518.55 L847.426 1520.21 L847.426 1515.95 L855.69 1514.29 L860.366 1514.29 L860.366 1544.91 L868.005 1544.91 L868.005 1548.85 L848.097 1548.85 L848.097 1544.91 Z\" fill=\"#000000\" fill-rule=\"evenodd\" fill-opacity=\"1\" /><path clip-path=\"url(#clip400)\" d=\"M887.449 1517.37 Q883.838 1517.37 882.009 1520.93 Q880.204 1524.47 880.204 1531.6 Q880.204 1538.71 882.009 1542.27 Q883.838 1545.82 887.449 1545.82 Q891.083 1545.82 892.889 1542.27 Q894.717 1538.71 894.717 1531.6 Q894.717 1524.47 892.889 1520.93 Q891.083 1517.37 887.449 1517.37 M887.449 1513.66 Q893.259 1513.66 896.315 1518.27 Q899.393 1522.85 899.393 1531.6 Q899.393 1540.33 896.315 1544.94 Q893.259 1549.52 887.449 1549.52 Q881.639 1549.52 878.56 1544.94 Q875.505 1540.33 875.505 1531.6 Q875.505 1522.85 878.56 1518.27 Q881.639 1513.66 887.449 1513.66 Z\" fill=\"#000000\" fill-rule=\"evenodd\" fill-opacity=\"1\" /><path clip-path=\"url(#clip400)\" d=\"M1507.3 1544.91 L1523.62 1544.91 L1523.62 1548.85 L1501.68 1548.85 L1501.68 1544.91 Q1504.34 1542.16 1508.92 1537.53 Q1513.53 1532.88 1514.71 1531.53 Q1516.95 1529.01 1517.83 1527.27 Q1518.74 1525.51 1518.74 1523.82 Q1518.74 1521.07 1516.79 1519.33 Q1514.87 1517.6 1511.77 1517.6 Q1509.57 1517.6 1507.12 1518.36 Q1504.69 1519.13 1501.91 1520.68 L1501.91 1515.95 Q1504.73 1514.82 1507.19 1514.24 Q1509.64 1513.66 1511.68 1513.66 Q1517.05 1513.66 1520.24 1516.35 Q1523.44 1519.03 1523.44 1523.52 Q1523.44 1525.65 1522.63 1527.57 Q1521.84 1529.47 1519.73 1532.07 Q1519.15 1532.74 1516.05 1535.95 Q1512.95 1539.15 1507.3 1544.91 Z\" fill=\"#000000\" fill-rule=\"evenodd\" fill-opacity=\"1\" /><path clip-path=\"url(#clip400)\" d=\"M1543.44 1517.37 Q1539.82 1517.37 1538 1520.93 Q1536.19 1524.47 1536.19 1531.6 Q1536.19 1538.71 1538 1542.27 Q1539.82 1545.82 1543.44 1545.82 Q1547.07 1545.82 1548.88 1542.27 Q1550.7 1538.71 1550.7 1531.6 Q1550.7 1524.47 1548.88 1520.93 Q1547.07 1517.37 1543.44 1517.37 M1543.44 1513.66 Q1549.25 1513.66 1552.3 1518.27 Q1555.38 1522.85 1555.38 1531.6 Q1555.38 1540.33 1552.3 1544.94 Q1549.25 1549.52 1543.44 1549.52 Q1537.63 1549.52 1534.55 1544.94 Q1531.49 1540.33 1531.49 1531.6 Q1531.49 1522.85 1534.55 1518.27 Q1537.63 1513.66 1543.44 1513.66 Z\" fill=\"#000000\" fill-rule=\"evenodd\" fill-opacity=\"1\" /><path clip-path=\"url(#clip400)\" d=\"M2172.49 1530.21 Q2175.85 1530.93 2177.72 1533.2 Q2179.62 1535.47 2179.62 1538.8 Q2179.62 1543.92 2176.1 1546.72 Q2172.58 1549.52 2166.1 1549.52 Q2163.93 1549.52 2161.61 1549.08 Q2159.32 1548.66 2156.87 1547.81 L2156.87 1543.29 Q2158.81 1544.43 2161.12 1545.01 Q2163.44 1545.58 2165.96 1545.58 Q2170.36 1545.58 2172.65 1543.85 Q2174.97 1542.11 2174.97 1538.8 Q2174.97 1535.75 2172.81 1534.03 Q2170.68 1532.3 2166.87 1532.3 L2162.84 1532.3 L2162.84 1528.45 L2167.05 1528.45 Q2170.5 1528.45 2172.33 1527.09 Q2174.16 1525.7 2174.16 1523.11 Q2174.16 1520.45 2172.26 1519.03 Q2170.38 1517.6 2166.87 1517.6 Q2164.94 1517.6 2162.75 1518.01 Q2160.55 1518.43 2157.91 1519.31 L2157.91 1515.14 Q2160.57 1514.4 2162.88 1514.03 Q2165.22 1513.66 2167.28 1513.66 Q2172.61 1513.66 2175.71 1516.09 Q2178.81 1518.5 2178.81 1522.62 Q2178.81 1525.49 2177.17 1527.48 Q2175.52 1529.45 2172.49 1530.21 Z\" fill=\"#000000\" fill-rule=\"evenodd\" fill-opacity=\"1\" /><path clip-path=\"url(#clip400)\" d=\"M2198.49 1517.37 Q2194.87 1517.37 2193.05 1520.93 Q2191.24 1524.47 2191.24 1531.6 Q2191.24 1538.71 2193.05 1542.27 Q2194.87 1545.82 2198.49 1545.82 Q2202.12 1545.82 2203.93 1542.27 Q2205.75 1538.71 2205.75 1531.6 Q2205.75 1524.47 2203.93 1520.93 Q2202.12 1517.37 2198.49 1517.37 M2198.49 1513.66 Q2204.3 1513.66 2207.35 1518.27 Q2210.43 1522.85 2210.43 1531.6 Q2210.43 1540.33 2207.35 1544.94 Q2204.3 1549.52 2198.49 1549.52 Q2192.68 1549.52 2189.6 1544.94 Q2186.54 1540.33 2186.54 1531.6 Q2186.54 1522.85 2189.6 1518.27 Q2192.68 1513.66 2198.49 1513.66 Z\" fill=\"#000000\" fill-rule=\"evenodd\" fill-opacity=\"1\" /><polyline clip-path=\"url(#clip403)\" style=\"stroke:#000000; stroke-linecap:round; stroke-linejoin:round; stroke-width:2; stroke-opacity:0.1; fill:none\" points=\"\n",
       "  158.369,961.504 2352.76,961.504 \n",
       "  \"/>\n",
       "<polyline clip-path=\"url(#clip403)\" style=\"stroke:#000000; stroke-linecap:round; stroke-linejoin:round; stroke-width:2; stroke-opacity:0.1; fill:none\" points=\"\n",
       "  158.369,272.021 2352.76,272.021 \n",
       "  \"/>\n",
       "<polyline clip-path=\"url(#clip400)\" style=\"stroke:#000000; stroke-linecap:round; stroke-linejoin:round; stroke-width:4; stroke-opacity:1; fill:none\" points=\"\n",
       "  158.369,1486.45 158.369,47.2441 \n",
       "  \"/>\n",
       "<polyline clip-path=\"url(#clip400)\" style=\"stroke:#000000; stroke-linecap:round; stroke-linejoin:round; stroke-width:4; stroke-opacity:1; fill:none\" points=\"\n",
       "  158.369,961.504 177.267,961.504 \n",
       "  \"/>\n",
       "<polyline clip-path=\"url(#clip400)\" style=\"stroke:#000000; stroke-linecap:round; stroke-linejoin:round; stroke-width:4; stroke-opacity:1; fill:none\" points=\"\n",
       "  158.369,272.021 177.267,272.021 \n",
       "  \"/>\n",
       "<path clip-path=\"url(#clip400)\" d=\"M51.6634 981.297 L59.3023 981.297 L59.3023 954.931 L50.9921 956.598 L50.9921 952.339 L59.256 950.672 L63.9319 950.672 L63.9319 981.297 L71.5707 981.297 L71.5707 985.232 L51.6634 985.232 L51.6634 981.297 Z\" fill=\"#000000\" fill-rule=\"evenodd\" fill-opacity=\"1\" /><path clip-path=\"url(#clip400)\" d=\"M91.0151 953.751 Q87.404 953.751 85.5753 957.315 Q83.7697 960.857 83.7697 967.987 Q83.7697 975.093 85.5753 978.658 Q87.404 982.199 91.0151 982.199 Q94.6493 982.199 96.4548 978.658 Q98.2835 975.093 98.2835 967.987 Q98.2835 960.857 96.4548 957.315 Q94.6493 953.751 91.0151 953.751 M91.0151 950.047 Q96.8252 950.047 99.8808 954.653 Q102.959 959.237 102.959 967.987 Q102.959 976.713 99.8808 981.32 Q96.8252 985.903 91.0151 985.903 Q85.2049 985.903 82.1262 981.32 Q79.0707 976.713 79.0707 967.987 Q79.0707 959.237 82.1262 954.653 Q85.2049 950.047 91.0151 950.047 Z\" fill=\"#000000\" fill-rule=\"evenodd\" fill-opacity=\"1\" /><path clip-path=\"url(#clip400)\" d=\"M112.664 932.243 Q109.73 932.243 108.244 935.139 Q106.777 938.017 106.777 943.81 Q106.777 949.584 108.244 952.48 Q109.73 955.358 112.664 955.358 Q115.617 955.358 117.084 952.48 Q118.57 949.584 118.57 943.81 Q118.57 938.017 117.084 935.139 Q115.617 932.243 112.664 932.243 M112.664 929.234 Q117.385 929.234 119.868 932.976 Q122.369 936.7 122.369 943.81 Q122.369 950.9 119.868 954.643 Q117.385 958.367 112.664 958.367 Q107.943 958.367 105.442 954.643 Q102.959 950.9 102.959 943.81 Q102.959 936.7 105.442 932.976 Q107.943 929.234 112.664 929.234 Z\" fill=\"#000000\" fill-rule=\"evenodd\" fill-opacity=\"1\" /><path clip-path=\"url(#clip400)\" d=\"M52.9047 291.814 L60.5436 291.814 L60.5436 265.448 L52.2334 267.115 L52.2334 262.855 L60.4973 261.189 L65.1732 261.189 L65.1732 291.814 L72.812 291.814 L72.812 295.749 L52.9047 295.749 L52.9047 291.814 Z\" fill=\"#000000\" fill-rule=\"evenodd\" fill-opacity=\"1\" /><path clip-path=\"url(#clip400)\" d=\"M92.2564 264.267 Q88.6453 264.267 86.8166 267.832 Q85.011 271.374 85.011 278.503 Q85.011 285.61 86.8166 289.175 Q88.6453 292.716 92.2564 292.716 Q95.8906 292.716 97.6962 289.175 Q99.5249 285.61 99.5249 278.503 Q99.5249 271.374 97.6962 267.832 Q95.8906 264.267 92.2564 264.267 M92.2564 260.564 Q98.0665 260.564 101.122 265.17 Q104.201 269.753 104.201 278.503 Q104.201 287.23 101.122 291.837 Q98.0665 296.42 92.2564 296.42 Q86.4462 296.42 83.3675 291.837 Q80.312 287.23 80.312 278.503 Q80.312 269.753 83.3675 265.17 Q86.4462 260.564 92.2564 260.564 Z\" fill=\"#000000\" fill-rule=\"evenodd\" fill-opacity=\"1\" /><path clip-path=\"url(#clip400)\" d=\"M105.386 240.258 L120.3 240.258 L120.3 243.456 L108.865 243.456 L108.865 250.339 Q109.693 250.057 110.52 249.925 Q111.348 249.775 112.175 249.775 Q116.877 249.775 119.623 252.352 Q122.369 254.928 122.369 259.329 Q122.369 263.862 119.548 266.382 Q116.727 268.884 111.592 268.884 Q109.824 268.884 107.981 268.583 Q106.157 268.282 104.201 267.68 L104.201 263.862 Q105.893 264.784 107.699 265.235 Q109.505 265.686 111.517 265.686 Q114.771 265.686 116.67 263.975 Q118.57 262.263 118.57 259.329 Q118.57 256.395 116.67 254.684 Q114.771 252.972 111.517 252.972 Q109.994 252.972 108.47 253.311 Q106.965 253.649 105.386 254.364 L105.386 240.258 Z\" fill=\"#000000\" fill-rule=\"evenodd\" fill-opacity=\"1\" /><polyline clip-path=\"url(#clip403)\" style=\"stroke:#009af9; stroke-linecap:round; stroke-linejoin:round; stroke-width:4; stroke-opacity:1; fill:none\" points=\"\n",
       "  220.474,1428.49 222.658,1388.37 224.842,1365.43 227.026,1349.55 229.209,1337.53 231.393,1327.93 233.577,1320.03 235.76,1313.33 237.944,1307.59 240.128,1302.57 \n",
       "  242.312,1298.15 244.495,1294.21 246.679,1290.7 248.863,1287.52 251.047,1284.64 253.23,1282.02 255.414,1279.62 257.598,1277.43 259.781,1275.41 261.965,1273.55 \n",
       "  264.149,1271.83 266.333,1270.24 268.516,1268.76 270.7,1267.39 272.884,1266.11 275.068,1264.93 277.251,1263.82 279.435,1262.79 281.619,1261.82 283.803,1260.92 \n",
       "  285.986,1260.07 288.17,1259.28 290.354,1258.54 292.537,1257.85 294.721,1257.2 296.905,1256.58 299.089,1256.02 301.272,1255.47 303.456,1254.98 305.64,1254.5 \n",
       "  307.824,1254.06 310.007,1253.64 312.191,1253.25 314.375,1252.88 316.558,1252.54 318.742,1252.21 320.926,1251.91 323.11,1251.63 325.293,1251.36 327.477,1251.11 \n",
       "  329.661,1250.87 331.845,1250.66 334.028,1250.45 336.212,1250.26 338.396,1250.08 340.58,1249.91 342.763,1249.75 344.947,1249.61 347.131,1249.47 349.314,1249.34 \n",
       "  351.498,1249.23 353.682,1249.11 355.866,1249.02 358.049,1248.91 360.233,1248.83 362.417,1248.74 364.601,1248.68 366.784,1248.59 368.968,1248.54 371.152,1248.47 \n",
       "  373.335,1248.42 375.519,1248.37 377.703,1248.32 379.887,1248.28 382.07,1248.24 384.254,1248.21 386.438,1248.16 388.622,1248.15 390.805,1248.11 392.989,1248.1 \n",
       "  395.173,1248.06 397.356,1248.06 399.54,1248.03 401.724,1248.03 403.908,1248 406.091,1248 408.275,1247.99 410.459,1247.98 412.643,1247.98 414.826,1247.96 \n",
       "  417.01,1247.98 419.194,1247.95 421.378,1247.98 423.561,1247.94 425.745,1247.98 427.929,1247.94 430.112,1247.98 432.296,1247.95 434.48,1247.98 436.664,1247.96 \n",
       "  438.847,1247.98 441.031,1247.98 443.215,1247.97 445.399,1248 447.582,1247.97 449.766,1248.02 451.95,1247.98 454.133,1248.03 456.317,1247.98 458.501,1248.05 \n",
       "  460.685,1248 462.868,1248.05 465.052,1248.02 467.236,1248.06 469.42,1248.04 471.603,1248.05 473.787,1248.07 475.971,1248.05 478.155,1248.1 480.338,1248.05 \n",
       "  482.522,1248.13 484.706,1248.05 486.889,1248.14 489.073,1248.06 491.257,1248.15 493.441,1248.08 495.624,1248.15 497.808,1248.11 499.992,1248.14 502.176,1248.14 \n",
       "  504.359,1248.13 506.543,1248.17 508.727,1248.11 510.91,1248.21 513.094,1248.1 515.278,1248.23 517.462,1248.1 519.645,1248.25 521.829,1248.11 524.013,1248.24 \n",
       "  526.197,1248.14 528.38,1248.23 530.564,1248.17 532.748,1248.2 534.932,1248.22 537.115,1248.17 539.299,1248.27 541.483,1248.13 543.666,1248.31 545.85,1248.11 \n",
       "  548.034,1248.33 550.218,1248.11 552.401,1248.33 554.585,1248.13 556.769,1248.31 558.953,1248.17 561.136,1248.27 563.32,1248.23 565.504,1248.22 567.687,1248.29 \n",
       "  569.871,1248.16 572.055,1248.36 574.239,1248.11 576.422,1248.41 578.606,1248.08 580.79,1248.43 582.974,1248.08 585.157,1248.42 587.341,1248.12 589.525,1248.36 \n",
       "  591.708,1248.19 593.892,1248.28 596.076,1248.28 598.26,1248.19 600.443,1248.39 602.627,1248.09 604.811,1248.48 606.995,1248.02 609.178,1248.54 611.362,1247.99 \n",
       "  613.546,1248.55 615.73,1248.01 617.913,1248.5 620.097,1248.09 622.281,1248.39 624.464,1248.21 626.648,1248.25 628.832,1248.37 631.016,1248.09 633.199,1248.53 \n",
       "  635.383,1247.95 637.567,1248.65 639.751,1247.85 641.934,1248.72 644.118,1247.83 646.302,1248.7 648.485,1247.9 650.669,1248.58 652.853,1248.05 655.037,1248.39 \n",
       "  657.22,1248.28 659.404,1248.14 661.588,1248.53 663.772,1247.9 665.955,1248.77 668.139,1247.7 670.323,1248.93 672.507,1247.59 674.69,1248.98 676.874,1247.61 \n",
       "  679.058,1248.89 681.241,1247.77 683.425,1248.65 685.609,1248.05 687.793,1248.31 689.976,1248.43 692.16,1247.91 694.344,1248.83 696.528,1247.54 698.711,1249.18 \n",
       "  700.895,1247.27 703.079,1249.37 705.262,1247.18 707.446,1249.37 709.63,1247.29 711.814,1249.12 713.997,1247.62 716.181,1248.67 718.365,1248.14 720.549,1248.08 \n",
       "  722.732,1248.77 724.916,1247.46 727.1,1249.39 729.283,1246.93 731.467,1249.86 733.651,1246.6 735.835,1250.06 738.018,1246.58 740.202,1249.9 742.386,1246.89 \n",
       "  744.57,1249.36 746.753,1247.53 748.937,1248.53 751.121,1248.42 753.305,1247.56 755.488,1249.44 757.672,1246.62 759.856,1250.37 762.039,1245.91 764.223,1250.98 \n",
       "  766.407,1245.58 768.591,1251.08 770.774,1245.73 772.958,1250.57 775.142,1246.41 777.326,1249.5 779.509,1247.58 781.693,1248.05 783.877,1249.09 786.06,1246.52 \n",
       "  788.244,1250.71 790.428,1245.18 792.612,1252.07 794.795,1244.3 796.979,1252.78 799.163,1244.06 801.347,1252.55 803.53,1244.59 805.714,1251.31 807.898,1245.92 \n",
       "  810.082,1249.28 812.265,1247.97 814.449,1246.88 816.633,1250.5 818.816,1244.59 821,1253.06 823.184,1242.8 825.368,1254.99 827.551,1241.83 829.735,1255.61 \n",
       "  831.919,1241.9 834.103,1254.48 836.286,1243.13 838.47,1251.79 840.654,1245.55 842.837,1248.18 845.021,1249.06 847.205,1244.45 849.389,1253.26 851.572,1241.26 \n",
       "  853.756,1257.35 855.94,1239.08 858.124,1259.99 860.307,1238.23 862.491,1259.83 864.675,1238.91 866.858,1256.55 869.042,1241.29 871.226,1251.19 873.41,1245.48 \n",
       "  875.593,1245.28 877.777,1251.42 879.961,1239.96 882.145,1258.6 884.328,1235.94 886.512,1265.39 888.696,1233.59 890.88,1268.57 893.063,1233.15 895.247,1265.45 \n",
       "  897.431,1234.85 899.614,1257.36 901.798,1238.97 903.982,1247.85 906.166,1245.88 908.349,1239.27 910.533,1255.96 912.717,1232.57 914.901,1269.04 917.084,1228.07 \n",
       "  919.268,1281.59 921.452,1225.9 923.635,1282.87 925.819,1226.21 928.003,1269.72 930.187,1229.28 932.37,1253.31 934.554,1235.66 936.738,1239.45 938.922,1246.35 \n",
       "  941.105,1228.99 943.289,1263.38 945.473,1221.69 947.657,1290.69 949.84,1217.27 952.024,1322.65 954.208,1215.64 956.391,1296.44 958.575,1216.88 960.759,1262.55 \n",
       "  962.943,1221.36 965.126,1240.06 967.31,1229.91 969.494,1224.73 971.678,1244.32 973.861,1214.18 976.045,1269.11 978.229,1207.26 980.412,1321.21 982.596,1203.42 \n",
       "  984.78,1334.99 986.964,1202.46 989.147,1269.38 991.331,1204.45 993.515,1237.88 995.699,1209.7 997.882,1218.15 1000.07,1218.87 1002.25,1204.73 1004.43,1232.96 \n",
       "  1006.62,1195.54 1008.8,1251.96 1010.98,1189.64 1013.17,1264.55 1015.35,1186.56 1017.54,1249.35 1019.72,1186.09 1021.9,1225.52 1024.09,1188.21 1026.27,1206.29 \n",
       "  1028.45,1192.91 1030.64,1191.97 1032.82,1200.03 1035.01,1181.5 1037.19,1208.41 1039.37,1174.11 1041.56,1214.29 1043.74,1169.32 1045.92,1211.79 1048.11,1166.83 \n",
       "  1050.29,1200.84 1052.48,1166.43 1054.66,1187.25 1056.84,1167.9 1059.03,1174.79 1061.21,1170.85 1063.39,1164.53 1065.58,1174.42 1067.76,1156.55 1069.95,1176.95 \n",
       "  1072.13,1150.7 1074.31,1176.2 1076.5,1146.76 1078.68,1171.05 1080.86,1144.52 1083.05,1162.71 1085.23,1143.75 1087.42,1153.34 1089.6,1144.07 1091.78,1144.47 \n",
       "  1093.97,1144.9 1096.15,1136.81 1098.33,1145.36 1100.52,1130.58 1102.7,1144.39 1104.89,1125.8 1107.07,1141.2 1109.25,1122.35 1111.44,1135.82 1113.62,1120.06 \n",
       "  1115.8,1129.05 1117.99,1118.65 1120.17,1121.88 1122.35,1117.74 1124.54,1115.05 1126.72,1116.8 1128.91,1109 1131.09,1115.24 1133.27,1103.89 1135.46,1112.54 \n",
       "  1137.64,1099.75 1139.82,1108.52 1142.01,1096.49 1144.19,1103.39 1146.38,1093.95 1148.56,1097.63 1150.74,1091.88 1152.93,1091.75 1155.11,1089.94 1157.29,1086.14 \n",
       "  1159.48,1087.78 1161.66,1081.06 1163.85,1085.05 1166.03,1076.62 1168.21,1081.57 1170.4,1072.81 1172.58,1077.33 1174.76,1069.55 1176.95,1072.51 1179.13,1066.71 \n",
       "  1181.32,1067.42 1183.5,1064.06 1185.68,1062.33 1187.87,1061.39 1190.05,1057.46 1192.23,1058.46 1194.42,1052.96 1196.6,1055.12 1198.79,1048.88 1200.97,1051.3 \n",
       "  1203.15,1045.21 1205.34,1047.05 1207.52,1041.86 1209.7,1042.52 1211.89,1038.73 1214.07,1037.87 1216.26,1035.66 1218.44,1033.27 1220.62,1032.5 1222.81,1028.85 \n",
       "  1224.99,1029.13 1227.17,1024.68 1229.36,1025.47 1231.54,1020.79 1233.73,1021.53 1235.91,1017.14 1238.09,1017.35 1240.28,1013.68 1242.46,1013.03 1244.64,1010.31 \n",
       "  1246.83,1008.67 1249.01,1006.94 1251.2,1004.38 1253.38,1003.48 1255.56,1000.23 1257.75,999.862 1259.93,996.24 1262.11,996.061 1264.3,992.426 1266.48,992.088 \n",
       "  1268.66,988.758 1270.85,987.988 1273.03,985.185 1275.22,983.824 1277.4,981.647 1279.58,979.663 1281.77,978.083 1283.95,975.561 1286.13,974.441 1288.32,971.556 \n",
       "  1290.5,970.691 1292.69,967.662 1294.87,966.826 1297.05,963.873 1299.24,962.863 1301.42,960.166 1303.6,958.834 1305.79,956.505 1307.97,954.781 1310.16,952.85 \n",
       "  1312.34,950.744 1314.52,949.164 1316.71,946.755 1318.89,945.419 1321.07,942.832 1323.26,941.602 1325.44,938.981 1327.63,937.715 1329.81,935.192 1331.99,933.774 \n",
       "  1334.18,931.446 1336.36,929.801 1338.54,927.72 1340.73,925.823 1342.91,923.987 1345.1,921.864 1347.28,920.226 1349.46,917.94 1351.65,916.425 1353.83,914.061 \n",
       "  1356.01,912.577 1358.2,910.226 1360.38,908.688 1362.57,906.426 1364.75,904.77 1366.93,902.648 1369.12,900.838 1371.3,898.876 1373.48,896.909 1375.67,895.094 \n",
       "  1377.85,892.996 1380.04,891.29 1382.22,889.11 1384.4,887.458 1386.59,885.252 1388.77,883.598 1390.95,881.42 1393.14,879.714 1395.32,877.608 1397.5,875.816 \n",
       "  1399.69,873.805 1401.87,871.912 1404.06,870.002 1406.24,868.015 1408.42,866.19 1410.61,864.13 1412.79,862.361 1414.97,860.263 1417.16,858.515 1419.34,856.414 \n",
       "  1421.53,854.651 1423.71,852.581 1425.89,850.774 1428.08,848.757 1430.26,846.891 1432.44,844.937 1434.63,843.007 1436.81,841.114 1439,839.129 1441.18,837.283 \n",
       "  1443.36,835.261 1445.55,833.442 1447.73,831.403 1449.91,829.589 1452.1,827.557 1454.28,825.725 1456.47,823.72 1458.65,821.856 1460.83,819.887 1463.02,817.983 \n",
       "  1465.2,816.055 1467.38,814.112 1469.57,812.22 1471.75,810.245 1473.94,808.378 1476.12,806.386 1478.3,804.53 1480.49,802.533 1482.67,800.675 1484.85,798.687 \n",
       "  1487.04,796.813 1489.22,794.846 1491.41,792.949 1493.59,791.006 1495.77,789.084 1497.96,787.166 1500.14,785.221 1502.32,783.323 1504.51,781.361 1506.69,779.476 \n",
       "  1508.88,777.506 1511.06,775.625 1513.24,773.655 1515.43,771.769 1517.61,769.808 1519.79,767.91 1521.98,765.963 1524.16,764.05 1526.35,762.119 1528.53,760.19 \n",
       "  1530.71,758.274 1532.9,756.331 1535.08,754.427 1537.26,752.475 1539.45,750.577 1541.63,748.622 1543.81,746.724 1546,744.772 1548.18,742.869 1550.37,740.924 \n",
       "  1552.55,739.012 1554.73,737.077 1556.92,735.154 1559.1,733.229 1561.28,731.297 1563.47,729.381 1565.65,727.442 1567.84,725.532 1570.02,723.588 1572.2,721.68 \n",
       "  1574.39,719.736 1576.57,717.827 1578.75,715.886 1580.94,713.972 1583.12,712.036 1585.31,710.117 1587.49,708.187 1589.67,706.261 1591.86,704.338 1594.04,702.406 \n",
       "  1596.22,700.488 1598.41,698.552 1600.59,696.637 1602.78,694.699 1604.96,692.785 1607.14,690.848 1609.33,688.931 1611.51,686.997 1613.69,685.077 1615.88,683.147 \n",
       "  1618.06,681.223 1620.25,679.297 1622.43,677.369 1624.61,675.446 1626.8,673.515 1628.98,671.595 1631.16,669.662 1633.35,667.743 1635.53,665.81 1637.72,663.891 \n",
       "  1639.9,661.958 1642.08,660.037 1644.27,658.107 1646.45,656.184 1648.63,654.256 1650.82,652.33 1653,650.405 1655.19,648.477 1657.37,646.554 1659.55,644.624 \n",
       "  1661.74,642.702 1663.92,640.771 1666.1,638.85 1668.29,636.919 1670.47,634.997 1672.65,633.068 1674.84,631.144 1677.02,629.216 1679.21,627.291 1681.39,625.365 \n",
       "  1683.57,623.438 1685.76,621.513 1687.94,619.585 1690.12,617.661 1692.31,615.733 1694.49,613.809 1696.68,611.88 1698.86,609.957 1701.04,608.028 1703.23,606.105 \n",
       "  1705.41,604.177 1707.59,602.252 1709.78,600.325 1711.96,598.399 1714.15,596.473 1716.33,594.546 1718.51,592.621 1720.7,590.694 1722.88,588.769 1725.06,586.841 \n",
       "  1727.25,584.917 1729.43,582.989 1731.62,581.065 1733.8,579.137 1735.98,577.212 1738.17,575.285 1740.35,573.36 1742.53,571.433 1744.72,569.507 1746.9,567.581 \n",
       "  1749.09,565.655 1751.27,563.729 1753.45,561.802 1755.64,559.877 1757.82,557.95 1760,556.025 1762.19,554.098 1764.37,552.173 1766.56,550.246 1768.74,548.32 \n",
       "  1770.92,546.394 1773.11,544.468 1775.29,542.541 1777.47,540.615 1779.66,538.689 1781.84,536.763 1784.03,534.837 1786.21,532.91 1788.39,530.985 1790.58,529.058 \n",
       "  1792.76,527.133 1794.94,525.206 1797.13,523.28 1799.31,521.354 1801.5,519.428 1803.68,517.502 1805.86,515.576 1808.05,513.65 1810.23,511.723 1812.41,509.798 \n",
       "  1814.6,507.871 1816.78,505.945 1818.96,504.019 1821.15,502.093 1823.33,500.167 1825.52,498.241 1827.7,496.314 1829.88,494.389 1832.07,492.462 1834.25,490.536 \n",
       "  1836.43,488.61 1838.62,486.684 1840.8,484.758 1842.99,482.832 1845.17,480.906 1847.35,478.979 1849.54,477.053 1851.72,475.127 1853.9,473.201 1856.09,471.275 \n",
       "  1858.27,469.349 1860.46,467.423 1862.64,465.497 1864.82,463.57 1867.01,461.644 1869.19,459.718 1871.37,457.792 1873.56,455.866 1875.74,453.94 1877.93,452.014 \n",
       "  1880.11,450.087 1882.29,448.162 1884.48,446.235 1886.66,444.309 1888.84,442.383 1891.03,440.457 1893.21,438.531 1895.4,436.605 1897.58,434.679 1899.76,432.752 \n",
       "  1901.95,430.826 1904.13,428.9 1906.31,426.974 1908.5,425.048 1910.68,423.122 1912.87,421.196 1915.05,419.27 1917.23,417.343 1919.42,415.417 1921.6,413.491 \n",
       "  1923.78,411.565 1925.97,409.639 1928.15,407.713 1930.34,405.787 1932.52,403.861 1934.7,401.934 1936.89,400.008 1939.07,398.082 1941.25,396.156 1943.44,394.23 \n",
       "  1945.62,392.304 1947.8,390.378 1949.99,388.452 1952.17,386.526 1954.36,384.599 1956.54,382.673 1958.72,380.747 1960.91,378.821 1963.09,376.895 1965.27,374.969 \n",
       "  1967.46,373.043 1969.64,371.116 1971.83,369.19 1974.01,367.264 1976.19,365.338 1978.38,363.412 1980.56,361.486 1982.74,359.56 1984.93,357.634 1987.11,355.708 \n",
       "  1989.3,353.781 1991.48,351.855 1993.66,349.929 1995.85,348.003 1998.03,346.077 2000.21,344.151 2002.4,342.225 2004.58,340.299 2006.77,338.372 2008.95,336.446 \n",
       "  2011.13,334.52 2013.32,332.594 2015.5,330.668 2017.68,328.742 2019.87,326.816 2022.05,324.89 2024.24,322.963 2026.42,321.037 2028.6,319.111 2030.79,317.185 \n",
       "  2032.97,315.259 2035.15,313.333 2037.34,311.407 2039.52,309.481 2041.71,307.554 2043.89,305.628 2046.07,303.702 2048.26,301.776 2050.44,299.85 2052.62,297.924 \n",
       "  2054.81,295.998 2056.99,294.072 2059.18,292.145 2061.36,290.219 2063.54,288.293 2065.73,286.367 2067.91,284.441 2070.09,282.515 2072.28,280.589 2074.46,278.663 \n",
       "  2076.65,276.736 2078.83,274.81 2081.01,272.884 2083.2,270.958 2085.38,269.032 2087.56,267.106 2089.75,265.18 2091.93,263.254 2094.11,261.327 2096.3,259.401 \n",
       "  2098.48,257.475 2100.67,255.549 2102.85,253.623 2105.03,251.697 2107.22,249.771 2109.4,247.845 2111.58,245.918 2113.77,243.992 2115.95,242.066 2118.14,240.14 \n",
       "  2120.32,238.214 2122.5,236.288 2124.69,234.362 2126.87,232.436 2129.05,230.51 2131.24,228.583 2133.42,226.657 2135.61,224.731 2137.79,222.805 2139.97,220.879 \n",
       "  2142.16,218.953 2144.34,217.027 2146.52,215.101 2148.71,213.174 2150.89,211.248 2153.08,209.322 2155.26,207.396 2157.44,205.47 2159.63,203.544 2161.81,201.618 \n",
       "  2163.99,199.692 2166.18,197.765 2168.36,195.839 2170.55,193.913 2172.73,191.987 2174.91,190.061 2177.1,188.135 2179.28,186.209 2181.46,184.283 2183.65,182.356 \n",
       "  2185.83,180.43 2188.02,178.504 2190.2,176.578 2192.38,174.652 2194.57,172.726 2196.75,170.8 2198.93,168.874 2201.12,166.947 2203.3,165.021 2205.49,163.095 \n",
       "  2207.67,161.169 2209.85,159.243 2212.04,157.317 2214.22,155.391 2216.4,153.465 2218.59,151.538 2220.77,149.612 2222.95,147.686 2225.14,145.76 2227.32,143.834 \n",
       "  2229.51,141.908 2231.69,139.982 2233.87,138.056 2236.06,136.129 2238.24,134.203 2240.42,132.277 2242.61,130.351 2244.79,128.425 2246.98,126.499 2249.16,124.573 \n",
       "  2251.34,122.647 2253.53,120.72 2255.71,118.794 2257.89,116.868 2260.08,114.942 2262.26,113.016 2264.45,111.09 2266.63,109.164 2268.81,107.238 2271,105.312 \n",
       "  2273.18,103.385 2275.36,101.459 2277.55,99.5331 2279.73,97.607 2281.92,95.6809 2284.1,93.7548 2286.28,91.8286 2288.47,89.9025 2290.65,87.9764 \n",
       "  \"/>\n",
       "<polyline clip-path=\"url(#clip403)\" style=\"stroke:#e26f46; stroke-linecap:round; stroke-linejoin:round; stroke-width:4; stroke-opacity:1; fill:none\" points=\"\n",
       "  220.474,1445.72 222.658,1405.59 224.842,1382.66 227.026,1366.78 229.209,1354.75 231.393,1345.16 233.577,1337.25 235.76,1330.56 237.944,1324.82 240.128,1319.8 \n",
       "  242.312,1315.38 244.495,1311.44 246.679,1307.93 248.863,1304.74 251.047,1301.87 253.23,1299.25 255.414,1296.85 257.598,1294.66 259.781,1292.64 261.965,1290.78 \n",
       "  264.149,1289.06 266.333,1287.47 268.516,1285.99 270.7,1284.62 272.884,1283.34 275.068,1282.16 277.251,1281.05 279.435,1280.02 281.619,1279.05 283.803,1278.15 \n",
       "  285.986,1277.3 288.17,1276.51 290.354,1275.77 292.537,1275.07 294.721,1274.43 296.905,1273.81 299.089,1273.25 301.272,1272.7 303.456,1272.21 305.64,1271.72 \n",
       "  307.824,1271.29 310.007,1270.87 312.191,1270.48 314.375,1270.11 316.558,1269.77 318.742,1269.44 320.926,1269.14 323.11,1268.86 325.293,1268.58 327.477,1268.34 \n",
       "  329.661,1268.1 331.845,1267.89 334.028,1267.67 336.212,1267.49 338.396,1267.3 340.58,1267.14 342.763,1266.98 344.947,1266.84 347.131,1266.7 349.314,1266.57 \n",
       "  351.498,1266.46 353.682,1266.34 355.866,1266.25 358.049,1266.14 360.233,1266.06 362.417,1265.96 364.601,1265.91 366.784,1265.82 368.968,1265.77 371.152,1265.69 \n",
       "  373.335,1265.65 375.519,1265.59 377.703,1265.55 379.887,1265.51 382.07,1265.46 384.254,1265.44 386.438,1265.39 388.622,1265.38 390.805,1265.33 392.989,1265.34 \n",
       "  395.173,1265.29 397.356,1265.3 399.54,1265.25 401.724,1265.26 403.908,1265.23 406.091,1265.23 408.275,1265.22 410.459,1265.21 412.643,1265.21 414.826,1265.19 \n",
       "  417.01,1265.21 419.194,1265.17 421.378,1265.21 423.561,1265.17 425.745,1265.21 427.929,1265.17 430.112,1265.21 432.296,1265.17 434.48,1265.21 436.664,1265.19 \n",
       "  438.847,1265.2 441.031,1265.21 443.215,1265.2 445.399,1265.23 447.582,1265.2 449.766,1265.25 451.95,1265.2 454.133,1265.27 456.317,1265.2 458.501,1265.28 \n",
       "  460.685,1265.22 462.868,1265.29 465.052,1265.24 467.236,1265.29 469.42,1265.27 471.603,1265.28 473.787,1265.3 475.971,1265.27 478.155,1265.34 480.338,1265.26 \n",
       "  482.522,1265.37 484.706,1265.26 486.889,1265.39 489.073,1265.27 491.257,1265.4 493.441,1265.29 495.624,1265.39 497.808,1265.33 499.992,1265.38 502.176,1265.37 \n",
       "  504.359,1265.35 506.543,1265.41 508.727,1265.33 510.91,1265.45 513.094,1265.31 515.278,1265.48 517.462,1265.31 519.645,1265.5 521.829,1265.32 524.013,1265.49 \n",
       "  526.197,1265.35 528.38,1265.47 530.564,1265.4 532.748,1265.43 534.932,1265.45 537.115,1265.38 539.299,1265.51 541.483,1265.34 543.666,1265.57 545.85,1265.31 \n",
       "  548.034,1265.6 550.218,1265.3 552.401,1265.6 554.585,1265.32 556.769,1265.57 558.953,1265.38 561.136,1265.51 563.32,1265.45 565.504,1265.44 567.687,1265.54 \n",
       "  569.871,1265.36 572.055,1265.63 574.239,1265.29 576.422,1265.69 578.606,1265.25 580.79,1265.72 582.974,1265.25 585.157,1265.7 587.341,1265.3 589.525,1265.63 \n",
       "  591.708,1265.39 593.892,1265.52 596.076,1265.52 598.26,1265.39 600.443,1265.66 602.627,1265.26 604.811,1265.78 606.995,1265.16 609.178,1265.86 611.362,1265.12 \n",
       "  613.546,1265.87 615.73,1265.15 617.913,1265.8 620.097,1265.25 622.281,1265.66 624.464,1265.42 626.648,1265.47 628.832,1265.63 631.016,1265.26 633.199,1265.84 \n",
       "  635.383,1265.07 637.567,1266.01 639.751,1264.94 641.934,1266.09 644.118,1264.92 646.302,1266.07 648.485,1265 650.669,1265.91 652.853,1265.21 655.037,1265.65 \n",
       "  657.22,1265.5 659.404,1265.33 661.588,1265.84 663.772,1265 665.955,1266.16 668.139,1264.73 670.323,1266.38 672.507,1264.59 674.69,1266.45 676.874,1264.61 \n",
       "  679.058,1266.32 681.241,1264.82 683.425,1266.01 685.609,1265.21 687.793,1265.54 689.976,1265.71 692.16,1265.02 694.344,1266.25 696.528,1264.52 698.711,1266.71 \n",
       "  700.895,1264.17 703.079,1266.97 705.262,1264.04 707.446,1266.96 709.63,1264.19 711.814,1266.63 713.997,1264.63 716.181,1266.02 718.365,1265.32 720.549,1265.23 \n",
       "  722.732,1266.15 724.916,1264.41 727.1,1266.98 729.283,1263.71 731.467,1267.62 733.651,1263.29 735.835,1267.89 738.018,1263.25 740.202,1267.67 742.386,1263.65 \n",
       "  744.57,1266.95 746.753,1264.49 748.937,1265.83 751.121,1265.68 753.305,1264.53 755.488,1267.04 757.672,1263.3 759.856,1268.3 762.039,1262.37 764.223,1269.14 \n",
       "  766.407,1261.93 768.591,1269.27 770.774,1262.13 772.958,1268.57 775.142,1263.01 777.326,1267.1 779.509,1264.53 781.693,1265.16 783.877,1266.55 786.06,1263.13 \n",
       "  788.244,1268.73 790.428,1261.39 792.612,1270.61 794.795,1260.25 796.979,1271.59 799.163,1259.94 801.347,1271.25 803.53,1260.61 805.714,1269.51 807.898,1262.32 \n",
       "  810.082,1266.74 812.265,1264.99 814.449,1263.55 816.633,1268.36 818.816,1260.57 821,1271.89 823.184,1258.29 825.368,1274.62 827.551,1257.06 829.735,1275.48 \n",
       "  831.919,1257.12 834.103,1273.82 836.286,1258.64 838.47,1270.01 840.654,1261.7 842.837,1265.11 845.021,1266.25 847.205,1260.25 849.389,1271.95 851.572,1256.22 \n",
       "  853.756,1277.77 855.94,1253.52 858.124,1281.69 860.307,1252.44 862.491,1281.34 864.675,1253.23 866.858,1276.34 869.042,1256.09 871.226,1268.76 873.41,1261.25 \n",
       "  875.593,1260.95 877.777,1268.92 879.961,1254.31 882.145,1278.87 884.328,1249.44 886.512,1289.26 888.696,1246.62 890.88,1294.41 893.063,1246.04 895.247,1288.73 \n",
       "  897.431,1247.91 899.614,1276.22 901.798,1252.63 903.982,1263.37 906.166,1260.82 908.349,1252.77 910.533,1273.55 912.717,1244.9 914.901,1292.31 917.084,1239.73 \n",
       "  919.268,1315.13 921.452,1237.21 923.635,1316.19 925.819,1237.4 928.003,1290.85 930.187,1240.58 932.37,1268.01 934.554,1247.36 936.738,1251.43 938.922,1259.03 \n",
       "  941.105,1239.69 943.289,1278.61 945.473,1231.7 947.657,1315.59 949.84,1226.88 952.024,1442.47 954.208,1224.97 956.391,1315.35 958.575,1225.97 960.759,1272.74 \n",
       "  962.943,1230.19 965.126,1248.72 967.31,1238.29 969.494,1232.91 971.678,1251.63 973.861,1222.12 976.045,1272.65 978.229,1215.01 980.412,1301.35 982.596,1210.95 \n",
       "  984.78,1298.68 986.964,1209.67 989.147,1265.61 991.331,1211.14 993.515,1240.35 995.699,1215.47 997.882,1222.66 1000.07,1222.88 1002.25,1210.09 1004.43,1233.18 \n",
       "  1006.62,1201.26 1008.8,1244.12 1010.98,1195.41 1013.17,1247.86 1015.35,1192.13 1017.54,1238.05 1019.72,1191.21 1021.9,1221.98 1024.09,1192.48 1026.27,1206.87 \n",
       "  1028.45,1195.75 1030.64,1194.57 1032.82,1200.47 1035.01,1185.11 1037.19,1205.26 1039.37,1178.17 1041.56,1207.42 1043.74,1173.44 1045.92,1204.19 1048.11,1170.7 \n",
       "  1050.29,1195.88 1052.48,1169.71 1054.66,1185.39 1056.84,1170.19 1059.03,1175.15 1061.21,1171.66 1063.39,1166.26 1065.58,1173.29 1067.76,1159.05 1069.95,1173.84 \n",
       "  1072.13,1153.52 1074.31,1171.99 1076.5,1149.57 1078.68,1167.24 1080.86,1147.02 1083.05,1160.31 1085.23,1145.62 1087.42,1152.5 1089.6,1145.03 1091.78,1144.88 \n",
       "  1093.97,1144.72 1096.15,1138.07 1098.33,1144 1100.52,1132.33 1102.7,1142.16 1104.89,1127.72 1107.07,1138.74 1109.25,1124.18 1111.44,1133.81 1113.62,1121.55 \n",
       "  1115.8,1127.87 1117.99,1119.6 1120.17,1121.58 1122.35,1117.99 1124.54,1115.48 1126.72,1116.3 1128.91,1109.93 1131.09,1114.11 1133.27,1105.09 1135.46,1111.08 \n",
       "  1137.64,1101.01 1139.82,1107.1 1142.01,1097.62 1144.19,1102.33 1146.38,1094.78 1148.56,1097.08 1150.74,1092.28 1152.93,1091.71 1155.11,1089.87 1157.29,1086.53 \n",
       "  1159.48,1087.27 1161.66,1081.74 1163.85,1084.24 1166.03,1077.43 1168.21,1080.66 1170.4,1073.61 1172.58,1076.52 1174.76,1070.21 1176.95,1071.96 1179.13,1067.13 \n",
       "  1181.32,1067.19 1183.5,1064.19 1185.68,1062.4 1187.87,1061.22 1190.05,1057.79 1192.23,1058.05 1194.42,1053.44 1196.6,1054.58 1198.79,1049.42 1200.97,1050.75 \n",
       "  1203.15,1045.7 1205.34,1046.6 1207.52,1042.23 1209.7,1042.24 1211.89,1038.92 1214.07,1037.79 1216.26,1035.65 1218.44,1033.38 1220.62,1032.32 1222.81,1029.1 \n",
       "  1224.99,1028.82 1227.17,1025.01 1229.36,1025.12 1231.54,1021.13 1233.73,1021.2 1235.91,1017.43 1238.09,1017.1 1240.28,1013.87 1242.46,1012.9 1244.64,1010.38 \n",
       "  1246.83,1008.67 1249.01,1006.89 1251.2,1004.49 1253.38,1003.33 1255.56,1000.41 1257.75,999.654 1259.93,996.455 1262.11,995.839 1264.3,992.632 1266.48,991.897 \n",
       "  1268.66,988.918 1270.85,987.86 1273.03,985.277 1275.22,983.775 1277.4,981.661 1279.58,979.691 1281.77,978.024 1283.95,975.651 1286.13,974.329 1288.32,971.683 \n",
       "  1290.5,970.553 1292.69,967.799 1294.87,966.691 1297.05,963.995 1299.24,962.756 1301.42,960.252 1303.6,958.771 1305.79,956.544 1307.97,954.769 1310.16,952.839 \n",
       "  1312.34,950.778 1314.52,949.111 1316.71,946.823 1318.89,945.339 1321.07,942.918 1323.26,941.513 1325.44,939.066 1327.63,937.636 1329.81,935.261 1331.99,933.717 \n",
       "  1334.18,931.489 1336.36,929.774 1338.54,927.731 1340.73,925.827 1342.91,923.969 1345.1,921.895 1347.28,920.185 1349.46,917.989 1351.65,916.371 1353.83,914.116 \n",
       "  1356.01,912.522 1358.2,910.277 1360.38,908.642 1362.57,906.464 1364.75,904.74 1366.93,902.668 1369.12,900.828 1371.3,898.875 1373.48,896.919 1375.67,895.076 \n",
       "  1377.85,893.021 1380.04,891.26 1382.22,889.143 1384.4,887.423 1386.59,885.286 1388.77,883.565 1390.95,881.45 1393.14,879.689 1395.32,877.627 1397.5,875.802 \n",
       "  1399.69,873.812 1401.87,871.911 1404.06,869.997 1406.24,868.025 1408.42,866.175 1410.61,864.149 1412.79,862.34 1414.97,860.285 1417.16,858.492 1419.34,856.436 \n",
       "  1421.53,854.632 1423.71,852.597 1425.89,850.761 1428.08,848.766 1430.26,846.885 1432.44,844.938 1434.63,843.009 1436.81,841.108 1439,839.138 1441.18,837.272 \n",
       "  1443.36,835.273 1445.55,833.428 1447.73,831.417 1449.91,829.575 1452.1,827.57 1454.28,825.714 1456.47,823.729 1458.65,821.849 1460.83,819.891 1463.02,817.981 \n",
       "  1465.2,816.054 1467.38,814.115 1469.57,812.214 1471.75,810.252 1473.94,808.37 1476.12,806.394 1478.3,804.521 1480.49,802.542 1482.67,800.666 1484.85,798.694 \n",
       "  1487.04,796.807 1489.22,794.85 1491.41,792.946 1493.59,791.007 1495.77,789.084 1497.96,787.164 1500.14,785.224 1502.32,783.319 1504.51,781.366 1506.69,779.471 \n",
       "  1508.88,777.511 1511.06,775.619 1513.24,773.66 1515.43,771.764 1517.61,769.812 1519.79,767.907 1521.98,765.965 1524.16,764.049 1526.35,762.119 1528.53,760.19 \n",
       "  1530.71,758.272 1532.9,756.334 1535.08,754.424 1537.26,752.479 1539.45,750.573 1541.63,748.626 1543.81,746.721 1546,744.775 1548.18,742.866 1550.37,740.926 \n",
       "  1552.55,739.01 1554.73,737.077 1556.92,735.154 1559.1,733.229 1561.28,731.298 1563.47,729.38 1565.65,727.444 1567.84,725.529 1570.02,723.59 1572.2,721.678 \n",
       "  1574.39,719.738 1576.57,717.825 1578.75,715.887 1580.94,713.97 1583.12,712.037 1585.31,710.116 1587.49,708.187 1589.67,706.261 1591.86,704.337 1594.04,702.407 \n",
       "  1596.22,700.487 1598.41,698.553 1600.59,696.635 1602.78,694.701 1604.96,692.783 1607.14,690.849 1609.33,688.93 1611.51,686.998 1613.69,685.077 1615.88,683.147 \n",
       "  1618.06,681.223 1620.25,679.296 1622.43,677.369 1624.61,675.445 1626.8,673.516 1628.98,671.594 1631.16,669.663 1633.35,667.742 1635.53,665.811 1637.72,663.89 \n",
       "  1639.9,661.959 1642.08,660.037 1644.27,658.107 1646.45,656.184 1648.63,654.256 1650.82,652.33 1653,650.405 1655.19,648.477 1657.37,646.553 1659.55,644.624 \n",
       "  1661.74,642.701 1663.92,640.772 1666.1,638.849 1668.29,636.92 1670.47,634.997 1672.65,633.068 1674.84,631.144 1677.02,629.216 1679.21,627.291 1681.39,625.365 \n",
       "  1683.57,623.438 1685.76,621.513 1687.94,619.586 1690.12,617.661 1692.31,615.733 1694.49,613.809 1696.68,611.881 1698.86,609.957 1701.04,608.029 1703.23,606.104 \n",
       "  1705.41,604.177 1707.59,602.252 1709.78,600.325 1711.96,598.399 1714.15,596.473 1716.33,594.546 1718.51,592.621 1720.7,590.694 1722.88,588.769 1725.06,586.841 \n",
       "  1727.25,584.917 1729.43,582.989 1731.62,581.064 1733.8,579.137 1735.98,577.212 1738.17,575.285 1740.35,573.359 1742.53,571.433 1744.72,569.507 1746.9,567.581 \n",
       "  1749.09,565.655 1751.27,563.729 1753.45,561.802 1755.64,559.877 1757.82,557.95 1760,556.025 1762.19,554.098 1764.37,552.172 1766.56,550.246 1768.74,548.32 \n",
       "  1770.92,546.393 1773.11,544.468 1775.29,542.541 1777.47,540.615 1779.66,538.689 1781.84,536.763 1784.03,534.837 1786.21,532.91 1788.39,530.985 1790.58,529.058 \n",
       "  1792.76,527.133 1794.94,525.206 1797.13,523.28 1799.31,521.354 1801.5,519.428 1803.68,517.502 1805.86,515.576 1808.05,513.65 1810.23,511.723 1812.41,509.797 \n",
       "  1814.6,507.871 1816.78,505.945 1818.96,504.019 1821.15,502.093 1823.33,500.166 1825.52,498.241 1827.7,496.314 1829.88,494.388 1832.07,492.462 1834.25,490.536 \n",
       "  1836.43,488.61 1838.62,486.684 1840.8,484.758 1842.99,482.831 1845.17,480.905 1847.35,478.979 1849.54,477.053 1851.72,475.127 1853.9,473.201 1856.09,471.275 \n",
       "  1858.27,469.349 1860.46,467.422 1862.64,465.496 1864.82,463.57 1867.01,461.644 1869.19,459.718 1871.37,457.792 1873.56,455.866 1875.74,453.94 1877.93,452.014 \n",
       "  1880.11,450.087 1882.29,448.161 1884.48,446.235 1886.66,444.309 1888.84,442.383 1891.03,440.457 1893.21,438.531 1895.4,436.605 1897.58,434.678 1899.76,432.752 \n",
       "  1901.95,430.826 1904.13,428.9 1906.31,426.974 1908.5,425.048 1910.68,423.122 1912.87,421.196 1915.05,419.269 1917.23,417.343 1919.42,415.417 1921.6,413.491 \n",
       "  1923.78,411.565 1925.97,409.639 1928.15,407.713 1930.34,405.787 1932.52,403.86 1934.7,401.934 1936.89,400.008 1939.07,398.082 1941.25,396.156 1943.44,394.23 \n",
       "  1945.62,392.304 1947.8,390.378 1949.99,388.451 1952.17,386.525 1954.36,384.599 1956.54,382.673 1958.72,380.747 1960.91,378.821 1963.09,376.895 1965.27,374.969 \n",
       "  1967.46,373.043 1969.64,371.116 1971.83,369.19 1974.01,367.264 1976.19,365.338 1978.38,363.412 1980.56,361.486 1982.74,359.56 1984.93,357.634 1987.11,355.707 \n",
       "  1989.3,353.781 1991.48,351.855 1993.66,349.929 1995.85,348.003 1998.03,346.077 2000.21,344.151 2002.4,342.225 2004.58,340.298 2006.77,338.372 2008.95,336.446 \n",
       "  2011.13,334.52 2013.32,332.594 2015.5,330.668 2017.68,328.742 2019.87,326.816 2022.05,324.889 2024.24,322.963 2026.42,321.037 2028.6,319.111 2030.79,317.185 \n",
       "  2032.97,315.259 2035.15,313.333 2037.34,311.407 2039.52,309.48 2041.71,307.554 2043.89,305.628 2046.07,303.702 2048.26,301.776 2050.44,299.85 2052.62,297.924 \n",
       "  2054.81,295.998 2056.99,294.071 2059.18,292.145 2061.36,290.219 2063.54,288.293 2065.73,286.367 2067.91,284.441 2070.09,282.515 2072.28,280.589 2074.46,278.662 \n",
       "  2076.65,276.736 2078.83,274.81 2081.01,272.884 2083.2,270.958 2085.38,269.032 2087.56,267.106 2089.75,265.18 2091.93,263.253 2094.11,261.327 2096.3,259.401 \n",
       "  2098.48,257.475 2100.67,255.549 2102.85,253.623 2105.03,251.697 2107.22,249.771 2109.4,247.844 2111.58,245.918 2113.77,243.992 2115.95,242.066 2118.14,240.14 \n",
       "  2120.32,238.214 2122.5,236.288 2124.69,234.362 2126.87,232.436 2129.05,230.509 2131.24,228.583 2133.42,226.657 2135.61,224.731 2137.79,222.805 2139.97,220.879 \n",
       "  2142.16,218.953 2144.34,217.027 2146.52,215.1 2148.71,213.174 2150.89,211.248 2153.08,209.322 2155.26,207.396 2157.44,205.47 2159.63,203.544 2161.81,201.618 \n",
       "  2163.99,199.691 2166.18,197.765 2168.36,195.839 2170.55,193.913 2172.73,191.987 2174.91,190.061 2177.1,188.135 2179.28,186.209 2181.46,184.282 2183.65,182.356 \n",
       "  2185.83,180.43 2188.02,178.504 2190.2,176.578 2192.38,174.652 2194.57,172.726 2196.75,170.8 2198.93,168.873 2201.12,166.947 2203.3,165.021 2205.49,163.095 \n",
       "  2207.67,161.169 2209.85,159.243 2212.04,157.317 2214.22,155.391 2216.4,153.464 2218.59,151.538 2220.77,149.612 2222.95,147.686 2225.14,145.76 2227.32,143.834 \n",
       "  2229.51,141.908 2231.69,139.982 2233.87,138.055 2236.06,136.129 2238.24,134.203 2240.42,132.277 2242.61,130.351 2244.79,128.425 2246.98,126.499 2249.16,124.573 \n",
       "  2251.34,122.646 2253.53,120.72 2255.71,118.794 2257.89,116.868 2260.08,114.942 2262.26,113.016 2264.45,111.09 2266.63,109.164 2268.81,107.238 2271,105.311 \n",
       "  2273.18,103.385 2275.36,101.459 2277.55,99.533 2279.73,97.6069 2281.92,95.6808 2284.1,93.7546 2286.28,91.8285 2288.47,89.9024 2290.65,87.9763 \n",
       "  \"/>\n",
       "<path clip-path=\"url(#clip400)\" d=\"\n",
       "M1919.86 250.738 L2279.61 250.738 L2279.61 95.2176 L1919.86 95.2176  Z\n",
       "  \" fill=\"#ffffff\" fill-rule=\"evenodd\" fill-opacity=\"1\"/>\n",
       "<polyline clip-path=\"url(#clip400)\" style=\"stroke:#000000; stroke-linecap:round; stroke-linejoin:round; stroke-width:4; stroke-opacity:1; fill:none\" points=\"\n",
       "  1919.86,250.738 2279.61,250.738 2279.61,95.2176 1919.86,95.2176 1919.86,250.738 \n",
       "  \"/>\n",
       "<polyline clip-path=\"url(#clip400)\" style=\"stroke:#009af9; stroke-linecap:round; stroke-linejoin:round; stroke-width:4; stroke-opacity:1; fill:none\" points=\"\n",
       "  1944.24,147.058 2090.54,147.058 \n",
       "  \"/>\n",
       "<path clip-path=\"url(#clip400)\" d=\"M2136.89 145.562 Q2136.26 148.583 2135.44 150.317 Q2134.12 152.963 2131.9 152.963 Q2130.21 152.963 2129.02 151.933 Q2127.82 150.902 2127.54 149.356 Q2124.47 152.963 2121.29 152.963 Q2118.48 152.963 2116.7 150.832 Q2114.92 148.677 2114.92 145.281 Q2114.92 141.861 2116.6 138.582 Q2118.31 135.303 2121.01 133.265 Q2123.7 131.227 2126.46 131.227 Q2129.39 131.227 2130.89 134.296 Q2131.01 133.453 2131.55 132.82 Q2132.09 132.188 2132.91 132.188 Q2133.54 132.188 2133.91 132.539 Q2134.29 132.867 2134.29 133.476 Q2134.29 133.78 2133.96 135.116 L2132.23 141.814 L2131.17 146.148 Q2130.77 147.74 2130.66 148.326 Q2130.56 148.911 2130.56 149.684 Q2130.56 151.886 2131.99 151.886 Q2132.7 151.886 2133.26 151.441 Q2133.82 150.996 2134.26 150.059 Q2134.71 149.122 2134.99 148.256 Q2135.27 147.365 2135.65 145.96 Q2135.76 145.398 2135.86 145.257 Q2135.97 145.094 2136.3 145.094 Q2136.89 145.094 2136.89 145.562 M2130.31 136.497 Q2130.31 136.287 2130.14 135.701 Q2129.98 135.116 2129.6 134.296 Q2129.23 133.476 2128.41 132.89 Q2127.61 132.281 2126.54 132.281 Q2125.08 132.281 2123.56 133.523 Q2122.06 134.764 2120.96 136.872 Q2120.12 138.559 2119.2 142.095 Q2118.31 145.632 2118.31 147.389 Q2118.31 148.466 2118.55 149.427 Q2118.81 150.364 2119.53 151.137 Q2120.26 151.886 2121.38 151.886 Q2124.12 151.886 2126.82 148.49 Q2127.33 147.904 2127.45 147.67 Q2127.59 147.412 2127.78 146.71 L2130.17 137.317 Q2130.31 136.615 2130.31 136.497 Z\" fill=\"#000000\" fill-rule=\"evenodd\" fill-opacity=\"1\" /><path clip-path=\"url(#clip400)\" d=\"M2164.88 145.562 Q2164.88 145.749 2164.67 146.475 Q2164.46 147.202 2163.95 148.326 Q2163.45 149.45 2162.77 150.481 Q2162.1 151.488 2160.97 152.237 Q2159.87 152.963 2158.61 152.963 Q2156.92 152.963 2155.8 151.839 Q2154.67 150.715 2154.67 149.028 Q2154.67 148.092 2155.16 146.803 Q2158.28 138.488 2158.28 135.631 Q2158.28 132.281 2155.68 132.281 Q2154.39 132.281 2153.17 132.773 Q2151.98 133.242 2151.16 133.898 Q2150.34 134.553 2149.59 135.467 Q2148.86 136.357 2148.49 136.966 Q2148.14 137.551 2147.85 138.137 L2147.25 140.526 Q2147.11 141.182 2146.43 143.735 L2145.37 148.068 Q2144.62 151.3 2144.46 151.605 Q2144.22 152.261 2143.71 152.612 Q2143.19 152.963 2142.68 152.963 Q2142.09 152.963 2141.69 152.612 Q2141.3 152.261 2141.3 151.652 Q2141.3 151.558 2141.37 151.207 Q2141.44 150.855 2141.55 150.364 Q2141.67 149.872 2141.72 149.591 L2144.51 138.512 Q2145.02 136.497 2145.14 135.865 Q2145.28 135.209 2145.28 134.483 Q2145.28 132.281 2143.78 132.281 Q2142.56 132.281 2141.77 133.734 Q2140.97 135.186 2140.29 137.997 Q2140.08 138.769 2139.94 138.933 Q2139.82 139.097 2139.47 139.097 Q2138.88 139.074 2138.88 138.605 Q2138.88 138.488 2139.07 137.715 Q2139.26 136.943 2139.61 135.842 Q2139.98 134.717 2140.34 133.968 Q2140.64 133.406 2140.8 133.148 Q2140.99 132.867 2141.44 132.328 Q2141.91 131.766 2142.51 131.508 Q2143.15 131.227 2143.92 131.227 Q2145.65 131.227 2146.92 132.352 Q2148.18 133.453 2148.35 135.397 Q2151.46 131.227 2155.82 131.227 Q2158.39 131.227 2159.87 132.586 Q2161.35 133.944 2161.35 136.357 Q2161.35 136.919 2161.23 137.645 Q2161.14 138.348 2160.9 139.238 Q2160.69 140.128 2160.5 140.807 Q2160.32 141.486 2159.94 142.587 Q2159.57 143.665 2159.4 144.133 Q2159.24 144.602 2158.84 145.702 Q2158.47 146.78 2158.42 146.897 Q2157.55 149.075 2157.55 150.317 Q2157.55 151.137 2157.81 151.511 Q2158.09 151.886 2158.7 151.886 Q2160.34 151.886 2161.56 150.27 Q2162.8 148.63 2163.59 145.96 Q2163.78 145.375 2163.88 145.234 Q2163.99 145.094 2164.32 145.094 Q2164.88 145.094 2164.88 145.562 Z\" fill=\"#000000\" fill-rule=\"evenodd\" fill-opacity=\"1\" /><path clip-path=\"url(#clip400)\" d=\"M2190.49 145.562 Q2189.86 148.583 2189.04 150.317 Q2187.72 152.963 2185.5 152.963 Q2183.81 152.963 2182.62 151.933 Q2181.42 150.902 2181.14 149.356 Q2178.07 152.963 2174.89 152.963 Q2172.08 152.963 2170.3 150.832 Q2168.52 148.677 2168.52 145.281 Q2168.52 141.861 2170.2 138.582 Q2171.91 135.303 2174.61 133.265 Q2177.3 131.227 2180.06 131.227 Q2182.99 131.227 2184.49 134.296 Q2184.61 133.453 2185.15 132.82 Q2185.69 132.188 2186.51 132.188 Q2187.14 132.188 2187.51 132.539 Q2187.89 132.867 2187.89 133.476 Q2187.89 133.78 2187.56 135.116 L2185.83 141.814 L2184.77 146.148 Q2184.37 147.74 2184.26 148.326 Q2184.16 148.911 2184.16 149.684 Q2184.16 151.886 2185.59 151.886 Q2186.3 151.886 2186.86 151.441 Q2187.42 150.996 2187.86 150.059 Q2188.31 149.122 2188.59 148.256 Q2188.87 147.365 2189.25 145.96 Q2189.36 145.398 2189.46 145.257 Q2189.57 145.094 2189.9 145.094 Q2190.49 145.094 2190.49 145.562 M2183.91 136.497 Q2183.91 136.287 2183.74 135.701 Q2183.58 135.116 2183.2 134.296 Q2182.83 133.476 2182.01 132.89 Q2181.21 132.281 2180.14 132.281 Q2178.68 132.281 2177.16 133.523 Q2175.66 134.764 2174.56 136.872 Q2173.72 138.559 2172.8 142.095 Q2171.91 145.632 2171.91 147.389 Q2171.91 148.466 2172.15 149.427 Q2172.41 150.364 2173.13 151.137 Q2173.86 151.886 2174.98 151.886 Q2177.72 151.886 2180.42 148.49 Q2180.93 147.904 2181.05 147.67 Q2181.19 147.412 2181.38 146.71 L2183.77 137.317 Q2183.91 136.615 2183.91 136.497 Z\" fill=\"#000000\" fill-rule=\"evenodd\" fill-opacity=\"1\" /><path clip-path=\"url(#clip400)\" d=\"M2228.96 139.051 Q2228.96 142.517 2227.18 145.773 Q2225.42 149.028 2222.66 150.996 Q2219.92 152.963 2217.15 152.963 Q2214.04 152.963 2212.42 149.731 Q2209.49 161.466 2209.33 161.77 Q2208.65 162.777 2207.67 162.777 Q2207.06 162.777 2206.68 162.403 Q2206.31 162.051 2206.31 161.489 Q2206.33 161.302 2206.47 160.716 L2211.16 141.861 Q2212.23 137.481 2215.49 134.366 Q2218.77 131.227 2222.28 131.227 Q2225.07 131.227 2227.01 133.312 Q2228.96 135.397 2228.96 139.051 M2225.51 136.989 Q2225.51 134.647 2224.58 133.476 Q2223.64 132.281 2222.19 132.281 Q2220.85 132.281 2219.24 133.359 Q2217.64 134.436 2216.24 136.825 Q2215.49 138.207 2214.95 139.917 Q2214.41 141.627 2213.36 145.843 Q2212.98 147.529 2212.98 147.623 Q2212.98 147.811 2213.08 148.232 Q2213.19 148.654 2213.47 149.31 Q2213.78 149.942 2214.2 150.504 Q2214.62 151.066 2215.39 151.488 Q2216.17 151.886 2217.1 151.886 Q2218.56 151.886 2220.1 150.715 Q2221.67 149.52 2222.82 147.342 Q2223.78 145.585 2224.65 142.283 Q2225.51 138.957 2225.51 136.989 Z\" fill=\"#000000\" fill-rule=\"evenodd\" fill-opacity=\"1\" /><polyline clip-path=\"url(#clip400)\" style=\"stroke:#e26f46; stroke-linecap:round; stroke-linejoin:round; stroke-width:4; stroke-opacity:1; fill:none\" points=\"\n",
       "  1944.24,198.898 2090.54,198.898 \n",
       "  \"/>\n",
       "<path clip-path=\"url(#clip400)\" d=\"M2136.89 200.481 Q2136.26 203.503 2135.44 205.236 Q2134.12 207.883 2131.9 207.883 Q2130.21 207.883 2129.02 206.852 Q2127.82 205.822 2127.54 204.276 Q2124.47 207.883 2121.29 207.883 Q2118.48 207.883 2116.7 205.752 Q2114.92 203.597 2114.92 200.2 Q2114.92 196.781 2116.6 193.502 Q2118.31 190.222 2121.01 188.185 Q2123.7 186.147 2126.46 186.147 Q2129.39 186.147 2130.89 189.215 Q2131.01 188.372 2131.55 187.74 Q2132.09 187.107 2132.91 187.107 Q2133.54 187.107 2133.91 187.459 Q2134.29 187.787 2134.29 188.396 Q2134.29 188.7 2133.96 190.035 L2132.23 196.734 L2131.17 201.067 Q2130.77 202.66 2130.66 203.245 Q2130.56 203.831 2130.56 204.604 Q2130.56 206.806 2131.99 206.806 Q2132.7 206.806 2133.26 206.361 Q2133.82 205.916 2134.26 204.979 Q2134.71 204.042 2134.99 203.175 Q2135.27 202.285 2135.65 200.88 Q2135.76 200.318 2135.86 200.177 Q2135.97 200.013 2136.3 200.013 Q2136.89 200.013 2136.89 200.481 M2130.31 191.417 Q2130.31 191.206 2130.14 190.621 Q2129.98 190.035 2129.6 189.215 Q2129.23 188.396 2128.41 187.81 Q2127.61 187.201 2126.54 187.201 Q2125.08 187.201 2123.56 188.442 Q2122.06 189.684 2120.96 191.792 Q2120.12 193.478 2119.2 197.015 Q2118.31 200.552 2118.31 202.308 Q2118.31 203.386 2118.55 204.346 Q2118.81 205.283 2119.53 206.056 Q2120.26 206.806 2121.38 206.806 Q2124.12 206.806 2126.82 203.409 Q2127.33 202.824 2127.45 202.59 Q2127.59 202.332 2127.78 201.629 L2130.17 192.237 Q2130.31 191.534 2130.31 191.417 Z\" fill=\"#000000\" fill-rule=\"evenodd\" fill-opacity=\"1\" /><path clip-path=\"url(#clip400)\" d=\"M2164.88 200.481 Q2164.88 200.669 2164.67 201.395 Q2164.46 202.121 2163.95 203.245 Q2163.45 204.37 2162.77 205.4 Q2162.1 206.407 2160.97 207.157 Q2159.87 207.883 2158.61 207.883 Q2156.92 207.883 2155.8 206.759 Q2154.67 205.634 2154.67 203.948 Q2154.67 203.011 2155.16 201.723 Q2158.28 193.408 2158.28 190.55 Q2158.28 187.201 2155.68 187.201 Q2154.39 187.201 2153.17 187.693 Q2151.98 188.161 2151.16 188.817 Q2150.34 189.473 2149.59 190.386 Q2148.86 191.276 2148.49 191.885 Q2148.14 192.471 2147.85 193.057 L2147.25 195.446 Q2147.11 196.101 2146.43 198.655 L2145.37 202.988 Q2144.62 206.22 2144.46 206.524 Q2144.22 207.18 2143.71 207.532 Q2143.19 207.883 2142.68 207.883 Q2142.09 207.883 2141.69 207.532 Q2141.3 207.18 2141.3 206.571 Q2141.3 206.478 2141.37 206.126 Q2141.44 205.775 2141.55 205.283 Q2141.67 204.791 2141.72 204.51 L2144.51 193.431 Q2145.02 191.417 2145.14 190.785 Q2145.28 190.129 2145.28 189.403 Q2145.28 187.201 2143.78 187.201 Q2142.56 187.201 2141.77 188.653 Q2140.97 190.105 2140.29 192.916 Q2140.08 193.689 2139.94 193.853 Q2139.82 194.017 2139.47 194.017 Q2138.88 193.993 2138.88 193.525 Q2138.88 193.408 2139.07 192.635 Q2139.26 191.862 2139.61 190.761 Q2139.98 189.637 2140.34 188.887 Q2140.64 188.325 2140.8 188.068 Q2140.99 187.787 2141.44 187.248 Q2141.91 186.686 2142.51 186.428 Q2143.15 186.147 2143.92 186.147 Q2145.65 186.147 2146.92 187.271 Q2148.18 188.372 2148.35 190.316 Q2151.46 186.147 2155.82 186.147 Q2158.39 186.147 2159.87 187.505 Q2161.35 188.864 2161.35 191.276 Q2161.35 191.839 2161.23 192.565 Q2161.14 193.267 2160.9 194.157 Q2160.69 195.047 2160.5 195.727 Q2160.32 196.406 2159.94 197.507 Q2159.57 198.584 2159.4 199.053 Q2159.24 199.521 2158.84 200.622 Q2158.47 201.699 2158.42 201.817 Q2157.55 203.995 2157.55 205.236 Q2157.55 206.056 2157.81 206.431 Q2158.09 206.806 2158.7 206.806 Q2160.34 206.806 2161.56 205.189 Q2162.8 203.55 2163.59 200.88 Q2163.78 200.294 2163.88 200.154 Q2163.99 200.013 2164.32 200.013 Q2164.88 200.013 2164.88 200.481 Z\" fill=\"#000000\" fill-rule=\"evenodd\" fill-opacity=\"1\" /><path clip-path=\"url(#clip400)\" d=\"M2190.49 200.481 Q2189.86 203.503 2189.04 205.236 Q2187.72 207.883 2185.5 207.883 Q2183.81 207.883 2182.62 206.852 Q2181.42 205.822 2181.14 204.276 Q2178.07 207.883 2174.89 207.883 Q2172.08 207.883 2170.3 205.752 Q2168.52 203.597 2168.52 200.2 Q2168.52 196.781 2170.2 193.502 Q2171.91 190.222 2174.61 188.185 Q2177.3 186.147 2180.06 186.147 Q2182.99 186.147 2184.49 189.215 Q2184.61 188.372 2185.15 187.74 Q2185.69 187.107 2186.51 187.107 Q2187.14 187.107 2187.51 187.459 Q2187.89 187.787 2187.89 188.396 Q2187.89 188.7 2187.56 190.035 L2185.83 196.734 L2184.77 201.067 Q2184.37 202.66 2184.26 203.245 Q2184.16 203.831 2184.16 204.604 Q2184.16 206.806 2185.59 206.806 Q2186.3 206.806 2186.86 206.361 Q2187.42 205.916 2187.86 204.979 Q2188.31 204.042 2188.59 203.175 Q2188.87 202.285 2189.25 200.88 Q2189.36 200.318 2189.46 200.177 Q2189.57 200.013 2189.9 200.013 Q2190.49 200.013 2190.49 200.481 M2183.91 191.417 Q2183.91 191.206 2183.74 190.621 Q2183.58 190.035 2183.2 189.215 Q2182.83 188.396 2182.01 187.81 Q2181.21 187.201 2180.14 187.201 Q2178.68 187.201 2177.16 188.442 Q2175.66 189.684 2174.56 191.792 Q2173.72 193.478 2172.8 197.015 Q2171.91 200.552 2171.91 202.308 Q2171.91 203.386 2172.15 204.346 Q2172.41 205.283 2173.13 206.056 Q2173.86 206.806 2174.98 206.806 Q2177.72 206.806 2180.42 203.409 Q2180.93 202.824 2181.05 202.59 Q2181.19 202.332 2181.38 201.629 L2183.77 192.237 Q2183.91 191.534 2183.91 191.417 Z\" fill=\"#000000\" fill-rule=\"evenodd\" fill-opacity=\"1\" /><path clip-path=\"url(#clip400)\" d=\"M2227.66 181.04 L2215.55 181.04 L2215.55 179.99 L2227.66 179.99 L2227.66 181.04 Z\" fill=\"#000000\" fill-rule=\"evenodd\" fill-opacity=\"1\" /><path clip-path=\"url(#clip400)\" d=\"M2229.96 193.97 Q2229.96 197.437 2228.18 200.692 Q2226.42 203.948 2223.66 205.916 Q2220.92 207.883 2218.15 207.883 Q2215.04 207.883 2213.42 204.651 Q2210.49 216.385 2210.33 216.69 Q2209.65 217.697 2208.67 217.697 Q2208.06 217.697 2207.68 217.322 Q2207.31 216.971 2207.31 216.409 Q2207.33 216.221 2207.47 215.636 L2212.16 196.781 Q2213.23 192.401 2216.49 189.286 Q2219.77 186.147 2223.28 186.147 Q2226.07 186.147 2228.01 188.232 Q2229.96 190.316 2229.96 193.97 M2226.51 191.909 Q2226.51 189.567 2225.58 188.396 Q2224.64 187.201 2223.19 187.201 Q2221.85 187.201 2220.24 188.278 Q2218.64 189.356 2217.24 191.745 Q2216.49 193.127 2215.95 194.837 Q2215.41 196.547 2214.36 200.763 Q2213.98 202.449 2213.98 202.543 Q2213.98 202.73 2214.08 203.152 Q2214.19 203.573 2214.47 204.229 Q2214.78 204.861 2215.2 205.424 Q2215.62 205.986 2216.39 206.407 Q2217.17 206.806 2218.1 206.806 Q2219.56 206.806 2221.1 205.634 Q2222.67 204.44 2223.82 202.262 Q2224.78 200.505 2225.65 197.202 Q2226.51 193.876 2226.51 191.909 Z\" fill=\"#000000\" fill-rule=\"evenodd\" fill-opacity=\"1\" /></svg>\n"
      ]
     },
     "execution_count": 20,
     "metadata": {},
     "output_type": "execute_result"
    }
   ],
   "source": [
    "using LinearAlgebra\n",
    "using DifferentialEquations, StaticArrays\n",
    "using Plots\n",
    "using LaTeXStrings\n",
    "using Plots\n",
    "\n",
    "#parameters\n",
    "const w_0 = 0.3 #km^-1\n",
    "mu_0 = 6e5 #6e5 km^-1\n",
    "theta = 1e-2 #1e-6\n",
    "\n",
    "const gcc = 0.5/11.4 #km^-1\n",
    "const gaep = 0.5/0.417#km^-1\n",
    "const gaem = 0.5/0.417#km^-1\n",
    "PAE = SA[0.0,0.0,2.0]\n",
    "const PAEZ = PAE[3]\n",
    "const PAE0 = 4.0\n",
    "\n",
    "const bgcc = 0.5/37.2 #km^-1\n",
    "const bgaep = 0.5/4.36 #km^-1\n",
    "const bgaem = 0.5/4.36 #km^-1\n",
    "bPAE = SA[0.0,0.0,1.5]\n",
    "const bPAEZ = bPAE[3]\n",
    "const bPAE0 = 3.5\n",
    "#B= SA[-sin(2*theta),0,cos(2*theta)]\n",
    "@fastmath @inbounds wB = w_0*SA[-sin(2*theta),0,cos(2*theta)]\n",
    "tkm = 0.0:0.01:25. #time in km^-1\n",
    "t = (10/3)tkm #time in microsecond\n",
    "\n",
    "#initial P_w\n",
    "Pi = [0.0,0.0,2.0]\n",
    "const Pi0 = 4.0\n",
    "bPi = [0.0,0.0,1.5] #P_bar\n",
    "const bPi0 = 3.5\n",
    "print()\n",
    "\n",
    "#parameters\n",
    "S=3.5\n",
    "D=0.5\n",
    "\n",
    "g = gcc+gaep #gamma\n",
    "bg = bgcc+bgaep #gamma_bar\n",
    "mup = 0.5(S+D)*mu_0\n",
    "mum = 0.5(S-D)*mu_0\n",
    "A = [-w_0*cos(2*theta)-mum-1im*g mup ; -mum w_0*cos(2*theta)+mup-1im*bg]\n",
    "omegam, omegap = eigvals(A)\n",
    "rho_ini = 0.5*Pi[1]+0.5im*Pi[2] #rho_ex = Px+i Py\n",
    "brho_ini = 0.5*bPi[1]+0.5im*bPi[2] #bar{rho}_ex = bPx+i bPy\n",
    "\n",
    "#adj\n",
    "rho0,brho0 = 0.5w_0*sin(2*theta)*inv(A)*[-Pi[3]; bPi[3]]\n",
    "adjrho = rho_ini-rho0\n",
    "adjbrho = brho_ini-brho0\n",
    "\n",
    "#v^-1 \\rho\n",
    "Qexp = [adjrho adjbrho]*transpose(inv(eigvecs(A)))\n",
    "Qexp_abs = broadcast(abs,Qexp)\n",
    "Omegap = mu_0*D + 1im*(-0.5*(g+bg)+0.5*S*(g-bg)/D)\n",
    "Omegam = w_0*S/D - 1im*(0.5*(g+bg)+0.5*S*(g-bg)/D)\n",
    "iomegaptf(t) = exp(1im*Omegap*t)\n",
    "iomegapt = broadcast(iomegaptf,tkm)\n",
    "iomegamtf(t) = exp(1im*Omegam*t)\n",
    "iomegamt = broadcast(iomegamtf,tkm)\n",
    "Qm = broadcast(abs,Qexp[:,1].*iomegamt)\n",
    "Qp = broadcast(abs,Qexp[:,2].*iomegapt)\n",
    "\n",
    "#plot(t, Qexp_abs, xlabel = L\"t / \\mu s\",ylabel = \"Qexp\", label = [L\"Q_-\" L\"Q_+\"])\n",
    "plot(t, Qm, xlabel = L\"t / \\mu s\", yaxis=:log, ylabel = \"Q\", label = L\"Q_-\")\n",
    "plot!(t, Qp, label = L\"Q_+\")\n",
    "\n",
    "#analytical solution\n",
    "Qma, Qpa=Qexp[1,1], Qexp[1,2]\n",
    "miomegaptf(t) = exp(-1im*Omegap*t)\n",
    "miomegapt = broadcast(miomegaptf,tkm)\n",
    "miomegamtf(t) = exp(-1im*Omegam*t)\n",
    "miomegamt = broadcast(miomegamtf,tkm)\n",
    "anasol = eigvecs(A)*transpose([Qma*miomegamt Qpa*miomegapt])\n",
    "abs_anarho = broadcast(abs,anasol[1,:].+rho0)\n",
    "abs_anabrho = broadcast(abs,anasol[2,:].+brho0)\n",
    "\n",
    "@fastmath @inbounds y = [abs_anarho abs_anabrho]::Matrix{Float64}\n",
    "plot(t[2:950], y[2:950,:], yaxis=:log, label = [L\"ana ~\\rho\" L\"ana ~\\bar{\\rho}\"])\n",
    "#savefig(\"compare.png\")"
   ]
  },
  {
   "cell_type": "code",
   "execution_count": 21,
   "id": "6d8589fc-c7be-471d-a46b-fcc8da056310",
   "metadata": {
    "execution": {
     "iopub.execute_input": "2022-10-13T08:09:58.591000-06:00",
     "iopub.status.busy": "2022-10-13T08:09:58.590000-06:00",
     "iopub.status.idle": "2022-10-13T08:09:58.768000-06:00",
     "shell.execute_reply": "2022-10-13T08:09:58.768000-06:00"
    },
    "tags": []
   },
   "outputs": [
    {
     "data": {
      "image/svg+xml": [
       "<?xml version=\"1.0\" encoding=\"utf-8\"?>\n",
       "<svg xmlns=\"http://www.w3.org/2000/svg\" xmlns:xlink=\"http://www.w3.org/1999/xlink\" width=\"600\" height=\"400\" viewBox=\"0 0 2400 1600\">\n",
       "<defs>\n",
       "  <clipPath id=\"clip440\">\n",
       "    <rect x=\"0\" y=\"0\" width=\"2400\" height=\"1600\"/>\n",
       "  </clipPath>\n",
       "</defs>\n",
       "<path clip-path=\"url(#clip440)\" d=\"\n",
       "M0 1600 L2400 1600 L2400 0 L0 0  Z\n",
       "  \" fill=\"#ffffff\" fill-rule=\"evenodd\" fill-opacity=\"1\"/>\n",
       "<defs>\n",
       "  <clipPath id=\"clip441\">\n",
       "    <rect x=\"480\" y=\"0\" width=\"1681\" height=\"1600\"/>\n",
       "  </clipPath>\n",
       "</defs>\n",
       "<defs>\n",
       "  <clipPath id=\"clip442\">\n",
       "    <rect x=\"158\" y=\"47\" width=\"2195\" height=\"1440\"/>\n",
       "  </clipPath>\n",
       "</defs>\n",
       "<path clip-path=\"url(#clip440)\" d=\"\n",
       "M188.292 1486.45 L2352.76 1486.45 L2352.76 47.2441 L188.292 47.2441  Z\n",
       "  \" fill=\"#ffffff\" fill-rule=\"evenodd\" fill-opacity=\"1\"/>\n",
       "<defs>\n",
       "  <clipPath id=\"clip443\">\n",
       "    <rect x=\"188\" y=\"47\" width=\"2165\" height=\"1440\"/>\n",
       "  </clipPath>\n",
       "</defs>\n",
       "<polyline clip-path=\"url(#clip443)\" style=\"stroke:#000000; stroke-linecap:round; stroke-linejoin:round; stroke-width:2; stroke-opacity:0.1; fill:none\" points=\"\n",
       "  247.397,1486.45 247.397,47.2441 \n",
       "  \"/>\n",
       "<polyline clip-path=\"url(#clip443)\" style=\"stroke:#000000; stroke-linecap:round; stroke-linejoin:round; stroke-width:2; stroke-opacity:0.1; fill:none\" points=\"\n",
       "  893.582,1486.45 893.582,47.2441 \n",
       "  \"/>\n",
       "<polyline clip-path=\"url(#clip443)\" style=\"stroke:#000000; stroke-linecap:round; stroke-linejoin:round; stroke-width:2; stroke-opacity:0.1; fill:none\" points=\"\n",
       "  1539.77,1486.45 1539.77,47.2441 \n",
       "  \"/>\n",
       "<polyline clip-path=\"url(#clip443)\" style=\"stroke:#000000; stroke-linecap:round; stroke-linejoin:round; stroke-width:2; stroke-opacity:0.1; fill:none\" points=\"\n",
       "  2185.95,1486.45 2185.95,47.2441 \n",
       "  \"/>\n",
       "<polyline clip-path=\"url(#clip440)\" style=\"stroke:#000000; stroke-linecap:round; stroke-linejoin:round; stroke-width:4; stroke-opacity:1; fill:none\" points=\"\n",
       "  188.292,1486.45 2352.76,1486.45 \n",
       "  \"/>\n",
       "<polyline clip-path=\"url(#clip440)\" style=\"stroke:#000000; stroke-linecap:round; stroke-linejoin:round; stroke-width:4; stroke-opacity:1; fill:none\" points=\"\n",
       "  247.397,1486.45 247.397,1467.55 \n",
       "  \"/>\n",
       "<polyline clip-path=\"url(#clip440)\" style=\"stroke:#000000; stroke-linecap:round; stroke-linejoin:round; stroke-width:4; stroke-opacity:1; fill:none\" points=\"\n",
       "  893.582,1486.45 893.582,1467.55 \n",
       "  \"/>\n",
       "<polyline clip-path=\"url(#clip440)\" style=\"stroke:#000000; stroke-linecap:round; stroke-linejoin:round; stroke-width:4; stroke-opacity:1; fill:none\" points=\"\n",
       "  1539.77,1486.45 1539.77,1467.55 \n",
       "  \"/>\n",
       "<polyline clip-path=\"url(#clip440)\" style=\"stroke:#000000; stroke-linecap:round; stroke-linejoin:round; stroke-width:4; stroke-opacity:1; fill:none\" points=\"\n",
       "  2185.95,1486.45 2185.95,1467.55 \n",
       "  \"/>\n",
       "<path clip-path=\"url(#clip440)\" d=\"M247.397 1517.37 Q243.786 1517.37 241.957 1520.93 Q240.151 1524.47 240.151 1531.6 Q240.151 1538.71 241.957 1542.27 Q243.786 1545.82 247.397 1545.82 Q251.031 1545.82 252.836 1542.27 Q254.665 1538.71 254.665 1531.6 Q254.665 1524.47 252.836 1520.93 Q251.031 1517.37 247.397 1517.37 M247.397 1513.66 Q253.207 1513.66 256.262 1518.27 Q259.341 1522.85 259.341 1531.6 Q259.341 1540.33 256.262 1544.94 Q253.207 1549.52 247.397 1549.52 Q241.587 1549.52 238.508 1544.94 Q235.452 1540.33 235.452 1531.6 Q235.452 1522.85 238.508 1518.27 Q241.587 1513.66 247.397 1513.66 Z\" fill=\"#000000\" fill-rule=\"evenodd\" fill-opacity=\"1\" /><path clip-path=\"url(#clip440)\" d=\"M868.27 1544.91 L875.909 1544.91 L875.909 1518.55 L867.599 1520.21 L867.599 1515.95 L875.863 1514.29 L880.538 1514.29 L880.538 1544.91 L888.177 1544.91 L888.177 1548.85 L868.27 1548.85 L868.27 1544.91 Z\" fill=\"#000000\" fill-rule=\"evenodd\" fill-opacity=\"1\" /><path clip-path=\"url(#clip440)\" d=\"M907.622 1517.37 Q904.011 1517.37 902.182 1520.93 Q900.376 1524.47 900.376 1531.6 Q900.376 1538.71 902.182 1542.27 Q904.011 1545.82 907.622 1545.82 Q911.256 1545.82 913.061 1542.27 Q914.89 1538.71 914.89 1531.6 Q914.89 1524.47 913.061 1520.93 Q911.256 1517.37 907.622 1517.37 M907.622 1513.66 Q913.432 1513.66 916.487 1518.27 Q919.566 1522.85 919.566 1531.6 Q919.566 1540.33 916.487 1544.94 Q913.432 1549.52 907.622 1549.52 Q901.812 1549.52 898.733 1544.94 Q895.677 1540.33 895.677 1531.6 Q895.677 1522.85 898.733 1518.27 Q901.812 1513.66 907.622 1513.66 Z\" fill=\"#000000\" fill-rule=\"evenodd\" fill-opacity=\"1\" /><path clip-path=\"url(#clip440)\" d=\"M1518.54 1544.91 L1534.86 1544.91 L1534.86 1548.85 L1512.92 1548.85 L1512.92 1544.91 Q1515.58 1542.16 1520.16 1537.53 Q1524.77 1532.88 1525.95 1531.53 Q1528.19 1529.01 1529.07 1527.27 Q1529.98 1525.51 1529.98 1523.82 Q1529.98 1521.07 1528.03 1519.33 Q1526.11 1517.6 1523.01 1517.6 Q1520.81 1517.6 1518.36 1518.36 Q1515.93 1519.13 1513.15 1520.68 L1513.15 1515.95 Q1515.97 1514.82 1518.43 1514.24 Q1520.88 1513.66 1522.92 1513.66 Q1528.29 1513.66 1531.48 1516.35 Q1534.68 1519.03 1534.68 1523.52 Q1534.68 1525.65 1533.87 1527.57 Q1533.08 1529.47 1530.97 1532.07 Q1530.39 1532.74 1527.29 1535.95 Q1524.19 1539.15 1518.54 1544.91 Z\" fill=\"#000000\" fill-rule=\"evenodd\" fill-opacity=\"1\" /><path clip-path=\"url(#clip440)\" d=\"M1554.68 1517.37 Q1551.06 1517.37 1549.24 1520.93 Q1547.43 1524.47 1547.43 1531.6 Q1547.43 1538.71 1549.24 1542.27 Q1551.06 1545.82 1554.68 1545.82 Q1558.31 1545.82 1560.12 1542.27 Q1561.94 1538.71 1561.94 1531.6 Q1561.94 1524.47 1560.12 1520.93 Q1558.31 1517.37 1554.68 1517.37 M1554.68 1513.66 Q1560.49 1513.66 1563.54 1518.27 Q1566.62 1522.85 1566.62 1531.6 Q1566.62 1540.33 1563.54 1544.94 Q1560.49 1549.52 1554.68 1549.52 Q1548.87 1549.52 1545.79 1544.94 Q1542.73 1540.33 1542.73 1531.6 Q1542.73 1522.85 1545.79 1518.27 Q1548.87 1513.66 1554.68 1513.66 Z\" fill=\"#000000\" fill-rule=\"evenodd\" fill-opacity=\"1\" /><path clip-path=\"url(#clip440)\" d=\"M2174.8 1530.21 Q2178.15 1530.93 2180.03 1533.2 Q2181.93 1535.47 2181.93 1538.8 Q2181.93 1543.92 2178.41 1546.72 Q2174.89 1549.52 2168.41 1549.52 Q2166.23 1549.52 2163.92 1549.08 Q2161.63 1548.66 2159.17 1547.81 L2159.17 1543.29 Q2161.12 1544.43 2163.43 1545.01 Q2165.75 1545.58 2168.27 1545.58 Q2172.67 1545.58 2174.96 1543.85 Q2177.27 1542.11 2177.27 1538.8 Q2177.27 1535.75 2175.12 1534.03 Q2172.99 1532.3 2169.17 1532.3 L2165.14 1532.3 L2165.14 1528.45 L2169.36 1528.45 Q2172.81 1528.45 2174.63 1527.09 Q2176.46 1525.7 2176.46 1523.11 Q2176.46 1520.45 2174.57 1519.03 Q2172.69 1517.6 2169.17 1517.6 Q2167.25 1517.6 2165.05 1518.01 Q2162.85 1518.43 2160.21 1519.31 L2160.21 1515.14 Q2162.88 1514.4 2165.19 1514.03 Q2167.53 1513.66 2169.59 1513.66 Q2174.91 1513.66 2178.01 1516.09 Q2181.12 1518.5 2181.12 1522.62 Q2181.12 1525.49 2179.47 1527.48 Q2177.83 1529.45 2174.8 1530.21 Z\" fill=\"#000000\" fill-rule=\"evenodd\" fill-opacity=\"1\" /><path clip-path=\"url(#clip440)\" d=\"M2200.79 1517.37 Q2197.18 1517.37 2195.35 1520.93 Q2193.55 1524.47 2193.55 1531.6 Q2193.55 1538.71 2195.35 1542.27 Q2197.18 1545.82 2200.79 1545.82 Q2204.43 1545.82 2206.23 1542.27 Q2208.06 1538.71 2208.06 1531.6 Q2208.06 1524.47 2206.23 1520.93 Q2204.43 1517.37 2200.79 1517.37 M2200.79 1513.66 Q2206.6 1513.66 2209.66 1518.27 Q2212.74 1522.85 2212.74 1531.6 Q2212.74 1540.33 2209.66 1544.94 Q2206.6 1549.52 2200.79 1549.52 Q2194.98 1549.52 2191.9 1544.94 Q2188.85 1540.33 2188.85 1531.6 Q2188.85 1522.85 2191.9 1518.27 Q2194.98 1513.66 2200.79 1513.66 Z\" fill=\"#000000\" fill-rule=\"evenodd\" fill-opacity=\"1\" /><polyline clip-path=\"url(#clip443)\" style=\"stroke:#000000; stroke-linecap:round; stroke-linejoin:round; stroke-width:2; stroke-opacity:0.1; fill:none\" points=\"\n",
       "  188.292,1099.4 2352.76,1099.4 \n",
       "  \"/>\n",
       "<polyline clip-path=\"url(#clip443)\" style=\"stroke:#000000; stroke-linecap:round; stroke-linejoin:round; stroke-width:2; stroke-opacity:0.1; fill:none\" points=\"\n",
       "  188.292,409.921 2352.76,409.921 \n",
       "  \"/>\n",
       "<polyline clip-path=\"url(#clip440)\" style=\"stroke:#000000; stroke-linecap:round; stroke-linejoin:round; stroke-width:4; stroke-opacity:1; fill:none\" points=\"\n",
       "  188.292,1486.45 188.292,47.2441 \n",
       "  \"/>\n",
       "<polyline clip-path=\"url(#clip440)\" style=\"stroke:#000000; stroke-linecap:round; stroke-linejoin:round; stroke-width:4; stroke-opacity:1; fill:none\" points=\"\n",
       "  188.292,1099.4 207.19,1099.4 \n",
       "  \"/>\n",
       "<polyline clip-path=\"url(#clip440)\" style=\"stroke:#000000; stroke-linecap:round; stroke-linejoin:round; stroke-width:4; stroke-opacity:1; fill:none\" points=\"\n",
       "  188.292,409.921 207.19,409.921 \n",
       "  \"/>\n",
       "<path clip-path=\"url(#clip440)\" d=\"M51.6634 1119.2 L59.3023 1119.2 L59.3023 1092.83 L50.9921 1094.5 L50.9921 1090.24 L59.256 1088.57 L63.9319 1088.57 L63.9319 1119.2 L71.5707 1119.2 L71.5707 1123.13 L51.6634 1123.13 L51.6634 1119.2 Z\" fill=\"#000000\" fill-rule=\"evenodd\" fill-opacity=\"1\" /><path clip-path=\"url(#clip440)\" d=\"M91.0151 1091.65 Q87.404 1091.65 85.5753 1095.21 Q83.7697 1098.76 83.7697 1105.89 Q83.7697 1112.99 85.5753 1116.56 Q87.404 1120.1 91.0151 1120.1 Q94.6493 1120.1 96.4548 1116.56 Q98.2835 1112.99 98.2835 1105.89 Q98.2835 1098.76 96.4548 1095.21 Q94.6493 1091.65 91.0151 1091.65 M91.0151 1087.95 Q96.8252 1087.95 99.8808 1092.55 Q102.959 1097.14 102.959 1105.89 Q102.959 1114.61 99.8808 1119.22 Q96.8252 1123.8 91.0151 1123.8 Q85.2049 1123.8 82.1262 1119.22 Q79.0707 1114.61 79.0707 1105.89 Q79.0707 1097.14 82.1262 1092.55 Q85.2049 1087.95 91.0151 1087.95 Z\" fill=\"#000000\" fill-rule=\"evenodd\" fill-opacity=\"1\" /><path clip-path=\"url(#clip440)\" d=\"M102.959 1082.05 L127.071 1082.05 L127.071 1085.24 L102.959 1085.24 L102.959 1082.05 Z\" fill=\"#000000\" fill-rule=\"evenodd\" fill-opacity=\"1\" /><path clip-path=\"url(#clip440)\" d=\"M135.309 1067.64 L150.223 1067.64 L150.223 1070.84 L138.788 1070.84 L138.788 1077.72 Q139.616 1077.44 140.443 1077.31 Q141.271 1077.16 142.098 1077.16 Q146.8 1077.16 149.546 1079.73 Q152.292 1082.31 152.292 1086.71 Q152.292 1091.24 149.471 1093.76 Q146.65 1096.27 141.515 1096.27 Q139.747 1096.27 137.904 1095.97 Q136.08 1095.66 134.124 1095.06 L134.124 1091.24 Q135.817 1092.17 137.622 1092.62 Q139.428 1093.07 141.44 1093.07 Q144.694 1093.07 146.593 1091.36 Q148.493 1089.65 148.493 1086.71 Q148.493 1083.78 146.593 1082.07 Q144.694 1080.35 141.44 1080.35 Q139.917 1080.35 138.393 1080.69 Q136.889 1081.03 135.309 1081.75 L135.309 1067.64 Z\" fill=\"#000000\" fill-rule=\"evenodd\" fill-opacity=\"1\" /><path clip-path=\"url(#clip440)\" d=\"M81.5866 429.714 L89.2254 429.714 L89.2254 403.348 L80.9153 405.015 L80.9153 400.755 L89.1791 399.089 L93.855 399.089 L93.855 429.714 L101.494 429.714 L101.494 433.649 L81.5866 433.649 L81.5866 429.714 Z\" fill=\"#000000\" fill-rule=\"evenodd\" fill-opacity=\"1\" /><path clip-path=\"url(#clip440)\" d=\"M120.938 402.168 Q117.327 402.168 115.498 405.732 Q113.693 409.274 113.693 416.404 Q113.693 423.51 115.498 427.075 Q117.327 430.616 120.938 430.616 Q124.572 430.616 126.378 427.075 Q128.207 423.51 128.207 416.404 Q128.207 409.274 126.378 405.732 Q124.572 402.168 120.938 402.168 M120.938 398.464 Q126.748 398.464 129.804 403.07 Q132.883 407.654 132.883 416.404 Q132.883 425.13 129.804 429.737 Q126.748 434.32 120.938 434.32 Q115.128 434.32 112.049 429.737 Q108.994 425.13 108.994 416.404 Q108.994 407.654 112.049 403.07 Q115.128 398.464 120.938 398.464 Z\" fill=\"#000000\" fill-rule=\"evenodd\" fill-opacity=\"1\" /><path clip-path=\"url(#clip440)\" d=\"M142.587 380.66 Q139.653 380.66 138.168 383.556 Q136.701 386.434 136.701 392.227 Q136.701 398.001 138.168 400.897 Q139.653 403.775 142.587 403.775 Q145.54 403.775 147.007 400.897 Q148.493 398.001 148.493 392.227 Q148.493 386.434 147.007 383.556 Q145.54 380.66 142.587 380.66 M142.587 377.651 Q147.308 377.651 149.791 381.393 Q152.292 385.117 152.292 392.227 Q152.292 399.317 149.791 403.06 Q147.308 406.784 142.587 406.784 Q137.867 406.784 135.365 403.06 Q132.883 399.317 132.883 392.227 Q132.883 385.117 135.365 381.393 Q137.867 377.651 142.587 377.651 Z\" fill=\"#000000\" fill-rule=\"evenodd\" fill-opacity=\"1\" /><polyline clip-path=\"url(#clip443)\" style=\"stroke:#009af9; stroke-linecap:round; stroke-linejoin:round; stroke-width:4; stroke-opacity:1; fill:none\" points=\"\n",
       "  249.551,1428.49 251.705,1388.37 253.859,1365.43 256.012,1349.55 258.166,1337.53 260.32,1327.93 262.474,1320.03 264.628,1313.33 266.782,1307.59 268.936,1302.57 \n",
       "  271.09,1298.15 273.244,1294.22 275.398,1290.7 277.552,1287.52 279.706,1284.64 281.86,1282.02 284.014,1279.62 286.168,1277.43 288.322,1275.41 290.476,1273.55 \n",
       "  292.63,1271.83 294.784,1270.24 296.938,1268.76 299.092,1267.39 301.245,1266.11 303.399,1264.93 305.553,1263.82 307.707,1262.79 309.861,1261.82 312.015,1260.92 \n",
       "  314.169,1260.07 316.323,1259.28 318.477,1258.54 320.631,1257.85 322.785,1257.2 324.939,1256.58 327.093,1256.02 329.247,1255.47 331.401,1254.98 333.555,1254.5 \n",
       "  335.709,1254.06 337.863,1253.64 340.017,1253.25 342.171,1252.88 344.325,1252.54 346.478,1252.22 348.632,1251.91 350.786,1251.63 352.94,1251.36 355.094,1251.11 \n",
       "  357.248,1250.87 359.402,1250.66 361.556,1250.45 363.71,1250.26 365.864,1250.08 368.018,1249.92 370.172,1249.75 372.326,1249.61 374.48,1249.47 376.634,1249.34 \n",
       "  378.788,1249.23 380.942,1249.11 383.096,1249.02 385.25,1248.91 387.404,1248.83 389.558,1248.74 391.711,1248.68 393.865,1248.59 396.019,1248.54 398.173,1248.47 \n",
       "  400.327,1248.42 402.481,1248.37 404.635,1248.32 406.789,1248.28 408.943,1248.24 411.097,1248.21 413.251,1248.16 415.405,1248.15 417.559,1248.11 419.713,1248.1 \n",
       "  421.867,1248.06 424.021,1248.06 426.175,1248.03 428.329,1248.03 430.483,1248 432.637,1248 434.791,1247.99 436.944,1247.98 439.098,1247.98 441.252,1247.96 \n",
       "  443.406,1247.98 445.56,1247.95 447.714,1247.98 449.868,1247.94 452.022,1247.98 454.176,1247.94 456.33,1247.98 458.484,1247.95 460.638,1247.98 462.792,1247.96 \n",
       "  464.946,1247.98 467.1,1247.98 469.254,1247.97 471.408,1248 473.562,1247.97 475.716,1248.02 477.87,1247.98 480.024,1248.03 482.177,1247.98 484.331,1248.05 \n",
       "  486.485,1248 488.639,1248.05 490.793,1248.02 492.947,1248.06 495.101,1248.04 497.255,1248.05 499.409,1248.07 501.563,1248.05 503.717,1248.1 505.871,1248.05 \n",
       "  508.025,1248.13 510.179,1248.05 512.333,1248.14 514.487,1248.06 516.641,1248.15 518.795,1248.08 520.949,1248.15 523.103,1248.11 525.257,1248.14 527.41,1248.14 \n",
       "  529.564,1248.13 531.718,1248.17 533.872,1248.11 536.026,1248.21 538.18,1248.1 540.334,1248.23 542.488,1248.1 544.642,1248.25 546.796,1248.11 548.95,1248.24 \n",
       "  551.104,1248.14 553.258,1248.23 555.412,1248.17 557.566,1248.2 559.72,1248.22 561.874,1248.17 564.028,1248.27 566.182,1248.14 568.336,1248.31 570.49,1248.11 \n",
       "  572.643,1248.33 574.797,1248.11 576.951,1248.33 579.105,1248.13 581.259,1248.31 583.413,1248.17 585.567,1248.27 587.721,1248.23 589.875,1248.22 592.029,1248.29 \n",
       "  594.183,1248.16 596.337,1248.36 598.491,1248.11 600.645,1248.41 602.799,1248.08 604.953,1248.43 607.107,1248.08 609.261,1248.42 611.415,1248.12 613.569,1248.37 \n",
       "  615.723,1248.19 617.876,1248.28 620.03,1248.28 622.184,1248.19 624.338,1248.39 626.492,1248.09 628.646,1248.48 630.8,1248.02 632.954,1248.54 635.108,1247.99 \n",
       "  637.262,1248.55 639.416,1248.01 641.57,1248.5 643.724,1248.09 645.878,1248.39 648.032,1248.21 650.186,1248.25 652.34,1248.37 654.494,1248.09 656.648,1248.53 \n",
       "  658.802,1247.95 660.956,1248.65 663.109,1247.85 665.263,1248.72 667.417,1247.83 669.571,1248.7 671.725,1247.9 673.879,1248.58 676.033,1248.05 678.187,1248.39 \n",
       "  680.341,1248.28 682.495,1248.14 684.649,1248.53 686.803,1247.9 688.957,1248.77 691.111,1247.7 693.265,1248.93 695.419,1247.59 697.573,1248.98 699.727,1247.61 \n",
       "  701.881,1248.89 704.035,1247.77 706.189,1248.65 708.342,1248.05 710.496,1248.31 712.65,1248.43 714.804,1247.91 716.958,1248.83 719.112,1247.54 721.266,1249.18 \n",
       "  723.42,1247.27 725.574,1249.38 727.728,1247.18 729.882,1249.37 732.036,1247.29 734.19,1249.12 736.344,1247.62 738.498,1248.67 740.652,1248.14 742.806,1248.08 \n",
       "  744.96,1248.77 747.114,1247.46 749.268,1249.39 751.422,1246.93 753.575,1249.86 755.729,1246.61 757.883,1250.06 760.037,1246.58 762.191,1249.9 764.345,1246.89 \n",
       "  766.499,1249.36 768.653,1247.53 770.807,1248.53 772.961,1248.42 775.115,1247.56 777.269,1249.44 779.423,1246.62 781.577,1250.37 783.731,1245.91 785.885,1250.98 \n",
       "  788.039,1245.58 790.193,1251.08 792.347,1245.73 794.501,1250.57 796.655,1246.41 798.808,1249.5 800.962,1247.58 803.116,1248.06 805.27,1249.09 807.424,1246.52 \n",
       "  809.578,1250.71 811.732,1245.18 813.886,1252.07 816.04,1244.3 818.194,1252.79 820.348,1244.06 822.502,1252.55 824.656,1244.59 826.81,1251.31 828.964,1245.92 \n",
       "  831.118,1249.28 833.272,1247.97 835.426,1246.88 837.58,1250.5 839.734,1244.59 841.888,1253.06 844.041,1242.8 846.195,1254.99 848.349,1241.83 850.503,1255.61 \n",
       "  852.657,1241.9 854.811,1254.48 856.965,1243.13 859.119,1251.79 861.273,1245.55 863.427,1248.18 865.581,1249.06 867.735,1244.45 869.889,1253.26 872.043,1241.26 \n",
       "  874.197,1257.35 876.351,1239.08 878.505,1259.99 880.659,1238.23 882.813,1259.83 884.967,1238.91 887.121,1256.55 889.274,1241.29 891.428,1251.2 893.582,1245.48 \n",
       "  895.736,1245.28 897.89,1251.42 900.044,1239.96 902.198,1258.6 904.352,1235.94 906.506,1265.39 908.66,1233.59 910.814,1268.57 912.968,1233.15 915.122,1265.45 \n",
       "  917.276,1234.85 919.43,1257.36 921.584,1238.97 923.738,1247.85 925.892,1245.88 928.046,1239.27 930.2,1255.96 932.354,1232.57 934.507,1269.04 936.661,1228.07 \n",
       "  938.815,1281.59 940.969,1225.9 943.123,1282.87 945.277,1226.21 947.431,1269.73 949.585,1229.28 951.739,1253.31 953.893,1235.66 956.047,1239.46 958.201,1246.35 \n",
       "  960.355,1228.99 962.509,1263.38 964.663,1221.69 966.817,1290.69 968.971,1217.27 971.125,1322.65 973.279,1215.64 975.433,1296.45 977.587,1216.88 979.74,1262.55 \n",
       "  981.894,1221.36 984.048,1240.07 986.202,1229.91 988.356,1224.73 990.51,1244.31 992.664,1214.18 994.818,1269.1 996.972,1207.26 999.126,1321.19 1001.28,1203.42 \n",
       "  1003.43,1335 1005.59,1202.46 1007.74,1269.39 1009.9,1204.45 1012.05,1237.88 1014.2,1209.69 1016.36,1218.15 1018.51,1218.86 1020.67,1204.73 1022.82,1232.95 \n",
       "  1024.97,1195.54 1027.13,1251.96 1029.28,1189.64 1031.44,1264.54 1033.59,1186.56 1035.74,1249.35 1037.9,1186.09 1040.05,1225.52 1042.21,1188.2 1044.36,1206.29 \n",
       "  1046.51,1192.91 1048.67,1191.97 1050.82,1200.02 1052.97,1181.5 1055.13,1208.41 1057.28,1174.11 1059.44,1214.28 1061.59,1169.32 1063.74,1211.78 1065.9,1166.83 \n",
       "  1068.05,1200.84 1070.21,1166.43 1072.36,1187.25 1074.51,1167.9 1076.67,1174.79 1078.82,1170.85 1080.98,1164.53 1083.13,1174.42 1085.28,1156.55 1087.44,1176.94 \n",
       "  1089.59,1150.7 1091.75,1176.19 1093.9,1146.76 1096.05,1171.05 1098.21,1144.52 1100.36,1162.71 1102.52,1143.74 1104.67,1153.34 1106.82,1144.06 1108.98,1144.47 \n",
       "  1111.13,1144.9 1113.29,1136.81 1115.44,1145.36 1117.59,1130.58 1119.75,1144.39 1121.9,1125.8 1124.06,1141.19 1126.21,1122.35 1128.36,1135.81 1130.52,1120.06 \n",
       "  1132.67,1129.05 1134.83,1118.65 1136.98,1121.88 1139.13,1117.74 1141.29,1115.05 1143.44,1116.8 1145.59,1109 1147.75,1115.23 1149.9,1103.89 1152.06,1112.54 \n",
       "  1154.21,1099.74 1156.36,1108.52 1158.52,1096.49 1160.67,1103.39 1162.83,1093.95 1164.98,1097.63 1167.13,1091.88 1169.29,1091.75 1171.44,1089.94 1173.6,1086.14 \n",
       "  1175.75,1087.78 1177.9,1081.06 1180.06,1085.05 1182.21,1076.62 1184.37,1081.57 1186.52,1072.81 1188.67,1077.33 1190.83,1069.55 1192.98,1072.51 1195.14,1066.7 \n",
       "  1197.29,1067.42 1199.44,1064.06 1201.6,1062.33 1203.75,1061.39 1205.91,1057.46 1208.06,1058.46 1210.21,1052.96 1212.37,1055.12 1214.52,1048.88 1216.68,1051.3 \n",
       "  1218.83,1045.21 1220.98,1047.05 1223.14,1041.86 1225.29,1042.52 1227.45,1038.73 1229.6,1037.87 1231.75,1035.65 1233.91,1033.27 1236.06,1032.49 1238.21,1028.85 \n",
       "  1240.37,1029.12 1242.52,1024.68 1244.68,1025.47 1246.83,1020.79 1248.98,1021.53 1251.14,1017.14 1253.29,1017.35 1255.45,1013.68 1257.6,1013.03 1259.75,1010.31 \n",
       "  1261.91,1008.67 1264.06,1006.94 1266.22,1004.38 1268.37,1003.48 1270.52,1000.23 1272.68,999.861 1274.83,996.239 1276.99,996.059 1279.14,992.425 1281.29,992.086 \n",
       "  1283.45,988.756 1285.6,987.986 1287.76,985.184 1289.91,983.823 1292.06,981.646 1294.22,979.662 1296.37,978.082 1298.53,975.56 1300.68,974.44 1302.83,971.555 \n",
       "  1304.99,970.69 1307.14,967.66 1309.3,966.825 1311.45,963.872 1313.6,962.861 1315.76,960.165 1317.91,958.832 1320.06,956.504 1322.22,954.78 1324.37,952.849 \n",
       "  1326.53,950.743 1328.68,949.162 1330.83,946.753 1332.99,945.417 1335.14,942.831 1337.3,941.601 1339.45,938.979 1341.6,937.714 1343.76,935.19 1345.91,933.773 \n",
       "  1348.07,931.445 1350.22,929.8 1352.37,927.718 1354.53,925.822 1356.68,923.986 1358.84,921.862 1360.99,920.225 1363.14,917.939 1365.3,916.423 1367.45,914.06 \n",
       "  1369.61,912.576 1371.76,910.225 1373.91,908.687 1376.07,906.425 1378.22,904.768 1380.38,902.647 1382.53,900.837 1384.68,898.875 1386.84,896.908 1388.99,895.093 \n",
       "  1391.15,892.995 1393.3,891.289 1395.45,889.108 1397.61,887.457 1399.76,885.25 1401.92,883.597 1404.07,881.419 1406.22,879.713 1408.38,877.606 1410.53,875.814 \n",
       "  1412.68,873.804 1414.84,871.911 1416.99,870.001 1419.15,868.014 1421.3,866.188 1423.45,864.129 1425.61,862.36 1427.76,860.262 1429.92,858.514 1432.07,856.413 \n",
       "  1434.22,854.65 1436.38,852.579 1438.53,850.773 1440.69,848.756 1442.84,846.89 1444.99,844.936 1447.15,843.006 1449.3,841.113 1451.46,839.128 1453.61,837.282 \n",
       "  1455.76,835.259 1457.92,833.44 1460.07,831.402 1462.23,829.587 1464.38,827.556 1466.53,825.724 1468.69,823.719 1470.84,821.854 1473,819.886 1475.15,817.982 \n",
       "  1477.3,816.054 1479.46,814.111 1481.61,812.218 1483.77,810.244 1485.92,808.377 1488.07,806.384 1490.23,804.529 1492.38,802.532 1494.54,800.673 1496.69,798.686 \n",
       "  1498.84,796.812 1501,794.845 1503.15,792.948 1505.3,791.005 1507.46,789.083 1509.61,787.165 1511.77,785.22 1513.92,783.322 1516.07,781.36 1518.23,779.475 \n",
       "  1520.38,777.505 1522.54,775.624 1524.69,773.654 1526.84,771.768 1529,769.807 1531.15,767.909 1533.31,765.962 1535.46,764.049 1537.61,762.118 1539.77,760.189 \n",
       "  1541.92,758.273 1544.08,756.33 1546.23,754.426 1548.38,752.474 1550.54,750.576 1552.69,748.621 1554.85,746.723 1557,744.771 1559.15,742.868 1561.31,740.923 \n",
       "  1563.46,739.011 1565.62,737.076 1567.77,735.153 1569.92,733.228 1572.08,731.297 1574.23,729.38 1576.39,727.441 1578.54,725.531 1580.69,723.587 1582.85,721.679 \n",
       "  1585,719.735 1587.16,717.826 1589.31,715.885 1591.46,713.971 1593.62,712.035 1595.77,710.116 1597.92,708.186 1600.08,706.26 1602.23,704.337 1604.39,702.405 \n",
       "  1606.54,700.487 1608.69,698.551 1610.85,696.636 1613,694.699 1615.16,692.784 1617.31,690.847 1619.46,688.93 1621.62,686.996 1623.77,685.076 1625.93,683.146 \n",
       "  1628.08,681.222 1630.23,679.296 1632.39,677.368 1634.54,675.445 1636.7,673.514 1638.85,671.594 1641,669.661 1643.16,667.742 1645.31,665.809 1647.47,663.89 \n",
       "  1649.62,661.957 1651.77,660.037 1653.93,658.106 1656.08,656.183 1658.24,654.255 1660.39,652.33 1662.54,650.404 1664.7,648.476 1666.85,646.553 1669.01,644.623 \n",
       "  1671.16,642.701 1673.31,640.771 1675.47,638.849 1677.62,636.918 1679.78,634.996 1681.93,633.067 1684.08,631.144 1686.24,629.215 1688.39,627.291 1690.54,625.364 \n",
       "  1692.7,623.437 1694.85,621.512 1697.01,619.585 1699.16,617.661 1701.31,615.732 1703.47,613.809 1705.62,611.88 1707.78,609.956 1709.93,608.028 1712.08,606.104 \n",
       "  1714.24,604.176 1716.39,602.251 1718.55,600.324 1720.7,598.398 1722.85,596.472 1725.01,594.546 1727.16,592.62 1729.32,590.693 1731.47,588.768 1733.62,586.841 \n",
       "  1735.78,584.916 1737.93,582.988 1740.09,581.064 1742.24,579.136 1744.39,577.212 1746.55,575.284 1748.7,573.359 1750.86,571.432 1753.01,569.506 1755.16,567.581 \n",
       "  1757.32,565.654 1759.47,563.729 1761.63,561.801 1763.78,559.876 1765.93,557.949 1768.09,556.024 1770.24,554.097 1772.39,552.172 1774.55,550.245 1776.7,548.319 \n",
       "  1778.86,546.393 1781.01,544.467 1783.16,542.541 1785.32,540.615 1787.47,538.689 1789.63,536.762 1791.78,534.837 1793.93,532.91 1796.09,530.984 1798.24,529.058 \n",
       "  1800.4,527.132 1802.55,525.205 1804.7,523.28 1806.86,521.353 1809.01,519.427 1811.17,517.501 1813.32,515.575 1815.47,513.649 1817.63,511.723 1819.78,509.797 \n",
       "  1821.94,507.87 1824.09,505.945 1826.24,504.018 1828.4,502.092 1830.55,500.166 1832.71,498.24 1834.86,496.314 1837.01,494.388 1839.17,492.462 1841.32,490.536 \n",
       "  1843.48,488.609 1845.63,486.683 1847.78,484.757 1849.94,482.831 1852.09,480.905 1854.25,478.979 1856.4,477.053 1858.55,475.126 1860.71,473.201 1862.86,471.274 \n",
       "  1865.01,469.348 1867.17,467.422 1869.32,465.496 1871.48,463.57 1873.63,461.644 1875.78,459.718 1877.94,457.791 1880.09,455.865 1882.25,453.939 1884.4,452.013 \n",
       "  1886.55,450.087 1888.71,448.161 1890.86,446.235 1893.02,444.309 1895.17,442.382 1897.32,440.456 1899.48,438.53 1901.63,436.604 1903.79,434.678 1905.94,432.752 \n",
       "  1908.09,430.826 1910.25,428.9 1912.4,426.974 1914.56,425.047 1916.71,423.121 1918.86,421.195 1921.02,419.269 1923.17,417.343 1925.33,415.417 1927.48,413.491 \n",
       "  1929.63,411.565 1931.79,409.638 1933.94,407.712 1936.1,405.786 1938.25,403.86 1940.4,401.934 1942.56,400.008 1944.71,398.082 1946.87,396.156 1949.02,394.23 \n",
       "  1951.17,392.303 1953.33,390.377 1955.48,388.451 1957.63,386.525 1959.79,384.599 1961.94,382.673 1964.1,380.747 1966.25,378.821 1968.4,376.894 1970.56,374.968 \n",
       "  1972.71,373.042 1974.87,371.116 1977.02,369.19 1979.17,367.264 1981.33,365.338 1983.48,363.412 1985.64,361.485 1987.79,359.559 1989.94,357.633 1992.1,355.707 \n",
       "  1994.25,353.781 1996.41,351.855 1998.56,349.929 2000.71,348.003 2002.87,346.076 2005.02,344.15 2007.18,342.224 2009.33,340.298 2011.48,338.372 2013.64,336.446 \n",
       "  2015.79,334.52 2017.95,332.594 2020.1,330.668 2022.25,328.741 2024.41,326.815 2026.56,324.889 2028.72,322.963 2030.87,321.037 2033.02,319.111 2035.18,317.185 \n",
       "  2037.33,315.259 2039.49,313.332 2041.64,311.406 2043.79,309.48 2045.95,307.554 2048.1,305.628 2050.25,303.702 2052.41,301.776 2054.56,299.85 2056.72,297.923 \n",
       "  2058.87,295.997 2061.02,294.071 2063.18,292.145 2065.33,290.219 2067.49,288.293 2069.64,286.367 2071.79,284.441 2073.95,282.515 2076.1,280.588 2078.26,278.662 \n",
       "  2080.41,276.736 2082.56,274.81 2084.72,272.884 2086.87,270.958 2089.03,269.032 2091.18,267.106 2093.33,265.179 2095.49,263.253 2097.64,261.327 2099.8,259.401 \n",
       "  2101.95,257.475 2104.1,255.549 2106.26,253.623 2108.41,251.697 2110.57,249.77 2112.72,247.844 2114.87,245.918 2117.03,243.992 2119.18,242.066 2121.34,240.14 \n",
       "  2123.49,238.214 2125.64,236.288 2127.8,234.362 2129.95,232.435 2132.11,230.509 2134.26,228.583 2136.41,226.657 2138.57,224.731 2140.72,222.805 2142.87,220.879 \n",
       "  2145.03,218.953 2147.18,217.026 2149.34,215.1 2151.49,213.174 2153.64,211.248 2155.8,209.322 2157.95,207.396 2160.11,205.47 2162.26,203.544 2164.41,201.617 \n",
       "  2166.57,199.691 2168.72,197.765 2170.88,195.839 2173.03,193.913 2175.18,191.987 2177.34,190.061 2179.49,188.135 2181.65,186.209 2183.8,184.282 2185.95,182.356 \n",
       "  2188.11,180.43 2190.26,178.504 2192.42,176.578 2194.57,174.652 2196.72,172.726 2198.88,170.8 2201.03,168.873 2203.19,166.947 2205.34,165.021 2207.49,163.095 \n",
       "  2209.65,161.169 2211.8,159.243 2213.96,157.317 2216.11,155.391 2218.26,153.464 2220.42,151.538 2222.57,149.612 2224.72,147.686 2226.88,145.76 2229.03,143.834 \n",
       "  2231.19,141.908 2233.34,139.982 2235.49,138.056 2237.65,136.129 2239.8,134.203 2241.96,132.277 2244.11,130.351 2246.26,128.425 2248.42,126.499 2250.57,124.573 \n",
       "  2252.73,122.647 2254.88,120.72 2257.03,118.794 2259.19,116.868 2261.34,114.942 2263.5,113.016 2265.65,111.09 2267.8,109.164 2269.96,107.238 2272.11,105.311 \n",
       "  2274.27,103.385 2276.42,101.459 2278.57,99.5331 2280.73,97.607 2282.88,95.6809 2285.04,93.7548 2287.19,91.8286 2289.34,89.9025 2291.5,87.9764 \n",
       "  \"/>\n",
       "<polyline clip-path=\"url(#clip443)\" style=\"stroke:#e26f46; stroke-linecap:round; stroke-linejoin:round; stroke-width:4; stroke-opacity:1; fill:none\" points=\"\n",
       "  249.551,1445.72 251.705,1405.59 253.859,1382.66 256.012,1366.78 258.166,1354.75 260.32,1345.16 262.474,1337.25 264.628,1330.56 266.782,1324.82 268.936,1319.8 \n",
       "  271.09,1315.38 273.244,1311.44 275.398,1307.93 277.552,1304.74 279.706,1301.87 281.86,1299.25 284.014,1296.85 286.168,1294.66 288.322,1292.64 290.476,1290.78 \n",
       "  292.63,1289.06 294.784,1287.47 296.938,1285.99 299.092,1284.62 301.245,1283.34 303.399,1282.16 305.553,1281.05 307.707,1280.02 309.861,1279.05 312.015,1278.15 \n",
       "  314.169,1277.3 316.323,1276.51 318.477,1275.77 320.631,1275.07 322.785,1274.43 324.939,1273.81 327.093,1273.25 329.247,1272.7 331.401,1272.21 333.555,1271.72 \n",
       "  335.709,1271.29 337.863,1270.87 340.017,1270.48 342.171,1270.11 344.325,1269.77 346.478,1269.44 348.632,1269.14 350.786,1268.86 352.94,1268.58 355.094,1268.34 \n",
       "  357.248,1268.1 359.402,1267.89 361.556,1267.67 363.71,1267.49 365.864,1267.3 368.018,1267.14 370.172,1266.98 372.326,1266.84 374.48,1266.7 376.634,1266.57 \n",
       "  378.788,1266.46 380.942,1266.34 383.096,1266.25 385.25,1266.14 387.404,1266.07 389.558,1265.96 391.711,1265.91 393.865,1265.82 396.019,1265.77 398.173,1265.7 \n",
       "  400.327,1265.65 402.481,1265.59 404.635,1265.55 406.789,1265.51 408.943,1265.46 411.097,1265.44 413.251,1265.39 415.405,1265.38 417.559,1265.33 419.713,1265.34 \n",
       "  421.867,1265.29 424.021,1265.3 426.175,1265.25 428.329,1265.26 430.483,1265.23 432.637,1265.23 434.791,1265.22 436.944,1265.21 439.098,1265.21 441.252,1265.19 \n",
       "  443.406,1265.21 445.56,1265.17 447.714,1265.21 449.868,1265.17 452.022,1265.21 454.176,1265.17 456.33,1265.21 458.484,1265.17 460.638,1265.21 462.792,1265.19 \n",
       "  464.946,1265.2 467.1,1265.21 469.254,1265.2 471.408,1265.23 473.562,1265.2 475.716,1265.25 477.87,1265.2 480.024,1265.27 482.177,1265.2 484.331,1265.29 \n",
       "  486.485,1265.22 488.639,1265.29 490.793,1265.24 492.947,1265.29 495.101,1265.27 497.255,1265.28 499.409,1265.31 501.563,1265.27 503.717,1265.34 505.871,1265.27 \n",
       "  508.025,1265.37 510.179,1265.26 512.333,1265.39 514.487,1265.27 516.641,1265.4 518.795,1265.29 520.949,1265.39 523.103,1265.33 525.257,1265.38 527.41,1265.37 \n",
       "  529.564,1265.35 531.718,1265.41 533.872,1265.33 536.026,1265.45 538.18,1265.31 540.334,1265.48 542.488,1265.31 544.642,1265.5 546.796,1265.32 548.95,1265.49 \n",
       "  551.104,1265.35 553.258,1265.47 555.412,1265.4 557.566,1265.43 559.72,1265.45 561.874,1265.38 564.028,1265.51 566.182,1265.34 568.336,1265.57 570.49,1265.31 \n",
       "  572.643,1265.6 574.797,1265.3 576.951,1265.6 579.105,1265.32 581.259,1265.57 583.413,1265.38 585.567,1265.51 587.721,1265.45 589.875,1265.44 592.029,1265.54 \n",
       "  594.183,1265.36 596.337,1265.63 598.491,1265.29 600.645,1265.69 602.799,1265.25 604.953,1265.72 607.107,1265.25 609.261,1265.7 611.415,1265.3 613.569,1265.63 \n",
       "  615.723,1265.39 617.876,1265.52 620.03,1265.52 622.184,1265.39 624.338,1265.66 626.492,1265.26 628.646,1265.78 630.8,1265.16 632.954,1265.86 635.108,1265.12 \n",
       "  637.262,1265.87 639.416,1265.15 641.57,1265.8 643.724,1265.25 645.878,1265.66 648.032,1265.42 650.186,1265.47 652.34,1265.63 654.494,1265.26 656.648,1265.84 \n",
       "  658.802,1265.07 660.956,1266.01 663.109,1264.94 665.263,1266.1 667.417,1264.92 669.571,1266.07 671.725,1265 673.879,1265.91 676.033,1265.21 678.187,1265.65 \n",
       "  680.341,1265.5 682.495,1265.33 684.649,1265.84 686.803,1265 688.957,1266.16 691.111,1264.73 693.265,1266.38 695.419,1264.59 697.573,1266.45 699.727,1264.61 \n",
       "  701.881,1266.32 704.035,1264.82 706.189,1266.01 708.342,1265.21 710.496,1265.54 712.65,1265.71 714.804,1265.02 716.958,1266.25 719.112,1264.53 721.266,1266.71 \n",
       "  723.42,1264.17 725.574,1266.97 727.728,1264.04 729.882,1266.96 732.036,1264.19 734.19,1266.63 736.344,1264.63 738.498,1266.02 740.652,1265.32 742.806,1265.23 \n",
       "  744.96,1266.15 747.114,1264.41 749.268,1266.98 751.422,1263.71 753.575,1267.62 755.729,1263.29 757.883,1267.89 760.037,1263.25 762.191,1267.67 764.345,1263.65 \n",
       "  766.499,1266.95 768.653,1264.49 770.807,1265.83 772.961,1265.68 775.115,1264.53 777.269,1267.04 779.423,1263.3 781.577,1268.3 783.731,1262.37 785.885,1269.14 \n",
       "  788.039,1261.93 790.193,1269.28 792.347,1262.13 794.501,1268.57 796.655,1263.01 798.808,1267.1 800.962,1264.53 803.116,1265.17 805.27,1266.55 807.424,1263.13 \n",
       "  809.578,1268.73 811.732,1261.39 813.886,1270.61 816.04,1260.25 818.194,1271.59 820.348,1259.94 822.502,1271.26 824.656,1260.61 826.81,1269.52 828.964,1262.32 \n",
       "  831.118,1266.74 833.272,1264.99 835.426,1263.55 837.58,1268.36 839.734,1260.57 841.888,1271.89 844.041,1258.29 846.195,1274.62 848.349,1257.06 850.503,1275.48 \n",
       "  852.657,1257.12 854.811,1273.83 856.965,1258.64 859.119,1270.01 861.273,1261.7 863.427,1265.11 865.581,1266.25 867.735,1260.25 869.889,1271.95 872.043,1256.22 \n",
       "  874.197,1277.77 876.351,1253.52 878.505,1281.69 880.659,1252.44 882.813,1281.35 884.967,1253.23 887.121,1276.34 889.274,1256.08 891.428,1268.76 893.582,1261.25 \n",
       "  895.736,1260.95 897.89,1268.92 900.044,1254.31 902.198,1278.87 904.352,1249.44 906.506,1289.26 908.66,1246.62 910.814,1294.41 912.968,1246.03 915.122,1288.74 \n",
       "  917.276,1247.91 919.43,1276.23 921.584,1252.63 923.738,1263.38 925.892,1260.82 928.046,1252.77 930.2,1273.55 932.354,1244.9 934.507,1292.31 936.661,1239.73 \n",
       "  938.815,1315.13 940.969,1237.2 943.123,1316.19 945.277,1237.4 947.431,1290.86 949.585,1240.57 951.739,1268.02 953.893,1247.36 956.047,1251.43 958.201,1259.03 \n",
       "  960.355,1239.69 962.509,1278.61 964.663,1231.7 966.817,1315.58 968.971,1226.88 971.125,1442.5 973.279,1224.97 975.433,1315.36 977.587,1225.97 979.74,1272.75 \n",
       "  981.894,1230.19 984.048,1248.72 986.202,1238.29 988.356,1232.91 990.51,1251.62 992.664,1222.12 994.818,1272.64 996.972,1215.01 999.126,1301.34 1001.28,1210.95 \n",
       "  1003.43,1298.68 1005.59,1209.67 1007.74,1265.61 1009.9,1211.14 1012.05,1240.35 1014.2,1215.47 1016.36,1222.67 1018.51,1222.87 1020.67,1210.09 1022.82,1233.18 \n",
       "  1024.97,1201.26 1027.13,1244.11 1029.28,1195.41 1031.44,1247.86 1033.59,1192.13 1035.74,1238.05 1037.9,1191.21 1040.05,1221.98 1042.21,1192.48 1044.36,1206.87 \n",
       "  1046.51,1195.74 1048.67,1194.57 1050.82,1200.47 1052.97,1185.11 1055.13,1205.26 1057.28,1178.17 1059.44,1207.42 1061.59,1173.44 1063.74,1204.19 1065.9,1170.7 \n",
       "  1068.05,1195.88 1070.21,1169.71 1072.36,1185.39 1074.51,1170.19 1076.67,1175.15 1078.82,1171.66 1080.98,1166.26 1083.13,1173.29 1085.28,1159.05 1087.44,1173.84 \n",
       "  1089.59,1153.52 1091.75,1171.99 1093.9,1149.57 1096.05,1167.24 1098.21,1147.02 1100.36,1160.31 1102.52,1145.62 1104.67,1152.5 1106.82,1145.03 1108.98,1144.88 \n",
       "  1111.13,1144.72 1113.29,1138.07 1115.44,1144 1117.59,1132.33 1119.75,1142.16 1121.9,1127.72 1124.06,1138.74 1126.21,1124.18 1128.36,1133.81 1130.52,1121.55 \n",
       "  1132.67,1127.87 1134.83,1119.6 1136.98,1121.58 1139.13,1117.99 1141.29,1115.48 1143.44,1116.3 1145.59,1109.93 1147.75,1114.11 1149.9,1105.09 1152.06,1111.08 \n",
       "  1154.21,1101.01 1156.36,1107.1 1158.52,1097.62 1160.67,1102.33 1162.83,1094.78 1164.98,1097.07 1167.13,1092.28 1169.29,1091.71 1171.44,1089.87 1173.6,1086.53 \n",
       "  1175.75,1087.27 1177.9,1081.74 1180.06,1084.24 1182.21,1077.43 1184.37,1080.66 1186.52,1073.61 1188.67,1076.52 1190.83,1070.21 1192.98,1071.96 1195.14,1067.13 \n",
       "  1197.29,1067.18 1199.44,1064.19 1201.6,1062.4 1203.75,1061.22 1205.91,1057.79 1208.06,1058.05 1210.21,1053.44 1212.37,1054.57 1214.52,1049.41 1216.68,1050.74 \n",
       "  1218.83,1045.7 1220.98,1046.6 1223.14,1042.23 1225.29,1042.24 1227.45,1038.92 1229.6,1037.79 1231.75,1035.65 1233.91,1033.38 1236.06,1032.32 1238.21,1029.1 \n",
       "  1240.37,1028.82 1242.52,1025.01 1244.68,1025.12 1246.83,1021.12 1248.98,1021.2 1251.14,1017.43 1253.29,1017.1 1255.45,1013.87 1257.6,1012.9 1259.75,1010.38 \n",
       "  1261.91,1008.67 1264.06,1006.89 1266.22,1004.49 1268.37,1003.33 1270.52,1000.41 1272.68,999.653 1274.83,996.454 1276.99,995.838 1279.14,992.631 1281.29,991.896 \n",
       "  1283.45,988.917 1285.6,987.858 1287.76,985.275 1289.91,983.773 1292.06,981.659 1294.22,979.69 1296.37,978.023 1298.53,975.65 1300.68,974.328 1302.83,971.682 \n",
       "  1304.99,970.552 1307.14,967.798 1309.3,966.69 1311.45,963.994 1313.6,962.754 1315.76,960.251 1317.91,958.77 1320.06,956.542 1322.22,954.767 1324.37,952.838 \n",
       "  1326.53,950.777 1328.68,949.11 1330.83,946.821 1332.99,945.338 1335.14,942.916 1337.3,941.512 1339.45,939.065 1341.6,937.634 1343.76,935.26 1345.91,933.715 \n",
       "  1348.07,931.488 1350.22,929.773 1352.37,927.73 1354.53,925.826 1356.68,923.967 1358.84,921.893 1360.99,920.184 1363.14,917.987 1365.3,916.369 1367.45,914.115 \n",
       "  1369.61,912.52 1371.76,910.276 1373.91,908.641 1376.07,906.463 1378.22,904.739 1380.38,902.667 1382.53,900.827 1384.68,898.874 1386.84,896.917 1388.99,895.075 \n",
       "  1391.15,893.02 1393.3,891.259 1395.45,889.142 1397.61,887.422 1399.76,885.285 1401.92,883.563 1404.07,881.448 1406.22,879.688 1408.38,877.626 1410.53,875.801 \n",
       "  1412.68,873.811 1414.84,871.91 1416.99,869.996 1419.15,868.024 1421.3,866.173 1423.45,864.148 1425.61,862.339 1427.76,860.284 1429.92,858.491 1432.07,856.434 \n",
       "  1434.22,854.63 1436.38,852.596 1438.53,850.76 1440.69,848.765 1442.84,846.884 1444.99,844.937 1447.15,843.008 1449.3,841.107 1451.46,839.137 1453.61,837.271 \n",
       "  1455.76,835.272 1457.92,833.426 1460.07,831.416 1462.23,829.574 1464.38,827.569 1466.53,825.713 1468.69,823.727 1470.84,821.848 1473,819.89 1475.15,817.98 \n",
       "  1477.3,816.053 1479.46,814.114 1481.61,812.213 1483.77,810.251 1485.92,808.369 1488.07,806.393 1490.23,804.52 1492.38,802.541 1494.54,800.665 1496.69,798.693 \n",
       "  1498.84,796.806 1501,794.849 1503.15,792.945 1505.3,791.006 1507.46,789.083 1509.61,787.163 1511.77,785.223 1513.92,783.318 1516.07,781.365 1518.23,779.47 \n",
       "  1520.38,777.51 1522.54,775.618 1524.69,773.659 1526.84,771.763 1529,769.811 1531.15,767.906 1533.31,765.964 1535.46,764.048 1537.61,762.118 1539.77,760.189 \n",
       "  1541.92,758.271 1544.08,756.333 1546.23,754.423 1548.38,752.478 1550.54,750.572 1552.69,748.625 1554.85,746.72 1557,744.774 1559.15,742.865 1561.31,740.925 \n",
       "  1563.46,739.009 1565.62,737.076 1567.77,735.153 1569.92,733.228 1572.08,731.297 1574.23,729.379 1576.39,727.443 1578.54,725.528 1580.69,723.589 1582.85,721.677 \n",
       "  1585,719.737 1587.16,717.824 1589.31,715.886 1591.46,713.969 1593.62,712.036 1595.77,710.115 1597.92,708.186 1600.08,706.26 1602.23,704.336 1604.39,702.406 \n",
       "  1606.54,700.486 1608.69,698.552 1610.85,696.634 1613,694.7 1615.16,692.782 1617.31,690.848 1619.46,688.929 1621.62,686.997 1623.77,685.076 1625.93,683.146 \n",
       "  1628.08,681.222 1630.23,679.295 1632.39,677.368 1634.54,675.444 1636.7,673.515 1638.85,671.593 1641,669.662 1643.16,667.741 1645.31,665.81 1647.47,663.889 \n",
       "  1649.62,661.958 1651.77,660.036 1653.93,658.106 1656.08,656.183 1658.24,654.255 1660.39,652.329 1662.54,650.404 1664.7,648.476 1666.85,646.552 1669.01,644.624 \n",
       "  1671.16,642.701 1673.31,640.771 1675.47,638.848 1677.62,636.919 1679.78,634.996 1681.93,633.067 1684.08,631.143 1686.24,629.215 1688.39,627.29 1690.54,625.364 \n",
       "  1692.7,623.437 1694.85,621.512 1697.01,619.585 1699.16,617.66 1701.31,615.732 1703.47,613.808 1705.62,611.88 1707.78,609.956 1709.93,608.028 1712.08,606.103 \n",
       "  1714.24,604.176 1716.39,602.251 1718.55,600.324 1720.7,598.398 1722.85,596.472 1725.01,594.546 1727.16,592.62 1729.32,590.693 1731.47,588.768 1733.62,586.841 \n",
       "  1735.78,584.916 1737.93,582.989 1740.09,581.064 1742.24,579.136 1744.39,577.211 1746.55,575.284 1748.7,573.359 1750.86,571.432 1753.01,569.506 1755.16,567.58 \n",
       "  1757.32,565.654 1759.47,563.728 1761.63,561.801 1763.78,559.876 1765.93,557.949 1768.09,556.024 1770.24,554.097 1772.39,552.172 1774.55,550.245 1776.7,548.319 \n",
       "  1778.86,546.393 1781.01,544.467 1783.16,542.541 1785.32,540.614 1787.47,538.689 1789.63,536.762 1791.78,534.836 1793.93,532.91 1796.09,530.984 1798.24,529.058 \n",
       "  1800.4,527.132 1802.55,525.205 1804.7,523.28 1806.86,521.353 1809.01,519.427 1811.17,517.501 1813.32,515.575 1815.47,513.649 1817.63,511.723 1819.78,509.797 \n",
       "  1821.94,507.87 1824.09,505.945 1826.24,504.018 1828.4,502.092 1830.55,500.166 1832.71,498.24 1834.86,496.314 1837.01,494.388 1839.17,492.461 1841.32,490.535 \n",
       "  1843.48,488.609 1845.63,486.683 1847.78,484.757 1849.94,482.831 1852.09,480.905 1854.25,478.979 1856.4,477.053 1858.55,475.126 1860.71,473.2 1862.86,471.274 \n",
       "  1865.01,469.348 1867.17,467.422 1869.32,465.496 1871.48,463.57 1873.63,461.644 1875.78,459.717 1877.94,457.791 1880.09,455.865 1882.25,453.939 1884.4,452.013 \n",
       "  1886.55,450.087 1888.71,448.161 1890.86,446.235 1893.02,444.309 1895.17,442.382 1897.32,440.456 1899.48,438.53 1901.63,436.604 1903.79,434.678 1905.94,432.752 \n",
       "  1908.09,430.826 1910.25,428.9 1912.4,426.973 1914.56,425.047 1916.71,423.121 1918.86,421.195 1921.02,419.269 1923.17,417.343 1925.33,415.417 1927.48,413.491 \n",
       "  1929.63,411.564 1931.79,409.638 1933.94,407.712 1936.1,405.786 1938.25,403.86 1940.4,401.934 1942.56,400.008 1944.71,398.082 1946.87,396.155 1949.02,394.229 \n",
       "  1951.17,392.303 1953.33,390.377 1955.48,388.451 1957.63,386.525 1959.79,384.599 1961.94,382.673 1964.1,380.747 1966.25,378.82 1968.4,376.894 1970.56,374.968 \n",
       "  1972.71,373.042 1974.87,371.116 1977.02,369.19 1979.17,367.264 1981.33,365.338 1983.48,363.411 1985.64,361.485 1987.79,359.559 1989.94,357.633 1992.1,355.707 \n",
       "  1994.25,353.781 1996.41,351.855 1998.56,349.929 2000.71,348.003 2002.87,346.076 2005.02,344.15 2007.18,342.224 2009.33,340.298 2011.48,338.372 2013.64,336.446 \n",
       "  2015.79,334.52 2017.95,332.594 2020.1,330.667 2022.25,328.741 2024.41,326.815 2026.56,324.889 2028.72,322.963 2030.87,321.037 2033.02,319.111 2035.18,317.185 \n",
       "  2037.33,315.258 2039.49,313.332 2041.64,311.406 2043.79,309.48 2045.95,307.554 2048.1,305.628 2050.25,303.702 2052.41,301.776 2054.56,299.85 2056.72,297.923 \n",
       "  2058.87,295.997 2061.02,294.071 2063.18,292.145 2065.33,290.219 2067.49,288.293 2069.64,286.367 2071.79,284.441 2073.95,282.514 2076.1,280.588 2078.26,278.662 \n",
       "  2080.41,276.736 2082.56,274.81 2084.72,272.884 2086.87,270.958 2089.03,269.032 2091.18,267.105 2093.33,265.179 2095.49,263.253 2097.64,261.327 2099.8,259.401 \n",
       "  2101.95,257.475 2104.1,255.549 2106.26,253.623 2108.41,251.696 2110.57,249.77 2112.72,247.844 2114.87,245.918 2117.03,243.992 2119.18,242.066 2121.34,240.14 \n",
       "  2123.49,238.214 2125.64,236.288 2127.8,234.361 2129.95,232.435 2132.11,230.509 2134.26,228.583 2136.41,226.657 2138.57,224.731 2140.72,222.805 2142.87,220.879 \n",
       "  2145.03,218.952 2147.18,217.026 2149.34,215.1 2151.49,213.174 2153.64,211.248 2155.8,209.322 2157.95,207.396 2160.11,205.47 2162.26,203.543 2164.41,201.617 \n",
       "  2166.57,199.691 2168.72,197.765 2170.88,195.839 2173.03,193.913 2175.18,191.987 2177.34,190.061 2179.49,188.135 2181.65,186.208 2183.8,184.282 2185.95,182.356 \n",
       "  2188.11,180.43 2190.26,178.504 2192.42,176.578 2194.57,174.652 2196.72,172.726 2198.88,170.799 2201.03,168.873 2203.19,166.947 2205.34,165.021 2207.49,163.095 \n",
       "  2209.65,161.169 2211.8,159.243 2213.96,157.317 2216.11,155.39 2218.26,153.464 2220.42,151.538 2222.57,149.612 2224.72,147.686 2226.88,145.76 2229.03,143.834 \n",
       "  2231.19,141.908 2233.34,139.982 2235.49,138.055 2237.65,136.129 2239.8,134.203 2241.96,132.277 2244.11,130.351 2246.26,128.425 2248.42,126.499 2250.57,124.573 \n",
       "  2252.73,122.646 2254.88,120.72 2257.03,118.794 2259.19,116.868 2261.34,114.942 2263.5,113.016 2265.65,111.09 2267.8,109.164 2269.96,107.237 2272.11,105.311 \n",
       "  2274.27,103.385 2276.42,101.459 2278.57,99.533 2280.73,97.6069 2282.88,95.6808 2285.04,93.7546 2287.19,91.8285 2289.34,89.9024 2291.5,87.9763 \n",
       "  \"/>\n",
       "<path clip-path=\"url(#clip440)\" d=\"\n",
       "M1924.18 250.738 L2280.61 250.738 L2280.61 95.2176 L1924.18 95.2176  Z\n",
       "  \" fill=\"#ffffff\" fill-rule=\"evenodd\" fill-opacity=\"1\"/>\n",
       "<polyline clip-path=\"url(#clip440)\" style=\"stroke:#000000; stroke-linecap:round; stroke-linejoin:round; stroke-width:4; stroke-opacity:1; fill:none\" points=\"\n",
       "  1924.18,250.738 2280.61,250.738 2280.61,95.2176 1924.18,95.2176 1924.18,250.738 \n",
       "  \"/>\n",
       "<polyline clip-path=\"url(#clip440)\" style=\"stroke:#009af9; stroke-linecap:round; stroke-linejoin:round; stroke-width:4; stroke-opacity:1; fill:none\" points=\"\n",
       "  1948.23,147.058 2092.53,147.058 \n",
       "  \"/>\n",
       "<path clip-path=\"url(#clip440)\" d=\"M2138.55 145.562 Q2137.92 148.583 2137.1 150.317 Q2135.79 152.963 2133.56 152.963 Q2131.87 152.963 2130.68 151.933 Q2129.49 150.902 2129.2 149.356 Q2126.14 152.963 2122.95 152.963 Q2120.14 152.963 2118.36 150.832 Q2116.58 148.677 2116.58 145.281 Q2116.58 141.861 2118.27 138.582 Q2119.98 135.303 2122.67 133.265 Q2125.36 131.227 2128.13 131.227 Q2131.06 131.227 2132.55 134.296 Q2132.67 133.453 2133.21 132.82 Q2133.75 132.188 2134.57 132.188 Q2135.2 132.188 2135.58 132.539 Q2135.95 132.867 2135.95 133.476 Q2135.95 133.78 2135.62 135.116 L2133.89 141.814 L2132.84 146.148 Q2132.44 147.74 2132.32 148.326 Q2132.23 148.911 2132.23 149.684 Q2132.23 151.886 2133.66 151.886 Q2134.36 151.886 2134.92 151.441 Q2135.48 150.996 2135.93 150.059 Q2136.37 149.122 2136.65 148.256 Q2136.93 147.365 2137.31 145.96 Q2137.43 145.398 2137.52 145.257 Q2137.64 145.094 2137.96 145.094 Q2138.55 145.094 2138.55 145.562 M2131.97 136.497 Q2131.97 136.287 2131.8 135.701 Q2131.64 135.116 2131.27 134.296 Q2130.89 133.476 2130.07 132.89 Q2129.28 132.281 2128.2 132.281 Q2126.75 132.281 2125.22 133.523 Q2123.72 134.764 2122.62 136.872 Q2121.78 138.559 2120.87 142.095 Q2119.98 145.632 2119.98 147.389 Q2119.98 148.466 2120.21 149.427 Q2120.47 150.364 2121.19 151.137 Q2121.92 151.886 2123.04 151.886 Q2125.79 151.886 2128.48 148.49 Q2128.99 147.904 2129.11 147.67 Q2129.25 147.412 2129.44 146.71 L2131.83 137.317 Q2131.97 136.615 2131.97 136.497 Z\" fill=\"#000000\" fill-rule=\"evenodd\" fill-opacity=\"1\" /><path clip-path=\"url(#clip440)\" d=\"M2166.55 145.562 Q2166.55 145.749 2166.33 146.475 Q2166.12 147.202 2165.61 148.326 Q2165.12 149.45 2164.44 150.481 Q2163.76 151.488 2162.63 152.237 Q2161.53 152.963 2160.27 152.963 Q2158.58 152.963 2157.46 151.839 Q2156.33 150.715 2156.33 149.028 Q2156.33 148.092 2156.83 146.803 Q2159.94 138.488 2159.94 135.631 Q2159.94 132.281 2157.34 132.281 Q2156.05 132.281 2154.83 132.773 Q2153.64 133.242 2152.82 133.898 Q2152 134.553 2151.25 135.467 Q2150.52 136.357 2150.15 136.966 Q2149.8 137.551 2149.52 138.137 L2148.91 140.526 Q2148.77 141.182 2148.09 143.735 L2147.03 148.068 Q2146.28 151.3 2146.12 151.605 Q2145.89 152.261 2145.37 152.612 Q2144.86 152.963 2144.34 152.963 Q2143.76 152.963 2143.36 152.612 Q2142.96 152.261 2142.96 151.652 Q2142.96 151.558 2143.03 151.207 Q2143.1 150.855 2143.22 150.364 Q2143.33 149.872 2143.38 149.591 L2146.17 138.512 Q2146.68 136.497 2146.8 135.865 Q2146.94 135.209 2146.94 134.483 Q2146.94 132.281 2145.44 132.281 Q2144.22 132.281 2143.43 133.734 Q2142.63 135.186 2141.95 137.997 Q2141.74 138.769 2141.6 138.933 Q2141.48 139.097 2141.13 139.097 Q2140.55 139.074 2140.55 138.605 Q2140.55 138.488 2140.73 137.715 Q2140.92 136.943 2141.27 135.842 Q2141.65 134.717 2142 133.968 Q2142.3 133.406 2142.47 133.148 Q2142.65 132.867 2143.1 132.328 Q2143.57 131.766 2144.18 131.508 Q2144.81 131.227 2145.58 131.227 Q2147.32 131.227 2148.58 132.352 Q2149.85 133.453 2150.01 135.397 Q2153.12 131.227 2157.48 131.227 Q2160.06 131.227 2161.53 132.586 Q2163.01 133.944 2163.01 136.357 Q2163.01 136.919 2162.89 137.645 Q2162.8 138.348 2162.56 139.238 Q2162.35 140.128 2162.17 140.807 Q2161.98 141.486 2161.6 142.587 Q2161.23 143.665 2161.06 144.133 Q2160.9 144.602 2160.5 145.702 Q2160.13 146.78 2160.08 146.897 Q2159.21 149.075 2159.21 150.317 Q2159.21 151.137 2159.47 151.511 Q2159.75 151.886 2160.36 151.886 Q2162 151.886 2163.22 150.27 Q2164.46 148.63 2165.26 145.96 Q2165.44 145.375 2165.54 145.234 Q2165.66 145.094 2165.98 145.094 Q2166.55 145.094 2166.55 145.562 Z\" fill=\"#000000\" fill-rule=\"evenodd\" fill-opacity=\"1\" /><path clip-path=\"url(#clip440)\" d=\"M2192.15 145.562 Q2191.52 148.583 2190.7 150.317 Q2189.39 152.963 2187.16 152.963 Q2185.47 152.963 2184.28 151.933 Q2183.09 150.902 2182.8 149.356 Q2179.74 152.963 2176.55 152.963 Q2173.74 152.963 2171.96 150.832 Q2170.18 148.677 2170.18 145.281 Q2170.18 141.861 2171.87 138.582 Q2173.58 135.303 2176.27 133.265 Q2178.96 131.227 2181.73 131.227 Q2184.65 131.227 2186.15 134.296 Q2186.27 133.453 2186.81 132.82 Q2187.35 132.188 2188.17 132.188 Q2188.8 132.188 2189.18 132.539 Q2189.55 132.867 2189.55 133.476 Q2189.55 133.78 2189.22 135.116 L2187.49 141.814 L2186.44 146.148 Q2186.04 147.74 2185.92 148.326 Q2185.83 148.911 2185.83 149.684 Q2185.83 151.886 2187.25 151.886 Q2187.96 151.886 2188.52 151.441 Q2189.08 150.996 2189.53 150.059 Q2189.97 149.122 2190.25 148.256 Q2190.53 147.365 2190.91 145.96 Q2191.03 145.398 2191.12 145.257 Q2191.24 145.094 2191.56 145.094 Q2192.15 145.094 2192.15 145.562 M2185.57 136.497 Q2185.57 136.287 2185.4 135.701 Q2185.24 135.116 2184.87 134.296 Q2184.49 133.476 2183.67 132.89 Q2182.87 132.281 2181.8 132.281 Q2180.35 132.281 2178.82 133.523 Q2177.32 134.764 2176.22 136.872 Q2175.38 138.559 2174.47 142.095 Q2173.58 145.632 2173.58 147.389 Q2173.58 148.466 2173.81 149.427 Q2174.07 150.364 2174.79 151.137 Q2175.52 151.886 2176.64 151.886 Q2179.38 151.886 2182.08 148.49 Q2182.59 147.904 2182.71 147.67 Q2182.85 147.412 2183.04 146.71 L2185.43 137.317 Q2185.57 136.615 2185.57 136.497 Z\" fill=\"#000000\" fill-rule=\"evenodd\" fill-opacity=\"1\" /><path clip-path=\"url(#clip440)\" d=\"M2230.62 139.051 Q2230.62 142.517 2228.84 145.773 Q2227.08 149.028 2224.32 150.996 Q2221.58 152.963 2218.81 152.963 Q2215.7 152.963 2214.08 149.731 Q2211.15 161.466 2210.99 161.77 Q2210.31 162.777 2209.33 162.777 Q2208.72 162.777 2208.34 162.403 Q2207.97 162.051 2207.97 161.489 Q2207.99 161.302 2208.13 160.716 L2212.82 141.861 Q2213.9 137.481 2217.15 134.366 Q2220.43 131.227 2223.94 131.227 Q2226.73 131.227 2228.67 133.312 Q2230.62 135.397 2230.62 139.051 M2227.18 136.989 Q2227.18 134.647 2226.24 133.476 Q2225.3 132.281 2223.85 132.281 Q2222.51 132.281 2220.9 133.359 Q2219.31 134.436 2217.9 136.825 Q2217.15 138.207 2216.61 139.917 Q2216.07 141.627 2215.02 145.843 Q2214.64 147.529 2214.64 147.623 Q2214.64 147.811 2214.74 148.232 Q2214.86 148.654 2215.14 149.31 Q2215.44 149.942 2215.86 150.504 Q2216.28 151.066 2217.06 151.488 Q2217.83 151.886 2218.77 151.886 Q2220.22 151.886 2221.77 150.715 Q2223.33 149.52 2224.48 147.342 Q2225.44 145.585 2226.31 142.283 Q2227.18 138.957 2227.18 136.989 Z\" fill=\"#000000\" fill-rule=\"evenodd\" fill-opacity=\"1\" /><polyline clip-path=\"url(#clip440)\" style=\"stroke:#e26f46; stroke-linecap:round; stroke-linejoin:round; stroke-width:4; stroke-opacity:1; fill:none\" points=\"\n",
       "  1948.23,198.898 2092.53,198.898 \n",
       "  \"/>\n",
       "<path clip-path=\"url(#clip440)\" d=\"M2138.55 200.481 Q2137.92 203.503 2137.1 205.236 Q2135.79 207.883 2133.56 207.883 Q2131.87 207.883 2130.68 206.852 Q2129.49 205.822 2129.2 204.276 Q2126.14 207.883 2122.95 207.883 Q2120.14 207.883 2118.36 205.752 Q2116.58 203.597 2116.58 200.2 Q2116.58 196.781 2118.27 193.502 Q2119.98 190.222 2122.67 188.185 Q2125.36 186.147 2128.13 186.147 Q2131.06 186.147 2132.55 189.215 Q2132.67 188.372 2133.21 187.74 Q2133.75 187.107 2134.57 187.107 Q2135.2 187.107 2135.58 187.459 Q2135.95 187.787 2135.95 188.396 Q2135.95 188.7 2135.62 190.035 L2133.89 196.734 L2132.84 201.067 Q2132.44 202.66 2132.32 203.245 Q2132.23 203.831 2132.23 204.604 Q2132.23 206.806 2133.66 206.806 Q2134.36 206.806 2134.92 206.361 Q2135.48 205.916 2135.93 204.979 Q2136.37 204.042 2136.65 203.175 Q2136.93 202.285 2137.31 200.88 Q2137.43 200.318 2137.52 200.177 Q2137.64 200.013 2137.96 200.013 Q2138.55 200.013 2138.55 200.481 M2131.97 191.417 Q2131.97 191.206 2131.8 190.621 Q2131.64 190.035 2131.27 189.215 Q2130.89 188.396 2130.07 187.81 Q2129.28 187.201 2128.2 187.201 Q2126.75 187.201 2125.22 188.442 Q2123.72 189.684 2122.62 191.792 Q2121.78 193.478 2120.87 197.015 Q2119.98 200.552 2119.98 202.308 Q2119.98 203.386 2120.21 204.346 Q2120.47 205.283 2121.19 206.056 Q2121.92 206.806 2123.04 206.806 Q2125.79 206.806 2128.48 203.409 Q2128.99 202.824 2129.11 202.59 Q2129.25 202.332 2129.44 201.629 L2131.83 192.237 Q2131.97 191.534 2131.97 191.417 Z\" fill=\"#000000\" fill-rule=\"evenodd\" fill-opacity=\"1\" /><path clip-path=\"url(#clip440)\" d=\"M2166.55 200.481 Q2166.55 200.669 2166.33 201.395 Q2166.12 202.121 2165.61 203.245 Q2165.12 204.37 2164.44 205.4 Q2163.76 206.407 2162.63 207.157 Q2161.53 207.883 2160.27 207.883 Q2158.58 207.883 2157.46 206.759 Q2156.33 205.634 2156.33 203.948 Q2156.33 203.011 2156.83 201.723 Q2159.94 193.408 2159.94 190.55 Q2159.94 187.201 2157.34 187.201 Q2156.05 187.201 2154.83 187.693 Q2153.64 188.161 2152.82 188.817 Q2152 189.473 2151.25 190.386 Q2150.52 191.276 2150.15 191.885 Q2149.8 192.471 2149.52 193.057 L2148.91 195.446 Q2148.77 196.101 2148.09 198.655 L2147.03 202.988 Q2146.28 206.22 2146.12 206.524 Q2145.89 207.18 2145.37 207.532 Q2144.86 207.883 2144.34 207.883 Q2143.76 207.883 2143.36 207.532 Q2142.96 207.18 2142.96 206.571 Q2142.96 206.478 2143.03 206.126 Q2143.1 205.775 2143.22 205.283 Q2143.33 204.791 2143.38 204.51 L2146.17 193.431 Q2146.68 191.417 2146.8 190.785 Q2146.94 190.129 2146.94 189.403 Q2146.94 187.201 2145.44 187.201 Q2144.22 187.201 2143.43 188.653 Q2142.63 190.105 2141.95 192.916 Q2141.74 193.689 2141.6 193.853 Q2141.48 194.017 2141.13 194.017 Q2140.55 193.993 2140.55 193.525 Q2140.55 193.408 2140.73 192.635 Q2140.92 191.862 2141.27 190.761 Q2141.65 189.637 2142 188.887 Q2142.3 188.325 2142.47 188.068 Q2142.65 187.787 2143.1 187.248 Q2143.57 186.686 2144.18 186.428 Q2144.81 186.147 2145.58 186.147 Q2147.32 186.147 2148.58 187.271 Q2149.85 188.372 2150.01 190.316 Q2153.12 186.147 2157.48 186.147 Q2160.06 186.147 2161.53 187.505 Q2163.01 188.864 2163.01 191.276 Q2163.01 191.839 2162.89 192.565 Q2162.8 193.267 2162.56 194.157 Q2162.35 195.047 2162.17 195.727 Q2161.98 196.406 2161.6 197.507 Q2161.23 198.584 2161.06 199.053 Q2160.9 199.521 2160.5 200.622 Q2160.13 201.699 2160.08 201.817 Q2159.21 203.995 2159.21 205.236 Q2159.21 206.056 2159.47 206.431 Q2159.75 206.806 2160.36 206.806 Q2162 206.806 2163.22 205.189 Q2164.46 203.55 2165.26 200.88 Q2165.44 200.294 2165.54 200.154 Q2165.66 200.013 2165.98 200.013 Q2166.55 200.013 2166.55 200.481 Z\" fill=\"#000000\" fill-rule=\"evenodd\" fill-opacity=\"1\" /><path clip-path=\"url(#clip440)\" d=\"M2192.15 200.481 Q2191.52 203.503 2190.7 205.236 Q2189.39 207.883 2187.16 207.883 Q2185.47 207.883 2184.28 206.852 Q2183.09 205.822 2182.8 204.276 Q2179.74 207.883 2176.55 207.883 Q2173.74 207.883 2171.96 205.752 Q2170.18 203.597 2170.18 200.2 Q2170.18 196.781 2171.87 193.502 Q2173.58 190.222 2176.27 188.185 Q2178.96 186.147 2181.73 186.147 Q2184.65 186.147 2186.15 189.215 Q2186.27 188.372 2186.81 187.74 Q2187.35 187.107 2188.17 187.107 Q2188.8 187.107 2189.18 187.459 Q2189.55 187.787 2189.55 188.396 Q2189.55 188.7 2189.22 190.035 L2187.49 196.734 L2186.44 201.067 Q2186.04 202.66 2185.92 203.245 Q2185.83 203.831 2185.83 204.604 Q2185.83 206.806 2187.25 206.806 Q2187.96 206.806 2188.52 206.361 Q2189.08 205.916 2189.53 204.979 Q2189.97 204.042 2190.25 203.175 Q2190.53 202.285 2190.91 200.88 Q2191.03 200.318 2191.12 200.177 Q2191.24 200.013 2191.56 200.013 Q2192.15 200.013 2192.15 200.481 M2185.57 191.417 Q2185.57 191.206 2185.4 190.621 Q2185.24 190.035 2184.87 189.215 Q2184.49 188.396 2183.67 187.81 Q2182.87 187.201 2181.8 187.201 Q2180.35 187.201 2178.82 188.442 Q2177.32 189.684 2176.22 191.792 Q2175.38 193.478 2174.47 197.015 Q2173.58 200.552 2173.58 202.308 Q2173.58 203.386 2173.81 204.346 Q2174.07 205.283 2174.79 206.056 Q2175.52 206.806 2176.64 206.806 Q2179.38 206.806 2182.08 203.409 Q2182.59 202.824 2182.71 202.59 Q2182.85 202.332 2183.04 201.629 L2185.43 192.237 Q2185.57 191.534 2185.57 191.417 Z\" fill=\"#000000\" fill-rule=\"evenodd\" fill-opacity=\"1\" /><path clip-path=\"url(#clip440)\" d=\"M2229.33 181.04 L2217.21 181.04 L2217.21 179.99 L2229.33 179.99 L2229.33 181.04 Z\" fill=\"#000000\" fill-rule=\"evenodd\" fill-opacity=\"1\" /><path clip-path=\"url(#clip440)\" d=\"M2231.62 193.97 Q2231.62 197.437 2229.84 200.692 Q2228.08 203.948 2225.32 205.916 Q2222.58 207.883 2219.81 207.883 Q2216.7 207.883 2215.08 204.651 Q2212.15 216.385 2211.99 216.69 Q2211.31 217.697 2210.33 217.697 Q2209.72 217.697 2209.34 217.322 Q2208.97 216.971 2208.97 216.409 Q2208.99 216.221 2209.13 215.636 L2213.82 196.781 Q2214.9 192.401 2218.15 189.286 Q2221.43 186.147 2224.94 186.147 Q2227.73 186.147 2229.67 188.232 Q2231.62 190.316 2231.62 193.97 M2228.18 191.909 Q2228.18 189.567 2227.24 188.396 Q2226.3 187.201 2224.85 187.201 Q2223.51 187.201 2221.9 188.278 Q2220.31 189.356 2218.9 191.745 Q2218.15 193.127 2217.61 194.837 Q2217.07 196.547 2216.02 200.763 Q2215.64 202.449 2215.64 202.543 Q2215.64 202.73 2215.74 203.152 Q2215.86 203.573 2216.14 204.229 Q2216.44 204.861 2216.86 205.424 Q2217.28 205.986 2218.06 206.407 Q2218.83 206.806 2219.77 206.806 Q2221.22 206.806 2222.77 205.634 Q2224.33 204.44 2225.48 202.262 Q2226.44 200.505 2227.31 197.202 Q2228.18 193.876 2228.18 191.909 Z\" fill=\"#000000\" fill-rule=\"evenodd\" fill-opacity=\"1\" /></svg>\n"
      ]
     },
     "execution_count": 21,
     "metadata": {},
     "output_type": "execute_result"
    }
   ],
   "source": [
    "using LinearAlgebra\n",
    "using DifferentialEquations, StaticArrays\n",
    "using Plots\n",
    "using LaTeXStrings\n",
    "using Plots\n",
    "\n",
    "#parameters\n",
    "const w_0 = 0.3 #km^-1\n",
    "mu_0 = 6e5 #6e5 km^-1\n",
    "theta = 1e-6 #1e-6\n",
    "\n",
    "const gcc = 0.5/11.4 #km^-1\n",
    "const gaep = 0.5/0.417#km^-1\n",
    "const gaem = 0.5/0.417#km^-1\n",
    "PAE = SA[0.0,0.0,2.0]\n",
    "const PAEZ = PAE[3]\n",
    "const PAE0 = 4.0\n",
    "\n",
    "const bgcc = 0.5/37.2 #km^-1\n",
    "const bgaep = 0.5/4.36 #km^-1\n",
    "const bgaem = 0.5/4.36 #km^-1\n",
    "bPAE = SA[0.0,0.0,1.5]\n",
    "const bPAEZ = bPAE[3]\n",
    "const bPAE0 = 3.5\n",
    "#B= SA[-sin(2*theta),0,cos(2*theta)]\n",
    "@fastmath @inbounds wB = w_0*SA[-sin(2*theta),0,cos(2*theta)]\n",
    "tkm = 0.0:0.01:25. #time in km^-1\n",
    "t = (10/3)tkm #time in microsecond\n",
    "\n",
    "#initial P_w\n",
    "Pi = [0.0,0.0,2.0]\n",
    "const Pi0 = 4.0\n",
    "bPi = [0.0,0.0,1.5] #P_bar\n",
    "const bPi0 = 3.5\n",
    "print()\n",
    "\n",
    "#parameters\n",
    "S=3.5\n",
    "D=0.5\n",
    "\n",
    "g = gcc+gaep #gamma\n",
    "bg = bgcc+bgaep #gamma_bar\n",
    "mup = 0.5(S+D)*mu_0\n",
    "mum = 0.5(S-D)*mu_0\n",
    "A = [-w_0*cos(2*theta)-mum-1im*g mup ; -mum w_0*cos(2*theta)+mup-1im*bg]\n",
    "omegam, omegap = eigvals(A)\n",
    "rho_ini = 0.5*Pi[1]+0.5im*Pi[2] #rho_ex = Px+i Py\n",
    "brho_ini = 0.5*bPi[1]+0.5im*bPi[2] #bar{rho}_ex = bPx+i bPy\n",
    "\n",
    "#adj\n",
    "rho0,brho0 = 0.5w_0*sin(2*theta)*inv(A)*[-Pi[3]; bPi[3]]\n",
    "adjrho = rho_ini-rho0\n",
    "adjbrho = brho_ini-brho0\n",
    "\n",
    "#v^-1 \\rho\n",
    "Qexp = [adjrho adjbrho]*transpose(inv(eigvecs(A)))\n",
    "Qexp_abs = broadcast(abs,Qexp)\n",
    "Omegap = mu_0*D + 1im*(-0.5*(g+bg)+0.5*S*(g-bg)/D)\n",
    "Omegam = w_0*S/D - 1im*(0.5*(g+bg)+0.5*S*(g-bg)/D)\n",
    "iomegaptf(t) = exp(1im*Omegap*t)\n",
    "iomegapt = broadcast(iomegaptf,tkm)\n",
    "iomegamtf(t) = exp(1im*Omegam*t)\n",
    "iomegamt = broadcast(iomegamtf,tkm)\n",
    "Qm = broadcast(abs,Qexp[:,1].*iomegamt)\n",
    "Qp = broadcast(abs,Qexp[:,2].*iomegapt)\n",
    "\n",
    "#plot(t, Qexp_abs, xlabel = L\"t / \\mu s\",ylabel = \"Qexp\", label = [L\"Q_-\" L\"Q_+\"])\n",
    "plot(t, Qm, xlabel = L\"t / \\mu s\", yaxis=:log, ylabel = \"Q\", label = L\"Q_-\")\n",
    "plot!(t, Qp, label = L\"Q_+\")\n",
    "\n",
    "#analytical solution\n",
    "Qma, Qpa=Qexp[1,1], Qexp[1,2]\n",
    "miomegaptf(t) = exp(-1im*Omegap*t)\n",
    "miomegapt = broadcast(miomegaptf,tkm)\n",
    "miomegamtf(t) = exp(-1im*Omegam*t)\n",
    "miomegamt = broadcast(miomegamtf,tkm)\n",
    "anasol = eigvecs(A)*transpose([Qma*miomegamt Qpa*miomegapt])\n",
    "abs_anarho = broadcast(abs,anasol[1,:].+rho0)\n",
    "abs_anabrho = broadcast(abs,anasol[2,:].+brho0)\n",
    "\n",
    "@fastmath @inbounds y = [abs_anarho abs_anabrho]::Matrix{Float64}\n",
    "plot(t[2:950], y[2:950,:], yaxis=:log, label = [L\"ana ~\\rho\" L\"ana ~\\bar{\\rho}\"])\n",
    "#savefig(\"compare.png\")"
   ]
  },
  {
   "cell_type": "code",
   "execution_count": 22,
   "id": "a8165f83-911a-459b-8e8a-c3269b9ab553",
   "metadata": {
    "execution": {
     "iopub.execute_input": "2022-10-13T08:09:59.365000-06:00",
     "iopub.status.busy": "2022-10-13T08:09:59.365000-06:00",
     "iopub.status.idle": "2022-10-13T08:09:59.411000-06:00",
     "shell.execute_reply": "2022-10-13T08:09:59.411000-06:00"
    },
    "tags": []
   },
   "outputs": [
    {
     "name": "stdout",
     "output_type": "stream",
     "text": [
      "11.26666666666666711.311.33333333333333411.36666666666666711.411.43333333333333411.46666666666666711.511.53333333333333311.56666666666666611.566666666666666"
     ]
    }
   ],
   "source": [
    "#abs(Qp*vp*exp(-i*Omema_p*t))\n",
    "a = broadcast(abs, eigvecs(A)[2,2]*Qpa*miomegapt)\n",
    "b = broadcast(abs, eigvecs(A)[1,2]*Qpa*miomegapt) \n",
    "for i in 1:length(t)\n",
    "    if a[i]>abs(adjbrho)\n",
    "        print(t[i])\n",
    "    end\n",
    "    if b[i]>abs(adjrho)\n",
    "        print(t[i])\n",
    "        break\n",
    "    end\n",
    "end"
   ]
  },
  {
   "cell_type": "markdown",
   "id": "6ea5ca33-ad63-4a90-a437-112d4f42fe15",
   "metadata": {},
   "source": [
    "## Draw the proportions of each mode with differential method\n",
    "\n",
    "Notice that\n",
    "$$\n",
    "\\begin{bmatrix}\n",
    "\\rho_{ex} (t)\\\\ \\bar{\\rho}_{ex} (t)\n",
    "\\end{bmatrix}\n",
    "= \n",
    "\\begin{bmatrix}\n",
    "Q_+ \\\\ \\bar{Q}_+\n",
    "\\end{bmatrix}\n",
    "e^{-i \\Omega_{+} ~\\bf{t}} + \n",
    "\\begin{bmatrix}\n",
    "Q_- \\\\ \\bar{Q}_-\n",
    "\\end{bmatrix}\n",
    "e^{-i \\Omega_{-} ~\\bf{t}}\n",
    "$$, or\n",
    "$$\n",
    "\\begin{bmatrix}\n",
    "\\dot{\\rho_{ex}} (t)\\\\ \\dot{\\bar{\\rho}}_{ex} (t)\n",
    "\\end{bmatrix}\n",
    "= \n",
    "-i \\Omega_{+} \\begin{bmatrix}\n",
    "Q_+ \\\\ \\bar{Q}_+\n",
    "\\end{bmatrix}\n",
    "e^{-i \\Omega_{+} ~\\bf{t}} - \n",
    "i \\Omega_{-}\n",
    "\\begin{bmatrix}\n",
    "Q_- \\\\ \\bar{Q}_-\n",
    "\\end{bmatrix}\n",
    "e^{-i \\Omega_{-} ~\\bf{t}}\n",
    "$$, where we assume the variation of Q is a quasistatic process.\n",
    "\n",
    "Therefore,\n",
    "$$\n",
    "\\begin{cases}\n",
    "\\left|Q_+\\right| = \\left|\\left(\\frac{i\\Omega_- ~ \\rho_{ex} ~+ \\dot{\\rho}_{ex}}{\\Omega_+ - \\Omega_-}\\right) e^{i \\Omega_{+} ~\\bf{t}}\\right|\n",
    "\\\\\n",
    "\\left|Q_-\\right| =  \\left|\\left(\\frac{i\\Omega_+ ~ \\rho_{ex} ~+ \\dot{\\rho}_{ex}}{\\Omega_+ - \\Omega_-}\\right) e^{i \\Omega_{-} ~\\bf{t}}\\right|\n",
    "\\\\\n",
    "\\left|\\bar{Q}_+\\right| = \\left|\\left(\\frac{i\\Omega_- ~ \\bar{\\rho}_{ex} ~+ \\dot{\\bar{\\rho}}_{ex}}{\\Omega_+ - \\Omega_-}\\right) e^{i \\Omega_{+} ~\\bf{t}}\\right|\n",
    "\\\\\n",
    "\\left|\\bar{Q}_-\\right| = \\left|\\left(\\frac{i\\Omega_+ ~ \\bar{\\rho}_{ex} ~+ \\dot{\\bar{\\rho}}_{ex}}{\\Omega_+ - \\Omega_-}\\right) e^{i \\Omega_{-} ~\\bf{t}}\\right|\n",
    "\\end{cases}\n",
    "$$, or\n",
    "$$\n",
    "\\begin{cases}\n",
    "Q_+^2 \\equiv \\left|Q_+\\right|^2 + \\left|\\bar{Q}_+\\right|^2 \\\\= \n",
    "\\left|\\left(\\frac{i\\Omega_- ~ \\rho_{ex} ~+ \\dot{\\rho}_{ex}}{\\Omega_+ - \\Omega_-}\\right) e^{i \\Omega_{+} ~\\bf{t}}\\right| +\n",
    "\\left|\\left(\\frac{i\\Omega_- ~ \\bar{\\rho}_{ex} ~+ \\dot{\\bar{\\rho}}_{ex}}{\\Omega_+ - \\Omega_-}\\right) e^{i \\Omega_{+} ~\\bf{t}}\\right|^2\n",
    "\\\\\n",
    "Q_-^2 \\equiv \\left|Q_-\\right|^2 + \\left|\\bar{Q}_-\\right|^2 \\\\= \n",
    "\\left|\\left(\\frac{i\\Omega_+ ~ \\rho_{ex} ~+ \\dot{\\rho}_{ex}}{\\Omega_+ - \\Omega_-}\\right) e^{i \\Omega_{-} ~\\bf{t}}\\right| +\n",
    "\\left|\\left(\\frac{i\\Omega_+ ~ \\bar{\\rho}_{ex} ~+ \\dot{\\bar{\\rho}}_{ex}}{\\Omega_+ - \\Omega_-}\\right) e^{i \\Omega_{-} ~\\bf{t}}\\right|^2\n",
    "\\end{cases}\n",
    "$$"
   ]
  }
 ],
 "metadata": {
  "kernelspec": {
   "display_name": "Julia8T 1.8.2",
   "language": "julia",
   "name": "julia8t-1.8"
  },
  "language_info": {
   "file_extension": ".jl",
   "mimetype": "application/julia",
   "name": "julia",
   "version": "1.8.2"
  },
  "widgets": {
   "application/vnd.jupyter.widget-state+json": {
    "state": {},
    "version_major": 2,
    "version_minor": 0
   }
  }
 },
 "nbformat": 4,
 "nbformat_minor": 5
}
