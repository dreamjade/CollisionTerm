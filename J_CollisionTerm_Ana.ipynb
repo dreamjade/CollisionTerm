{
 "cells": [
  {
   "cell_type": "markdown",
   "id": "5082d8d6-6131-456f-a5ba-b81aaa7a7cd8",
   "metadata": {},
   "source": [
    "# Collision Term\n",
    "\n",
    "## EOM:\n",
    "\n",
    "$$\n",
    "\\begin{cases}\n",
    "    \\dot{\\textbf{P}} = \\omega \\textbf{B} \\times \\textbf{P}+ \\mu (\\textbf{P}-\\bar{\\textbf{P}}) \\times \\textbf{P} - \\Gamma^{CC}_+ \\textbf{P}_T + \\Gamma^{AE}_+ (\\textbf{P}^{AE} - \\textbf{P}) + \\Gamma^{AE}_- (P^{AE}_0 -P_0)\\textbf{z} \\\\\n",
    "    \\dot{\\bar{\\textbf{P}}} = -\\omega \\textbf{B} \\times \\bar{\\textbf{P}}+ \\mu (\\textbf{P}-\\bar{\\textbf{P}}) \\times \\bar{\\textbf{P}} - \\bar{\\Gamma}^{CC}_+ \\bar{\\textbf{P}}_T + \\bar{\\Gamma}^{AE}_+ (\\bar{\\textbf{P}}^{AE} - \\bar{\\textbf{P}}) + \\bar{\\Gamma}^{AE}_- (\\bar{P}^{AE}_0 -\\bar{P}_0)\\textbf{z} \\\\\n",
    "    \\dot{P_0} = \\Gamma^{AE}_+ (P^{AE}_0 -P_0) + \\Gamma^{AE}_- (P^{AE}_z -P_z) \\\\\n",
    "    \\dot{\\bar{P}_0} = \\bar{\\Gamma}^{AE}_+ (\\bar{P}^{AE}_0 -\\bar{P}_0) + \\bar{\\Gamma}^{AE}_- (\\bar{P}^{AE}_z -\\bar{P}_z)\n",
    "\\end{cases}\n",
    "$$\n",
    "\n",
    "We choose the parameters\n",
    "$$\n",
    "\\begin{bmatrix}\n",
    "\\omega \\\\ \\textbf{B} \\\\ \\mu \\\\ \\theta\n",
    "\\end{bmatrix}\n",
    "= \\begin{bmatrix}\n",
    "0.3 ~km^{-1} \\\\ -sin 2\\theta~\\textbf{e}_x^f + cos 2\\theta~\\textbf{e}_z^f \\\\ 3 \\times 10^5 ~km^{-1} \\\\ 10^{-6}\n",
    "\\end{bmatrix}\n",
    "$$\n",
    "\n",
    "$$\n",
    "\\begin{bmatrix}\n",
    "\\Gamma^{CC}_+ \\\\ \\Gamma^{AE}_+ \\\\ \\Gamma^{AE}_-\n",
    "\\end{bmatrix}\n",
    "= \\begin{bmatrix}\n",
    "0.5/11.4 ~km^{-1} \\\\ 0.5/0.417 ~km^{-1} \\\\ 0.5/0.417 ~km^{-1}\n",
    "\\end{bmatrix}\n",
    "$$\n",
    "\n",
    "$$\n",
    "\\begin{bmatrix}\n",
    "\\bar{\\Gamma}^{CC}_+ \\\\ \\bar{\\Gamma}^{AE}_+ \\\\ \\bar{\\Gamma}^{AE}_-\n",
    "\\end{bmatrix}\n",
    "= \\begin{bmatrix}\n",
    "0.5/37.2 ~km^{-1} \\\\ 0.5/4.36 ~km^{-1} \\\\ 0.5/4.36 ~km^{-1} \n",
    "\\end{bmatrix}\n",
    "$$\n",
    "\n",
    "$$\n",
    "\\begin{bmatrix}\n",
    "\\textbf{P}^{AE} \\\\ P^{AE}_0 \\\\ \\bar{\\textbf{P}}^{AE} \\\\ \\bar{P}^{AE}_0\n",
    "\\end{bmatrix}\n",
    "= \\begin{bmatrix}\n",
    "2 ~\\textbf{e}_z^f\\\\ 4 \\\\ 1.5 ~\\textbf{e}_z^f \\\\ 3.5\n",
    "\\end{bmatrix}\n",
    "$$\n",
    "\n",
    "and theinitial condition\n",
    "$$\n",
    "\\begin{bmatrix}\n",
    "\\textbf{P} \\\\ P_0 \\\\ \\bar{\\textbf{P}} \\\\ \\bar{P}_0\n",
    "\\end{bmatrix}\n",
    "= \\begin{bmatrix}\n",
    "2 ~\\textbf{e}_z^f\\\\ 4 \\\\ 1.5 ~\\textbf{e}_z^f \\\\ 3.5\n",
    "\\end{bmatrix}\n",
    "$$"
   ]
  },
  {
   "cell_type": "markdown",
   "id": "5ebe78c6-ffee-44c7-b2c8-5fa02765182e",
   "metadata": {},
   "source": [
    "## Linearlized EOM\n",
    "Ignoring nonlinear terms, we have\n",
    "\n",
    "$$\n",
    "\\begin{cases}\n",
    "    i \\partial_t \\rho_{ex} = \\omega ~sin2\\theta P_{z}\n",
    "    +\\left[-\\omega ~cos2\\theta-\\sqrt{2}G_F(n_{\\bar{\\nu_e}}-n_{\\bar{\\nu_x}})- i \\Gamma \\right]\\rho_{ex} + \\sqrt{2}G_F(n_{\\nu_e}-n_{\\nu_x}) \\bar{\\rho}_{ex}\\\\\n",
    "    i \\partial_t \\bar{\\rho}_{ex} = - \\omega ~sin2\\theta \\bar{P}_{z} +\\left[+\\omega ~cos2\\theta + \\sqrt{2}G_F(n_{\\nu_e}-n_{\\nu_x}) - i \\bar{\\Gamma} \\right]\\bar{\\rho}_{ex} -\\sqrt{2}G_F(n_{\\bar{\\nu_e}}-n_{\\bar{\\nu_x}}) \\rho_{ex}\n",
    "\\end{cases}\n",
    "$$,\n",
    "where\n",
    "$$\n",
    "\\begin{cases}\n",
    "B \\equiv (sin 2\\theta,0 ,cos 2\\theta)\n",
    "\\\\\n",
    "\\rho_{ex} \\equiv \\rho_{21} = P_x+i P_y\n",
    "\\\\\n",
    "\\bar{\\rho}_{ex} \\equiv \\bar{\\rho}_{21} = \\bar{P}_x+i \\bar{P}_y\n",
    "\\\\\n",
    "\\Gamma \\equiv \\Gamma^{AE} + \\Gamma^{CC}\n",
    "\\\\\n",
    "\\bar{\\Gamma} \\equiv \\bar{\\Gamma}^{AE} + \\bar{\\Gamma}^{CC}\n",
    "\\end{cases}\n",
    "$$\n",
    "\n",
    "Let\n",
    "$$\n",
    "\\begin{cases}\n",
    "\\mu_+ \\equiv \\left(\\frac{S+D}{2}\\right) \\mu\n",
    "\\\\\n",
    "\\mu_- \\equiv \\left(\\frac{S-D}{2}\\right) \\mu\n",
    "\\end{cases}\n",
    "$$\n",
    "and\n",
    "$$\n",
    "A = \\begin{bmatrix}\n",
    "-\\omega ~cos2\\theta-\\mu_--i\\Gamma ~~~~~~~~~~~~~~~~~~ \\mu_+ ~~~~~~~~~~~~~~~~\\\\ ~~~~~~~~~~~ -\\mu_- ~~~~~~~~~~~~~~~ \\omega ~cos2\\theta+\\mu_+-i\\bar{\\Gamma}\n",
    "\\end{bmatrix}\n",
    "$$\n",
    ", we have\n",
    "$$\n",
    "i \\partial_t \\begin{bmatrix}\n",
    "\\rho_{ex} \\\\ \\bar{\\rho}_{ex}\n",
    "\\end{bmatrix} =\n",
    "\\begin{bmatrix}\n",
    "\\omega ~sin2\\theta \\\\ - \\omega ~sin2\\theta\n",
    "\\end{bmatrix} + A \\begin{bmatrix}\n",
    "\\rho_{ex} \\\\ \\bar{\\rho}_{ex}\n",
    "\\end{bmatrix}\n",
    "$$\n",
    "when $P_{z}$ and $\\bar{P}_{z}$ close to 1.\n",
    "\n",
    "Assume\n",
    "$$\n",
    "\\begin{cases}\n",
    "\\rho_{ex}(t) = \\rho^0_{ex} + Q e^{-i\\Omega t}\n",
    "\\\\\n",
    "\\bar{\\rho}_{ex}(t) = \\bar{\\rho}^0_{ex} + \\bar{Q} e^{-i\\Omega t}\n",
    "\\end{cases}\n",
    "$$, where $\\rho^0_{ex}$ and $\\bar{\\rho}^0_{ex}$ satisfy\n",
    "$$\n",
    "0= \\begin{bmatrix}\n",
    "\\omega ~sin2\\theta \\\\ - \\omega ~sin2\\theta\n",
    "\\end{bmatrix}  + \n",
    "A \\begin{bmatrix} \\rho^0_{ex} \\\\ \\bar{\\rho}^0_{ex}\n",
    "\\end{bmatrix}\n",
    "$$\n",
    ", then\n",
    "$$\n",
    "\\Omega \n",
    "\\begin{bmatrix}\n",
    "Q \\\\ \\bar{Q}\n",
    "\\end{bmatrix}\n",
    "= A\n",
    "\\begin{bmatrix}\n",
    "Q \\\\ \\bar{Q}\n",
    "\\end{bmatrix}\n",
    "$$"
   ]
  },
  {
   "cell_type": "markdown",
   "id": "c35cbd47-2c31-4cee-a4ab-9b23f1f56ae5",
   "metadata": {},
   "source": [
    "### Aproximation (not used in this simulation)\n",
    "\n",
    "For $\\theta \\ll 1$ and $P_x~,P_y \\ll P_z$, we have\n",
    "$$\n",
    "\\begin{cases}\n",
    "    i \\partial_t \\rho_{ex} = 2\\omega\\theta\n",
    "    +\\left[-\\omega-\\sqrt{2}G_F(n_{\\bar{\\nu_e}}-n_{\\bar{\\nu_x}})- i \\Gamma \\right]\\rho_{ex} + \\sqrt{2}G_F(n_{\\nu_e}-n_{\\nu_x}) \\bar{\\rho}_{ex}\\\\\n",
    "    i \\partial_t \\bar{\\rho}_{ex} = - 2\\omega\\theta +\\left[+\\omega + \\sqrt{2}G_F(n_{\\nu_e}-n_{\\nu_x}) - i \\bar{\\Gamma} \\right]\\bar{\\rho}_{ex} -\\sqrt{2}G_F(n_{\\bar{\\nu_e}}-n_{\\bar{\\nu_x}}) \\rho_{ex}\n",
    "\\end{cases}\n",
    "$$\n",
    "\n",
    "Then,\n",
    "$$\n",
    "\\Omega \n",
    "\\begin{bmatrix}\n",
    "Q \\\\ \\bar{Q}\n",
    "\\end{bmatrix}\n",
    "= \n",
    "\\begin{bmatrix}\n",
    "-\\omega-\\mu_--i\\Gamma ~~~~ \\mu_+ ~~~~~~~~~~~~~~~~\\\\ -\\mu_- ~~~~~~~~~~~~~~~~~~~~ \\omega+\\mu_+-i\\bar{\\Gamma}\n",
    "\\end{bmatrix}\n",
    "\\begin{bmatrix}\n",
    "Q \\\\ \\bar{Q}\n",
    "\\end{bmatrix}\n",
    "$$\n",
    "\n",
    "Under the assumption that $\\mu S, \\mu D>> \\omega >>\\gamma$, we have the eigenvalue of the above equation is\n",
    "$$\n",
    "\\begin{cases}\n",
    "\\Omega_+ \\simeq \\mu D + i\\left[ -\\frac{1}{2}(\\Gamma + \\bar{\\Gamma}) + \\frac{S}{2 D}(\\Gamma - \\bar{\\Gamma})\\right]\n",
    "\\\\\n",
    "\\Omega_- \\simeq \\frac{\\omega S}{D} + i\\left[ -\\frac{1}{2}(\\Gamma + \\bar{\\Gamma}) - \\frac{S}{2 D}(\\Gamma - \\bar{\\Gamma})\\right]\n",
    "\\end{cases}\n",
    "$$\n",
    "Notice that for + mode,\n",
    "$$\n",
    "Q_+ \\simeq \\bar{Q}_+\n",
    "$$\n",
    "; for - mode,\n",
    "$$\n",
    "Q_- \\simeq \\frac{S+D}{S-D}\\bar{Q}_-\n",
    "$$"
   ]
  },
  {
   "cell_type": "markdown",
   "id": "1395746c-1e15-4164-929c-d31d19322000",
   "metadata": {},
   "source": [
    "### Draw the proportions of each mode with eigenvalues and eigenvectors\n",
    "First, we have to find the eigenvalues of matrix $A$, and denote the eigenvalues and normalized eigenvectors as $\\Omega_\\pm$ and $\\vec{v}_\\pm$.\n",
    "\n",
    "Then,\n",
    "$$\n",
    "\\begin{bmatrix}\n",
    "\\rho_{ex} (t)\\\\ \\bar{\\rho}_{ex} (t)\n",
    "\\end{bmatrix}\n",
    "= \\begin{bmatrix} \n",
    "\\rho^0_{ex} \\\\ \\bar{\\rho}^0_{ex}\n",
    "\\end{bmatrix} + \n",
    "Q_+ \\vec{v}_+\n",
    "e^{-i \\Omega_{+} ~\\bf{t}} +\n",
    "Q_- \\vec{v}_-\n",
    "e^{-i \\Omega_{-} ~\\bf{t}}\n",
    "=\n",
    "\\begin{bmatrix}\n",
    "\\vec{v}_- ~~ \\vec{v}_+\n",
    "\\end{bmatrix}\n",
    "\\begin{bmatrix}\n",
    "Q_-e^{-i \\Omega_{-} ~\\bf{t}} \\\\ Q_+e^{-i \\Omega_{+} ~\\bf{t}}\n",
    "\\end{bmatrix} + \n",
    "\\begin{bmatrix} \n",
    "\\rho^0_{ex} \\\\ \\bar{\\rho}^0_{ex}\n",
    "\\end{bmatrix}\n",
    "$$, or\n",
    "$$\n",
    "\\begin{bmatrix}\n",
    "Q_-e^{-i \\Omega_{-} ~\\bf{t}} \\\\ Q_+e^{-i \\Omega_{+} ~\\bf{t}}\n",
    "\\end{bmatrix} =\n",
    "\\begin{bmatrix}\n",
    "\\vec{v}_- ~~ \\vec{v}_+\n",
    "\\end{bmatrix}^{-1}\n",
    "\\begin{bmatrix}\n",
    "\\rho_{ex} (t) - \\rho^0_{ex} \\\\ \\bar{\\rho}_{ex} (t) -\\bar{\\rho}^0_{ex}\n",
    "\\end{bmatrix}\n",
    "$$"
   ]
  },
  {
   "cell_type": "markdown",
   "id": "9bb40cdf-2ea3-402e-b299-eee44a3f197a",
   "metadata": {
    "execution": {
     "iopub.execute_input": "2022-06-29T09:57:45.160000-06:00",
     "iopub.status.busy": "2022-06-29T09:57:45.160000-06:00",
     "iopub.status.idle": "2022-06-29T09:57:45.204000-06:00",
     "shell.execute_reply": "2022-06-29T09:57:45.204000-06:00"
    }
   },
   "source": [
    "## Comparing the proportions of each mode with eigenvalues and eigenvectors\n",
    "From the above discussion, we are able to do a analytic simulation\n",
    "\n",
    "$$\n",
    "\\begin{bmatrix}\n",
    "\\rho_{ex} (t)\\\\ \\bar{\\rho}_{ex} (t)\n",
    "\\end{bmatrix}\n",
    "=\n",
    "\\begin{bmatrix}\n",
    "\\vec{v}_- ~~ \\vec{v}_+\n",
    "\\end{bmatrix}\n",
    "\\begin{bmatrix}\n",
    "Q_-e^{-i \\Omega_{-} ~\\bf{t}} \\\\ Q_+e^{-i \\Omega_{+} ~\\bf{t}}\n",
    "\\end{bmatrix} + \n",
    "\\begin{bmatrix} \n",
    "\\rho^0_{ex} \\\\ \\bar{\\rho}^0_{ex}\n",
    "\\end{bmatrix}\n",
    "$$, where $Q_-$ and $Q_+$ satisfy\n",
    "$$\n",
    "\\begin{bmatrix}\n",
    "Q_- \\\\ Q_+\n",
    "\\end{bmatrix} =\n",
    "\\begin{bmatrix}\n",
    "\\vec{v}_- ~~ \\vec{v}_+\n",
    "\\end{bmatrix}^{-1}\n",
    "\\begin{bmatrix}\n",
    "\\rho_{ex} (0) - \\rho^0_{ex} \\\\ \\bar{\\rho}_{ex} (0) -\\bar{\\rho}^0_{ex}\n",
    "\\end{bmatrix}=\n",
    "\\begin{bmatrix}\n",
    "\\vec{v}_- ~~ \\vec{v}_+\n",
    "\\end{bmatrix}^{-1}\n",
    "\\begin{bmatrix}\n",
    "- \\rho^0_{ex} \\\\ -\\bar{\\rho}^0_{ex}\n",
    "\\end{bmatrix}\n",
    "$$"
   ]
  },
  {
   "cell_type": "code",
   "execution_count": 45,
   "id": "6c7e80e6-52c7-4fe1-a250-0a4b36e7631a",
   "metadata": {},
   "outputs": [
    {
     "data": {
      "text/plain": [
       "(-4.950161638327744e-7 + 1.0813520841261945e-6im, -1.9798576901876535e-11 + 6.851870569791104e-16im)"
      ]
     },
     "execution_count": 45,
     "metadata": {},
     "output_type": "execute_result"
    }
   ],
   "source": [
    "Qma, Qpa"
   ]
  },
  {
   "cell_type": "code",
   "execution_count": 46,
   "id": "24ab94d6-540c-48ad-9651-f1c61edbb5e6",
   "metadata": {},
   "outputs": [
    {
     "data": {
      "text/plain": [
       "2×2 Matrix{ComplexF64}:\n",
       " 0.800001+0.0im         0.707106-2.62752e-6im\n",
       " 0.599999-2.22953e-6im  0.707107+0.0im"
      ]
     },
     "execution_count": 46,
     "metadata": {},
     "output_type": "execute_result"
    }
   ],
   "source": [
    "eigvecs(A)"
   ]
  },
  {
   "cell_type": "code",
   "execution_count": 47,
   "id": "5c6b23a9-cbfb-47f4-a4cd-951fcdaf1a4d",
   "metadata": {},
   "outputs": [
    {
     "data": {
      "text/plain": [
       "2×2 Matrix{Float64}:\n",
       "  5.0      -5.0\n",
       " -4.24264   5.65685"
      ]
     },
     "execution_count": 47,
     "metadata": {},
     "output_type": "execute_result"
    }
   ],
   "source": [
    "(S^2+D^2)^0.5/D*[2^-0.5 -2^-0.5; -0.6 0.8]"
   ]
  },
  {
   "cell_type": "code",
   "execution_count": 48,
   "id": "5a23f295-736f-4c05-89c2-af93a095930d",
   "metadata": {},
   "outputs": [
    {
     "data": {
      "text/plain": [
       "(-3.9602721589414443e-7 + 8.650822907063936e-7im, -2.970209069366951e-7 + 6.488115241150416e-7im)"
      ]
     },
     "execution_count": 48,
     "metadata": {},
     "output_type": "execute_result"
    }
   ],
   "source": [
    "adjrho, adjbrho"
   ]
  },
  {
   "cell_type": "code",
   "execution_count": 49,
   "id": "9a86b108-9fae-4b5c-9baa-28ab7f3db950",
   "metadata": {},
   "outputs": [
    {
     "data": {
      "text/plain": [
       "(-3.960272693015802e-7 + 8.650824174288679e-7im, -2.9702045197618513e-7 + 6.48811813071651e-7im)"
      ]
     },
     "execution_count": 49,
     "metadata": {},
     "output_type": "execute_result"
    }
   ],
   "source": [
    " -4*w_0*theta*((mu_0*S*w_0)+1im*(mup*g-mum*bg))^-1*mup,  -4*w_0*theta*((mu_0*S*w_0)+1im*(mup*g-mum*bg))^-1*mum"
   ]
  },
  {
   "cell_type": "code",
   "execution_count": 50,
   "id": "328962c6-f8f2-454b-bbb2-eabe64a2a011",
   "metadata": {},
   "outputs": [
    {
     "data": {
      "text/plain": [
       "(-3.9602727262409254e-7 + 8.65082546705386e-7im, -2.970209494843008e-7 + 6.488117161142623e-7im)"
      ]
     },
     "execution_count": 50,
     "metadata": {},
     "output_type": "execute_result"
    }
   ],
   "source": [
    "-2*w_0*theta*((mu_0*S*w_0)+1im*(mup*g-mum*bg))^-1*(2*mup+w_0-1im*bg),  -2*w_0*theta*((mu_0*S*w_0)+1im*(mup*g-mum*bg))^-1*(2*mum+w_0+1im*g)"
   ]
  },
  {
   "cell_type": "code",
   "execution_count": 51,
   "id": "b95645cf-77e2-4f9a-8fa4-48d83f738bd6",
   "metadata": {},
   "outputs": [
    {
     "data": {
      "text/plain": [
       "2×2 Matrix{ComplexF64}:\n",
       "  4.99994-0.000111473im  -4.99993+0.000130052im\n",
       " -4.24258+0.000110353im   5.65678-0.000126118im"
      ]
     },
     "execution_count": 51,
     "metadata": {},
     "output_type": "execute_result"
    }
   ],
   "source": [
    "inv(eigvecs(A))"
   ]
  },
  {
   "cell_type": "code",
   "execution_count": 52,
   "id": "965b6557-c34a-497e-b2d8-4e193b0caa3f",
   "metadata": {},
   "outputs": [
    {
     "data": {
      "text/plain": [
       "5.656780706871254 - 0.00012611761064500288im"
      ]
     },
     "execution_count": 52,
     "metadata": {},
     "output_type": "execute_result"
    }
   ],
   "source": [
    "inv(eigvecs(A))[4]"
   ]
  },
  {
   "cell_type": "code",
   "execution_count": 53,
   "id": "80edba8b-73db-4f15-a383-84ff001fca80",
   "metadata": {},
   "outputs": [
    {
     "data": {
      "text/plain": [
       "2×2 Matrix{ComplexF64}:\n",
       "    -9.0e5-1.2429im  1.2e6+0.0im\n",
       " -900000.0+0.0im     1.2e6-0.12812im"
      ]
     },
     "execution_count": 53,
     "metadata": {},
     "output_type": "execute_result"
    }
   ],
   "source": [
    "A"
   ]
  },
  {
   "cell_type": "code",
   "execution_count": 54,
   "id": "993ff8a5-38be-4c52-9fbc-df70b9061265",
   "metadata": {},
   "outputs": [
    {
     "data": {
      "text/plain": [
       "-2.1000353075796614 - 4.587188878501907im"
      ]
     },
     "execution_count": 54,
     "metadata": {},
     "output_type": "execute_result"
    }
   ],
   "source": [
    "omegam"
   ]
  },
  {
   "cell_type": "code",
   "execution_count": 55,
   "id": "4beb456f-99e6-4a5b-be7e-0fac52d94602",
   "metadata": {},
   "outputs": [
    {
     "data": {
      "text/plain": [
       "2.1 - 3.3443419716338267im"
      ]
     },
     "execution_count": 55,
     "metadata": {},
     "output_type": "execute_result"
    }
   ],
   "source": [
    "new_omegam = w_0*S/D+1im*(g-0.5*(g+bg)-0.5S*(g-bg)/D)"
   ]
  },
  {
   "cell_type": "code",
   "execution_count": 56,
   "id": "9930517d-a4f1-4e01-8fe0-35f60c1610b6",
   "metadata": {},
   "outputs": [
    {
     "data": {
      "text/plain": [
       "899998.1999646925 - 3.344288461993009im"
      ]
     },
     "execution_count": 56,
     "metadata": {},
     "output_type": "execute_result"
    }
   ],
   "source": [
    "adjmum = mum+w_0+1im*g+omegam"
   ]
  },
  {
   "cell_type": "code",
   "execution_count": 57,
   "id": "a5914712-b80c-4b00-aebb-b6da1c75a048",
   "metadata": {},
   "outputs": [
    {
     "data": {
      "text/plain": [
       "899998.2000000001 - 3.3443419716338267im"
      ]
     },
     "execution_count": 57,
     "metadata": {},
     "output_type": "execute_result"
    }
   ],
   "source": [
    "adjmum = mum+w_0-w_0*S/D+1im*(g-0.5*(g+bg)-0.5S*(g-bg)/D)"
   ]
  },
  {
   "cell_type": "code",
   "execution_count": 58,
   "id": "65950b04-3369-4ceb-8f99-dc602bbc74ae",
   "metadata": {},
   "outputs": [
    {
     "data": {
      "text/plain": [
       "2×2 Matrix{ComplexF64}:\n",
       "  4.99997-6.2427e-5im   -4.99997+6.2427e-5im\n",
       " -4.24261+6.30608e-5im   5.65682-6.30608e-5im"
      ]
     },
     "execution_count": 58,
     "metadata": {},
     "output_type": "execute_result"
    }
   ],
   "source": [
    "new_invA=inv([(mup/(adjmum^2+mup^2)^0.5) 2^-0.5;(adjmum/(adjmum^2+mup^2)^0.5) 2^-0.5])"
   ]
  },
  {
   "cell_type": "code",
   "execution_count": 59,
   "id": "de994fe1-b25c-4526-b4f9-b525b3209407",
   "metadata": {},
   "outputs": [
    {
     "data": {
      "text/plain": [
       "(-4.242632201837911 + 1.5765379244993783e-5im, 5.656854249492381)"
      ]
     },
     "execution_count": 59,
     "metadata": {},
     "output_type": "execute_result"
    }
   ],
   "source": [
    "-2^0.5*adjmum/D/mu_0, 2^0.5*mup/D/mu_0"
   ]
  },
  {
   "cell_type": "code",
   "execution_count": 60,
   "id": "82e24ae1-7ecc-455b-b871-c83e3950af65",
   "metadata": {},
   "outputs": [
    {
     "data": {
      "text/plain": [
       "2×2 Matrix{ComplexF64}:\n",
       "  4.99994-0.000111473im  -4.99993+0.000130052im\n",
       " -4.24258+0.000110353im   5.65678-0.000126118im"
      ]
     },
     "execution_count": 60,
     "metadata": {},
     "output_type": "execute_result"
    }
   ],
   "source": [
    "inv(eigvecs(A))"
   ]
  },
  {
   "cell_type": "code",
   "execution_count": 61,
   "id": "be484943-7587-4c13-9773-5e76083a35cb",
   "metadata": {},
   "outputs": [
    {
     "data": {
      "text/plain": [
       "-1.979858223756177e-11 + 6.863317389188463e-16im"
      ]
     },
     "execution_count": 61,
     "metadata": {},
     "output_type": "execute_result"
    }
   ],
   "source": [
    "inv(eigvecs(A))[2]*(-2*w_0*theta*((mu_0*S*w_0)+1im*(mup*g-mum*bg))^-1*(2*mup+w_0-1im*bg))+(-2*w_0*theta*((mu_0*S*w_0)+1im*(mup*g-mum*bg))^-1*(2*mum+w_0+1im*g))*inv(eigvecs(A))[4]"
   ]
  },
  {
   "cell_type": "code",
   "execution_count": 62,
   "id": "558a7bb7-d0e1-4097-bf47-cab9635982e6",
   "metadata": {},
   "outputs": [
    {
     "data": {
      "text/plain": [
       "-1.979883964007477e-11 + 2.449267764786326e-16im"
      ]
     },
     "execution_count": 62,
     "metadata": {},
     "output_type": "execute_result"
    }
   ],
   "source": [
    "-2^0.5*(mum+w_0+1im*g+omegam)/D/mu_0*(-2*w_0*theta*((mu_0*S*w_0)+1im*(mup*g-mum*bg))^-1*(2*mup+w_0-1im*bg))+(-2*w_0*theta*((mu_0*S*w_0)+1im*(mup*g-mum*bg))^-1*(2*mum+w_0+1im*g))*2^0.5*mup/D/mu_0"
   ]
  },
  {
   "cell_type": "code",
   "execution_count": 63,
   "id": "157a0e31-e7ef-4011-a689-ecb80d8dccf4",
   "metadata": {},
   "outputs": [
    {
     "data": {
      "text/plain": [
       "(-2.1 - 4.587242388142725im, -2.1000353075796614 - 4.587188878501907im)"
      ]
     },
     "execution_count": 63,
     "metadata": {},
     "output_type": "execute_result"
    }
   ],
   "source": [
    "-w_0*S/D - 1im *(0.5*(g+bg)+0.5*S*(g-bg)/D), omegam"
   ]
  },
  {
   "cell_type": "code",
   "execution_count": 64,
   "id": "c4b68b06-a30e-49e6-a723-a4d639ed530b",
   "metadata": {},
   "outputs": [
    {
     "data": {
      "text/plain": [
       "-1.9798989873223327e-11 + 0.0im"
      ]
     },
     "execution_count": 64,
     "metadata": {},
     "output_type": "execute_result"
    }
   ],
   "source": [
    "-2^1.5*w_0*theta*((mu_0*S*w_0)+1im*(mup*g-mum*bg))^-1/D*((0.5S+0.5D)*(-w_0+2*(w_0*S/D+ 1im *(0.5*(g+bg)+0.5*S*(g-bg)/D)))-(0.5S-0.5D)*w_0+1im*bg*(0.5S-0.5D)-1im*g*(0.5S+0.5D))"
   ]
  },
  {
   "cell_type": "code",
   "execution_count": 65,
   "id": "6847cc3e-d268-4dcd-8bdb-0dce8af35fa7",
   "metadata": {},
   "outputs": [
    {
     "data": {
      "text/plain": [
       "-1.9798989873223327e-11"
      ]
     },
     "execution_count": 65,
     "metadata": {},
     "output_type": "execute_result"
    }
   ],
   "source": [
    "-2^1.5*w_0*theta*S/D^2/mu_0"
   ]
  },
  {
   "cell_type": "code",
   "execution_count": 66,
   "id": "e207cc8d-a6af-4aa1-a0f6-84f9ee63093f",
   "metadata": {},
   "outputs": [
    {
     "data": {
      "text/plain": [
       "-1.9798576901876535e-11 + 6.851870569791104e-16im"
      ]
     },
     "execution_count": 66,
     "metadata": {},
     "output_type": "execute_result"
    }
   ],
   "source": [
    "Qpa"
   ]
  },
  {
   "cell_type": "code",
   "execution_count": 67,
   "id": "59eaa07e-ed5b-41c2-a9b6-7b143d8cc52d",
   "metadata": {},
   "outputs": [
    {
     "data": {
      "text/plain": [
       "7.3500000000000005 + 16.055348358499536im"
      ]
     },
     "execution_count": 67,
     "metadata": {},
     "output_type": "execute_result"
    }
   ],
   "source": [
    "((0.5S+0.5D)*(-w_0+2*(w_0*S/D+ 1im *(0.5*(g+bg)+0.5*S*(g-bg)/D)))-(0.5S-0.5D)*w_0+1im*bg*(0.5S-0.5D)-1im*g*(0.5S+0.5D))"
   ]
  },
  {
   "cell_type": "code",
   "execution_count": 68,
   "id": "0606852e-d337-489c-97b7-de774f202ba3",
   "metadata": {},
   "outputs": [
    {
     "data": {
      "text/plain": [
       "0.0 + 16.055348358499536im"
      ]
     },
     "execution_count": 68,
     "metadata": {},
     "output_type": "execute_result"
    }
   ],
   "source": [
    "((0.5S+0.5D)*1im *((g+bg)+S*(g-bg)/D)+1im*bg*(0.5S-0.5D)-1im*g*(0.5S+0.5D))"
   ]
  },
  {
   "cell_type": "code",
   "execution_count": 69,
   "id": "8313a6ee-72f0-4a17-9867-5c4bb66d055e",
   "metadata": {},
   "outputs": [
    {
     "data": {
      "text/plain": [
       "8.223427434895819e-12 - 5.299192644217308e-12im"
      ]
     },
     "execution_count": 69,
     "metadata": {},
     "output_type": "execute_result"
    }
   ],
   "source": [
    "2^1.5*w_0^2*theta*((mu_0*S*w_0)+1im*(mup*g-mum*bg))^-1/D*((S^2/D)+1im*(D*bg+S/D*(g-bg)*(0.5S+0.5D)))"
   ]
  },
  {
   "cell_type": "code",
   "execution_count": 70,
   "id": "405ba2d2-5503-4427-bd8f-5524535bae45",
   "metadata": {},
   "outputs": [
    {
     "data": {
      "text/plain": [
       "2×2 Matrix{ComplexF64}:\n",
       " -0.330023+0.720902im  0.330023-0.720902im\n",
       " -0.247517+0.540677im  0.247517-0.540677im"
      ]
     },
     "execution_count": 70,
     "metadata": {},
     "output_type": "execute_result"
    }
   ],
   "source": [
    " (-mu_0*S*w_0*cos(2*theta)+1im*mum*bg-1im*mup*g)^-1* [mup -mup ; mum -mum]"
   ]
  },
  {
   "cell_type": "code",
   "execution_count": 71,
   "id": "f14e8249-10df-4bfe-9a84-0877b058ac84",
   "metadata": {},
   "outputs": [
    {
     "data": {
      "text/plain": [
       "2×2 Matrix{ComplexF64}:\n",
       "  4.99994-0.000111473im  -4.99993+0.000130052im\n",
       " -4.24258+0.000110353im   5.65678-0.000126118im"
      ]
     },
     "execution_count": 71,
     "metadata": {},
     "output_type": "execute_result"
    }
   ],
   "source": [
    "inv(eigvecs(A))"
   ]
  },
  {
   "cell_type": "code",
   "execution_count": 72,
   "id": "e0494fc3-7a1d-4882-914c-bd52f2866fba",
   "metadata": {},
   "outputs": [
    {
     "data": {
      "text/plain": [
       "1×2 Matrix{ComplexF64}:\n",
       " -4.95016e-7+1.08135e-6im  -1.97986e-11+6.85187e-16im"
      ]
     },
     "execution_count": 72,
     "metadata": {},
     "output_type": "execute_result"
    }
   ],
   "source": [
    "[adjrho adjbrho]*transpose(inv(eigvecs(A)))"
   ]
  },
  {
   "cell_type": "code",
   "execution_count": 73,
   "id": "928dfc68-fba3-471b-b3af-0f194a570259",
   "metadata": {},
   "outputs": [
    {
     "data": {
      "text/plain": [
       "2×2 Matrix{ComplexF64}:\n",
       "    -9.0e5-1.2429im  1.2e6+0.0im\n",
       " -900000.0+0.0im     1.2e6-0.12812im"
      ]
     },
     "execution_count": 73,
     "metadata": {},
     "output_type": "execute_result"
    }
   ],
   "source": [
    "A = [-w_0*cos(2*theta)-mum-1im*g mup ; -mum w_0*cos(2*theta)+mup-1im*bg]"
   ]
  },
  {
   "cell_type": "code",
   "execution_count": 74,
   "id": "7d9fc331-445b-44d8-ae55-23e18c3c29f7",
   "metadata": {},
   "outputs": [
    {
     "data": {
      "text/plain": [
       "(-2.1000353075796614 - 4.587188878501907im, -4.587242388142725)"
      ]
     },
     "execution_count": 74,
     "metadata": {},
     "output_type": "execute_result"
    }
   ],
   "source": [
    "omegam, -0.5(g+bg)-0.5S*(g-bg)/D"
   ]
  },
  {
   "cell_type": "code",
   "execution_count": 75,
   "id": "96cad0d0-5c2a-4ac5-b550-8400f183801f",
   "metadata": {},
   "outputs": [
    {
     "data": {
      "text/plain": [
       "1.3333333333333333"
      ]
     },
     "execution_count": 75,
     "metadata": {},
     "output_type": "execute_result"
    }
   ],
   "source": [
    "mup/mum"
   ]
  },
  {
   "cell_type": "code",
   "execution_count": 76,
   "id": "62b03735-764d-4048-a31a-7f1bc5cea17a",
   "metadata": {},
   "outputs": [
    {
     "data": {
      "text/plain": [
       "-2.7501893701498623e-7 + 6.007516787700472e-7im"
      ]
     },
     "execution_count": 76,
     "metadata": {},
     "output_type": "execute_result"
    }
   ],
   "source": [
    "(-mu_0*S*w_0+1im*mum*bg-1im*mup*g)^-1"
   ]
  },
  {
   "cell_type": "code",
   "execution_count": 77,
   "id": "1220f040-c1b2-4d60-87a7-b4053d1c4dac",
   "metadata": {},
   "outputs": [
    {
     "data": {
      "text/plain": [
       "(2.9702045197618513e-7 - 6.48811813071651e-7im, 3.960272693015802e-7 - 8.650824174288679e-7im)"
      ]
     },
     "execution_count": 77,
     "metadata": {},
     "output_type": "execute_result"
    }
   ],
   "source": [
    " 4*w_0*theta*((mu_0*S*w_0)+1im*(mup*g-mum*bg))^-1*mum,  4*w_0*theta*((mu_0*S*w_0)+1im*(mup*g-mum*bg))^-1*mup"
   ]
  },
  {
   "cell_type": "code",
   "execution_count": 78,
   "id": "2efde3bb-30c7-4389-913a-0052d59ef44d",
   "metadata": {},
   "outputs": [
    {
     "data": {
      "text/plain": [
       "2×2 Matrix{ComplexF64}:\n",
       "    -9.0e5-1.2429im  1.2e6+0.0im\n",
       " -900000.0+0.0im     1.2e6-0.12812im"
      ]
     },
     "execution_count": 78,
     "metadata": {},
     "output_type": "execute_result"
    }
   ],
   "source": [
    "A"
   ]
  },
  {
   "cell_type": "code",
   "execution_count": 79,
   "id": "85925e14-777e-4343-a4f1-f8ab54cafc32",
   "metadata": {},
   "outputs": [
    {
     "data": {
      "text/plain": [
       "2×2 Matrix{ComplexF64}:\n",
       " -0.330023+0.720902im  0.330023-0.720902im\n",
       " -0.247517+0.540677im  0.247517-0.540677im"
      ]
     },
     "execution_count": 79,
     "metadata": {},
     "output_type": "execute_result"
    }
   ],
   "source": [
    " (-mu_0*S*w_0*cos(2*theta)+1im*mum*bg-1im*mup*g)^-1* [mup -mup ; mum -mum]"
   ]
  },
  {
   "cell_type": "code",
   "execution_count": 80,
   "id": "66a05dac-295b-4132-8f71-11cc3cc8411d",
   "metadata": {},
   "outputs": [
    {
     "data": {
      "text/plain": [
       "2×2 Matrix{ComplexF64}:\n",
       " -0.330023+0.720902im  0.330023-0.720902im\n",
       " -0.247517+0.540676im  0.247518-0.540676im"
      ]
     },
     "execution_count": 80,
     "metadata": {},
     "output_type": "execute_result"
    }
   ],
   "source": [
    "inv(A)"
   ]
  },
  {
   "cell_type": "code",
   "execution_count": 81,
   "id": "30f33dd3-eb15-4181-8f95-e3ece3e76e77",
   "metadata": {},
   "outputs": [
    {
     "data": {
      "text/plain": [
       "-3.9602721589414443e-7 + 8.650822907063936e-7im"
      ]
     },
     "execution_count": 81,
     "metadata": {},
     "output_type": "execute_result"
    }
   ],
   "source": [
    "rho_ini-rho0"
   ]
  },
  {
   "cell_type": "code",
   "execution_count": 82,
   "id": "fc83dd58-1c8e-489e-86aa-172b7e80bd7e",
   "metadata": {},
   "outputs": [
    {
     "data": {
      "text/plain": [
       "-2.970209069366951e-7 + 6.488115241150416e-7im"
      ]
     },
     "execution_count": 82,
     "metadata": {},
     "output_type": "execute_result"
    }
   ],
   "source": [
    "brho_ini-brho0"
   ]
  },
  {
   "cell_type": "code",
   "execution_count": 83,
   "id": "59ea2e11-63f1-46b9-b1b7-2e6f2e3ca974",
   "metadata": {},
   "outputs": [
    {
     "data": {
      "text/plain": [
       "starttime (generic function with 1 method)"
      ]
     },
     "execution_count": 83,
     "metadata": {},
     "output_type": "execute_result"
    }
   ],
   "source": [
    "using LinearAlgebra\n",
    "using DifferentialEquations, StaticArrays\n",
    "using Plots\n",
    "using LaTeXStrings\n",
    "using Plots\n",
    "\n",
    "#parameters\n",
    "const w_0 = 0.3 #km^-1\n",
    "\n",
    "const gcc = 0.5/11.4 #km^-1\n",
    "const gaep = 0.5/0.417#km^-1\n",
    "const gaem = 0.5/0.417#km^-1\n",
    "PAE = SA[0.0,0.0,2.0]\n",
    "const PAEZ = PAE[3]\n",
    "const PAE0 = 4.0\n",
    "\n",
    "const bgcc = 0.5/37.2 #km^-1\n",
    "const bgaep = 0.5/4.36 #km^-1\n",
    "const bgaem = 0.5/4.36 #km^-1\n",
    "bPAE = SA[0.0,0.0,1.5]\n",
    "const bPAEZ = bPAE[3]\n",
    "const bPAE0 = 3.5\n",
    "\n",
    "tkm = 0.0:0.001:25. #time in km^-1\n",
    "t = (10/3)tkm #time in microsecond\n",
    "\n",
    "#initial P_w\n",
    "Pi = [0.0,0.0,2.0]\n",
    "const Pi0 = 4.0\n",
    "bPi = [0.0,0.0,1.5] #P_bar\n",
    "const bPi0 = 3.5\n",
    "print()\n",
    "\n",
    "#parameters\n",
    "S=3.5\n",
    "D=0.5\n",
    "\n",
    "g = gcc+gaep #gamma\n",
    "bg = bgcc+bgaep #gamma_bar\n",
    "\n",
    "rho_ini = 0.5*Pi[1]+0.5im*Pi[2] #rho_ex = Px+i Py\n",
    "brho_ini = 0.5*bPi[1]+0.5im*bPi[2] #bar{rho}_ex = bPx+i bPy\n",
    "\n",
    "function starttime(mu_0,theta)\n",
    "    #B= SA[-sin(2*theta),0,cos(2*theta)]\n",
    "    @fastmath @inbounds wB = w_0*SA[-sin(2*theta),0,cos(2*theta)]\n",
    "    mup = 0.5(S+D)*mu_0\n",
    "    mum = 0.5(S-D)*mu_0\n",
    "    A = [-w_0*cos(2*theta)-mum-1im*g mup ; -mum w_0*cos(2*theta)+mup-1im*bg]\n",
    "    omegam, omegap = eigvals(A)\n",
    "\n",
    "    #adj\n",
    "    rho0,brho0 = w_0*sin(2*theta)*inv(A)*[-1; 1]\n",
    "    adjrho = rho_ini-rho0\n",
    "    adjbrho = brho_ini-brho0\n",
    "\n",
    "    #v^-1 \\rho\n",
    "    Qexp = [adjrho adjbrho]*transpose(inv(eigvecs(A)))\n",
    "    Qexp_abs = broadcast(abs,Qexp)\n",
    "    Omegap = mu_0*D + 1im*(-0.5*(g+bg)+0.5*S*(g-bg)/D)\n",
    "    Omegam = w_0*S/D - 1im*(0.5*(g+bg)+0.5*S*(g-bg)/D)\n",
    "    iomegaptf(t) = exp(1im*Omegap*t)\n",
    "    iomegapt = broadcast(iomegaptf,tkm)\n",
    "    iomegamtf(t) = exp(1im*Omegam*t)\n",
    "    iomegamt = broadcast(iomegamtf,tkm)\n",
    "    Qm = broadcast(abs,Qexp[:,1].*iomegamt)\n",
    "    Qp = broadcast(abs,Qexp[:,2].*iomegapt)\n",
    "\n",
    "    #analytical solution\n",
    "    Qma, Qpa=Qexp[1,1], Qexp[1,2]\n",
    "    miomegaptf(t) = exp(-1im*Omegap*t)\n",
    "    miomegapt = broadcast(miomegaptf,tkm)\n",
    "    miomegamtf(t) = exp(-1im*Omegam*t)\n",
    "    miomegamt = broadcast(miomegamtf,tkm)\n",
    "    anasol = eigvecs(A)*transpose([Qma*miomegamt Qpa*miomegapt])\n",
    "    abs_anarho = broadcast(abs,anasol[1,:].+rho0)\n",
    "    abs_anabrho = broadcast(abs,anasol[2,:].+brho0)\n",
    "\n",
    "    #abs(Qp*vp*exp(-i*Omema_p*t))\n",
    "    a = broadcast(abs, eigvecs(A)[2,2]*Qpa*miomegapt)\n",
    "    b = broadcast(abs, eigvecs(A)[1,2]*Qpa*miomegapt) \n",
    "    check_point = [0.0,0.0]\n",
    "    for i in 1:length(t)\n",
    "        if a[i]>abs(adjbrho) && check_point[1]==0\n",
    "        #if a[i]>0.9 && check_point[1]==0\n",
    "            check_point[1] = t[i]\n",
    "        end\n",
    "        if b[i]>abs(adjrho) && check_point[2]==0\n",
    "        #if b[i]>0.9 && check_point[2]==0\n",
    "            check_point[2] = t[i]\n",
    "        end\n",
    "    end\n",
    "    return check_point\n",
    "end"
   ]
  },
  {
   "cell_type": "code",
   "execution_count": 84,
   "id": "963597ad-ddbc-4578-8e8f-e9660f964fc0",
   "metadata": {},
   "outputs": [
    {
     "data": {
      "image/svg+xml": [
       "<?xml version=\"1.0\" encoding=\"utf-8\"?>\n",
       "<svg xmlns=\"http://www.w3.org/2000/svg\" xmlns:xlink=\"http://www.w3.org/1999/xlink\" width=\"600\" height=\"400\" viewBox=\"0 0 2400 1600\">\n",
       "<defs>\n",
       "  <clipPath id=\"clip640\">\n",
       "    <rect x=\"0\" y=\"0\" width=\"2400\" height=\"1600\"/>\n",
       "  </clipPath>\n",
       "</defs>\n",
       "<path clip-path=\"url(#clip640)\" d=\"\n",
       "M0 1600 L2400 1600 L2400 0 L0 0  Z\n",
       "  \" fill=\"#ffffff\" fill-rule=\"evenodd\" fill-opacity=\"1\"/>\n",
       "<defs>\n",
       "  <clipPath id=\"clip641\">\n",
       "    <rect x=\"480\" y=\"0\" width=\"1681\" height=\"1600\"/>\n",
       "  </clipPath>\n",
       "</defs>\n",
       "<defs>\n",
       "  <clipPath id=\"clip642\">\n",
       "    <rect x=\"188\" y=\"47\" width=\"2165\" height=\"1440\"/>\n",
       "  </clipPath>\n",
       "</defs>\n",
       "<path clip-path=\"url(#clip640)\" d=\"\n",
       "M202.227 1402.7 L2352.76 1402.7 L2352.76 47.2441 L202.227 47.2441  Z\n",
       "  \" fill=\"#ffffff\" fill-rule=\"evenodd\" fill-opacity=\"1\"/>\n",
       "<defs>\n",
       "  <clipPath id=\"clip643\">\n",
       "    <rect x=\"202\" y=\"47\" width=\"2152\" height=\"1356\"/>\n",
       "  </clipPath>\n",
       "</defs>\n",
       "<polyline clip-path=\"url(#clip643)\" style=\"stroke:#000000; stroke-linecap:butt; stroke-linejoin:round; stroke-width:2; stroke-opacity:0.1; fill:none\" points=\"\n",
       "  413.12,1402.7 413.12,47.2441 \n",
       "  \"/>\n",
       "<polyline clip-path=\"url(#clip643)\" style=\"stroke:#000000; stroke-linecap:butt; stroke-linejoin:round; stroke-width:2; stroke-opacity:0.1; fill:none\" points=\"\n",
       "  1089.39,1402.7 1089.39,47.2441 \n",
       "  \"/>\n",
       "<polyline clip-path=\"url(#clip643)\" style=\"stroke:#000000; stroke-linecap:butt; stroke-linejoin:round; stroke-width:2; stroke-opacity:0.1; fill:none\" points=\"\n",
       "  1765.65,1402.7 1765.65,47.2441 \n",
       "  \"/>\n",
       "<polyline clip-path=\"url(#clip640)\" style=\"stroke:#000000; stroke-linecap:butt; stroke-linejoin:round; stroke-width:4; stroke-opacity:1; fill:none\" points=\"\n",
       "  202.227,1402.7 2352.76,1402.7 \n",
       "  \"/>\n",
       "<polyline clip-path=\"url(#clip640)\" style=\"stroke:#000000; stroke-linecap:butt; stroke-linejoin:round; stroke-width:4; stroke-opacity:1; fill:none\" points=\"\n",
       "  413.12,1402.7 413.12,1383.8 \n",
       "  \"/>\n",
       "<polyline clip-path=\"url(#clip640)\" style=\"stroke:#000000; stroke-linecap:butt; stroke-linejoin:round; stroke-width:4; stroke-opacity:1; fill:none\" points=\"\n",
       "  1089.39,1402.7 1089.39,1383.8 \n",
       "  \"/>\n",
       "<polyline clip-path=\"url(#clip640)\" style=\"stroke:#000000; stroke-linecap:butt; stroke-linejoin:round; stroke-width:4; stroke-opacity:1; fill:none\" points=\"\n",
       "  1765.65,1402.7 1765.65,1383.8 \n",
       "  \"/>\n",
       "<path clip-path=\"url(#clip640)\" d=\"M378.564 1476.83 L386.203 1476.83 L386.203 1450.46 L377.893 1452.13 L377.893 1447.87 L386.157 1446.2 L390.832 1446.2 L390.832 1476.83 L398.471 1476.83 L398.471 1480.76 L378.564 1480.76 L378.564 1476.83 Z\" fill=\"#000000\" fill-rule=\"evenodd\" fill-opacity=\"1\" /><path clip-path=\"url(#clip640)\" d=\"M417.916 1449.28 Q414.305 1449.28 412.476 1452.84 Q410.67 1456.39 410.67 1463.52 Q410.67 1470.62 412.476 1474.19 Q414.305 1477.73 417.916 1477.73 Q421.55 1477.73 423.355 1474.19 Q425.184 1470.62 425.184 1463.52 Q425.184 1456.39 423.355 1452.84 Q421.55 1449.28 417.916 1449.28 M417.916 1445.58 Q423.726 1445.58 426.781 1450.18 Q429.86 1454.77 429.86 1463.52 Q429.86 1472.24 426.781 1476.85 Q423.726 1481.43 417.916 1481.43 Q412.106 1481.43 409.027 1476.85 Q405.971 1472.24 405.971 1463.52 Q405.971 1454.77 409.027 1450.18 Q412.106 1445.58 417.916 1445.58 Z\" fill=\"#000000\" fill-rule=\"evenodd\" fill-opacity=\"1\" /><path clip-path=\"url(#clip640)\" d=\"M442.555 1438.21 Q445.282 1438.79 446.806 1440.64 Q448.348 1442.48 448.348 1445.19 Q448.348 1449.34 445.489 1451.62 Q442.631 1453.9 437.364 1453.9 Q435.596 1453.9 433.716 1453.54 Q431.854 1453.2 429.86 1452.5 L429.86 1448.84 Q431.44 1449.76 433.321 1450.23 Q435.201 1450.7 437.252 1450.7 Q440.825 1450.7 442.687 1449.29 Q444.568 1447.88 444.568 1445.19 Q444.568 1442.7 442.819 1441.31 Q441.088 1439.9 437.985 1439.9 L434.712 1439.9 L434.712 1436.78 L438.135 1436.78 Q440.938 1436.78 442.424 1435.67 Q443.909 1434.54 443.909 1432.44 Q443.909 1430.27 442.367 1429.13 Q440.844 1427.96 437.985 1427.96 Q436.424 1427.96 434.637 1428.3 Q432.851 1428.64 430.706 1429.35 L430.706 1425.97 Q432.869 1425.36 434.75 1425.06 Q436.65 1424.76 438.324 1424.76 Q442.649 1424.76 445.17 1426.74 Q447.69 1428.69 447.69 1432.04 Q447.69 1434.37 446.354 1435.99 Q445.019 1437.59 442.555 1438.21 Z\" fill=\"#000000\" fill-rule=\"evenodd\" fill-opacity=\"1\" /><path clip-path=\"url(#clip640)\" d=\"M1053.84 1476.83 L1061.48 1476.83 L1061.48 1450.46 L1053.17 1452.13 L1053.17 1447.87 L1061.44 1446.2 L1066.11 1446.2 L1066.11 1476.83 L1073.75 1476.83 L1073.75 1480.76 L1053.84 1480.76 L1053.84 1476.83 Z\" fill=\"#000000\" fill-rule=\"evenodd\" fill-opacity=\"1\" /><path clip-path=\"url(#clip640)\" d=\"M1093.2 1449.28 Q1089.58 1449.28 1087.76 1452.84 Q1085.95 1456.39 1085.95 1463.52 Q1085.95 1470.62 1087.76 1474.19 Q1089.58 1477.73 1093.2 1477.73 Q1096.83 1477.73 1098.63 1474.19 Q1100.46 1470.62 1100.46 1463.52 Q1100.46 1456.39 1098.63 1452.84 Q1096.83 1449.28 1093.2 1449.28 M1093.2 1445.58 Q1099.01 1445.58 1102.06 1450.18 Q1105.14 1454.77 1105.14 1463.52 Q1105.14 1472.24 1102.06 1476.85 Q1099.01 1481.43 1093.2 1481.43 Q1087.38 1481.43 1084.31 1476.85 Q1081.25 1472.24 1081.25 1463.52 Q1081.25 1454.77 1084.31 1450.18 Q1087.38 1445.58 1093.2 1445.58 Z\" fill=\"#000000\" fill-rule=\"evenodd\" fill-opacity=\"1\" /><path clip-path=\"url(#clip640)\" d=\"M1117.82 1428.58 L1108.22 1443.57 L1117.82 1443.57 L1117.82 1428.58 M1116.82 1425.27 L1121.6 1425.27 L1121.6 1443.57 L1125.6 1443.57 L1125.6 1446.73 L1121.6 1446.73 L1121.6 1453.35 L1117.82 1453.35 L1117.82 1446.73 L1105.14 1446.73 L1105.14 1443.06 L1116.82 1425.27 Z\" fill=\"#000000\" fill-rule=\"evenodd\" fill-opacity=\"1\" /><path clip-path=\"url(#clip640)\" d=\"M1731.26 1476.83 L1738.9 1476.83 L1738.9 1450.46 L1730.59 1452.13 L1730.59 1447.87 L1738.85 1446.2 L1743.53 1446.2 L1743.53 1476.83 L1751.16 1476.83 L1751.16 1480.76 L1731.26 1480.76 L1731.26 1476.83 Z\" fill=\"#000000\" fill-rule=\"evenodd\" fill-opacity=\"1\" /><path clip-path=\"url(#clip640)\" d=\"M1770.61 1449.28 Q1767 1449.28 1765.17 1452.84 Q1763.36 1456.39 1763.36 1463.52 Q1763.36 1470.62 1765.17 1474.19 Q1767 1477.73 1770.61 1477.73 Q1774.24 1477.73 1776.05 1474.19 Q1777.88 1470.62 1777.88 1463.52 Q1777.88 1456.39 1776.05 1452.84 Q1774.24 1449.28 1770.61 1449.28 M1770.61 1445.58 Q1776.42 1445.58 1779.47 1450.18 Q1782.55 1454.77 1782.55 1463.52 Q1782.55 1472.24 1779.47 1476.85 Q1776.42 1481.43 1770.61 1481.43 Q1764.8 1481.43 1761.72 1476.85 Q1758.66 1472.24 1758.66 1463.52 Q1758.66 1454.77 1761.72 1450.18 Q1764.8 1445.58 1770.61 1445.58 Z\" fill=\"#000000\" fill-rule=\"evenodd\" fill-opacity=\"1\" /><path clip-path=\"url(#clip640)\" d=\"M1783.74 1425.27 L1798.65 1425.27 L1798.65 1428.47 L1787.22 1428.47 L1787.22 1435.35 Q1788.05 1435.07 1788.87 1434.94 Q1789.7 1434.79 1790.53 1434.79 Q1795.23 1434.79 1797.98 1437.36 Q1800.72 1439.94 1800.72 1444.34 Q1800.72 1448.87 1797.9 1451.39 Q1795.08 1453.9 1789.94 1453.9 Q1788.18 1453.9 1786.33 1453.59 Q1784.51 1453.29 1782.55 1452.69 L1782.55 1448.87 Q1784.25 1449.8 1786.05 1450.25 Q1787.86 1450.7 1789.87 1450.7 Q1793.12 1450.7 1795.02 1448.99 Q1796.92 1447.28 1796.92 1444.34 Q1796.92 1441.41 1795.02 1439.7 Q1793.12 1437.98 1789.87 1437.98 Q1788.35 1437.98 1786.82 1438.32 Q1785.32 1438.66 1783.74 1439.38 L1783.74 1425.27 Z\" fill=\"#000000\" fill-rule=\"evenodd\" fill-opacity=\"1\" /><path clip-path=\"url(#clip640)\" d=\"M1167.85 1559.23 Q1167.01 1563.39 1165.88 1565.77 Q1164.08 1569.41 1160.99 1569.41 Q1158.8 1569.41 1157.12 1568.09 Q1155.48 1566.77 1155.06 1564.58 Q1154.22 1565.58 1153.61 1566.15 Q1153.03 1566.73 1151.87 1567.64 Q1150.75 1568.51 1149.33 1568.96 Q1147.91 1569.41 1146.3 1569.41 Q1142.37 1569.41 1139.89 1567.35 Q1136.54 1580.84 1136.25 1581.52 Q1135.32 1582.9 1133.97 1582.9 Q1133.13 1582.9 1132.61 1582.39 Q1132.1 1581.9 1132.1 1581.13 Q1132.13 1580.87 1132.32 1580.07 L1141.79 1541.9 Q1142.05 1540.87 1142.7 1540.29 Q1143.37 1539.68 1143.76 1539.62 Q1144.14 1539.52 1144.43 1539.52 Q1145.3 1539.52 1145.82 1540 Q1146.37 1540.45 1146.37 1541.29 Q1146.37 1541.42 1146.17 1542.16 Q1146.01 1542.87 1145.75 1543.97 Q1145.5 1545.03 1145.37 1545.51 L1142.6 1556.59 Q1141.66 1560.39 1141.66 1562.19 Q1141.66 1564.93 1142.89 1566.44 Q1144.14 1567.93 1146.56 1567.93 Q1148.07 1567.93 1149.49 1567.31 Q1150.91 1566.67 1151.87 1565.8 Q1152.84 1564.93 1153.61 1564 Q1154.39 1563.03 1154.74 1562.42 Q1155.09 1561.77 1155.13 1561.61 L1156.83 1554.88 L1159.96 1542.55 Q1160.15 1541.78 1160.51 1541.26 Q1160.89 1540.71 1161.34 1540.52 Q1161.79 1540.33 1162.05 1540.29 Q1162.31 1540.23 1162.53 1540.23 Q1163.34 1540.23 1163.89 1540.71 Q1164.43 1541.2 1164.43 1542.03 Q1164.43 1542.19 1164.24 1542.97 Q1164.08 1543.71 1163.82 1544.8 Q1163.56 1545.87 1163.44 1546.44 Q1162.41 1550.5 1162.31 1550.92 L1160.47 1558.04 Q1160.38 1558.46 1160.05 1559.81 Q1159.76 1561.16 1159.6 1561.87 Q1159.44 1562.55 1159.28 1563.48 Q1159.15 1564.38 1159.15 1564.9 Q1159.15 1567.93 1161.15 1567.93 Q1161.92 1567.93 1162.6 1567.48 Q1163.27 1566.99 1163.73 1566.32 Q1164.21 1565.64 1164.66 1564.48 Q1165.14 1563.29 1165.43 1562.32 Q1165.72 1561.32 1166.14 1559.78 Q1166.3 1559.04 1166.46 1558.81 Q1166.62 1558.59 1167.08 1558.59 Q1167.85 1558.59 1167.85 1559.23 Z\" fill=\"#000000\" fill-rule=\"evenodd\" fill-opacity=\"1\" /><path clip-path=\"url(#clip640)\" d=\"M1174.55 1586.27 Q1174.55 1579.49 1176.26 1575.79 Q1178.65 1570.29 1184.28 1570.29 Q1185.48 1570.29 1186.72 1570.63 Q1187.98 1570.94 1189.56 1572.18 Q1191.16 1573.42 1192.13 1575.45 Q1193.98 1579.37 1193.98 1586.27 Q1193.98 1593.01 1192.27 1596.69 Q1189.76 1602.05 1184.24 1602.05 Q1182.17 1602.05 1180.05 1600.99 Q1177.95 1599.93 1176.62 1597.39 Q1174.55 1593.58 1174.55 1586.27 M1178.38 1585.71 Q1178.38 1592.67 1178.87 1595.45 Q1179.44 1598.44 1180.97 1599.75 Q1182.53 1601.04 1184.24 1601.04 Q1186.09 1601.04 1187.62 1599.66 Q1189.18 1598.26 1189.65 1595.27 Q1190.17 1592.31 1190.15 1585.71 Q1190.15 1579.28 1189.7 1576.71 Q1189.09 1573.71 1187.46 1572.52 Q1185.86 1571.3 1184.24 1571.3 Q1183.63 1571.3 1182.98 1571.48 Q1182.35 1571.66 1181.42 1572.18 Q1180.5 1572.7 1179.78 1573.98 Q1179.08 1575.27 1178.74 1577.21 Q1178.38 1579.71 1178.38 1585.71 Z\" fill=\"#000000\" fill-rule=\"evenodd\" fill-opacity=\"1\" /><path clip-path=\"url(#clip640)\" d=\"M1218.26 1552.18 Q1218.26 1541.03 1222.41 1532.05 Q1224.18 1528.28 1226.66 1525.12 Q1229.14 1521.97 1230.78 1520.58 Q1232.43 1519.2 1232.88 1519.2 Q1233.52 1519.2 1233.55 1519.84 Q1233.55 1520.16 1232.68 1520.97 Q1222.06 1531.79 1222.09 1552.18 Q1222.09 1572.63 1232.43 1583.03 Q1233.55 1584.16 1233.55 1584.51 Q1233.55 1585.16 1232.88 1585.16 Q1232.43 1585.16 1230.85 1583.84 Q1229.27 1582.52 1226.82 1579.49 Q1224.37 1576.46 1222.6 1572.76 Q1218.26 1563.77 1218.26 1552.18 Z\" fill=\"#000000\" fill-rule=\"evenodd\" fill-opacity=\"1\" /><path clip-path=\"url(#clip640)\" d=\"M1239.62 1568.67 L1239.62 1566.64 Q1243.13 1566.64 1243.94 1566.22 Q1244.78 1565.77 1244.78 1563.64 L1244.78 1529.34 Q1244.78 1526.9 1243.91 1526.28 Q1243.07 1525.67 1239.62 1525.67 L1239.62 1523.61 L1249.12 1522.9 L1249.12 1554.56 L1258.43 1546.51 Q1259.88 1545.25 1259.88 1543.93 Q1259.88 1542.42 1257.98 1542.29 L1257.98 1540.23 Q1260.75 1540.42 1265.36 1540.42 Q1268.06 1540.42 1269.96 1540.23 L1269.96 1542.29 Q1265.81 1542.48 1261.65 1545.83 Q1260.72 1546.57 1258.5 1548.51 Q1256.31 1550.41 1256.31 1550.6 Q1256.31 1550.66 1256.37 1550.82 Q1256.47 1550.99 1256.6 1551.11 Q1256.72 1551.24 1256.72 1551.31 L1265.1 1563.13 Q1266.8 1565.51 1268.06 1566.09 Q1269.32 1566.64 1271.51 1566.64 L1271.51 1568.67 Q1268.67 1568.47 1265.74 1568.47 Q1264.16 1568.47 1258.62 1568.67 L1258.62 1566.64 Q1261.01 1566.64 1261.01 1565.09 Q1261.01 1564.03 1255.66 1556.65 Q1255.28 1556.14 1254.41 1555.01 Q1253.6 1553.82 1253.15 1553.24 L1248.93 1556.85 L1248.93 1563.64 Q1248.93 1565.77 1249.74 1566.22 Q1250.57 1566.64 1254.08 1566.64 L1254.08 1568.67 Q1250.12 1568.47 1246.84 1568.47 Q1246.16 1568.47 1239.62 1568.67 Z\" fill=\"#000000\" fill-rule=\"evenodd\" fill-opacity=\"1\" /><path clip-path=\"url(#clip640)\" d=\"M1274.04 1568.67 L1274.04 1566.64 Q1277.55 1566.64 1278.36 1566.22 Q1279.16 1565.77 1279.16 1563.64 L1279.16 1545.96 Q1279.16 1543.51 1278.29 1542.9 Q1277.46 1542.29 1274.04 1542.29 L1274.04 1540.23 L1283.32 1539.52 L1283.32 1546.44 Q1286.41 1539.52 1293.08 1539.52 Q1300.8 1539.52 1301.87 1545.96 Q1302.99 1543.45 1305.35 1541.49 Q1307.73 1539.52 1311.43 1539.52 Q1316.39 1539.52 1318.36 1541.97 Q1319.81 1543.61 1320.1 1545.45 Q1320.39 1547.28 1320.39 1552.05 L1320.39 1564.64 Q1320.45 1566.03 1321.51 1566.35 Q1322.58 1566.64 1325.54 1566.64 L1325.54 1568.67 Q1318.81 1568.47 1318.16 1568.47 Q1317.65 1568.47 1310.69 1568.67 L1310.69 1566.64 Q1314.2 1566.64 1315.01 1566.22 Q1315.84 1565.77 1315.84 1563.64 L1315.84 1548.28 Q1315.84 1544.93 1314.81 1542.97 Q1313.78 1540.97 1310.95 1540.97 Q1307.54 1540.97 1304.8 1543.84 Q1302.06 1546.7 1302.06 1551.53 L1302.06 1563.64 Q1302.06 1565.77 1302.87 1566.22 Q1303.7 1566.64 1307.21 1566.64 L1307.21 1568.67 Q1300.48 1568.47 1299.81 1568.47 Q1299.29 1568.47 1292.37 1568.67 L1292.37 1566.64 Q1295.88 1566.64 1296.68 1566.22 Q1297.52 1565.77 1297.52 1563.64 L1297.52 1548.28 Q1297.52 1544.93 1296.49 1542.97 Q1295.46 1540.97 1292.62 1540.97 Q1289.21 1540.97 1286.47 1543.84 Q1283.74 1546.7 1283.74 1551.53 L1283.74 1563.64 Q1283.74 1565.77 1284.54 1566.22 Q1285.38 1566.64 1288.86 1566.64 L1288.86 1568.67 Q1282.13 1568.47 1281.48 1568.47 Q1280.97 1568.47 1274.04 1568.67 Z\" fill=\"#000000\" fill-rule=\"evenodd\" fill-opacity=\"1\" /><path clip-path=\"url(#clip640)\" d=\"M1362.56 1536.73 Q1362.83 1537 1362.83 1537.39 Q1362.83 1537.77 1362.56 1538.04 Q1362.29 1538.31 1361.91 1538.31 L1333.01 1538.31 Q1332.62 1538.31 1332.35 1538.04 Q1332.08 1537.77 1332.08 1537.39 Q1332.08 1537 1332.35 1536.73 Q1332.62 1536.46 1333.01 1536.46 L1361.91 1536.46 Q1362.29 1536.46 1362.56 1536.73 Z\" fill=\"#000000\" fill-rule=\"evenodd\" fill-opacity=\"1\" /><path clip-path=\"url(#clip640)\" d=\"M1367.65 1522.58 L1367.65 1521.13 Q1373.2 1521.13 1376.06 1518.18 Q1376.85 1518.18 1376.98 1518.36 Q1377.12 1518.54 1377.12 1519.37 L1377.12 1545.28 Q1377.12 1546.65 1377.8 1547.08 Q1378.47 1547.51 1381.43 1547.51 L1382.89 1547.51 L1382.89 1548.93 Q1381.27 1548.79 1375.41 1548.79 Q1369.55 1548.79 1367.94 1548.93 L1367.94 1547.51 L1369.41 1547.51 Q1372.32 1547.51 1373.02 1547.1 Q1373.72 1546.68 1373.72 1545.28 L1373.72 1521.36 Q1371.3 1522.58 1367.65 1522.58 Z\" fill=\"#000000\" fill-rule=\"evenodd\" fill-opacity=\"1\" /><path clip-path=\"url(#clip640)\" d=\"M1397.56 1584.51 Q1397.56 1584.19 1398.39 1583.39 Q1409.02 1572.56 1409.02 1552.18 Q1409.02 1531.73 1398.81 1521.39 Q1397.56 1520.2 1397.56 1519.84 Q1397.56 1519.2 1398.2 1519.2 Q1398.65 1519.2 1400.23 1520.52 Q1401.84 1521.84 1404.26 1524.87 Q1406.7 1527.89 1408.51 1531.6 Q1412.85 1540.58 1412.85 1552.18 Q1412.85 1563.32 1408.7 1572.31 Q1406.93 1576.07 1404.45 1579.23 Q1401.97 1582.39 1400.33 1583.77 Q1398.68 1585.16 1398.2 1585.16 Q1397.56 1585.16 1397.56 1584.51 Z\" fill=\"#000000\" fill-rule=\"evenodd\" fill-opacity=\"1\" /><polyline clip-path=\"url(#clip643)\" style=\"stroke:#000000; stroke-linecap:butt; stroke-linejoin:round; stroke-width:2; stroke-opacity:0.1; fill:none\" points=\"\n",
       "  202.227,1380.96 2352.76,1380.96 \n",
       "  \"/>\n",
       "<polyline clip-path=\"url(#clip643)\" style=\"stroke:#000000; stroke-linecap:butt; stroke-linejoin:round; stroke-width:2; stroke-opacity:0.1; fill:none\" points=\"\n",
       "  202.227,1037.06 2352.76,1037.06 \n",
       "  \"/>\n",
       "<polyline clip-path=\"url(#clip643)\" style=\"stroke:#000000; stroke-linecap:butt; stroke-linejoin:round; stroke-width:2; stroke-opacity:0.1; fill:none\" points=\"\n",
       "  202.227,693.162 2352.76,693.162 \n",
       "  \"/>\n",
       "<polyline clip-path=\"url(#clip643)\" style=\"stroke:#000000; stroke-linecap:butt; stroke-linejoin:round; stroke-width:2; stroke-opacity:0.1; fill:none\" points=\"\n",
       "  202.227,349.262 2352.76,349.262 \n",
       "  \"/>\n",
       "<polyline clip-path=\"url(#clip640)\" style=\"stroke:#000000; stroke-linecap:butt; stroke-linejoin:round; stroke-width:4; stroke-opacity:1; fill:none\" points=\"\n",
       "  202.227,1402.7 202.227,47.2441 \n",
       "  \"/>\n",
       "<polyline clip-path=\"url(#clip640)\" style=\"stroke:#000000; stroke-linecap:butt; stroke-linejoin:round; stroke-width:4; stroke-opacity:1; fill:none\" points=\"\n",
       "  202.227,1380.96 221.125,1380.96 \n",
       "  \"/>\n",
       "<polyline clip-path=\"url(#clip640)\" style=\"stroke:#000000; stroke-linecap:butt; stroke-linejoin:round; stroke-width:4; stroke-opacity:1; fill:none\" points=\"\n",
       "  202.227,1037.06 221.125,1037.06 \n",
       "  \"/>\n",
       "<polyline clip-path=\"url(#clip640)\" style=\"stroke:#000000; stroke-linecap:butt; stroke-linejoin:round; stroke-width:4; stroke-opacity:1; fill:none\" points=\"\n",
       "  202.227,693.162 221.125,693.162 \n",
       "  \"/>\n",
       "<polyline clip-path=\"url(#clip640)\" style=\"stroke:#000000; stroke-linecap:butt; stroke-linejoin:round; stroke-width:4; stroke-opacity:1; fill:none\" points=\"\n",
       "  202.227,349.262 221.125,349.262 \n",
       "  \"/>\n",
       "<path clip-path=\"url(#clip640)\" d=\"M156.644 1367.75 L144.839 1386.2 L156.644 1386.2 L156.644 1367.75 M155.417 1363.68 L161.297 1363.68 L161.297 1386.2 L166.227 1386.2 L166.227 1390.09 L161.297 1390.09 L161.297 1398.24 L156.644 1398.24 L156.644 1390.09 L141.042 1390.09 L141.042 1385.58 L155.417 1363.68 Z\" fill=\"#000000\" fill-rule=\"evenodd\" fill-opacity=\"1\" /><path clip-path=\"url(#clip640)\" d=\"M154.7 1035.2 Q151.552 1035.2 149.7 1037.35 Q147.871 1039.5 147.871 1043.25 Q147.871 1046.98 149.7 1049.16 Q151.552 1051.31 154.7 1051.31 Q157.848 1051.31 159.677 1049.16 Q161.528 1046.98 161.528 1043.25 Q161.528 1039.5 159.677 1037.35 Q157.848 1035.2 154.7 1035.2 M163.982 1020.54 L163.982 1024.8 Q162.223 1023.97 160.417 1023.53 Q158.635 1023.09 156.876 1023.09 Q152.246 1023.09 149.792 1026.22 Q147.362 1029.34 147.015 1035.66 Q148.38 1033.65 150.441 1032.58 Q152.501 1031.49 154.978 1031.49 Q160.186 1031.49 163.195 1034.67 Q166.227 1037.81 166.227 1043.25 Q166.227 1048.58 163.079 1051.79 Q159.931 1055.01 154.7 1055.01 Q148.704 1055.01 145.533 1050.43 Q142.362 1045.82 142.362 1037.1 Q142.362 1028.9 146.251 1024.04 Q150.14 1019.16 156.69 1019.16 Q158.45 1019.16 160.232 1019.5 Q162.038 1019.85 163.982 1020.54 Z\" fill=\"#000000\" fill-rule=\"evenodd\" fill-opacity=\"1\" /><path clip-path=\"url(#clip640)\" d=\"M154.376 694.03 Q151.042 694.03 149.121 695.812 Q147.223 697.594 147.223 700.719 Q147.223 703.844 149.121 705.627 Q151.042 707.409 154.376 707.409 Q157.709 707.409 159.63 705.627 Q161.552 703.821 161.552 700.719 Q161.552 697.594 159.63 695.812 Q157.732 694.03 154.376 694.03 M149.7 692.039 Q146.691 691.298 145.001 689.238 Q143.334 687.178 143.334 684.215 Q143.334 680.071 146.274 677.664 Q149.237 675.257 154.376 675.257 Q159.538 675.257 162.477 677.664 Q165.417 680.071 165.417 684.215 Q165.417 687.178 163.727 689.238 Q162.061 691.298 159.075 692.039 Q162.454 692.826 164.329 695.118 Q166.227 697.409 166.227 700.719 Q166.227 705.743 163.149 708.428 Q160.093 711.113 154.376 711.113 Q148.658 711.113 145.579 708.428 Q142.524 705.743 142.524 700.719 Q142.524 697.409 144.422 695.118 Q146.32 692.826 149.7 692.039 M147.987 684.655 Q147.987 687.34 149.653 688.844 Q151.343 690.349 154.376 690.349 Q157.385 690.349 159.075 688.844 Q160.788 687.34 160.788 684.655 Q160.788 681.97 159.075 680.465 Q157.385 678.96 154.376 678.96 Q151.343 678.96 149.653 680.465 Q147.987 681.97 147.987 684.655 Z\" fill=\"#000000\" fill-rule=\"evenodd\" fill-opacity=\"1\" /><path clip-path=\"url(#clip640)\" d=\"M114.931 362.607 L122.57 362.607 L122.57 336.241 L114.26 337.908 L114.26 333.649 L122.524 331.982 L127.2 331.982 L127.2 362.607 L134.839 362.607 L134.839 366.542 L114.931 366.542 L114.931 362.607 Z\" fill=\"#000000\" fill-rule=\"evenodd\" fill-opacity=\"1\" /><path clip-path=\"url(#clip640)\" d=\"M154.283 335.061 Q150.672 335.061 148.843 338.626 Q147.038 342.167 147.038 349.297 Q147.038 356.403 148.843 359.968 Q150.672 363.51 154.283 363.51 Q157.917 363.51 159.723 359.968 Q161.552 356.403 161.552 349.297 Q161.552 342.167 159.723 338.626 Q157.917 335.061 154.283 335.061 M154.283 331.357 Q160.093 331.357 163.149 335.964 Q166.227 340.547 166.227 349.297 Q166.227 358.024 163.149 362.63 Q160.093 367.214 154.283 367.214 Q148.473 367.214 145.394 362.63 Q142.339 358.024 142.339 349.297 Q142.339 340.547 145.394 335.964 Q148.473 331.357 154.283 331.357 Z\" fill=\"#000000\" fill-rule=\"evenodd\" fill-opacity=\"1\" /><path clip-path=\"url(#clip640)\" d=\"M67.5905 933.75 L58.895 933.75 Q58.1542 933.75 57.8966 933.718 Q57.6389 933.686 57.4457 933.492 Q57.2525 933.299 57.2525 932.913 Q57.2525 932.462 57.4457 932.301 Q57.6389 932.107 58.3797 931.979 Q62.9207 930.98 65.3361 928.855 Q67.7194 926.697 67.7194 922.8 Q67.7194 919.096 66.0769 917.228 Q64.4344 915.36 61.7291 915.36 Q56.8982 915.36 55.6744 922.22 Q54.8692 926.182 54.3539 927.824 Q53.8064 929.467 52.6148 930.916 Q50.296 933.75 47.011 933.75 Q43.726 933.75 41.3106 931.27 Q38.8951 928.758 38.8951 923.219 Q38.8951 919.515 40.7631 917.003 Q40.1833 916.262 39.7003 915.876 Q38.8951 915.006 38.8951 914.555 Q38.8951 914.04 39.2494 913.943 Q39.5714 913.847 40.5054 913.847 L47.1398 913.847 Q47.8805 913.847 48.1382 913.879 Q48.3958 913.911 48.5891 914.104 Q48.7501 914.298 48.7501 914.716 Q48.7501 915.457 48.1382 915.489 Q40.1511 916.005 40.1511 923.219 Q40.1511 927.116 41.6648 928.855 Q43.1463 930.594 45.1753 930.594 Q46.3025 930.594 47.172 930.078 Q48.0094 929.531 48.5247 928.855 Q49.0078 928.146 49.4908 926.858 Q49.9417 925.57 50.1028 924.797 Q50.2638 923.992 50.5858 922.478 Q51.5842 917.196 53.742 914.974 Q56.5117 912.204 60.0222 912.204 Q63.9191 912.204 66.5599 914.845 Q69.2008 917.486 69.2008 922.8 Q69.2008 927.083 66.3345 930.078 Q66.721 930.465 67.0752 930.755 Q67.3973 931.045 67.5261 931.173 Q67.6549 931.27 67.7516 931.302 Q67.816 931.334 67.8804 931.399 Q69.2008 932.719 69.2008 933.041 Q69.2008 933.557 68.8466 933.653 Q68.5245 933.75 67.5905 933.75 Z\" fill=\"#000000\" fill-rule=\"evenodd\" fill-opacity=\"1\" /><path clip-path=\"url(#clip640)\" d=\"M42.0835 910.374 L40.6342 910.374 Q40.5054 907.346 38.3798 905.35 Q36.222 903.321 33.5811 902.644 Q30.9403 901.936 27.8807 901.871 L27.8807 900.229 L40.0223 900.229 L40.0223 890.793 L42.0835 890.793 L42.0835 900.229 L60.4086 900.229 Q67.5261 900.229 67.5261 895.784 Q67.5261 893.884 65.5938 892.628 Q63.6292 891.372 60.151 891.372 L56.5117 891.372 L56.5117 889.73 L60.2798 889.73 Q63.8547 889.73 66.5277 891.372 Q69.2008 893.015 69.2008 896.268 Q69.2008 897.459 68.8788 898.651 Q68.5889 899.81 67.816 901.356 Q67.0108 902.87 65.0785 903.836 Q63.1139 904.77 60.2798 904.77 L42.0835 904.77 L42.0835 910.374 Z\" fill=\"#000000\" fill-rule=\"evenodd\" fill-opacity=\"1\" /><path clip-path=\"url(#clip640)\" d=\"M62.18 885.643 Q56.5761 885.643 53.6132 879.041 Q51.713 875.08 51.23 866.9 L48.8145 866.9 Q44.7244 866.9 42.5666 869.057 Q40.3766 871.183 40.3766 873.888 Q40.3766 878.719 43.4039 881.038 Q43.4683 879.073 44.4667 878.365 Q45.4329 877.656 46.4313 877.656 Q47.7517 877.656 48.6213 878.494 Q49.4586 879.299 49.4586 880.684 Q49.4586 882.004 48.6535 882.874 Q47.8161 883.743 46.3669 883.743 Q43.1463 883.743 41.0207 880.845 Q38.8951 877.914 38.8951 873.759 Q38.8951 868.349 42.5344 864.742 Q43.6616 863.615 45.1108 863.067 Q46.5601 862.487 47.5263 862.423 Q48.4603 862.358 50.3282 862.358 L63.5004 862.358 Q63.8869 862.358 64.531 862.23 Q65.1751 862.101 66.0124 861.521 Q66.8176 860.909 66.8176 859.911 Q66.8176 857.528 62.5986 857.56 L58.895 857.56 L58.895 855.885 L62.5986 855.885 Q66.1091 855.885 67.4939 857.753 Q68.8466 859.589 68.8466 861.296 Q68.8466 863.486 67.2363 864.871 Q65.626 866.255 63.436 866.449 Q65.948 867.447 67.5905 869.734 Q69.2008 871.988 69.2008 875.08 Q69.2008 877.463 68.5889 879.717 Q68.0092 881.94 66.3667 883.808 Q64.692 885.643 62.18 885.643 M62.1155 880.555 Q64.5632 880.555 66.1413 878.816 Q67.7194 877.077 67.7194 874.629 Q67.7194 871.859 65.5938 869.379 Q63.436 866.9 59.217 866.9 L52.6148 866.9 Q52.8725 874.21 55.8032 877.399 Q58.7017 880.555 62.1155 880.555 Z\" fill=\"#000000\" fill-rule=\"evenodd\" fill-opacity=\"1\" /><path clip-path=\"url(#clip640)\" d=\"M68.4601 854.563 L66.4311 854.563 Q66.4311 851.053 66.0124 850.248 Q65.5616 849.41 63.436 849.41 L45.755 849.41 Q43.3073 849.41 42.6954 850.28 Q42.0835 851.117 42.0835 854.563 L40.0223 854.563 L39.3138 845.385 L46.5601 845.385 Q43.726 844.451 41.536 842.486 Q39.3138 840.489 39.3138 837.269 Q39.3138 835.143 40.5054 833.79 Q41.697 832.406 43.3395 832.406 Q44.7888 832.406 45.5295 833.307 Q46.2381 834.177 46.2381 835.24 Q46.2381 836.431 45.4973 837.269 Q44.7244 838.074 43.4039 838.074 Q42.5988 838.074 41.9869 837.72 Q41.3428 837.333 41.1173 837.043 Q40.8919 836.753 40.8275 836.56 Q40.7631 836.689 40.7631 837.269 Q40.7631 840.908 44.4023 843.001 Q48.0094 845.063 53.1623 845.063 L63.3072 845.063 Q65.2073 845.063 65.8192 844.29 Q66.4311 843.484 66.4311 840.038 L66.4311 838.654 L68.4601 838.654 Q68.2669 841.294 68.2669 847.027 Q68.2669 847.832 68.2991 849.088 Q68.3313 850.344 68.3957 851.987 Q68.4601 853.629 68.4601 854.563 Z\" fill=\"#000000\" fill-rule=\"evenodd\" fill-opacity=\"1\" /><path clip-path=\"url(#clip640)\" d=\"M42.0835 825.932 L40.6342 825.932 Q40.5054 822.905 38.3798 820.908 Q36.222 818.879 33.5811 818.203 Q30.9403 817.495 27.8807 817.43 L27.8807 815.788 L40.0223 815.788 L40.0223 806.351 L42.0835 806.351 L42.0835 815.788 L60.4086 815.788 Q67.5261 815.788 67.5261 811.343 Q67.5261 809.443 65.5938 808.187 Q63.6292 806.931 60.151 806.931 L56.5117 806.931 L56.5117 805.289 L60.2798 805.289 Q63.8547 805.289 66.5277 806.931 Q69.2008 808.574 69.2008 811.826 Q69.2008 813.018 68.8788 814.21 Q68.5889 815.369 67.816 816.915 Q67.0108 818.429 65.0785 819.395 Q63.1139 820.329 60.2798 820.329 L42.0835 820.329 L42.0835 825.932 Z\" fill=\"#000000\" fill-rule=\"evenodd\" fill-opacity=\"1\" /><path clip-path=\"url(#clip640)\" d=\"M42.0835 783.174 L40.6342 783.174 Q40.5054 780.147 38.3798 778.15 Q36.222 776.121 33.5811 775.445 Q30.9403 774.736 27.8807 774.672 L27.8807 773.029 L40.0223 773.029 L40.0223 763.593 L42.0835 763.593 L42.0835 773.029 L60.4086 773.029 Q67.5261 773.029 67.5261 768.585 Q67.5261 766.685 65.5938 765.429 Q63.6292 764.173 60.151 764.173 L56.5117 764.173 L56.5117 762.53 L60.2798 762.53 Q63.8547 762.53 66.5277 764.173 Q69.2008 765.815 69.2008 769.068 Q69.2008 770.26 68.8788 771.451 Q68.5889 772.611 67.816 774.157 Q67.0108 775.67 65.0785 776.636 Q63.1139 777.57 60.2798 777.57 L42.0835 777.57 L42.0835 783.174 Z\" fill=\"#000000\" fill-rule=\"evenodd\" fill-opacity=\"1\" /><path clip-path=\"url(#clip640)\" d=\"M68.4601 758.639 L66.4311 758.639 Q66.4311 755.128 66.0124 754.323 Q65.5616 753.518 63.436 753.518 L45.6906 753.518 Q43.2429 753.518 42.6632 754.355 Q42.0835 755.161 42.0835 758.381 L40.0223 758.381 L39.3138 749.17 L63.5004 749.17 Q65.4649 749.17 65.948 748.462 Q66.4311 747.753 66.4311 744.533 L68.4601 744.533 Q68.2669 751.264 68.2669 751.392 Q68.2669 752.294 68.4601 758.639 M27.8163 755.869 Q26.4959 755.869 25.4331 754.871 Q24.3381 753.84 24.3381 752.391 Q24.3381 750.942 25.3364 749.911 Q26.3026 748.88 27.8485 748.88 Q29.3622 748.88 30.3606 749.911 Q31.3267 750.942 31.3267 752.391 Q31.3267 753.905 30.2639 754.903 Q29.2012 755.869 27.8163 755.869 Z\" fill=\"#000000\" fill-rule=\"evenodd\" fill-opacity=\"1\" /><path clip-path=\"url(#clip640)\" d=\"M68.4601 740.024 L66.4311 740.024 Q66.4311 736.514 66.0124 735.709 Q65.5616 734.904 63.436 734.904 L45.755 734.904 Q43.3073 734.904 42.6954 735.773 Q42.0835 736.611 42.0835 740.024 L40.0223 740.024 L39.3138 730.749 L46.2381 730.749 Q39.3138 727.657 39.3138 720.991 Q39.3138 713.261 45.755 712.198 Q43.2429 711.071 41.2783 708.72 Q39.3138 706.337 39.3138 702.633 Q39.3138 697.674 41.7614 695.709 Q43.4039 694.26 45.2397 693.97 Q47.0754 693.68 51.8419 693.68 L64.4344 693.68 Q65.8192 693.616 66.1413 692.553 Q66.4311 691.49 66.4311 688.527 L68.4601 688.527 Q68.2669 695.258 68.2669 695.902 Q68.2669 696.418 68.4601 703.374 L66.4311 703.374 Q66.4311 699.864 66.0124 699.058 Q65.5616 698.221 63.436 698.221 L48.0738 698.221 Q44.7244 698.221 42.7598 699.252 Q40.7631 700.282 40.7631 703.116 Q40.7631 706.53 43.6294 709.268 Q46.4957 712.005 51.3266 712.005 L63.436 712.005 Q65.5616 712.005 66.0124 711.2 Q66.4311 710.363 66.4311 706.852 L68.4601 706.852 Q68.2669 713.583 68.2669 714.26 Q68.2669 714.775 68.4601 721.699 L66.4311 721.699 Q66.4311 718.189 66.0124 717.384 Q65.5616 716.546 63.436 716.546 L48.0738 716.546 Q44.7244 716.546 42.7598 717.577 Q40.7631 718.607 40.7631 721.442 Q40.7631 724.855 43.6294 727.593 Q46.4957 730.33 51.3266 730.33 L63.436 730.33 Q65.5616 730.33 66.0124 729.525 Q66.4311 728.688 66.4311 725.21 L68.4601 725.21 Q68.2669 731.941 68.2669 732.585 Q68.2669 733.1 68.4601 740.024 Z\" fill=\"#000000\" fill-rule=\"evenodd\" fill-opacity=\"1\" /><path clip-path=\"url(#clip640)\" d=\"M53.9353 684.581 Q47.7195 684.581 43.3073 680.588 Q38.8951 676.594 38.8951 670.862 Q38.8951 665.065 42.6632 662.069 Q46.4313 659.042 51.8419 659.042 Q52.8403 659.042 53.0335 659.3 Q53.2267 659.557 53.2267 660.685 L53.2267 679.106 Q59.9577 679.106 63.1139 677.11 Q67.5261 674.34 67.5261 669.67 Q67.5261 669.026 67.3973 668.253 Q67.2685 667.48 66.721 665.902 Q66.1413 664.324 64.6276 662.939 Q63.1139 661.554 60.7307 660.749 Q59.7967 660.556 59.8289 659.912 Q59.8289 659.042 60.6019 659.042 Q61.1816 659.042 62.502 659.686 Q63.7902 660.298 65.3361 661.49 Q66.882 662.681 68.0414 665 Q69.2008 667.287 69.2008 670.057 Q69.2008 675.854 64.8208 680.234 Q60.4086 684.581 53.9353 684.581 M51.8419 679.042 L51.8419 663.39 Q50.457 663.39 48.9111 663.648 Q47.3653 663.873 45.2397 664.582 Q43.0819 665.258 41.7292 666.868 Q40.3766 668.478 40.3766 670.862 Q40.3766 671.924 40.8275 673.084 Q41.2783 674.211 42.3733 675.596 Q43.4683 676.981 45.9482 677.947 Q48.428 678.913 51.8419 679.042 Z\" fill=\"#000000\" fill-rule=\"evenodd\" fill-opacity=\"1\" /><path clip-path=\"url(#clip640)\" d=\"M51.9707 638.155 Q40.8275 638.155 31.842 634 Q28.0739 632.229 24.9178 629.749 Q21.7616 627.269 20.3767 625.627 Q18.9919 623.984 18.9919 623.533 Q18.9919 622.889 19.636 622.857 Q19.9581 622.857 20.7632 623.727 Q31.5844 634.354 51.9707 634.322 Q72.4214 634.322 82.8239 623.984 Q83.9511 622.857 84.3054 622.857 Q84.9495 622.857 84.9495 623.533 Q84.9495 623.984 83.6291 625.562 Q82.3086 627.14 79.2813 629.588 Q76.2539 632.036 72.5502 633.807 Q63.5648 638.155 51.9707 638.155 Z\" fill=\"#000000\" fill-rule=\"evenodd\" fill-opacity=\"1\" /><path clip-path=\"url(#clip640)\" d=\"M59.0238 577.079 Q63.1783 577.916 65.5616 579.043 Q69.2008 580.847 69.2008 583.939 Q69.2008 586.129 67.8804 587.803 Q66.5599 589.446 64.37 589.865 Q65.3683 590.702 65.948 591.314 Q66.5277 591.894 67.4295 593.053 Q68.2991 594.18 68.7499 595.597 Q69.2008 597.014 69.2008 598.625 Q69.2008 602.554 67.1397 605.034 Q80.6339 608.383 81.3102 608.673 Q82.6951 609.607 82.6951 610.959 Q82.6951 611.797 82.1798 612.312 Q81.6967 612.827 80.9238 612.827 Q80.6661 612.795 79.861 612.602 L41.697 603.133 Q40.6664 602.876 40.0867 602.232 Q39.4748 601.555 39.4104 601.169 Q39.3138 600.782 39.3138 600.493 Q39.3138 599.623 39.7969 599.108 Q40.2478 598.56 41.0851 598.56 Q41.2139 598.56 41.9547 598.753 Q42.6632 598.914 43.7582 599.172 Q44.821 599.43 45.3041 599.559 L56.3829 602.328 Q60.1832 603.262 61.9867 603.262 Q64.7242 603.262 66.2379 602.038 Q67.7194 600.782 67.7194 598.367 Q67.7194 596.853 67.1074 595.436 Q66.4633 594.019 65.5938 593.053 Q64.7242 592.087 63.7902 591.314 Q62.8241 590.541 62.2122 590.187 Q61.568 589.832 61.407 589.8 L54.676 588.093 L42.3411 584.969 Q41.5682 584.776 41.0529 584.422 Q40.5054 584.035 40.3122 583.584 Q40.1189 583.134 40.0867 582.876 Q40.0223 582.618 40.0223 582.393 Q40.0223 581.588 40.5054 581.04 Q40.9885 580.493 41.8258 580.493 Q41.9869 580.493 42.7598 580.686 Q43.5006 580.847 44.5956 581.105 Q45.6583 581.362 46.2381 581.491 Q50.296 582.522 50.7147 582.618 L57.8322 584.454 Q58.2508 584.551 59.6035 584.873 Q60.9561 585.163 61.6647 585.324 Q62.341 585.485 63.275 585.646 Q64.1767 585.774 64.692 585.774 Q67.7194 585.774 67.7194 583.778 Q67.7194 583.005 67.2685 582.328 Q66.7854 581.652 66.1091 581.201 Q65.4327 580.718 64.2733 580.267 Q63.0817 579.784 62.1155 579.494 Q61.1172 579.204 59.5713 578.786 Q58.8305 578.625 58.6051 578.464 Q58.3797 578.303 58.3797 577.852 Q58.3797 577.079 59.0238 577.079 Z\" fill=\"#000000\" fill-rule=\"evenodd\" fill-opacity=\"1\" /><path clip-path=\"url(#clip640)\" d=\"M44.982 547.861 Q46.7856 547.861 47.7517 548.763 Q48.6857 549.665 48.6857 550.889 Q48.6857 551.887 48.106 552.435 Q47.5263 552.95 46.7533 552.95 Q45.6261 552.95 44.7244 552.048 Q43.8226 551.114 43.7904 549.762 Q42.5988 550.212 41.8903 551.404 Q41.1495 552.596 40.9563 553.658 Q40.7631 554.689 40.7631 555.72 Q40.7631 557.749 41.4072 559.294 Q42.0513 560.84 43.0497 561.613 Q44.0158 562.386 44.9498 562.741 Q45.8838 563.095 46.6889 563.095 Q47.3975 563.095 47.9772 562.934 Q48.5247 562.741 48.9433 562.29 Q49.3298 561.839 49.5875 561.517 Q49.8451 561.162 50.0705 560.389 Q50.296 559.617 50.3926 559.294 Q50.457 558.972 50.6503 558.071 Q51.0367 556.203 51.2622 555.365 Q51.4554 554.528 52.0029 553.433 Q52.5504 552.306 53.42 551.468 Q55.4489 549.439 58.2508 549.439 Q59.2814 549.439 60.5375 549.794 Q61.7935 550.116 63.3716 551.05 Q64.9497 551.984 66.2057 553.401 Q67.4617 554.818 68.3313 557.266 Q69.2008 559.681 69.2008 562.708 Q69.2008 566.927 67.4295 569.536 Q65.626 572.145 62.7919 572.145 Q60.7307 572.145 59.6035 571.017 Q58.4441 569.89 58.4441 568.441 Q58.4441 567.346 59.056 566.67 Q59.6357 565.993 60.7307 565.993 Q62.2122 565.993 63.3394 567.185 Q64.4666 568.377 64.2411 570.148 Q67.7194 568.634 67.7194 562.644 Q67.7194 560.389 67.1397 558.65 Q66.5277 556.879 65.6904 555.913 Q64.8208 554.914 63.758 554.27 Q62.6952 553.626 61.8901 553.433 Q61.085 553.208 60.473 553.208 Q59.4102 553.208 58.6051 553.626 Q57.8 554.045 57.3491 554.625 Q56.866 555.172 56.4795 556.235 Q56.0608 557.266 55.8998 558.006 Q55.7388 558.747 55.4811 560.067 Q55.3523 560.679 55.2879 561.066 Q55.1913 561.452 54.9336 562.257 Q54.6438 563.03 54.3539 563.578 Q54.0641 564.093 53.5488 564.769 Q53.0335 565.446 52.4216 565.864 Q51.8097 566.283 50.9079 566.573 Q50.0061 566.863 48.9433 566.863 Q47.9772 566.863 46.8178 566.573 Q45.6583 566.251 44.3057 565.446 Q42.9531 564.608 41.8581 563.417 Q40.7631 562.225 40.0545 560.228 Q39.3138 558.199 39.3138 555.72 Q39.3138 552.113 40.9885 549.987 Q42.631 547.861 44.982 547.861 Z\" fill=\"#000000\" fill-rule=\"evenodd\" fill-opacity=\"1\" /><path clip-path=\"url(#clip640)\" d=\"M84.3054 541.522 Q83.9833 541.522 83.1782 540.685 Q72.357 530.057 51.9707 530.057 Q31.52 530.057 21.1819 540.266 Q19.9903 541.522 19.636 541.522 Q18.9919 541.522 18.9919 540.878 Q18.9919 540.427 20.3123 538.849 Q21.6328 537.239 24.6601 534.823 Q27.6875 532.376 31.3911 530.572 Q40.3766 526.224 51.9707 526.224 Q63.1139 526.224 72.0994 530.379 Q75.8674 532.15 79.0236 534.63 Q82.1798 537.11 83.5646 538.752 Q84.9495 540.395 84.9495 540.878 Q84.9495 541.522 84.3054 541.522 Z\" fill=\"#000000\" fill-rule=\"evenodd\" fill-opacity=\"1\" /><polyline clip-path=\"url(#clip643)\" style=\"stroke:#009af9; stroke-linecap:butt; stroke-linejoin:round; stroke-width:4; stroke-opacity:1; fill:none\" points=\"\n",
       "  263.091,1364.34 330.718,1324.22 398.345,1283.52 465.972,1242.83 533.598,1202.13 601.225,1161.44 668.852,1120.74 736.478,1080.05 804.105,1038.78 871.732,998.086 \n",
       "  939.358,957.391 1006.98,916.123 1074.61,875.428 1142.24,834.16 1209.87,793.466 1277.49,752.198 1345.12,711.503 1412.75,670.235 1480.37,628.967 1548,588.272 \n",
       "  1615.63,547.004 1683.25,506.31 1750.88,465.042 1818.51,424.347 1886.13,383.079 1953.76,341.811 2021.39,301.116 2089.01,259.848 2156.64,219.154 2224.27,177.886 \n",
       "  2291.89,136.618 \n",
       "  \"/>\n",
       "<polyline clip-path=\"url(#clip643)\" style=\"stroke:#e26f46; stroke-linecap:butt; stroke-linejoin:round; stroke-width:4; stroke-opacity:1; fill:none\" points=\"\n",
       "  263.091,1312.75 330.718,1272.63 398.345,1231.94 465.972,1191.82 533.598,1151.12 601.225,1110.43 668.852,1069.16 736.478,1028.46 804.105,987.769 871.732,947.074 \n",
       "  939.358,905.806 1006.98,865.111 1074.61,823.843 1142.24,783.149 1209.87,741.881 1277.49,701.186 1345.12,659.918 1412.75,619.223 1480.37,577.955 1548,536.687 \n",
       "  1615.63,495.993 1683.25,454.725 1750.88,414.03 1818.51,372.762 1886.13,331.494 1953.76,290.799 2021.39,249.531 2089.01,208.837 2156.64,167.569 2224.27,126.874 \n",
       "  2291.89,85.6061 \n",
       "  \"/>\n",
       "<path clip-path=\"url(#clip640)\" d=\"\n",
       "M2018.13 247.946 L2281.07 247.946 L2281.07 92.426 L2018.13 92.426  Z\n",
       "  \" fill=\"#ffffff\" fill-rule=\"evenodd\" fill-opacity=\"1\"/>\n",
       "<polyline clip-path=\"url(#clip640)\" style=\"stroke:#000000; stroke-linecap:butt; stroke-linejoin:round; stroke-width:4; stroke-opacity:1; fill:none\" points=\"\n",
       "  2018.13,247.946 2281.07,247.946 2281.07,92.426 2018.13,92.426 2018.13,247.946 \n",
       "  \"/>\n",
       "<polyline clip-path=\"url(#clip640)\" style=\"stroke:#009af9; stroke-linecap:butt; stroke-linejoin:round; stroke-width:4; stroke-opacity:1; fill:none\" points=\"\n",
       "  2042.02,144.266 2185.39,144.266 \n",
       "  \"/>\n",
       "<path clip-path=\"url(#clip640)\" d=\"M2230.64 133.32 L2218.53 133.32 L2218.53 132.271 L2230.64 132.271 L2230.64 133.32 Z\" fill=\"#000000\" fill-rule=\"evenodd\" fill-opacity=\"1\" /><path clip-path=\"url(#clip640)\" d=\"M2232.94 146.25 Q2232.94 149.717 2231.16 152.973 Q2229.4 156.228 2226.64 158.196 Q2223.9 160.163 2221.13 160.163 Q2218.02 160.163 2216.4 156.931 Q2213.47 168.666 2213.31 168.97 Q2212.63 169.977 2211.65 169.977 Q2211.04 169.977 2210.66 169.603 Q2210.29 169.251 2210.29 168.689 Q2210.31 168.502 2210.45 167.916 L2215.14 149.061 Q2216.21 144.681 2219.47 141.566 Q2222.75 138.427 2226.26 138.427 Q2229.05 138.427 2230.99 140.512 Q2232.94 142.597 2232.94 146.25 M2229.49 144.189 Q2229.49 141.847 2228.56 140.676 Q2227.62 139.481 2226.17 139.481 Q2224.83 139.481 2223.22 140.559 Q2221.62 141.636 2220.22 144.025 Q2219.47 145.407 2218.93 147.117 Q2218.39 148.827 2217.34 153.043 Q2216.96 154.729 2216.96 154.823 Q2216.96 155.01 2217.06 155.432 Q2217.17 155.854 2217.46 156.51 Q2217.76 157.142 2218.18 157.704 Q2218.6 158.266 2219.38 158.688 Q2220.15 159.086 2221.09 159.086 Q2222.54 159.086 2224.08 157.915 Q2225.65 156.72 2226.8 154.542 Q2227.76 152.785 2228.63 149.483 Q2229.49 146.157 2229.49 144.189 Z\" fill=\"#000000\" fill-rule=\"evenodd\" fill-opacity=\"1\" /><polyline clip-path=\"url(#clip640)\" style=\"stroke:#e26f46; stroke-linecap:butt; stroke-linejoin:round; stroke-width:4; stroke-opacity:1; fill:none\" points=\"\n",
       "  2042.02,196.106 2185.39,196.106 \n",
       "  \"/>\n",
       "<path clip-path=\"url(#clip640)\" d=\"M2230.64 185.16 L2218.53 185.16 L2218.53 184.111 L2230.64 184.111 L2230.64 185.16 Z\" fill=\"#000000\" fill-rule=\"evenodd\" fill-opacity=\"1\" /><path clip-path=\"url(#clip640)\" d=\"M2232.94 198.09 Q2232.94 201.557 2231.16 204.813 Q2229.4 208.068 2226.64 210.036 Q2223.9 212.003 2221.13 212.003 Q2218.02 212.003 2216.4 208.771 Q2213.47 220.506 2213.31 220.81 Q2212.63 221.817 2211.65 221.817 Q2211.04 221.817 2210.66 221.443 Q2210.29 221.091 2210.29 220.529 Q2210.31 220.342 2210.45 219.756 L2215.14 200.901 Q2216.21 196.521 2219.47 193.406 Q2222.75 190.267 2226.26 190.267 Q2229.05 190.267 2230.99 192.352 Q2232.94 194.437 2232.94 198.09 M2229.49 196.029 Q2229.49 193.687 2228.56 192.516 Q2227.62 191.321 2226.17 191.321 Q2224.83 191.321 2223.22 192.399 Q2221.62 193.476 2220.22 195.865 Q2219.47 197.247 2218.93 198.957 Q2218.39 200.667 2217.34 204.883 Q2216.96 206.569 2216.96 206.663 Q2216.96 206.85 2217.06 207.272 Q2217.17 207.694 2217.46 208.35 Q2217.76 208.982 2218.18 209.544 Q2218.6 210.106 2219.38 210.528 Q2220.15 210.926 2221.09 210.926 Q2222.54 210.926 2224.08 209.755 Q2225.65 208.56 2226.8 206.382 Q2227.76 204.625 2228.63 201.323 Q2229.49 197.997 2229.49 196.029 Z\" fill=\"#000000\" fill-rule=\"evenodd\" fill-opacity=\"1\" /></svg>\n"
      ]
     },
     "execution_count": 84,
     "metadata": {},
     "output_type": "execute_result"
    }
   ],
   "source": [
    "#variables\n",
    "mu_0s = [6*10^i for i = 2:0.1:5]\n",
    "starttimes = zeros(length(mu_0s), 2)\n",
    "theta = 1e-6 #1e-6\n",
    "for i in 1:length(mu_0s)\n",
    "    starttimes[i,:] = starttime(mu_0s[i],theta)\n",
    "end\n",
    "plot(mu_0s, starttimes, linestyle=:solid, xaxis=:log, label = L\"\\bar{\\rho}\", xlabel =L\"\\mu_0 ~\\textrm{(km^{-1})}\", ylabel =L\"\\textrm{start~time~(} \\mu s\\textrm{)}\")\n",
    "#plot(mu_0s, starttimes[:,1], linestyle=:solid, xaxis=:log, label = L\"\\bar{\\rho}\", xlabel =L\"\\mu_0 ~\\textrm{(km^{-1})}\", ylabel =L\"\\textrm{time}@\\rho=0.9\\textrm{~(} \\mu s\\textrm{)}\")\n",
    "#plot!(mu_0s, starttimes[:,2], linestyle=:dash, label = L\"\\rho\")\n",
    "#savefig(\"compare.png\")"
   ]
  },
  {
   "cell_type": "code",
   "execution_count": 85,
   "id": "c1eaf8d1-a367-4ade-9348-bf1c7a6c5a38",
   "metadata": {},
   "outputs": [
    {
     "data": {
      "image/svg+xml": [
       "<?xml version=\"1.0\" encoding=\"utf-8\"?>\n",
       "<svg xmlns=\"http://www.w3.org/2000/svg\" xmlns:xlink=\"http://www.w3.org/1999/xlink\" width=\"600\" height=\"400\" viewBox=\"0 0 2400 1600\">\n",
       "<defs>\n",
       "  <clipPath id=\"clip680\">\n",
       "    <rect x=\"0\" y=\"0\" width=\"2400\" height=\"1600\"/>\n",
       "  </clipPath>\n",
       "</defs>\n",
       "<path clip-path=\"url(#clip680)\" d=\"\n",
       "M0 1600 L2400 1600 L2400 0 L0 0  Z\n",
       "  \" fill=\"#ffffff\" fill-rule=\"evenodd\" fill-opacity=\"1\"/>\n",
       "<defs>\n",
       "  <clipPath id=\"clip681\">\n",
       "    <rect x=\"480\" y=\"0\" width=\"1681\" height=\"1600\"/>\n",
       "  </clipPath>\n",
       "</defs>\n",
       "<defs>\n",
       "  <clipPath id=\"clip682\">\n",
       "    <rect x=\"202\" y=\"47\" width=\"2152\" height=\"1356\"/>\n",
       "  </clipPath>\n",
       "</defs>\n",
       "<path clip-path=\"url(#clip680)\" d=\"\n",
       "M277.621 1410.9 L2352.76 1410.9 L2352.76 47.2441 L277.621 47.2441  Z\n",
       "  \" fill=\"#ffffff\" fill-rule=\"evenodd\" fill-opacity=\"1\"/>\n",
       "<defs>\n",
       "  <clipPath id=\"clip683\">\n",
       "    <rect x=\"277\" y=\"47\" width=\"2076\" height=\"1365\"/>\n",
       "  </clipPath>\n",
       "</defs>\n",
       "<polyline clip-path=\"url(#clip683)\" style=\"stroke:#000000; stroke-linecap:butt; stroke-linejoin:round; stroke-width:2; stroke-opacity:0.1; fill:none\" points=\"\n",
       "  336.351,1410.9 336.351,47.2441 \n",
       "  \"/>\n",
       "<polyline clip-path=\"url(#clip683)\" style=\"stroke:#000000; stroke-linecap:butt; stroke-linejoin:round; stroke-width:2; stroke-opacity:0.1; fill:none\" points=\"\n",
       "  825.77,1410.9 825.77,47.2441 \n",
       "  \"/>\n",
       "<polyline clip-path=\"url(#clip683)\" style=\"stroke:#000000; stroke-linecap:butt; stroke-linejoin:round; stroke-width:2; stroke-opacity:0.1; fill:none\" points=\"\n",
       "  1315.19,1410.9 1315.19,47.2441 \n",
       "  \"/>\n",
       "<polyline clip-path=\"url(#clip683)\" style=\"stroke:#000000; stroke-linecap:butt; stroke-linejoin:round; stroke-width:2; stroke-opacity:0.1; fill:none\" points=\"\n",
       "  1804.61,1410.9 1804.61,47.2441 \n",
       "  \"/>\n",
       "<polyline clip-path=\"url(#clip683)\" style=\"stroke:#000000; stroke-linecap:butt; stroke-linejoin:round; stroke-width:2; stroke-opacity:0.1; fill:none\" points=\"\n",
       "  2294.03,1410.9 2294.03,47.2441 \n",
       "  \"/>\n",
       "<polyline clip-path=\"url(#clip680)\" style=\"stroke:#000000; stroke-linecap:butt; stroke-linejoin:round; stroke-width:4; stroke-opacity:1; fill:none\" points=\"\n",
       "  277.621,1410.9 2352.76,1410.9 \n",
       "  \"/>\n",
       "<polyline clip-path=\"url(#clip680)\" style=\"stroke:#000000; stroke-linecap:butt; stroke-linejoin:round; stroke-width:4; stroke-opacity:1; fill:none\" points=\"\n",
       "  336.351,1410.9 336.351,1392 \n",
       "  \"/>\n",
       "<polyline clip-path=\"url(#clip680)\" style=\"stroke:#000000; stroke-linecap:butt; stroke-linejoin:round; stroke-width:4; stroke-opacity:1; fill:none\" points=\"\n",
       "  825.77,1410.9 825.77,1392 \n",
       "  \"/>\n",
       "<polyline clip-path=\"url(#clip680)\" style=\"stroke:#000000; stroke-linecap:butt; stroke-linejoin:round; stroke-width:4; stroke-opacity:1; fill:none\" points=\"\n",
       "  1315.19,1410.9 1315.19,1392 \n",
       "  \"/>\n",
       "<polyline clip-path=\"url(#clip680)\" style=\"stroke:#000000; stroke-linecap:butt; stroke-linejoin:round; stroke-width:4; stroke-opacity:1; fill:none\" points=\"\n",
       "  1804.61,1410.9 1804.61,1392 \n",
       "  \"/>\n",
       "<polyline clip-path=\"url(#clip680)\" style=\"stroke:#000000; stroke-linecap:butt; stroke-linejoin:round; stroke-width:4; stroke-opacity:1; fill:none\" points=\"\n",
       "  2294.03,1410.9 2294.03,1392 \n",
       "  \"/>\n",
       "<path clip-path=\"url(#clip680)\" d=\"M285.902 1485.02 L293.541 1485.02 L293.541 1458.66 L285.231 1460.32 L285.231 1456.06 L293.494 1454.4 L298.17 1454.4 L298.17 1485.02 L305.809 1485.02 L305.809 1488.96 L285.902 1488.96 L285.902 1485.02 Z\" fill=\"#000000\" fill-rule=\"evenodd\" fill-opacity=\"1\" /><path clip-path=\"url(#clip680)\" d=\"M325.254 1457.48 Q321.642 1457.48 319.814 1461.04 Q318.008 1464.58 318.008 1471.71 Q318.008 1478.82 319.814 1482.38 Q321.642 1485.92 325.254 1485.92 Q328.888 1485.92 330.693 1482.38 Q332.522 1478.82 332.522 1471.71 Q332.522 1464.58 330.693 1461.04 Q328.888 1457.48 325.254 1457.48 M325.254 1453.77 Q331.064 1453.77 334.119 1458.38 Q337.198 1462.96 337.198 1471.71 Q337.198 1480.44 334.119 1485.04 Q331.064 1489.63 325.254 1489.63 Q319.443 1489.63 316.365 1485.04 Q313.309 1480.44 313.309 1471.71 Q313.309 1462.96 316.365 1458.38 Q319.443 1453.77 325.254 1453.77 Z\" fill=\"#000000\" fill-rule=\"evenodd\" fill-opacity=\"1\" /><path clip-path=\"url(#clip680)\" d=\"M337.198 1447.87 L361.309 1447.87 L361.309 1451.07 L337.198 1451.07 L337.198 1447.87 Z\" fill=\"#000000\" fill-rule=\"evenodd\" fill-opacity=\"1\" /><path clip-path=\"url(#clip680)\" d=\"M378.105 1445.99 Q375.547 1445.99 374.042 1447.74 Q372.557 1449.49 372.557 1452.54 Q372.557 1455.57 374.042 1457.33 Q375.547 1459.08 378.105 1459.08 Q380.663 1459.08 382.148 1457.33 Q383.653 1455.57 383.653 1452.54 Q383.653 1449.49 382.148 1447.74 Q380.663 1445.99 378.105 1445.99 M385.647 1434.09 L385.647 1437.55 Q384.217 1436.87 382.75 1436.51 Q381.302 1436.16 379.873 1436.16 Q376.111 1436.16 374.118 1438.69 Q372.143 1441.23 371.861 1446.37 Q372.97 1444.73 374.644 1443.87 Q376.318 1442.98 378.33 1442.98 Q382.562 1442.98 385.007 1445.56 Q387.471 1448.12 387.471 1452.54 Q387.471 1456.86 384.913 1459.48 Q382.355 1462.09 378.105 1462.09 Q373.234 1462.09 370.657 1458.37 Q368.08 1454.62 368.08 1447.53 Q368.08 1440.88 371.24 1436.93 Q374.4 1432.96 379.722 1432.96 Q381.152 1432.96 382.6 1433.24 Q384.067 1433.52 385.647 1434.09 Z\" fill=\"#000000\" fill-rule=\"evenodd\" fill-opacity=\"1\" /><path clip-path=\"url(#clip680)\" d=\"M775.791 1485.02 L783.43 1485.02 L783.43 1458.66 L775.119 1460.32 L775.119 1456.06 L783.383 1454.4 L788.059 1454.4 L788.059 1485.02 L795.698 1485.02 L795.698 1488.96 L775.791 1488.96 L775.791 1485.02 Z\" fill=\"#000000\" fill-rule=\"evenodd\" fill-opacity=\"1\" /><path clip-path=\"url(#clip680)\" d=\"M815.142 1457.48 Q811.531 1457.48 809.703 1461.04 Q807.897 1464.58 807.897 1471.71 Q807.897 1478.82 809.703 1482.38 Q811.531 1485.92 815.142 1485.92 Q818.777 1485.92 820.582 1482.38 Q822.411 1478.82 822.411 1471.71 Q822.411 1464.58 820.582 1461.04 Q818.777 1457.48 815.142 1457.48 M815.142 1453.77 Q820.953 1453.77 824.008 1458.38 Q827.087 1462.96 827.087 1471.71 Q827.087 1480.44 824.008 1485.04 Q820.953 1489.63 815.142 1489.63 Q809.332 1489.63 806.254 1485.04 Q803.198 1480.44 803.198 1471.71 Q803.198 1462.96 806.254 1458.38 Q809.332 1453.77 815.142 1453.77 Z\" fill=\"#000000\" fill-rule=\"evenodd\" fill-opacity=\"1\" /><path clip-path=\"url(#clip680)\" d=\"M827.087 1447.87 L851.198 1447.87 L851.198 1451.07 L827.087 1451.07 L827.087 1447.87 Z\" fill=\"#000000\" fill-rule=\"evenodd\" fill-opacity=\"1\" /><path clip-path=\"url(#clip680)\" d=\"M859.436 1433.47 L874.351 1433.47 L874.351 1436.66 L862.916 1436.66 L862.916 1443.55 Q863.743 1443.27 864.571 1443.13 Q865.398 1442.98 866.226 1442.98 Q870.928 1442.98 873.674 1445.56 Q876.42 1448.14 876.42 1452.54 Q876.42 1457.07 873.598 1459.59 Q870.777 1462.09 865.643 1462.09 Q863.875 1462.09 862.032 1461.79 Q860.207 1461.49 858.251 1460.89 L858.251 1457.07 Q859.944 1457.99 861.75 1458.44 Q863.555 1458.89 865.568 1458.89 Q868.821 1458.89 870.721 1457.18 Q872.62 1455.47 872.62 1452.54 Q872.62 1449.6 870.721 1447.89 Q868.821 1446.18 865.568 1446.18 Q864.044 1446.18 862.521 1446.52 Q861.016 1446.86 859.436 1447.57 L859.436 1433.47 Z\" fill=\"#000000\" fill-rule=\"evenodd\" fill-opacity=\"1\" /><path clip-path=\"url(#clip680)\" d=\"M1264.61 1485.02 L1272.25 1485.02 L1272.25 1458.66 L1263.94 1460.32 L1263.94 1456.06 L1272.2 1454.4 L1276.88 1454.4 L1276.88 1485.02 L1284.51 1485.02 L1284.51 1488.96 L1264.61 1488.96 L1264.61 1485.02 Z\" fill=\"#000000\" fill-rule=\"evenodd\" fill-opacity=\"1\" /><path clip-path=\"url(#clip680)\" d=\"M1303.96 1457.48 Q1300.35 1457.48 1298.52 1461.04 Q1296.71 1464.58 1296.71 1471.71 Q1296.71 1478.82 1298.52 1482.38 Q1300.35 1485.92 1303.96 1485.92 Q1307.59 1485.92 1309.4 1482.38 Q1311.23 1478.82 1311.23 1471.71 Q1311.23 1464.58 1309.4 1461.04 Q1307.59 1457.48 1303.96 1457.48 M1303.96 1453.77 Q1309.77 1453.77 1312.82 1458.38 Q1315.9 1462.96 1315.9 1471.71 Q1315.9 1480.44 1312.82 1485.04 Q1309.77 1489.63 1303.96 1489.63 Q1298.15 1489.63 1295.07 1485.04 Q1292.01 1480.44 1292.01 1471.71 Q1292.01 1462.96 1295.07 1458.38 Q1298.15 1453.77 1303.96 1453.77 Z\" fill=\"#000000\" fill-rule=\"evenodd\" fill-opacity=\"1\" /><path clip-path=\"url(#clip680)\" d=\"M1315.9 1447.87 L1340.02 1447.87 L1340.02 1451.07 L1315.9 1451.07 L1315.9 1447.87 Z\" fill=\"#000000\" fill-rule=\"evenodd\" fill-opacity=\"1\" /><path clip-path=\"url(#clip680)\" d=\"M1358.65 1436.78 L1349.06 1451.77 L1358.65 1451.77 L1358.65 1436.78 M1357.66 1433.47 L1362.43 1433.47 L1362.43 1451.77 L1366.44 1451.77 L1366.44 1454.93 L1362.43 1454.93 L1362.43 1461.55 L1358.65 1461.55 L1358.65 1454.93 L1345.98 1454.93 L1345.98 1451.26 L1357.66 1433.47 Z\" fill=\"#000000\" fill-rule=\"evenodd\" fill-opacity=\"1\" /><path clip-path=\"url(#clip680)\" d=\"M1754.49 1485.02 L1762.13 1485.02 L1762.13 1458.66 L1753.82 1460.32 L1753.82 1456.06 L1762.08 1454.4 L1766.76 1454.4 L1766.76 1485.02 L1774.39 1485.02 L1774.39 1488.96 L1754.49 1488.96 L1754.49 1485.02 Z\" fill=\"#000000\" fill-rule=\"evenodd\" fill-opacity=\"1\" /><path clip-path=\"url(#clip680)\" d=\"M1793.84 1457.48 Q1790.23 1457.48 1788.4 1461.04 Q1786.59 1464.58 1786.59 1471.71 Q1786.59 1478.82 1788.4 1482.38 Q1790.23 1485.92 1793.84 1485.92 Q1797.47 1485.92 1799.28 1482.38 Q1801.11 1478.82 1801.11 1471.71 Q1801.11 1464.58 1799.28 1461.04 Q1797.47 1457.48 1793.84 1457.48 M1793.84 1453.77 Q1799.65 1453.77 1802.7 1458.38 Q1805.78 1462.96 1805.78 1471.71 Q1805.78 1480.44 1802.7 1485.04 Q1799.65 1489.63 1793.84 1489.63 Q1788.03 1489.63 1784.95 1485.04 Q1781.89 1480.44 1781.89 1471.71 Q1781.89 1462.96 1784.95 1458.38 Q1788.03 1453.77 1793.84 1453.77 Z\" fill=\"#000000\" fill-rule=\"evenodd\" fill-opacity=\"1\" /><path clip-path=\"url(#clip680)\" d=\"M1805.78 1447.87 L1829.89 1447.87 L1829.89 1451.07 L1805.78 1451.07 L1805.78 1447.87 Z\" fill=\"#000000\" fill-rule=\"evenodd\" fill-opacity=\"1\" /><path clip-path=\"url(#clip680)\" d=\"M1849.61 1446.41 Q1852.33 1446.99 1853.86 1448.83 Q1855.4 1450.68 1855.4 1453.38 Q1855.4 1457.54 1852.54 1459.82 Q1849.68 1462.09 1844.41 1462.09 Q1842.65 1462.09 1840.77 1461.73 Q1838.9 1461.4 1836.91 1460.7 L1836.91 1457.03 Q1838.49 1457.95 1840.37 1458.42 Q1842.25 1458.89 1844.3 1458.89 Q1847.87 1458.89 1849.74 1457.48 Q1851.62 1456.07 1851.62 1453.38 Q1851.62 1450.9 1849.87 1449.51 Q1848.14 1448.1 1845.03 1448.1 L1841.76 1448.1 L1841.76 1444.98 L1845.19 1444.98 Q1847.99 1444.98 1849.47 1443.87 Q1850.96 1442.74 1850.96 1440.63 Q1850.96 1438.47 1849.42 1437.32 Q1847.89 1436.16 1845.03 1436.16 Q1843.47 1436.16 1841.69 1436.49 Q1839.9 1436.83 1837.76 1437.55 L1837.76 1434.16 Q1839.92 1433.56 1841.8 1433.26 Q1843.7 1432.96 1845.37 1432.96 Q1849.7 1432.96 1852.22 1434.93 Q1854.74 1436.89 1854.74 1440.24 Q1854.74 1442.57 1853.4 1444.19 Q1852.07 1445.79 1849.61 1446.41 Z\" fill=\"#000000\" fill-rule=\"evenodd\" fill-opacity=\"1\" /><path clip-path=\"url(#clip680)\" d=\"M2244.29 1485.02 L2251.93 1485.02 L2251.93 1458.66 L2243.62 1460.32 L2243.62 1456.06 L2251.88 1454.4 L2256.56 1454.4 L2256.56 1485.02 L2264.2 1485.02 L2264.2 1488.96 L2244.29 1488.96 L2244.29 1485.02 Z\" fill=\"#000000\" fill-rule=\"evenodd\" fill-opacity=\"1\" /><path clip-path=\"url(#clip680)\" d=\"M2283.64 1457.48 Q2280.03 1457.48 2278.2 1461.04 Q2276.4 1464.58 2276.4 1471.71 Q2276.4 1478.82 2278.2 1482.38 Q2280.03 1485.92 2283.64 1485.92 Q2287.28 1485.92 2289.08 1482.38 Q2290.91 1478.82 2290.91 1471.71 Q2290.91 1464.58 2289.08 1461.04 Q2287.28 1457.48 2283.64 1457.48 M2283.64 1453.77 Q2289.45 1453.77 2292.51 1458.38 Q2295.59 1462.96 2295.59 1471.71 Q2295.59 1480.44 2292.51 1485.04 Q2289.45 1489.63 2283.64 1489.63 Q2277.83 1489.63 2274.75 1485.04 Q2271.7 1480.44 2271.7 1471.71 Q2271.7 1462.96 2274.75 1458.38 Q2277.83 1453.77 2283.64 1453.77 Z\" fill=\"#000000\" fill-rule=\"evenodd\" fill-opacity=\"1\" /><path clip-path=\"url(#clip680)\" d=\"M2295.59 1447.87 L2319.7 1447.87 L2319.7 1451.07 L2295.59 1451.07 L2295.59 1447.87 Z\" fill=\"#000000\" fill-rule=\"evenodd\" fill-opacity=\"1\" /><path clip-path=\"url(#clip680)\" d=\"M2331.17 1458.35 L2344.43 1458.35 L2344.43 1461.55 L2326.6 1461.55 L2326.6 1458.35 Q2328.76 1456.11 2332.49 1452.35 Q2336.23 1448.57 2337.19 1447.48 Q2339.01 1445.43 2339.73 1444.02 Q2340.46 1442.59 2340.46 1441.22 Q2340.46 1438.98 2338.88 1437.57 Q2337.32 1436.16 2334.8 1436.16 Q2333.01 1436.16 2331.02 1436.78 Q2329.05 1437.4 2326.79 1438.66 L2326.79 1434.82 Q2329.08 1433.9 2331.08 1433.43 Q2333.07 1432.96 2334.73 1432.96 Q2339.09 1432.96 2341.69 1435.14 Q2344.28 1437.32 2344.28 1440.97 Q2344.28 1442.7 2343.62 1444.26 Q2342.98 1445.8 2341.27 1447.91 Q2340.8 1448.46 2338.28 1451.07 Q2335.76 1453.67 2331.17 1458.35 Z\" fill=\"#000000\" fill-rule=\"evenodd\" fill-opacity=\"1\" /><path clip-path=\"url(#clip680)\" d=\"M1327.12 1551.99 Q1327.12 1557.4 1325.38 1563.49 Q1323.68 1569.54 1320.97 1574.44 Q1318.27 1579.3 1314.72 1582.52 Q1311.18 1585.71 1307.8 1585.71 Q1305.64 1585.71 1304.03 1584.52 Q1302.45 1583.29 1301.58 1581.27 Q1300.71 1579.2 1300.3 1576.95 Q1299.88 1574.66 1299.88 1572.18 Q1299.88 1568.48 1300.68 1564.45 Q1301.49 1560.4 1302.84 1556.72 Q1304.19 1553.02 1306.09 1549.67 Q1307.99 1546.29 1310.09 1543.84 Q1312.21 1541.36 1314.6 1539.91 Q1316.98 1538.46 1319.2 1538.46 Q1320.81 1538.46 1322.1 1539.17 Q1323.42 1539.85 1324.26 1541.04 Q1325.09 1542.2 1325.67 1543.58 Q1326.29 1544.97 1326.58 1546.58 Q1326.87 1548.16 1326.99 1549.48 Q1327.12 1550.77 1327.12 1551.99 M1322.78 1547.9 Q1322.78 1546.26 1322.65 1545.03 Q1322.52 1543.78 1322.16 1542.52 Q1321.81 1541.27 1321.04 1540.59 Q1320.3 1539.91 1319.14 1539.91 Q1315.75 1539.91 1311.95 1546.84 Q1310.73 1549 1309.64 1551.93 Q1308.54 1554.86 1308.15 1556.24 Q1307.77 1557.63 1306.87 1561.04 L1320.65 1561.04 Q1322.78 1552.25 1322.78 1547.9 M1320.07 1563.13 L1306.35 1563.13 Q1304.22 1571.19 1304.22 1576.21 Q1304.22 1580.59 1305.13 1582.43 Q1306.06 1584.23 1307.8 1584.23 Q1309.8 1584.23 1311.66 1582.23 Q1313.53 1580.2 1315.43 1576.53 Q1317.94 1571.77 1320.07 1563.13 Z\" fill=\"#000000\" fill-rule=\"evenodd\" fill-opacity=\"1\" /><polyline clip-path=\"url(#clip683)\" style=\"stroke:#000000; stroke-linecap:butt; stroke-linejoin:round; stroke-width:2; stroke-opacity:0.1; fill:none\" points=\"\n",
       "  277.621,1314.48 2352.76,1314.48 \n",
       "  \"/>\n",
       "<polyline clip-path=\"url(#clip683)\" style=\"stroke:#000000; stroke-linecap:butt; stroke-linejoin:round; stroke-width:2; stroke-opacity:0.1; fill:none\" points=\"\n",
       "  277.621,1097.66 2352.76,1097.66 \n",
       "  \"/>\n",
       "<polyline clip-path=\"url(#clip683)\" style=\"stroke:#000000; stroke-linecap:butt; stroke-linejoin:round; stroke-width:2; stroke-opacity:0.1; fill:none\" points=\"\n",
       "  277.621,880.844 2352.76,880.844 \n",
       "  \"/>\n",
       "<polyline clip-path=\"url(#clip683)\" style=\"stroke:#000000; stroke-linecap:butt; stroke-linejoin:round; stroke-width:2; stroke-opacity:0.1; fill:none\" points=\"\n",
       "  277.621,664.024 2352.76,664.024 \n",
       "  \"/>\n",
       "<polyline clip-path=\"url(#clip683)\" style=\"stroke:#000000; stroke-linecap:butt; stroke-linejoin:round; stroke-width:2; stroke-opacity:0.1; fill:none\" points=\"\n",
       "  277.621,447.205 2352.76,447.205 \n",
       "  \"/>\n",
       "<polyline clip-path=\"url(#clip683)\" style=\"stroke:#000000; stroke-linecap:butt; stroke-linejoin:round; stroke-width:2; stroke-opacity:0.1; fill:none\" points=\"\n",
       "  277.621,230.385 2352.76,230.385 \n",
       "  \"/>\n",
       "<polyline clip-path=\"url(#clip680)\" style=\"stroke:#000000; stroke-linecap:butt; stroke-linejoin:round; stroke-width:4; stroke-opacity:1; fill:none\" points=\"\n",
       "  277.621,1410.9 277.621,47.2441 \n",
       "  \"/>\n",
       "<polyline clip-path=\"url(#clip680)\" style=\"stroke:#000000; stroke-linecap:butt; stroke-linejoin:round; stroke-width:4; stroke-opacity:1; fill:none\" points=\"\n",
       "  277.621,1314.48 296.518,1314.48 \n",
       "  \"/>\n",
       "<polyline clip-path=\"url(#clip680)\" style=\"stroke:#000000; stroke-linecap:butt; stroke-linejoin:round; stroke-width:4; stroke-opacity:1; fill:none\" points=\"\n",
       "  277.621,1097.66 296.518,1097.66 \n",
       "  \"/>\n",
       "<polyline clip-path=\"url(#clip680)\" style=\"stroke:#000000; stroke-linecap:butt; stroke-linejoin:round; stroke-width:4; stroke-opacity:1; fill:none\" points=\"\n",
       "  277.621,880.844 296.518,880.844 \n",
       "  \"/>\n",
       "<polyline clip-path=\"url(#clip680)\" style=\"stroke:#000000; stroke-linecap:butt; stroke-linejoin:round; stroke-width:4; stroke-opacity:1; fill:none\" points=\"\n",
       "  277.621,664.024 296.518,664.024 \n",
       "  \"/>\n",
       "<polyline clip-path=\"url(#clip680)\" style=\"stroke:#000000; stroke-linecap:butt; stroke-linejoin:round; stroke-width:4; stroke-opacity:1; fill:none\" points=\"\n",
       "  277.621,447.205 296.518,447.205 \n",
       "  \"/>\n",
       "<polyline clip-path=\"url(#clip680)\" style=\"stroke:#000000; stroke-linecap:butt; stroke-linejoin:round; stroke-width:4; stroke-opacity:1; fill:none\" points=\"\n",
       "  277.621,230.385 296.518,230.385 \n",
       "  \"/>\n",
       "<path clip-path=\"url(#clip680)\" d=\"M115.927 1327.83 L123.566 1327.83 L123.566 1301.46 L115.256 1303.13 L115.256 1298.87 L123.519 1297.2 L128.195 1297.2 L128.195 1327.83 L135.834 1327.83 L135.834 1331.76 L115.927 1331.76 L115.927 1327.83 Z\" fill=\"#000000\" fill-rule=\"evenodd\" fill-opacity=\"1\" /><path clip-path=\"url(#clip680)\" d=\"M146.089 1327.83 L153.728 1327.83 L153.728 1301.46 L145.417 1303.13 L145.417 1298.87 L153.681 1297.2 L158.357 1297.2 L158.357 1327.83 L165.996 1327.83 L165.996 1331.76 L146.089 1331.76 L146.089 1327.83 Z\" fill=\"#000000\" fill-rule=\"evenodd\" fill-opacity=\"1\" /><path clip-path=\"url(#clip680)\" d=\"M175.44 1325.88 L180.325 1325.88 L180.325 1331.76 L175.44 1331.76 L175.44 1325.88 Z\" fill=\"#000000\" fill-rule=\"evenodd\" fill-opacity=\"1\" /><path clip-path=\"url(#clip680)\" d=\"M194.538 1327.83 L210.857 1327.83 L210.857 1331.76 L188.913 1331.76 L188.913 1327.83 Q191.575 1325.07 196.158 1320.44 Q200.764 1315.79 201.945 1314.45 Q204.19 1311.93 205.07 1310.19 Q205.973 1308.43 205.973 1306.74 Q205.973 1303.99 204.028 1302.25 Q202.107 1300.51 199.005 1300.51 Q196.806 1300.51 194.352 1301.28 Q191.922 1302.04 189.144 1303.59 L189.144 1298.87 Q191.968 1297.74 194.422 1297.16 Q196.875 1296.58 198.912 1296.58 Q204.283 1296.58 207.477 1299.26 Q210.672 1301.95 210.672 1306.44 Q210.672 1308.57 209.861 1310.49 Q209.074 1312.39 206.968 1314.98 Q206.389 1315.65 203.287 1318.87 Q200.186 1322.07 194.538 1327.83 Z\" fill=\"#000000\" fill-rule=\"evenodd\" fill-opacity=\"1\" /><path clip-path=\"url(#clip680)\" d=\"M220.718 1297.2 L239.074 1297.2 L239.074 1301.14 L225 1301.14 L225 1309.61 Q226.019 1309.26 227.037 1309.1 Q228.056 1308.92 229.074 1308.92 Q234.861 1308.92 238.241 1312.09 Q241.621 1315.26 241.621 1320.68 Q241.621 1326.25 238.148 1329.36 Q234.676 1332.44 228.357 1332.44 Q226.181 1332.44 223.912 1332.06 Q221.667 1331.69 219.26 1330.95 L219.26 1326.25 Q221.343 1327.39 223.565 1327.94 Q225.787 1328.5 228.264 1328.5 Q232.269 1328.5 234.607 1326.39 Q236.945 1324.29 236.945 1320.68 Q236.945 1317.07 234.607 1314.96 Q232.269 1312.85 228.264 1312.85 Q226.389 1312.85 224.514 1313.27 Q222.662 1313.69 220.718 1314.57 L220.718 1297.2 Z\" fill=\"#000000\" fill-rule=\"evenodd\" fill-opacity=\"1\" /><path clip-path=\"url(#clip680)\" d=\"M114.931 1111.01 L122.57 1111.01 L122.57 1084.64 L114.26 1086.31 L114.26 1082.05 L122.524 1080.38 L127.2 1080.38 L127.2 1111.01 L134.839 1111.01 L134.839 1114.94 L114.931 1114.94 L114.931 1111.01 Z\" fill=\"#000000\" fill-rule=\"evenodd\" fill-opacity=\"1\" /><path clip-path=\"url(#clip680)\" d=\"M145.093 1111.01 L152.732 1111.01 L152.732 1084.64 L144.422 1086.31 L144.422 1082.05 L152.686 1080.38 L157.362 1080.38 L157.362 1111.01 L165.001 1111.01 L165.001 1114.94 L145.093 1114.94 L145.093 1111.01 Z\" fill=\"#000000\" fill-rule=\"evenodd\" fill-opacity=\"1\" /><path clip-path=\"url(#clip680)\" d=\"M174.445 1109.06 L179.329 1109.06 L179.329 1114.94 L174.445 1114.94 L174.445 1109.06 Z\" fill=\"#000000\" fill-rule=\"evenodd\" fill-opacity=\"1\" /><path clip-path=\"url(#clip680)\" d=\"M203.681 1096.31 Q207.037 1097.03 208.912 1099.3 Q210.811 1101.56 210.811 1104.9 Q210.811 1110.01 207.292 1112.81 Q203.774 1115.62 197.292 1115.62 Q195.116 1115.62 192.801 1115.18 Q190.51 1114.76 188.056 1113.9 L188.056 1109.39 Q190 1110.52 192.315 1111.1 Q194.63 1111.68 197.153 1111.68 Q201.551 1111.68 203.843 1109.94 Q206.158 1108.21 206.158 1104.9 Q206.158 1101.84 204.005 1100.13 Q201.875 1098.39 198.056 1098.39 L194.028 1098.39 L194.028 1094.55 L198.241 1094.55 Q201.69 1094.55 203.519 1093.19 Q205.348 1091.8 205.348 1089.2 Q205.348 1086.54 203.449 1085.13 Q201.575 1083.69 198.056 1083.69 Q196.135 1083.69 193.936 1084.11 Q191.737 1084.53 189.098 1085.41 L189.098 1081.24 Q191.76 1080.5 194.075 1080.13 Q196.412 1079.76 198.473 1079.76 Q203.797 1079.76 206.899 1082.19 Q210 1084.6 210 1088.72 Q210 1091.59 208.357 1093.58 Q206.713 1095.55 203.681 1096.31 Z\" fill=\"#000000\" fill-rule=\"evenodd\" fill-opacity=\"1\" /><path clip-path=\"url(#clip680)\" d=\"M229.676 1083.46 Q226.065 1083.46 224.236 1087.03 Q222.431 1090.57 222.431 1097.7 Q222.431 1104.81 224.236 1108.37 Q226.065 1111.91 229.676 1111.91 Q233.31 1111.91 235.116 1108.37 Q236.945 1104.81 236.945 1097.7 Q236.945 1090.57 235.116 1087.03 Q233.31 1083.46 229.676 1083.46 M229.676 1079.76 Q235.486 1079.76 238.542 1084.37 Q241.621 1088.95 241.621 1097.7 Q241.621 1106.43 238.542 1111.03 Q235.486 1115.62 229.676 1115.62 Q223.866 1115.62 220.787 1111.03 Q217.732 1106.43 217.732 1097.7 Q217.732 1088.95 220.787 1084.37 Q223.866 1079.76 229.676 1079.76 Z\" fill=\"#000000\" fill-rule=\"evenodd\" fill-opacity=\"1\" /><path clip-path=\"url(#clip680)\" d=\"M115.927 894.189 L123.566 894.189 L123.566 867.824 L115.256 869.49 L115.256 865.231 L123.519 863.564 L128.195 863.564 L128.195 894.189 L135.834 894.189 L135.834 898.124 L115.927 898.124 L115.927 894.189 Z\" fill=\"#000000\" fill-rule=\"evenodd\" fill-opacity=\"1\" /><path clip-path=\"url(#clip680)\" d=\"M146.089 894.189 L153.728 894.189 L153.728 867.824 L145.417 869.49 L145.417 865.231 L153.681 863.564 L158.357 863.564 L158.357 894.189 L165.996 894.189 L165.996 898.124 L146.089 898.124 L146.089 894.189 Z\" fill=\"#000000\" fill-rule=\"evenodd\" fill-opacity=\"1\" /><path clip-path=\"url(#clip680)\" d=\"M175.44 892.245 L180.325 892.245 L180.325 898.124 L175.44 898.124 L175.44 892.245 Z\" fill=\"#000000\" fill-rule=\"evenodd\" fill-opacity=\"1\" /><path clip-path=\"url(#clip680)\" d=\"M204.676 879.49 Q208.033 880.208 209.908 882.476 Q211.806 884.745 211.806 888.078 Q211.806 893.194 208.287 895.995 Q204.769 898.796 198.287 898.796 Q196.112 898.796 193.797 898.356 Q191.505 897.939 189.051 897.083 L189.051 892.569 Q190.996 893.703 193.311 894.282 Q195.625 894.86 198.149 894.86 Q202.547 894.86 204.838 893.124 Q207.153 891.388 207.153 888.078 Q207.153 885.023 205 883.31 Q202.871 881.573 199.051 881.573 L195.024 881.573 L195.024 877.731 L199.237 877.731 Q202.686 877.731 204.514 876.365 Q206.343 874.976 206.343 872.384 Q206.343 869.722 204.445 868.31 Q202.57 866.874 199.051 866.874 Q197.13 866.874 194.931 867.291 Q192.732 867.708 190.093 868.587 L190.093 864.421 Q192.755 863.68 195.07 863.31 Q197.408 862.939 199.468 862.939 Q204.792 862.939 207.894 865.37 Q210.996 867.777 210.996 871.898 Q210.996 874.768 209.352 876.759 Q207.709 878.726 204.676 879.49 Z\" fill=\"#000000\" fill-rule=\"evenodd\" fill-opacity=\"1\" /><path clip-path=\"url(#clip680)\" d=\"M220.718 863.564 L239.074 863.564 L239.074 867.499 L225 867.499 L225 875.972 Q226.019 875.624 227.037 875.462 Q228.056 875.277 229.074 875.277 Q234.861 875.277 238.241 878.448 Q241.621 881.62 241.621 887.036 Q241.621 892.615 238.148 895.717 Q234.676 898.796 228.357 898.796 Q226.181 898.796 223.912 898.425 Q221.667 898.055 219.26 897.314 L219.26 892.615 Q221.343 893.749 223.565 894.305 Q225.787 894.86 228.264 894.86 Q232.269 894.86 234.607 892.754 Q236.945 890.647 236.945 887.036 Q236.945 883.425 234.607 881.319 Q232.269 879.212 228.264 879.212 Q226.389 879.212 224.514 879.629 Q222.662 880.046 220.718 880.925 L220.718 863.564 Z\" fill=\"#000000\" fill-rule=\"evenodd\" fill-opacity=\"1\" /><path clip-path=\"url(#clip680)\" d=\"M114.931 677.369 L122.57 677.369 L122.57 651.004 L114.26 652.67 L114.26 648.411 L122.524 646.744 L127.2 646.744 L127.2 677.369 L134.839 677.369 L134.839 681.304 L114.931 681.304 L114.931 677.369 Z\" fill=\"#000000\" fill-rule=\"evenodd\" fill-opacity=\"1\" /><path clip-path=\"url(#clip680)\" d=\"M145.093 677.369 L152.732 677.369 L152.732 651.004 L144.422 652.67 L144.422 648.411 L152.686 646.744 L157.362 646.744 L157.362 677.369 L165.001 677.369 L165.001 681.304 L145.093 681.304 L145.093 677.369 Z\" fill=\"#000000\" fill-rule=\"evenodd\" fill-opacity=\"1\" /><path clip-path=\"url(#clip680)\" d=\"M174.445 675.425 L179.329 675.425 L179.329 681.304 L174.445 681.304 L174.445 675.425 Z\" fill=\"#000000\" fill-rule=\"evenodd\" fill-opacity=\"1\" /><path clip-path=\"url(#clip680)\" d=\"M202.362 650.818 L190.556 669.267 L202.362 669.267 L202.362 650.818 M201.135 646.744 L207.014 646.744 L207.014 669.267 L211.945 669.267 L211.945 673.156 L207.014 673.156 L207.014 681.304 L202.362 681.304 L202.362 673.156 L186.76 673.156 L186.76 668.642 L201.135 646.744 Z\" fill=\"#000000\" fill-rule=\"evenodd\" fill-opacity=\"1\" /><path clip-path=\"url(#clip680)\" d=\"M229.676 649.823 Q226.065 649.823 224.236 653.388 Q222.431 656.93 222.431 664.059 Q222.431 671.166 224.236 674.73 Q226.065 678.272 229.676 678.272 Q233.31 678.272 235.116 674.73 Q236.945 671.166 236.945 664.059 Q236.945 656.93 235.116 653.388 Q233.31 649.823 229.676 649.823 M229.676 646.119 Q235.486 646.119 238.542 650.726 Q241.621 655.309 241.621 664.059 Q241.621 672.786 238.542 677.392 Q235.486 681.976 229.676 681.976 Q223.866 681.976 220.787 677.392 Q217.732 672.786 217.732 664.059 Q217.732 655.309 220.787 650.726 Q223.866 646.119 229.676 646.119 Z\" fill=\"#000000\" fill-rule=\"evenodd\" fill-opacity=\"1\" /><path clip-path=\"url(#clip680)\" d=\"M115.927 460.549 L123.566 460.549 L123.566 434.184 L115.256 435.85 L115.256 431.591 L123.519 429.925 L128.195 429.925 L128.195 460.549 L135.834 460.549 L135.834 464.485 L115.927 464.485 L115.927 460.549 Z\" fill=\"#000000\" fill-rule=\"evenodd\" fill-opacity=\"1\" /><path clip-path=\"url(#clip680)\" d=\"M146.089 460.549 L153.728 460.549 L153.728 434.184 L145.417 435.85 L145.417 431.591 L153.681 429.925 L158.357 429.925 L158.357 460.549 L165.996 460.549 L165.996 464.485 L146.089 464.485 L146.089 460.549 Z\" fill=\"#000000\" fill-rule=\"evenodd\" fill-opacity=\"1\" /><path clip-path=\"url(#clip680)\" d=\"M175.44 458.605 L180.325 458.605 L180.325 464.485 L175.44 464.485 L175.44 458.605 Z\" fill=\"#000000\" fill-rule=\"evenodd\" fill-opacity=\"1\" /><path clip-path=\"url(#clip680)\" d=\"M203.357 433.999 L191.551 452.448 L203.357 452.448 L203.357 433.999 M202.13 429.925 L208.01 429.925 L208.01 452.448 L212.94 452.448 L212.94 456.336 L208.01 456.336 L208.01 464.485 L203.357 464.485 L203.357 456.336 L187.755 456.336 L187.755 451.823 L202.13 429.925 Z\" fill=\"#000000\" fill-rule=\"evenodd\" fill-opacity=\"1\" /><path clip-path=\"url(#clip680)\" d=\"M220.718 429.925 L239.074 429.925 L239.074 433.86 L225 433.86 L225 442.332 Q226.019 441.985 227.037 441.823 Q228.056 441.637 229.074 441.637 Q234.861 441.637 238.241 444.809 Q241.621 447.98 241.621 453.397 Q241.621 458.975 238.148 462.077 Q234.676 465.156 228.357 465.156 Q226.181 465.156 223.912 464.785 Q221.667 464.415 219.26 463.674 L219.26 458.975 Q221.343 460.11 223.565 460.665 Q225.787 461.221 228.264 461.221 Q232.269 461.221 234.607 459.114 Q236.945 457.008 236.945 453.397 Q236.945 449.786 234.607 447.679 Q232.269 445.573 228.264 445.573 Q226.389 445.573 224.514 445.989 Q222.662 446.406 220.718 447.286 L220.718 429.925 Z\" fill=\"#000000\" fill-rule=\"evenodd\" fill-opacity=\"1\" /><path clip-path=\"url(#clip680)\" d=\"M114.931 243.729 L122.57 243.729 L122.57 217.364 L114.26 219.031 L114.26 214.771 L122.524 213.105 L127.2 213.105 L127.2 243.729 L134.839 243.729 L134.839 247.665 L114.931 247.665 L114.931 243.729 Z\" fill=\"#000000\" fill-rule=\"evenodd\" fill-opacity=\"1\" /><path clip-path=\"url(#clip680)\" d=\"M145.093 243.729 L152.732 243.729 L152.732 217.364 L144.422 219.031 L144.422 214.771 L152.686 213.105 L157.362 213.105 L157.362 243.729 L165.001 243.729 L165.001 247.665 L145.093 247.665 L145.093 243.729 Z\" fill=\"#000000\" fill-rule=\"evenodd\" fill-opacity=\"1\" /><path clip-path=\"url(#clip680)\" d=\"M174.445 241.785 L179.329 241.785 L179.329 247.665 L174.445 247.665 L174.445 241.785 Z\" fill=\"#000000\" fill-rule=\"evenodd\" fill-opacity=\"1\" /><path clip-path=\"url(#clip680)\" d=\"M189.561 213.105 L207.917 213.105 L207.917 217.04 L193.843 217.04 L193.843 225.512 Q194.862 225.165 195.88 225.003 Q196.899 224.818 197.917 224.818 Q203.704 224.818 207.084 227.989 Q210.463 231.16 210.463 236.577 Q210.463 242.155 206.991 245.257 Q203.519 248.336 197.2 248.336 Q195.024 248.336 192.755 247.966 Q190.51 247.595 188.102 246.854 L188.102 242.155 Q190.186 243.29 192.408 243.845 Q194.63 244.401 197.107 244.401 Q201.112 244.401 203.449 242.294 Q205.787 240.188 205.787 236.577 Q205.787 232.966 203.449 230.859 Q201.112 228.753 197.107 228.753 Q195.232 228.753 193.357 229.169 Q191.505 229.586 189.561 230.466 L189.561 213.105 Z\" fill=\"#000000\" fill-rule=\"evenodd\" fill-opacity=\"1\" /><path clip-path=\"url(#clip680)\" d=\"M229.676 216.183 Q226.065 216.183 224.236 219.748 Q222.431 223.29 222.431 230.419 Q222.431 237.526 224.236 241.091 Q226.065 244.632 229.676 244.632 Q233.31 244.632 235.116 241.091 Q236.945 237.526 236.945 230.419 Q236.945 223.29 235.116 219.748 Q233.31 216.183 229.676 216.183 M229.676 212.48 Q235.486 212.48 238.542 217.086 Q241.621 221.669 241.621 230.419 Q241.621 239.146 238.542 243.753 Q235.486 248.336 229.676 248.336 Q223.866 248.336 220.787 243.753 Q217.732 239.146 217.732 230.419 Q217.732 221.669 220.787 217.086 Q223.866 212.48 229.676 212.48 Z\" fill=\"#000000\" fill-rule=\"evenodd\" fill-opacity=\"1\" /><path clip-path=\"url(#clip680)\" d=\"M67.5905 937.848 L58.895 937.848 Q58.1542 937.848 57.8966 937.816 Q57.6389 937.784 57.4457 937.59 Q57.2525 937.397 57.2525 937.011 Q57.2525 936.56 57.4457 936.399 Q57.6389 936.206 58.3797 936.077 Q62.9207 935.078 65.3361 932.953 Q67.7194 930.795 67.7194 926.898 Q67.7194 923.194 66.0769 921.326 Q64.4344 919.458 61.7291 919.458 Q56.8982 919.458 55.6744 926.318 Q54.8692 930.28 54.3539 931.922 Q53.8064 933.565 52.6148 935.014 Q50.296 937.848 47.011 937.848 Q43.726 937.848 41.3106 935.368 Q38.8951 932.856 38.8951 927.317 Q38.8951 923.613 40.7631 921.101 Q40.1833 920.36 39.7003 919.974 Q38.8951 919.104 38.8951 918.653 Q38.8951 918.138 39.2494 918.041 Q39.5714 917.945 40.5054 917.945 L47.1398 917.945 Q47.8805 917.945 48.1382 917.977 Q48.3958 918.009 48.5891 918.202 Q48.7501 918.396 48.7501 918.814 Q48.7501 919.555 48.1382 919.587 Q40.1511 920.103 40.1511 927.317 Q40.1511 931.214 41.6648 932.953 Q43.1463 934.692 45.1753 934.692 Q46.3025 934.692 47.172 934.177 Q48.0094 933.629 48.5247 932.953 Q49.0078 932.244 49.4908 930.956 Q49.9417 929.668 50.1028 928.895 Q50.2638 928.09 50.5858 926.576 Q51.5842 921.294 53.742 919.072 Q56.5117 916.302 60.0222 916.302 Q63.9191 916.302 66.5599 918.943 Q69.2008 921.584 69.2008 926.898 Q69.2008 931.181 66.3345 934.177 Q66.721 934.563 67.0752 934.853 Q67.3973 935.143 67.5261 935.272 Q67.6549 935.368 67.7516 935.4 Q67.816 935.433 67.8804 935.497 Q69.2008 936.817 69.2008 937.139 Q69.2008 937.655 68.8466 937.751 Q68.5245 937.848 67.5905 937.848 Z\" fill=\"#000000\" fill-rule=\"evenodd\" fill-opacity=\"1\" /><path clip-path=\"url(#clip680)\" d=\"M42.0835 914.472 L40.6342 914.472 Q40.5054 911.444 38.3798 909.448 Q36.222 907.419 33.5811 906.742 Q30.9403 906.034 27.8807 905.969 L27.8807 904.327 L40.0223 904.327 L40.0223 894.891 L42.0835 894.891 L42.0835 904.327 L60.4086 904.327 Q67.5261 904.327 67.5261 899.883 Q67.5261 897.982 65.5938 896.726 Q63.6292 895.47 60.151 895.47 L56.5117 895.47 L56.5117 893.828 L60.2798 893.828 Q63.8547 893.828 66.5277 895.47 Q69.2008 897.113 69.2008 900.366 Q69.2008 901.557 68.8788 902.749 Q68.5889 903.908 67.816 905.454 Q67.0108 906.968 65.0785 907.934 Q63.1139 908.868 60.2798 908.868 L42.0835 908.868 L42.0835 914.472 Z\" fill=\"#000000\" fill-rule=\"evenodd\" fill-opacity=\"1\" /><path clip-path=\"url(#clip680)\" d=\"M62.18 889.741 Q56.5761 889.741 53.6132 883.139 Q51.713 879.178 51.23 870.998 L48.8145 870.998 Q44.7244 870.998 42.5666 873.155 Q40.3766 875.281 40.3766 877.986 Q40.3766 882.817 43.4039 885.136 Q43.4683 883.171 44.4667 882.463 Q45.4329 881.754 46.4313 881.754 Q47.7517 881.754 48.6213 882.592 Q49.4586 883.397 49.4586 884.782 Q49.4586 886.102 48.6535 886.972 Q47.8161 887.841 46.3669 887.841 Q43.1463 887.841 41.0207 884.943 Q38.8951 882.012 38.8951 877.857 Q38.8951 872.447 42.5344 868.84 Q43.6616 867.713 45.1108 867.165 Q46.5601 866.585 47.5263 866.521 Q48.4603 866.457 50.3282 866.457 L63.5004 866.457 Q63.8869 866.457 64.531 866.328 Q65.1751 866.199 66.0124 865.619 Q66.8176 865.007 66.8176 864.009 Q66.8176 861.626 62.5986 861.658 L58.895 861.658 L58.895 859.983 L62.5986 859.983 Q66.1091 859.983 67.4939 861.851 Q68.8466 863.687 68.8466 865.394 Q68.8466 867.584 67.2363 868.969 Q65.626 870.353 63.436 870.547 Q65.948 871.545 67.5905 873.832 Q69.2008 876.086 69.2008 879.178 Q69.2008 881.561 68.5889 883.816 Q68.0092 886.038 66.3667 887.906 Q64.692 889.741 62.18 889.741 M62.1155 884.653 Q64.5632 884.653 66.1413 882.914 Q67.7194 881.175 67.7194 878.727 Q67.7194 875.957 65.5938 873.477 Q63.436 870.998 59.217 870.998 L52.6148 870.998 Q52.8725 878.308 55.8032 881.497 Q58.7017 884.653 62.1155 884.653 Z\" fill=\"#000000\" fill-rule=\"evenodd\" fill-opacity=\"1\" /><path clip-path=\"url(#clip680)\" d=\"M68.4601 858.661 L66.4311 858.661 Q66.4311 855.151 66.0124 854.346 Q65.5616 853.508 63.436 853.508 L45.755 853.508 Q43.3073 853.508 42.6954 854.378 Q42.0835 855.215 42.0835 858.661 L40.0223 858.661 L39.3138 849.483 L46.5601 849.483 Q43.726 848.549 41.536 846.584 Q39.3138 844.587 39.3138 841.367 Q39.3138 839.241 40.5054 837.889 Q41.697 836.504 43.3395 836.504 Q44.7888 836.504 45.5295 837.405 Q46.2381 838.275 46.2381 839.338 Q46.2381 840.529 45.4973 841.367 Q44.7244 842.172 43.4039 842.172 Q42.5988 842.172 41.9869 841.818 Q41.3428 841.431 41.1173 841.141 Q40.8919 840.852 40.8275 840.658 Q40.7631 840.787 40.7631 841.367 Q40.7631 845.006 44.4023 847.099 Q48.0094 849.161 53.1623 849.161 L63.3072 849.161 Q65.2073 849.161 65.8192 848.388 Q66.4311 847.583 66.4311 844.137 L66.4311 842.752 L68.4601 842.752 Q68.2669 845.393 68.2669 851.125 Q68.2669 851.93 68.2991 853.186 Q68.3313 854.442 68.3957 856.085 Q68.4601 857.727 68.4601 858.661 Z\" fill=\"#000000\" fill-rule=\"evenodd\" fill-opacity=\"1\" /><path clip-path=\"url(#clip680)\" d=\"M42.0835 830.031 L40.6342 830.031 Q40.5054 827.003 38.3798 825.006 Q36.222 822.977 33.5811 822.301 Q30.9403 821.593 27.8807 821.528 L27.8807 819.886 L40.0223 819.886 L40.0223 810.449 L42.0835 810.449 L42.0835 819.886 L60.4086 819.886 Q67.5261 819.886 67.5261 815.441 Q67.5261 813.541 65.5938 812.285 Q63.6292 811.029 60.151 811.029 L56.5117 811.029 L56.5117 809.387 L60.2798 809.387 Q63.8547 809.387 66.5277 811.029 Q69.2008 812.672 69.2008 815.924 Q69.2008 817.116 68.8788 818.308 Q68.5889 819.467 67.816 821.013 Q67.0108 822.527 65.0785 823.493 Q63.1139 824.427 60.2798 824.427 L42.0835 824.427 L42.0835 830.031 Z\" fill=\"#000000\" fill-rule=\"evenodd\" fill-opacity=\"1\" /><path clip-path=\"url(#clip680)\" d=\"M42.0835 787.272 L40.6342 787.272 Q40.5054 784.245 38.3798 782.248 Q36.222 780.219 33.5811 779.543 Q30.9403 778.834 27.8807 778.77 L27.8807 777.127 L40.0223 777.127 L40.0223 767.691 L42.0835 767.691 L42.0835 777.127 L60.4086 777.127 Q67.5261 777.127 67.5261 772.683 Q67.5261 770.783 65.5938 769.527 Q63.6292 768.271 60.151 768.271 L56.5117 768.271 L56.5117 766.628 L60.2798 766.628 Q63.8547 766.628 66.5277 768.271 Q69.2008 769.913 69.2008 773.166 Q69.2008 774.358 68.8788 775.549 Q68.5889 776.709 67.816 778.255 Q67.0108 779.768 65.0785 780.734 Q63.1139 781.668 60.2798 781.668 L42.0835 781.668 L42.0835 787.272 Z\" fill=\"#000000\" fill-rule=\"evenodd\" fill-opacity=\"1\" /><path clip-path=\"url(#clip680)\" d=\"M68.4601 762.737 L66.4311 762.737 Q66.4311 759.226 66.0124 758.421 Q65.5616 757.616 63.436 757.616 L45.6906 757.616 Q43.2429 757.616 42.6632 758.453 Q42.0835 759.259 42.0835 762.479 L40.0223 762.479 L39.3138 753.268 L63.5004 753.268 Q65.4649 753.268 65.948 752.56 Q66.4311 751.851 66.4311 748.631 L68.4601 748.631 Q68.2669 755.362 68.2669 755.491 Q68.2669 756.392 68.4601 762.737 M27.8163 759.967 Q26.4959 759.967 25.4331 758.969 Q24.3381 757.938 24.3381 756.489 Q24.3381 755.04 25.3364 754.009 Q26.3026 752.978 27.8485 752.978 Q29.3622 752.978 30.3606 754.009 Q31.3267 755.04 31.3267 756.489 Q31.3267 758.003 30.2639 759.001 Q29.2012 759.967 27.8163 759.967 Z\" fill=\"#000000\" fill-rule=\"evenodd\" fill-opacity=\"1\" /><path clip-path=\"url(#clip680)\" d=\"M68.4601 744.122 L66.4311 744.122 Q66.4311 740.612 66.0124 739.807 Q65.5616 739.002 63.436 739.002 L45.755 739.002 Q43.3073 739.002 42.6954 739.871 Q42.0835 740.709 42.0835 744.122 L40.0223 744.122 L39.3138 734.847 L46.2381 734.847 Q39.3138 731.755 39.3138 725.089 Q39.3138 717.359 45.755 716.297 Q43.2429 715.169 41.2783 712.818 Q39.3138 710.435 39.3138 706.731 Q39.3138 701.772 41.7614 699.807 Q43.4039 698.358 45.2397 698.068 Q47.0754 697.778 51.8419 697.778 L64.4344 697.778 Q65.8192 697.714 66.1413 696.651 Q66.4311 695.588 66.4311 692.625 L68.4601 692.625 Q68.2669 699.356 68.2669 700 Q68.2669 700.516 68.4601 707.472 L66.4311 707.472 Q66.4311 703.962 66.0124 703.157 Q65.5616 702.319 63.436 702.319 L48.0738 702.319 Q44.7244 702.319 42.7598 703.35 Q40.7631 704.38 40.7631 707.214 Q40.7631 710.628 43.6294 713.366 Q46.4957 716.103 51.3266 716.103 L63.436 716.103 Q65.5616 716.103 66.0124 715.298 Q66.4311 714.461 66.4311 710.95 L68.4601 710.95 Q68.2669 717.681 68.2669 718.358 Q68.2669 718.873 68.4601 725.797 L66.4311 725.797 Q66.4311 722.287 66.0124 721.482 Q65.5616 720.644 63.436 720.644 L48.0738 720.644 Q44.7244 720.644 42.7598 721.675 Q40.7631 722.706 40.7631 725.54 Q40.7631 728.953 43.6294 731.691 Q46.4957 734.428 51.3266 734.428 L63.436 734.428 Q65.5616 734.428 66.0124 733.623 Q66.4311 732.786 66.4311 729.308 L68.4601 729.308 Q68.2669 736.039 68.2669 736.683 Q68.2669 737.198 68.4601 744.122 Z\" fill=\"#000000\" fill-rule=\"evenodd\" fill-opacity=\"1\" /><path clip-path=\"url(#clip680)\" d=\"M53.9353 688.679 Q47.7195 688.679 43.3073 684.686 Q38.8951 680.692 38.8951 674.96 Q38.8951 669.163 42.6632 666.168 Q46.4313 663.14 51.8419 663.14 Q52.8403 663.14 53.0335 663.398 Q53.2267 663.656 53.2267 664.783 L53.2267 683.204 Q59.9577 683.204 63.1139 681.208 Q67.5261 678.438 67.5261 673.768 Q67.5261 673.124 67.3973 672.351 Q67.2685 671.578 66.721 670 Q66.1413 668.422 64.6276 667.037 Q63.1139 665.652 60.7307 664.847 Q59.7967 664.654 59.8289 664.01 Q59.8289 663.14 60.6019 663.14 Q61.1816 663.14 62.502 663.784 Q63.7902 664.396 65.3361 665.588 Q66.882 666.779 68.0414 669.098 Q69.2008 671.385 69.2008 674.155 Q69.2008 679.952 64.8208 684.332 Q60.4086 688.679 53.9353 688.679 M51.8419 683.14 L51.8419 667.488 Q50.457 667.488 48.9111 667.746 Q47.3653 667.971 45.2397 668.68 Q43.0819 669.356 41.7292 670.966 Q40.3766 672.577 40.3766 674.96 Q40.3766 676.023 40.8275 677.182 Q41.2783 678.309 42.3733 679.694 Q43.4683 681.079 45.9482 682.045 Q48.428 683.011 51.8419 683.14 Z\" fill=\"#000000\" fill-rule=\"evenodd\" fill-opacity=\"1\" /><path clip-path=\"url(#clip680)\" d=\"M51.9707 642.253 Q40.8275 642.253 31.842 638.098 Q28.0739 636.327 24.9178 633.847 Q21.7616 631.367 20.3767 629.725 Q18.9919 628.082 18.9919 627.631 Q18.9919 626.987 19.636 626.955 Q19.9581 626.955 20.7632 627.825 Q31.5844 638.453 51.9707 638.42 Q72.4214 638.42 82.8239 628.082 Q83.9511 626.955 84.3054 626.955 Q84.9495 626.955 84.9495 627.631 Q84.9495 628.082 83.6291 629.66 Q82.3086 631.238 79.2813 633.686 Q76.2539 636.134 72.5502 637.905 Q63.5648 642.253 51.9707 642.253 Z\" fill=\"#000000\" fill-rule=\"evenodd\" fill-opacity=\"1\" /><path clip-path=\"url(#clip680)\" d=\"M59.0238 581.177 Q63.1783 582.014 65.5616 583.141 Q69.2008 584.945 69.2008 588.037 Q69.2008 590.227 67.8804 591.901 Q66.5599 593.544 64.37 593.963 Q65.3683 594.8 65.948 595.412 Q66.5277 595.992 67.4295 597.151 Q68.2991 598.278 68.7499 599.695 Q69.2008 601.112 69.2008 602.723 Q69.2008 606.652 67.1397 609.132 Q80.6339 612.481 81.3102 612.771 Q82.6951 613.705 82.6951 615.058 Q82.6951 615.895 82.1798 616.41 Q81.6967 616.925 80.9238 616.925 Q80.6661 616.893 79.861 616.7 L41.697 607.231 Q40.6664 606.974 40.0867 606.33 Q39.4748 605.653 39.4104 605.267 Q39.3138 604.88 39.3138 604.591 Q39.3138 603.721 39.7969 603.206 Q40.2478 602.658 41.0851 602.658 Q41.2139 602.658 41.9547 602.851 Q42.6632 603.013 43.7582 603.27 Q44.821 603.528 45.3041 603.657 L56.3829 606.426 Q60.1832 607.36 61.9867 607.36 Q64.7242 607.36 66.2379 606.136 Q67.7194 604.88 67.7194 602.465 Q67.7194 600.951 67.1074 599.534 Q66.4633 598.117 65.5938 597.151 Q64.7242 596.185 63.7902 595.412 Q62.8241 594.639 62.2122 594.285 Q61.568 593.93 61.407 593.898 L54.676 592.191 L42.3411 589.067 Q41.5682 588.874 41.0529 588.52 Q40.5054 588.133 40.3122 587.683 Q40.1189 587.232 40.0867 586.974 Q40.0223 586.716 40.0223 586.491 Q40.0223 585.686 40.5054 585.138 Q40.9885 584.591 41.8258 584.591 Q41.9869 584.591 42.7598 584.784 Q43.5006 584.945 44.5956 585.203 Q45.6583 585.46 46.2381 585.589 Q50.296 586.62 50.7147 586.716 L57.8322 588.552 Q58.2508 588.649 59.6035 588.971 Q60.9561 589.261 61.6647 589.422 Q62.341 589.583 63.275 589.744 Q64.1767 589.873 64.692 589.873 Q67.7194 589.873 67.7194 587.876 Q67.7194 587.103 67.2685 586.426 Q66.7854 585.75 66.1091 585.299 Q65.4327 584.816 64.2733 584.365 Q63.0817 583.882 62.1155 583.592 Q61.1172 583.303 59.5713 582.884 Q58.8305 582.723 58.6051 582.562 Q58.3797 582.401 58.3797 581.95 Q58.3797 581.177 59.0238 581.177 Z\" fill=\"#000000\" fill-rule=\"evenodd\" fill-opacity=\"1\" /><path clip-path=\"url(#clip680)\" d=\"M44.982 551.959 Q46.7856 551.959 47.7517 552.861 Q48.6857 553.763 48.6857 554.987 Q48.6857 555.985 48.106 556.533 Q47.5263 557.048 46.7533 557.048 Q45.6261 557.048 44.7244 556.146 Q43.8226 555.212 43.7904 553.86 Q42.5988 554.311 41.8903 555.502 Q41.1495 556.694 40.9563 557.757 Q40.7631 558.787 40.7631 559.818 Q40.7631 561.847 41.4072 563.393 Q42.0513 564.938 43.0497 565.711 Q44.0158 566.484 44.9498 566.839 Q45.8838 567.193 46.6889 567.193 Q47.3975 567.193 47.9772 567.032 Q48.5247 566.839 48.9433 566.388 Q49.3298 565.937 49.5875 565.615 Q49.8451 565.261 50.0705 564.488 Q50.296 563.715 50.3926 563.393 Q50.457 563.071 50.6503 562.169 Q51.0367 560.301 51.2622 559.463 Q51.4554 558.626 52.0029 557.531 Q52.5504 556.404 53.42 555.567 Q55.4489 553.538 58.2508 553.538 Q59.2814 553.538 60.5375 553.892 Q61.7935 554.214 63.3716 555.148 Q64.9497 556.082 66.2057 557.499 Q67.4617 558.916 68.3313 561.364 Q69.2008 563.779 69.2008 566.806 Q69.2008 571.025 67.4295 573.634 Q65.626 576.243 62.7919 576.243 Q60.7307 576.243 59.6035 575.115 Q58.4441 573.988 58.4441 572.539 Q58.4441 571.444 59.056 570.768 Q59.6357 570.091 60.7307 570.091 Q62.2122 570.091 63.3394 571.283 Q64.4666 572.475 64.2411 574.246 Q67.7194 572.732 67.7194 566.742 Q67.7194 564.488 67.1397 562.748 Q66.5277 560.977 65.6904 560.011 Q64.8208 559.013 63.758 558.368 Q62.6952 557.724 61.8901 557.531 Q61.085 557.306 60.473 557.306 Q59.4102 557.306 58.6051 557.724 Q57.8 558.143 57.3491 558.723 Q56.866 559.27 56.4795 560.333 Q56.0608 561.364 55.8998 562.104 Q55.7388 562.845 55.4811 564.166 Q55.3523 564.777 55.2879 565.164 Q55.1913 565.55 54.9336 566.356 Q54.6438 567.128 54.3539 567.676 Q54.0641 568.191 53.5488 568.868 Q53.0335 569.544 52.4216 569.963 Q51.8097 570.381 50.9079 570.671 Q50.0061 570.961 48.9433 570.961 Q47.9772 570.961 46.8178 570.671 Q45.6583 570.349 44.3057 569.544 Q42.9531 568.707 41.8581 567.515 Q40.7631 566.323 40.0545 564.327 Q39.3138 562.298 39.3138 559.818 Q39.3138 556.211 40.9885 554.085 Q42.631 551.959 44.982 551.959 Z\" fill=\"#000000\" fill-rule=\"evenodd\" fill-opacity=\"1\" /><path clip-path=\"url(#clip680)\" d=\"M84.3054 545.62 Q83.9833 545.62 83.1782 544.783 Q72.357 534.155 51.9707 534.155 Q31.52 534.155 21.1819 544.364 Q19.9903 545.62 19.636 545.62 Q18.9919 545.62 18.9919 544.976 Q18.9919 544.525 20.3123 542.947 Q21.6328 541.337 24.6601 538.921 Q27.6875 536.474 31.3911 534.67 Q40.3766 530.322 51.9707 530.322 Q63.1139 530.322 72.0994 534.477 Q75.8674 536.248 79.0236 538.728 Q82.1798 541.208 83.5646 542.85 Q84.9495 544.493 84.9495 544.976 Q84.9495 545.62 84.3054 545.62 Z\" fill=\"#000000\" fill-rule=\"evenodd\" fill-opacity=\"1\" /><polyline clip-path=\"url(#clip683)\" style=\"stroke:#009af9; stroke-linecap:butt; stroke-linejoin:round; stroke-width:4; stroke-opacity:1; fill:none\" points=\"\n",
       "  336.351,1372.3 385.293,1372.3 434.235,1372.3 483.176,1372.3 532.118,1372.3 581.06,1372.3 630.002,1372.3 678.944,1372.3 727.886,1372.3 776.828,1372.3 \n",
       "  825.77,1372.3 874.711,1372.3 923.653,1372.3 972.595,1372.3 1021.54,1372.3 1070.48,1372.3 1119.42,1372.3 1168.36,1372.3 1217.3,1372.3 1266.25,1372.3 \n",
       "  1315.19,1372.3 1364.13,1372.3 1413.07,1372.3 1462.01,1372.3 1510.96,1372.3 1559.9,1372.3 1608.84,1372.3 1657.78,1372.3 1706.72,1372.3 1755.67,1372.3 \n",
       "  1804.61,1372.3 1853.55,1372.3 1902.49,1372.3 1951.43,1372.3 2000.37,1372.3 2049.32,1372.3 2098.26,1372.3 2147.2,1372.3 2196.14,1372.3 2245.08,1372.3 \n",
       "  2294.03,1372.3 \n",
       "  \"/>\n",
       "<polyline clip-path=\"url(#clip683)\" style=\"stroke:#e26f46; stroke-linecap:butt; stroke-linejoin:round; stroke-width:4; stroke-opacity:1; fill:none\" points=\"\n",
       "  336.351,85.838 385.293,85.838 434.235,85.838 483.176,85.838 532.118,85.838 581.06,85.838 630.002,85.838 678.944,85.838 727.886,85.838 776.828,85.838 \n",
       "  825.77,85.838 874.711,85.838 923.653,85.838 972.595,85.838 1021.54,85.838 1070.48,85.838 1119.42,85.838 1168.36,85.838 1217.3,85.838 1266.25,85.838 \n",
       "  1315.19,85.838 1364.13,85.838 1413.07,85.838 1462.01,85.838 1510.96,85.838 1559.9,85.838 1608.84,85.838 1657.78,85.838 1706.72,85.838 1755.67,85.838 \n",
       "  1804.61,85.838 1853.55,85.838 1902.49,85.838 1951.43,85.838 2000.37,85.838 2049.32,85.838 2098.26,85.838 2147.2,85.838 2196.14,85.838 2245.08,85.838 \n",
       "  2294.03,85.838 \n",
       "  \"/>\n",
       "<path clip-path=\"url(#clip680)\" d=\"\n",
       "M2028.48 248.219 L2283.58 248.219 L2283.58 92.6992 L2028.48 92.6992  Z\n",
       "  \" fill=\"#ffffff\" fill-rule=\"evenodd\" fill-opacity=\"1\"/>\n",
       "<polyline clip-path=\"url(#clip680)\" style=\"stroke:#000000; stroke-linecap:butt; stroke-linejoin:round; stroke-width:4; stroke-opacity:1; fill:none\" points=\"\n",
       "  2028.48,248.219 2283.58,248.219 2283.58,92.6992 2028.48,92.6992 2028.48,248.219 \n",
       "  \"/>\n",
       "<polyline clip-path=\"url(#clip680)\" style=\"stroke:#009af9; stroke-linecap:butt; stroke-linejoin:round; stroke-width:4; stroke-opacity:1; fill:none\" points=\"\n",
       "  2051.53,144.539 2189.87,144.539 \n",
       "  \"/>\n",
       "<path clip-path=\"url(#clip680)\" d=\"M2234.29 133.593 L2222.17 133.593 L2222.17 132.544 L2234.29 132.544 L2234.29 133.593 Z\" fill=\"#000000\" fill-rule=\"evenodd\" fill-opacity=\"1\" /><path clip-path=\"url(#clip680)\" d=\"M2236.58 146.524 Q2236.58 149.99 2234.8 153.246 Q2233.04 156.502 2230.28 158.469 Q2227.54 160.437 2224.78 160.437 Q2221.66 160.437 2220.05 157.204 Q2217.12 168.939 2216.95 169.243 Q2216.27 170.251 2215.29 170.251 Q2214.68 170.251 2214.31 169.876 Q2213.93 169.525 2213.93 168.962 Q2213.96 168.775 2214.1 168.189 L2218.78 149.334 Q2219.86 144.954 2223.11 141.839 Q2226.39 138.701 2229.91 138.701 Q2232.69 138.701 2234.64 140.785 Q2236.58 142.87 2236.58 146.524 M2233.14 144.463 Q2233.14 142.12 2232.2 140.949 Q2231.26 139.755 2229.81 139.755 Q2228.48 139.755 2226.86 140.832 Q2225.27 141.909 2223.86 144.299 Q2223.11 145.68 2222.57 147.39 Q2222.04 149.1 2220.98 153.316 Q2220.61 155.003 2220.61 155.096 Q2220.61 155.284 2220.7 155.705 Q2220.82 156.127 2221.1 156.783 Q2221.4 157.415 2221.83 157.977 Q2222.25 158.539 2223.02 158.961 Q2223.79 159.359 2224.73 159.359 Q2226.18 159.359 2227.73 158.188 Q2229.3 156.994 2230.44 154.815 Q2231.41 153.059 2232.27 149.756 Q2233.14 146.43 2233.14 144.463 Z\" fill=\"#000000\" fill-rule=\"evenodd\" fill-opacity=\"1\" /><polyline clip-path=\"url(#clip680)\" style=\"stroke:#e26f46; stroke-linecap:butt; stroke-linejoin:round; stroke-width:4; stroke-opacity:1; fill:none\" points=\"\n",
       "  2051.53,196.379 2189.87,196.379 \n",
       "  \"/>\n",
       "<path clip-path=\"url(#clip680)\" d=\"M2235.58 195.284 Q2235.58 198.751 2233.8 202.006 Q2232.04 205.262 2229.28 207.23 Q2226.54 209.197 2223.78 209.197 Q2220.66 209.197 2219.05 205.965 Q2216.12 217.699 2215.95 218.004 Q2215.27 219.011 2214.29 219.011 Q2213.68 219.011 2213.31 218.636 Q2212.93 218.285 2212.93 217.723 Q2212.96 217.535 2213.1 216.95 L2217.78 198.095 Q2218.86 193.715 2222.11 190.6 Q2225.39 187.461 2228.91 187.461 Q2231.69 187.461 2233.64 189.546 Q2235.58 191.63 2235.58 195.284 M2232.14 193.223 Q2232.14 190.881 2231.2 189.71 Q2230.26 188.515 2228.81 188.515 Q2227.48 188.515 2225.86 189.592 Q2224.27 190.67 2222.86 193.059 Q2222.11 194.441 2221.57 196.151 Q2221.04 197.861 2219.98 202.077 Q2219.61 203.763 2219.61 203.857 Q2219.61 204.044 2219.7 204.466 Q2219.82 204.887 2220.1 205.543 Q2220.4 206.176 2220.83 206.738 Q2221.25 207.3 2222.02 207.721 Q2222.79 208.12 2223.73 208.12 Q2225.18 208.12 2226.73 206.949 Q2228.3 205.754 2229.44 203.576 Q2230.41 201.819 2231.27 198.516 Q2232.14 195.19 2232.14 193.223 Z\" fill=\"#000000\" fill-rule=\"evenodd\" fill-opacity=\"1\" /></svg>\n"
      ]
     },
     "execution_count": 85,
     "metadata": {},
     "output_type": "execute_result"
    }
   ],
   "source": [
    "#variables\n",
    "mu_0 = 6e5 #6e5 km^-1\n",
    "thetas = [10^i for i = -6:0.1:-2]\n",
    "starttimes = zeros(length(thetas), 2)\n",
    "for i in 1:length(thetas)\n",
    "    starttimes[i,:] = starttime(mu_0,thetas[i])\n",
    "end\n",
    "plot(thetas, starttimes, xaxis=:log, label = [L\"\\bar{\\rho}\" L\"\\rho\"], xlabel =L\"\\theta\", ylabel =L\"\\textrm{start~time~(} \\mu s\\textrm{)}\")\n",
    "#plot(thetas, starttimes[:,1], linestyle=:solid, xaxis=:log, label = L\"\\bar{\\rho}\", xlabel =L\"\\theta\", ylabel =L\"\\textrm{time}@\\rho=0.9\\textrm{~(} \\mu s\\textrm{)}\")\n",
    "#plot!(thetas, starttimes[:,2], linestyle=:dash, label = L\"\\rho\")\n",
    "#savefig(\"compare.png\")"
   ]
  },
  {
   "cell_type": "code",
   "execution_count": 86,
   "id": "54927a25-a0fa-42a6-9bef-a1ba4d36933a",
   "metadata": {},
   "outputs": [
    {
     "data": {
      "image/svg+xml": [
       "<?xml version=\"1.0\" encoding=\"utf-8\"?>\n",
       "<svg xmlns=\"http://www.w3.org/2000/svg\" xmlns:xlink=\"http://www.w3.org/1999/xlink\" width=\"600\" height=\"400\" viewBox=\"0 0 2400 1600\">\n",
       "<defs>\n",
       "  <clipPath id=\"clip720\">\n",
       "    <rect x=\"0\" y=\"0\" width=\"2400\" height=\"1600\"/>\n",
       "  </clipPath>\n",
       "</defs>\n",
       "<path clip-path=\"url(#clip720)\" d=\"\n",
       "M0 1600 L2400 1600 L2400 0 L0 0  Z\n",
       "  \" fill=\"#ffffff\" fill-rule=\"evenodd\" fill-opacity=\"1\"/>\n",
       "<defs>\n",
       "  <clipPath id=\"clip721\">\n",
       "    <rect x=\"480\" y=\"0\" width=\"1681\" height=\"1600\"/>\n",
       "  </clipPath>\n",
       "</defs>\n",
       "<defs>\n",
       "  <clipPath id=\"clip722\">\n",
       "    <rect x=\"277\" y=\"47\" width=\"2076\" height=\"1365\"/>\n",
       "  </clipPath>\n",
       "</defs>\n",
       "<path clip-path=\"url(#clip720)\" d=\"\n",
       "M158.369 1486.45 L2352.76 1486.45 L2352.76 47.2441 L158.369 47.2441  Z\n",
       "  \" fill=\"#ffffff\" fill-rule=\"evenodd\" fill-opacity=\"1\"/>\n",
       "<defs>\n",
       "  <clipPath id=\"clip723\">\n",
       "    <rect x=\"158\" y=\"47\" width=\"2195\" height=\"1440\"/>\n",
       "  </clipPath>\n",
       "</defs>\n",
       "<polyline clip-path=\"url(#clip723)\" style=\"stroke:#000000; stroke-linecap:butt; stroke-linejoin:round; stroke-width:2; stroke-opacity:0.1; fill:none\" points=\"\n",
       "  218.291,1486.45 218.291,47.2441 \n",
       "  \"/>\n",
       "<polyline clip-path=\"url(#clip723)\" style=\"stroke:#000000; stroke-linecap:butt; stroke-linejoin:round; stroke-width:2; stroke-opacity:0.1; fill:none\" points=\"\n",
       "  873.41,1486.45 873.41,47.2441 \n",
       "  \"/>\n",
       "<polyline clip-path=\"url(#clip723)\" style=\"stroke:#000000; stroke-linecap:butt; stroke-linejoin:round; stroke-width:2; stroke-opacity:0.1; fill:none\" points=\"\n",
       "  1528.53,1486.45 1528.53,47.2441 \n",
       "  \"/>\n",
       "<polyline clip-path=\"url(#clip723)\" style=\"stroke:#000000; stroke-linecap:butt; stroke-linejoin:round; stroke-width:2; stroke-opacity:0.1; fill:none\" points=\"\n",
       "  2183.65,1486.45 2183.65,47.2441 \n",
       "  \"/>\n",
       "<polyline clip-path=\"url(#clip720)\" style=\"stroke:#000000; stroke-linecap:butt; stroke-linejoin:round; stroke-width:4; stroke-opacity:1; fill:none\" points=\"\n",
       "  158.369,1486.45 2352.76,1486.45 \n",
       "  \"/>\n",
       "<polyline clip-path=\"url(#clip720)\" style=\"stroke:#000000; stroke-linecap:butt; stroke-linejoin:round; stroke-width:4; stroke-opacity:1; fill:none\" points=\"\n",
       "  218.291,1486.45 218.291,1467.55 \n",
       "  \"/>\n",
       "<polyline clip-path=\"url(#clip720)\" style=\"stroke:#000000; stroke-linecap:butt; stroke-linejoin:round; stroke-width:4; stroke-opacity:1; fill:none\" points=\"\n",
       "  873.41,1486.45 873.41,1467.55 \n",
       "  \"/>\n",
       "<polyline clip-path=\"url(#clip720)\" style=\"stroke:#000000; stroke-linecap:butt; stroke-linejoin:round; stroke-width:4; stroke-opacity:1; fill:none\" points=\"\n",
       "  1528.53,1486.45 1528.53,1467.55 \n",
       "  \"/>\n",
       "<polyline clip-path=\"url(#clip720)\" style=\"stroke:#000000; stroke-linecap:butt; stroke-linejoin:round; stroke-width:4; stroke-opacity:1; fill:none\" points=\"\n",
       "  2183.65,1486.45 2183.65,1467.55 \n",
       "  \"/>\n",
       "<path clip-path=\"url(#clip720)\" d=\"M218.291 1517.37 Q214.68 1517.37 212.851 1520.93 Q211.045 1524.47 211.045 1531.6 Q211.045 1538.71 212.851 1542.27 Q214.68 1545.82 218.291 1545.82 Q221.925 1545.82 223.73 1542.27 Q225.559 1538.71 225.559 1531.6 Q225.559 1524.47 223.73 1520.93 Q221.925 1517.37 218.291 1517.37 M218.291 1513.66 Q224.101 1513.66 227.156 1518.27 Q230.235 1522.85 230.235 1531.6 Q230.235 1540.33 227.156 1544.94 Q224.101 1549.52 218.291 1549.52 Q212.48 1549.52 209.402 1544.94 Q206.346 1540.33 206.346 1531.6 Q206.346 1522.85 209.402 1518.27 Q212.48 1513.66 218.291 1513.66 Z\" fill=\"#000000\" fill-rule=\"evenodd\" fill-opacity=\"1\" /><path clip-path=\"url(#clip720)\" d=\"M848.097 1544.91 L855.736 1544.91 L855.736 1518.55 L847.426 1520.21 L847.426 1515.95 L855.69 1514.29 L860.366 1514.29 L860.366 1544.91 L868.005 1544.91 L868.005 1548.85 L848.097 1548.85 L848.097 1544.91 Z\" fill=\"#000000\" fill-rule=\"evenodd\" fill-opacity=\"1\" /><path clip-path=\"url(#clip720)\" d=\"M887.449 1517.37 Q883.838 1517.37 882.009 1520.93 Q880.204 1524.47 880.204 1531.6 Q880.204 1538.71 882.009 1542.27 Q883.838 1545.82 887.449 1545.82 Q891.083 1545.82 892.889 1542.27 Q894.717 1538.71 894.717 1531.6 Q894.717 1524.47 892.889 1520.93 Q891.083 1517.37 887.449 1517.37 M887.449 1513.66 Q893.259 1513.66 896.315 1518.27 Q899.393 1522.85 899.393 1531.6 Q899.393 1540.33 896.315 1544.94 Q893.259 1549.52 887.449 1549.52 Q881.639 1549.52 878.56 1544.94 Q875.505 1540.33 875.505 1531.6 Q875.505 1522.85 878.56 1518.27 Q881.639 1513.66 887.449 1513.66 Z\" fill=\"#000000\" fill-rule=\"evenodd\" fill-opacity=\"1\" /><path clip-path=\"url(#clip720)\" d=\"M1507.3 1544.91 L1523.62 1544.91 L1523.62 1548.85 L1501.68 1548.85 L1501.68 1544.91 Q1504.34 1542.16 1508.92 1537.53 Q1513.53 1532.88 1514.71 1531.53 Q1516.95 1529.01 1517.83 1527.27 Q1518.74 1525.51 1518.74 1523.82 Q1518.74 1521.07 1516.79 1519.33 Q1514.87 1517.6 1511.77 1517.6 Q1509.57 1517.6 1507.12 1518.36 Q1504.69 1519.13 1501.91 1520.68 L1501.91 1515.95 Q1504.73 1514.82 1507.19 1514.24 Q1509.64 1513.66 1511.68 1513.66 Q1517.05 1513.66 1520.24 1516.35 Q1523.44 1519.03 1523.44 1523.52 Q1523.44 1525.65 1522.63 1527.57 Q1521.84 1529.47 1519.73 1532.07 Q1519.15 1532.74 1516.05 1535.95 Q1512.95 1539.15 1507.3 1544.91 Z\" fill=\"#000000\" fill-rule=\"evenodd\" fill-opacity=\"1\" /><path clip-path=\"url(#clip720)\" d=\"M1543.44 1517.37 Q1539.82 1517.37 1538 1520.93 Q1536.19 1524.47 1536.19 1531.6 Q1536.19 1538.71 1538 1542.27 Q1539.82 1545.82 1543.44 1545.82 Q1547.07 1545.82 1548.88 1542.27 Q1550.7 1538.71 1550.7 1531.6 Q1550.7 1524.47 1548.88 1520.93 Q1547.07 1517.37 1543.44 1517.37 M1543.44 1513.66 Q1549.25 1513.66 1552.3 1518.27 Q1555.38 1522.85 1555.38 1531.6 Q1555.38 1540.33 1552.3 1544.94 Q1549.25 1549.52 1543.44 1549.52 Q1537.63 1549.52 1534.55 1544.94 Q1531.49 1540.33 1531.49 1531.6 Q1531.49 1522.85 1534.55 1518.27 Q1537.63 1513.66 1543.44 1513.66 Z\" fill=\"#000000\" fill-rule=\"evenodd\" fill-opacity=\"1\" /><path clip-path=\"url(#clip720)\" d=\"M2172.49 1530.21 Q2175.85 1530.93 2177.72 1533.2 Q2179.62 1535.47 2179.62 1538.8 Q2179.62 1543.92 2176.1 1546.72 Q2172.58 1549.52 2166.1 1549.52 Q2163.93 1549.52 2161.61 1549.08 Q2159.32 1548.66 2156.87 1547.81 L2156.87 1543.29 Q2158.81 1544.43 2161.12 1545.01 Q2163.44 1545.58 2165.96 1545.58 Q2170.36 1545.58 2172.65 1543.85 Q2174.97 1542.11 2174.97 1538.8 Q2174.97 1535.75 2172.81 1534.03 Q2170.68 1532.3 2166.87 1532.3 L2162.84 1532.3 L2162.84 1528.45 L2167.05 1528.45 Q2170.5 1528.45 2172.33 1527.09 Q2174.16 1525.7 2174.16 1523.11 Q2174.16 1520.45 2172.26 1519.03 Q2170.38 1517.6 2166.87 1517.6 Q2164.94 1517.6 2162.75 1518.01 Q2160.55 1518.43 2157.91 1519.31 L2157.91 1515.14 Q2160.57 1514.4 2162.88 1514.03 Q2165.22 1513.66 2167.28 1513.66 Q2172.61 1513.66 2175.71 1516.09 Q2178.81 1518.5 2178.81 1522.62 Q2178.81 1525.49 2177.17 1527.48 Q2175.52 1529.45 2172.49 1530.21 Z\" fill=\"#000000\" fill-rule=\"evenodd\" fill-opacity=\"1\" /><path clip-path=\"url(#clip720)\" d=\"M2198.49 1517.37 Q2194.87 1517.37 2193.05 1520.93 Q2191.24 1524.47 2191.24 1531.6 Q2191.24 1538.71 2193.05 1542.27 Q2194.87 1545.82 2198.49 1545.82 Q2202.12 1545.82 2203.93 1542.27 Q2205.75 1538.71 2205.75 1531.6 Q2205.75 1524.47 2203.93 1520.93 Q2202.12 1517.37 2198.49 1517.37 M2198.49 1513.66 Q2204.3 1513.66 2207.35 1518.27 Q2210.43 1522.85 2210.43 1531.6 Q2210.43 1540.33 2207.35 1544.94 Q2204.3 1549.52 2198.49 1549.52 Q2192.68 1549.52 2189.6 1544.94 Q2186.54 1540.33 2186.54 1531.6 Q2186.54 1522.85 2189.6 1518.27 Q2192.68 1513.66 2198.49 1513.66 Z\" fill=\"#000000\" fill-rule=\"evenodd\" fill-opacity=\"1\" /><polyline clip-path=\"url(#clip723)\" style=\"stroke:#000000; stroke-linecap:butt; stroke-linejoin:round; stroke-width:2; stroke-opacity:0.1; fill:none\" points=\"\n",
       "  158.369,954.052 2352.76,954.052 \n",
       "  \"/>\n",
       "<polyline clip-path=\"url(#clip723)\" style=\"stroke:#000000; stroke-linecap:butt; stroke-linejoin:round; stroke-width:2; stroke-opacity:0.1; fill:none\" points=\"\n",
       "  158.369,277.6 2352.76,277.6 \n",
       "  \"/>\n",
       "<polyline clip-path=\"url(#clip720)\" style=\"stroke:#000000; stroke-linecap:butt; stroke-linejoin:round; stroke-width:4; stroke-opacity:1; fill:none\" points=\"\n",
       "  158.369,1486.45 158.369,47.2441 \n",
       "  \"/>\n",
       "<polyline clip-path=\"url(#clip720)\" style=\"stroke:#000000; stroke-linecap:butt; stroke-linejoin:round; stroke-width:4; stroke-opacity:1; fill:none\" points=\"\n",
       "  158.369,954.052 177.267,954.052 \n",
       "  \"/>\n",
       "<polyline clip-path=\"url(#clip720)\" style=\"stroke:#000000; stroke-linecap:butt; stroke-linejoin:round; stroke-width:4; stroke-opacity:1; fill:none\" points=\"\n",
       "  158.369,277.6 177.267,277.6 \n",
       "  \"/>\n",
       "<path clip-path=\"url(#clip720)\" d=\"M51.6634 973.844 L59.3023 973.844 L59.3023 947.479 L50.9921 949.145 L50.9921 944.886 L59.256 943.22 L63.9319 943.22 L63.9319 973.844 L71.5707 973.844 L71.5707 977.78 L51.6634 977.78 L51.6634 973.844 Z\" fill=\"#000000\" fill-rule=\"evenodd\" fill-opacity=\"1\" /><path clip-path=\"url(#clip720)\" d=\"M91.0151 946.298 Q87.404 946.298 85.5753 949.863 Q83.7697 953.405 83.7697 960.534 Q83.7697 967.641 85.5753 971.205 Q87.404 974.747 91.0151 974.747 Q94.6493 974.747 96.4548 971.205 Q98.2835 967.641 98.2835 960.534 Q98.2835 953.405 96.4548 949.863 Q94.6493 946.298 91.0151 946.298 M91.0151 942.595 Q96.8252 942.595 99.8808 947.201 Q102.959 951.784 102.959 960.534 Q102.959 969.261 99.8808 973.868 Q96.8252 978.451 91.0151 978.451 Q85.2049 978.451 82.1262 973.868 Q79.0707 969.261 79.0707 960.534 Q79.0707 951.784 82.1262 947.201 Q85.2049 942.595 91.0151 942.595 Z\" fill=\"#000000\" fill-rule=\"evenodd\" fill-opacity=\"1\" /><path clip-path=\"url(#clip720)\" d=\"M112.664 924.791 Q109.73 924.791 108.244 927.687 Q106.777 930.565 106.777 936.357 Q106.777 942.131 108.244 945.028 Q109.73 947.905 112.664 947.905 Q115.617 947.905 117.084 945.028 Q118.57 942.131 118.57 936.357 Q118.57 930.565 117.084 927.687 Q115.617 924.791 112.664 924.791 M112.664 921.781 Q117.385 921.781 119.868 925.524 Q122.369 929.248 122.369 936.357 Q122.369 943.448 119.868 947.191 Q117.385 950.915 112.664 950.915 Q107.943 950.915 105.442 947.191 Q102.959 943.448 102.959 936.357 Q102.959 929.248 105.442 925.524 Q107.943 921.781 112.664 921.781 Z\" fill=\"#000000\" fill-rule=\"evenodd\" fill-opacity=\"1\" /><path clip-path=\"url(#clip720)\" d=\"M52.9047 297.392 L60.5436 297.392 L60.5436 271.027 L52.2334 272.693 L52.2334 268.434 L60.4973 266.768 L65.1732 266.768 L65.1732 297.392 L72.812 297.392 L72.812 301.328 L52.9047 301.328 L52.9047 297.392 Z\" fill=\"#000000\" fill-rule=\"evenodd\" fill-opacity=\"1\" /><path clip-path=\"url(#clip720)\" d=\"M92.2564 269.846 Q88.6453 269.846 86.8166 273.411 Q85.011 276.953 85.011 284.082 Q85.011 291.189 86.8166 294.753 Q88.6453 298.295 92.2564 298.295 Q95.8906 298.295 97.6962 294.753 Q99.5249 291.189 99.5249 284.082 Q99.5249 276.953 97.6962 273.411 Q95.8906 269.846 92.2564 269.846 M92.2564 266.143 Q98.0665 266.143 101.122 270.749 Q104.201 275.332 104.201 284.082 Q104.201 292.809 101.122 297.415 Q98.0665 301.999 92.2564 301.999 Q86.4462 301.999 83.3675 297.415 Q80.312 292.809 80.312 284.082 Q80.312 275.332 83.3675 270.749 Q86.4462 266.143 92.2564 266.143 Z\" fill=\"#000000\" fill-rule=\"evenodd\" fill-opacity=\"1\" /><path clip-path=\"url(#clip720)\" d=\"M105.386 245.837 L120.3 245.837 L120.3 249.034 L108.865 249.034 L108.865 255.918 Q109.693 255.636 110.52 255.504 Q111.348 255.354 112.175 255.354 Q116.877 255.354 119.623 257.931 Q122.369 260.507 122.369 264.908 Q122.369 269.441 119.548 271.961 Q116.727 274.463 111.592 274.463 Q109.824 274.463 107.981 274.162 Q106.157 273.861 104.201 273.259 L104.201 269.441 Q105.893 270.362 107.699 270.814 Q109.505 271.265 111.517 271.265 Q114.771 271.265 116.67 269.554 Q118.57 267.842 118.57 264.908 Q118.57 261.974 116.67 260.263 Q114.771 258.551 111.517 258.551 Q109.994 258.551 108.47 258.89 Q106.965 259.228 105.386 259.943 L105.386 245.837 Z\" fill=\"#000000\" fill-rule=\"evenodd\" fill-opacity=\"1\" /><polyline clip-path=\"url(#clip723)\" style=\"stroke:#009af9; stroke-linecap:butt; stroke-linejoin:round; stroke-width:4; stroke-opacity:1; fill:none\" points=\"\n",
       "  220.474,1404.37 222.658,1365 224.842,1342.5 227.026,1326.92 229.209,1315.12 231.393,1305.71 233.577,1297.95 235.76,1291.39 237.944,1285.75 240.128,1280.82 \n",
       "  242.312,1276.49 244.495,1272.63 246.679,1269.18 248.863,1266.06 251.047,1263.23 253.23,1260.66 255.414,1258.31 257.598,1256.16 259.781,1254.18 261.965,1252.36 \n",
       "  264.149,1250.67 266.333,1249.11 268.516,1247.66 270.7,1246.32 272.884,1245.06 275.068,1243.9 277.251,1242.81 279.435,1241.8 281.619,1240.85 283.803,1239.96 \n",
       "  285.986,1239.13 288.17,1238.36 290.354,1237.63 292.537,1236.95 294.721,1236.31 296.905,1235.71 299.089,1235.15 301.272,1234.62 303.456,1234.13 305.64,1233.66 \n",
       "  307.824,1233.23 310.007,1232.82 312.191,1232.44 314.375,1232.08 316.558,1231.74 318.742,1231.42 320.926,1231.12 323.11,1230.85 325.293,1230.58 327.477,1230.34 \n",
       "  329.661,1230.1 331.845,1229.9 334.028,1229.69 336.212,1229.51 338.396,1229.32 340.58,1229.17 342.763,1229.01 344.947,1228.87 347.131,1228.73 349.314,1228.6 \n",
       "  351.498,1228.49 353.682,1228.38 355.866,1228.28 358.049,1228.18 360.233,1228.11 362.417,1228.01 364.601,1227.95 366.784,1227.87 368.968,1227.82 371.152,1227.75 \n",
       "  373.335,1227.7 375.519,1227.65 377.703,1227.6 379.887,1227.56 382.07,1227.52 384.254,1227.49 386.438,1227.45 388.622,1227.44 390.805,1227.39 392.989,1227.39 \n",
       "  395.173,1227.35 397.356,1227.35 399.54,1227.31 401.724,1227.32 403.908,1227.29 406.091,1227.29 408.275,1227.28 410.459,1227.27 412.643,1227.27 414.826,1227.25 \n",
       "  417.01,1227.27 419.194,1227.24 421.378,1227.27 423.561,1227.23 425.745,1227.27 427.929,1227.23 430.112,1227.27 432.296,1227.24 434.48,1227.26 436.664,1227.25 \n",
       "  438.847,1227.26 441.031,1227.27 443.215,1227.26 445.399,1227.29 447.582,1227.26 449.766,1227.31 451.95,1227.26 454.133,1227.32 456.317,1227.27 458.501,1227.33 \n",
       "  460.685,1227.29 462.868,1227.34 465.052,1227.31 467.236,1227.34 469.42,1227.33 471.603,1227.34 473.787,1227.36 475.971,1227.34 478.155,1227.39 480.338,1227.33 \n",
       "  482.522,1227.41 484.706,1227.34 486.889,1227.43 489.073,1227.34 491.257,1227.44 493.441,1227.36 495.624,1227.44 497.808,1227.39 499.992,1227.43 502.176,1227.42 \n",
       "  504.359,1227.41 506.543,1227.46 508.727,1227.4 510.91,1227.49 513.094,1227.39 515.278,1227.52 517.462,1227.38 519.645,1227.53 521.829,1227.39 524.013,1227.53 \n",
       "  526.197,1227.42 528.38,1227.51 530.564,1227.46 532.748,1227.48 534.932,1227.5 537.115,1227.45 539.299,1227.55 541.483,1227.42 543.666,1227.59 545.85,1227.4 \n",
       "  548.034,1227.61 550.218,1227.39 552.401,1227.62 554.585,1227.41 556.769,1227.6 558.953,1227.45 561.136,1227.56 563.32,1227.51 565.504,1227.5 567.687,1227.58 \n",
       "  569.871,1227.44 572.055,1227.64 574.239,1227.39 576.422,1227.69 578.606,1227.36 580.79,1227.71 582.974,1227.36 585.157,1227.7 587.341,1227.4 589.525,1227.65 \n",
       "  591.708,1227.47 593.892,1227.57 596.076,1227.56 598.26,1227.47 600.443,1227.67 602.627,1227.37 604.811,1227.76 606.995,1227.3 609.178,1227.82 611.362,1227.27 \n",
       "  613.546,1227.83 615.73,1227.29 617.913,1227.78 620.097,1227.37 622.281,1227.68 624.464,1227.49 626.648,1227.53 628.832,1227.65 631.016,1227.37 633.199,1227.81 \n",
       "  635.383,1227.23 637.567,1227.94 639.751,1227.14 641.934,1228 644.118,1227.11 646.302,1227.98 648.485,1227.18 650.669,1227.86 652.853,1227.34 655.037,1227.67 \n",
       "  657.22,1227.56 659.404,1227.43 661.588,1227.81 663.772,1227.18 665.955,1228.05 668.139,1226.98 670.323,1228.22 672.507,1226.87 674.69,1228.27 676.874,1226.89 \n",
       "  679.058,1228.17 681.241,1227.05 683.425,1227.94 685.609,1227.34 687.793,1227.59 689.976,1227.71 692.16,1227.19 694.344,1228.12 696.528,1226.82 698.711,1228.46 \n",
       "  700.895,1226.56 703.079,1228.66 705.262,1226.46 707.446,1228.65 709.63,1226.57 711.814,1228.41 713.997,1226.91 716.181,1227.95 718.365,1227.42 720.549,1227.36 \n",
       "  722.732,1228.05 724.916,1226.74 727.1,1228.67 729.283,1226.21 731.467,1229.14 733.651,1225.88 735.835,1229.34 738.018,1225.86 740.202,1229.18 742.386,1226.17 \n",
       "  744.57,1228.65 746.753,1226.81 748.937,1227.82 751.121,1227.7 753.305,1226.84 755.488,1228.72 757.672,1225.9 759.856,1229.65 762.039,1225.19 764.223,1230.27 \n",
       "  766.407,1224.86 768.591,1230.37 770.774,1225.01 772.958,1229.86 775.142,1225.69 777.326,1228.78 779.509,1226.85 781.693,1227.33 783.877,1228.37 786.06,1225.8 \n",
       "  788.244,1229.99 790.428,1224.46 792.612,1231.36 794.795,1223.57 796.979,1232.08 799.163,1223.34 801.347,1231.84 803.53,1223.87 805.714,1230.59 807.898,1225.2 \n",
       "  810.082,1228.56 812.265,1227.25 814.449,1226.16 816.633,1229.78 818.816,1223.86 821,1232.35 823.184,1222.08 825.368,1234.29 827.551,1221.11 829.735,1234.91 \n",
       "  831.919,1221.18 834.103,1233.78 836.286,1222.4 838.47,1231.07 840.654,1224.82 842.837,1227.45 845.021,1228.33 847.205,1223.72 849.389,1232.55 851.572,1220.54 \n",
       "  853.756,1236.66 855.94,1218.36 858.124,1239.32 860.307,1217.51 862.491,1239.15 864.675,1218.19 866.858,1235.84 869.042,1220.56 871.226,1230.45 873.41,1224.74 \n",
       "  875.593,1224.53 877.777,1230.67 879.961,1219.23 882.145,1237.88 884.328,1215.22 886.512,1244.74 888.696,1212.88 890.88,1247.96 893.063,1212.44 895.247,1244.77 \n",
       "  897.431,1214.12 899.614,1236.6 901.798,1218.21 903.982,1227.06 906.166,1225.08 908.349,1218.5 910.533,1235.16 912.717,1211.84 914.901,1248.33 917.084,1207.38 \n",
       "  919.268,1261.14 921.452,1205.22 923.635,1262.41 925.819,1205.52 928.003,1248.92 930.187,1208.55 932.37,1232.4 934.554,1214.85 936.738,1218.6 938.922,1225.43 \n",
       "  941.105,1208.23 943.289,1242.38 945.473,1201.01 947.657,1269.95 949.84,1196.65 952.024,1303.62 954.208,1195.02 956.391,1275.47 958.575,1196.23 960.759,1241.28 \n",
       "  962.943,1200.62 965.126,1219 967.31,1209 969.494,1203.89 971.678,1223.11 973.861,1193.5 976.045,1247.33 978.229,1186.69 980.412,1297.23 982.596,1182.91 \n",
       "  984.78,1308.41 986.964,1181.95 989.147,1247.01 991.331,1183.86 993.515,1216.43 995.699,1188.96 997.882,1197.17 1000.07,1197.85 1002.25,1184.05 1004.43,1211.42 \n",
       "  1006.62,1175.05 1008.8,1229.41 1010.98,1169.26 1013.17,1240.8 1015.35,1166.22 1017.54,1226.46 1019.72,1165.73 1021.9,1203.79 1024.09,1167.75 1026.27,1185.24 \n",
       "  1028.45,1172.27 1030.64,1171.33 1032.82,1179.07 1035.01,1161.13 1037.19,1187.01 1039.37,1153.9 1041.56,1192.43 1043.74,1149.21 1045.92,1189.9 1048.11,1146.74 \n",
       "  1050.29,1179.41 1052.48,1146.31 1054.66,1166.34 1056.84,1147.68 1059.03,1154.29 1061.21,1150.46 1063.39,1144.32 1065.58,1153.81 1067.76,1136.56 1069.95,1156.12 \n",
       "  1072.13,1130.84 1074.31,1155.28 1076.5,1126.97 1078.68,1150.27 1080.86,1124.75 1083.05,1142.21 1085.23,1123.94 1087.42,1133.15 1089.6,1124.19 1091.78,1124.54 \n",
       "  1093.97,1124.91 1096.15,1117.09 1098.33,1125.27 1100.52,1111.01 1102.7,1124.24 1104.89,1106.33 1107.07,1121.09 1109.25,1102.94 1111.44,1115.85 1113.62,1100.67 \n",
       "  1115.8,1109.28 1117.99,1099.25 1120.17,1102.32 1122.35,1098.3 1124.54,1095.68 1126.72,1097.32 1128.91,1089.77 1131.09,1095.73 1133.27,1084.78 1135.46,1093.06 \n",
       "  1137.64,1080.72 1139.82,1089.12 1142.01,1077.52 1144.19,1084.11 1146.38,1075.01 1148.56,1078.5 1150.74,1072.94 1152.93,1072.77 1155.11,1071 1157.29,1067.31 \n",
       "  1159.48,1068.84 1161.66,1062.35 1163.85,1066.14 1166.03,1058 1168.21,1062.72 1170.4,1054.26 1172.58,1058.56 1174.76,1051.05 1176.95,1053.86 1179.13,1048.24 \n",
       "  1181.32,1048.89 1183.5,1045.62 1185.68,1043.92 1187.87,1042.98 1190.05,1039.16 1192.23,1040.09 1194.42,1034.76 1196.6,1036.8 1198.79,1030.77 1200.97,1033.05 \n",
       "  1203.15,1027.16 1205.34,1028.89 1207.52,1023.86 1209.7,1024.46 1211.89,1020.77 1214.07,1019.91 1216.26,1017.74 1218.44,1015.41 1220.62,1014.63 1222.81,1011.09 \n",
       "  1224.99,1011.31 1227.17,1007.01 1229.36,1007.73 1231.54,1003.19 1233.73,1003.86 1235.91,999.604 1238.09,999.764 1240.28,996.199 1242.46,995.534 1244.64,992.885 \n",
       "  1246.83,991.272 1249.01,989.57 1251.2,987.072 1253.38,986.166 1255.56,983 1257.75,982.611 1259.93,979.091 1262.11,978.88 1264.3,975.349 1266.48,974.985 \n",
       "  1268.66,971.746 1270.85,970.967 1273.03,968.235 1275.22,966.889 1277.4,964.758 1279.58,962.813 1281.77,961.255 1283.95,958.793 1286.13,957.678 1288.32,954.866 \n",
       "  1290.5,953.997 1292.69,951.047 1294.87,950.205 1297.05,947.329 1299.24,946.319 1301.42,943.689 1303.6,942.37 1305.79,940.093 1307.97,938.397 1310.16,936.503 \n",
       "  1312.34,934.44 1314.52,932.883 1316.71,930.529 1318.89,929.207 1321.07,926.682 1323.26,925.462 1325.44,922.904 1327.63,921.649 1329.81,919.185 1331.99,917.784 \n",
       "  1334.18,915.508 1336.36,913.889 1338.54,911.85 1340.73,909.988 1342.91,908.185 1345.1,906.106 1347.28,904.494 1349.46,902.258 1351.65,900.763 1353.83,898.452 \n",
       "  1356.01,896.988 1358.2,894.689 1360.38,893.173 1362.57,890.961 1364.75,889.33 1366.93,887.253 1369.12,885.474 1371.3,883.55 1373.48,881.621 1375.67,879.838 \n",
       "  1377.85,877.784 1380.04,876.105 1382.22,873.971 1384.4,872.345 1386.59,870.186 1388.77,868.558 1390.95,866.426 1393.14,864.748 1395.32,862.685 1397.5,860.924 \n",
       "  1399.69,858.954 1401.87,857.096 1404.06,855.222 1406.24,853.273 1408.42,851.48 1410.61,849.463 1412.79,847.724 1414.97,845.669 1417.16,843.95 1419.34,841.893 \n",
       "  1421.53,840.159 1423.71,838.131 1425.89,836.357 1428.08,834.379 1430.26,832.547 1432.44,830.63 1434.63,828.737 1436.81,826.879 1439,824.933 1441.18,823.12 \n",
       "  1443.36,821.138 1445.55,819.351 1447.73,817.354 1449.91,815.571 1452.1,813.58 1454.28,811.781 1456.47,809.815 1458.65,807.985 1460.83,806.054 1463.02,804.186 \n",
       "  1465.2,802.294 1467.38,800.388 1469.57,798.531 1471.75,796.595 1473.94,794.762 1476.12,792.808 1478.3,790.986 1480.49,789.029 1482.67,787.204 1484.85,785.255 \n",
       "  1487.04,783.416 1489.22,781.486 1491.41,779.625 1493.59,777.719 1495.77,775.833 1497.96,773.951 1500.14,772.043 1502.32,770.181 1504.51,768.257 1506.69,766.407 \n",
       "  1508.88,764.474 1511.06,762.628 1513.24,760.696 1515.43,758.845 1517.61,756.922 1519.79,755.059 1521.98,753.15 1524.16,751.272 1526.35,749.378 1528.53,747.485 \n",
       "  1530.71,745.606 1532.9,743.7 1535.08,741.831 1537.26,739.917 1539.45,738.054 1541.63,736.137 1543.81,734.274 1546,732.359 1548.18,730.491 1550.37,728.583 \n",
       "  1552.55,726.707 1554.73,724.809 1556.92,722.923 1559.1,721.034 1561.28,719.139 1563.47,717.259 1565.65,715.356 1567.84,713.482 1570.02,711.575 1572.2,709.703 \n",
       "  1574.39,707.796 1576.57,705.922 1578.75,704.018 1580.94,702.141 1583.12,700.242 1585.31,698.358 1587.49,696.465 1589.67,694.576 1591.86,692.689 1594.04,690.794 \n",
       "  1596.22,688.912 1598.41,687.012 1600.59,685.133 1602.78,683.233 1604.96,681.354 1607.14,679.454 1609.33,677.573 1611.51,675.676 1613.69,673.792 1615.88,671.898 \n",
       "  1618.06,670.011 1620.25,668.121 1622.43,666.229 1624.61,664.343 1626.8,662.449 1628.98,660.565 1631.16,658.668 1633.35,656.785 1635.53,654.889 1637.72,653.006 \n",
       "  1639.9,651.11 1642.08,649.225 1644.27,647.332 1646.45,645.445 1648.63,643.553 1650.82,641.664 1653,639.775 1655.19,637.884 1657.37,635.997 1659.55,634.103 \n",
       "  1661.74,632.218 1663.92,630.324 1666.1,628.438 1668.29,626.544 1670.47,624.659 1672.65,622.765 1674.84,620.879 1677.02,618.987 1679.21,617.098 1681.39,615.208 \n",
       "  1683.57,613.318 1685.76,611.429 1687.94,609.538 1690.12,607.65 1692.31,605.758 1694.49,603.871 1696.68,601.979 1698.86,600.092 1701.04,598.199 1703.23,596.312 \n",
       "  1705.41,594.42 1707.59,592.532 1709.78,590.641 1711.96,588.752 1714.15,586.863 1716.33,584.972 1718.51,583.083 1720.7,581.192 1722.88,579.304 1725.06,577.413 \n",
       "  1727.25,575.525 1729.43,573.633 1731.62,571.745 1733.8,569.854 1735.98,567.966 1738.17,566.075 1740.35,564.186 1742.53,562.296 1744.72,560.406 1746.9,558.517 \n",
       "  1749.09,556.627 1751.27,554.738 1753.45,552.847 1755.64,550.958 1757.82,549.067 1760,547.179 1762.19,545.288 1764.37,543.399 1766.56,541.509 1768.74,539.62 \n",
       "  1770.92,537.729 1773.11,535.84 1775.29,533.95 1777.47,532.06 1779.66,530.171 1781.84,528.281 1784.03,526.392 1786.21,524.501 1788.39,522.612 1790.58,520.722 \n",
       "  1792.76,518.833 1794.94,516.942 1797.13,515.053 1799.31,513.163 1801.5,511.274 1803.68,509.384 1805.86,507.494 1808.05,505.604 1810.23,503.715 1812.41,501.825 \n",
       "  1814.6,499.935 1816.78,498.046 1818.96,496.156 1821.15,494.266 1823.33,492.376 1825.52,490.487 1827.7,488.597 1829.88,486.707 1832.07,484.817 1834.25,482.928 \n",
       "  1836.43,481.038 1838.62,479.148 1840.8,477.259 1842.99,475.369 1845.17,473.479 1847.35,471.589 1849.54,469.7 1851.72,467.81 1853.9,465.92 1856.09,464.03 \n",
       "  1858.27,462.141 1860.46,460.251 1862.64,458.361 1864.82,456.472 1867.01,454.582 1869.19,452.692 1871.37,450.803 1873.56,448.913 1875.74,447.023 1877.93,445.133 \n",
       "  1880.11,443.244 1882.29,441.354 1884.48,439.464 1886.66,437.575 1888.84,435.685 1891.03,433.795 1893.21,431.905 1895.4,430.016 1897.58,428.126 1899.76,426.236 \n",
       "  1901.95,424.346 1904.13,422.457 1906.31,420.567 1908.5,418.677 1910.68,416.788 1912.87,414.898 1915.05,413.008 1917.23,411.118 1919.42,409.229 1921.6,407.339 \n",
       "  1923.78,405.449 1925.97,403.56 1928.15,401.67 1930.34,399.78 1932.52,397.89 1934.7,396.001 1936.89,394.111 1939.07,392.221 1941.25,390.331 1943.44,388.442 \n",
       "  1945.62,386.552 1947.8,384.662 1949.99,382.773 1952.17,380.883 1954.36,378.993 1956.54,377.104 1958.72,375.214 1960.91,373.324 1963.09,371.434 1965.27,369.545 \n",
       "  1967.46,367.655 1969.64,365.765 1971.83,363.875 1974.01,361.986 1976.19,360.096 1978.38,358.206 1980.56,356.317 1982.74,354.427 1984.93,352.537 1987.11,350.647 \n",
       "  1989.3,348.758 1991.48,346.868 1993.66,344.978 1995.85,343.089 1998.03,341.199 2000.21,339.309 2002.4,337.419 2004.58,335.53 2006.77,333.64 2008.95,331.75 \n",
       "  2011.13,329.86 2013.32,327.971 2015.5,326.081 2017.68,324.191 2019.87,322.302 2022.05,320.412 2024.24,318.522 2026.42,316.632 2028.6,314.743 2030.79,312.853 \n",
       "  2032.97,310.963 2035.15,309.074 2037.34,307.184 2039.52,305.294 2041.71,303.404 2043.89,301.515 2046.07,299.625 2048.26,297.735 2050.44,295.846 2052.62,293.956 \n",
       "  2054.81,292.066 2056.99,290.176 2059.18,288.287 2061.36,286.397 2063.54,284.507 2065.73,282.618 2067.91,280.728 2070.09,278.838 2072.28,276.948 2074.46,275.059 \n",
       "  2076.65,273.169 2078.83,271.279 2081.01,269.389 2083.2,267.5 2085.38,265.61 2087.56,263.72 2089.75,261.831 2091.93,259.941 2094.11,258.051 2096.3,256.161 \n",
       "  2098.48,254.272 2100.67,252.382 2102.85,250.492 2105.03,248.603 2107.22,246.713 2109.4,244.823 2111.58,242.933 2113.77,241.044 2115.95,239.154 2118.14,237.264 \n",
       "  2120.32,235.375 2122.5,233.485 2124.69,231.595 2126.87,229.705 2129.05,227.816 2131.24,225.926 2133.42,224.036 2135.61,222.146 2137.79,220.257 2139.97,218.367 \n",
       "  2142.16,216.477 2144.34,214.588 2146.52,212.698 2148.71,210.808 2150.89,208.918 2153.08,207.029 2155.26,205.139 2157.44,203.249 2159.63,201.36 2161.81,199.47 \n",
       "  2163.99,197.58 2166.18,195.69 2168.36,193.801 2170.55,191.911 2172.73,190.021 2174.91,188.132 2177.1,186.242 2179.28,184.352 2181.46,182.462 2183.65,180.573 \n",
       "  2185.83,178.683 2188.02,176.793 2190.2,174.903 2192.38,173.014 2194.57,171.124 2196.75,169.234 2198.93,167.345 2201.12,165.455 2203.3,163.565 2205.49,161.675 \n",
       "  2207.67,159.786 2209.85,157.896 2212.04,156.006 2214.22,154.117 2216.4,152.227 2218.59,150.337 2220.77,148.447 2222.95,146.558 2225.14,144.668 2227.32,142.778 \n",
       "  2229.51,140.889 2231.69,138.999 2233.87,137.109 2236.06,135.219 2238.24,133.33 2240.42,131.44 2242.61,129.55 2244.79,127.661 2246.98,125.771 2249.16,123.881 \n",
       "  2251.34,121.991 2253.53,120.102 2255.71,118.212 2257.89,116.322 2260.08,114.432 2262.26,112.543 2264.45,110.653 2266.63,108.763 2268.81,106.874 2271,104.984 \n",
       "  2273.18,103.094 2275.36,101.204 2277.55,99.3147 2279.73,97.425 2281.92,95.5353 2284.1,93.6456 2286.28,91.7558 2288.47,89.8661 2290.65,87.9764 \n",
       "  \"/>\n",
       "<polyline clip-path=\"url(#clip723)\" style=\"stroke:#e26f46; stroke-linecap:butt; stroke-linejoin:round; stroke-width:4; stroke-opacity:1; fill:none\" points=\"\n",
       "  220.474,1421.27 222.658,1381.9 224.842,1359.4 227.026,1343.82 229.209,1332.02 231.393,1322.61 233.577,1314.85 235.76,1308.29 237.944,1302.65 240.128,1297.73 \n",
       "  242.312,1293.4 244.495,1289.53 246.679,1286.08 248.863,1282.96 251.047,1280.14 253.23,1277.56 255.414,1275.22 257.598,1273.06 259.781,1271.08 261.965,1269.26 \n",
       "  264.149,1267.57 266.333,1266.01 268.516,1264.56 270.7,1263.22 272.884,1261.96 275.068,1260.8 277.251,1259.71 279.435,1258.7 281.619,1257.75 283.803,1256.87 \n",
       "  285.986,1256.04 288.17,1255.26 290.354,1254.53 292.537,1253.85 294.721,1253.22 296.905,1252.61 299.089,1252.06 301.272,1251.52 303.456,1251.04 305.64,1250.56 \n",
       "  307.824,1250.14 310.007,1249.72 312.191,1249.34 314.375,1248.98 316.558,1248.64 318.742,1248.33 320.926,1248.02 323.11,1247.75 325.293,1247.48 327.477,1247.25 \n",
       "  329.661,1247.01 331.845,1246.8 334.028,1246.59 336.212,1246.41 338.396,1246.22 340.58,1246.07 342.763,1245.91 344.947,1245.77 347.131,1245.63 349.314,1245.51 \n",
       "  351.498,1245.4 353.682,1245.28 355.866,1245.19 358.049,1245.08 360.233,1245.01 362.417,1244.91 364.601,1244.86 366.784,1244.77 368.968,1244.72 371.152,1244.65 \n",
       "  373.335,1244.61 375.519,1244.55 377.703,1244.51 379.887,1244.47 382.07,1244.42 384.254,1244.4 386.438,1244.35 388.622,1244.34 390.805,1244.29 392.989,1244.3 \n",
       "  395.173,1244.25 397.356,1244.26 399.54,1244.21 401.724,1244.22 403.908,1244.19 406.091,1244.19 408.275,1244.18 410.459,1244.17 412.643,1244.17 414.826,1244.15 \n",
       "  417.01,1244.17 419.194,1244.13 421.378,1244.17 423.561,1244.13 425.745,1244.17 427.929,1244.13 430.112,1244.17 432.296,1244.14 434.48,1244.17 436.664,1244.15 \n",
       "  438.847,1244.17 441.031,1244.17 443.215,1244.16 445.399,1244.19 447.582,1244.16 449.766,1244.22 451.95,1244.16 454.133,1244.23 456.317,1244.16 458.501,1244.25 \n",
       "  460.685,1244.18 462.868,1244.25 465.052,1244.2 467.236,1244.25 469.42,1244.23 471.603,1244.24 473.787,1244.27 475.971,1244.23 478.155,1244.3 480.338,1244.22 \n",
       "  482.522,1244.33 484.706,1244.22 486.889,1244.35 489.073,1244.23 491.257,1244.36 493.441,1244.25 495.624,1244.35 497.808,1244.29 499.992,1244.33 502.176,1244.33 \n",
       "  504.359,1244.31 506.543,1244.37 508.727,1244.29 510.91,1244.41 513.094,1244.27 515.278,1244.44 517.462,1244.26 519.645,1244.46 521.829,1244.28 524.013,1244.45 \n",
       "  526.197,1244.31 528.38,1244.43 530.564,1244.35 532.748,1244.39 534.932,1244.41 537.115,1244.34 539.299,1244.47 541.483,1244.3 543.666,1244.52 545.85,1244.27 \n",
       "  548.034,1244.55 550.218,1244.26 552.401,1244.56 554.585,1244.28 556.769,1244.53 558.953,1244.33 561.136,1244.47 563.32,1244.41 565.504,1244.4 567.687,1244.5 \n",
       "  569.871,1244.31 572.055,1244.58 574.239,1244.24 576.422,1244.65 578.606,1244.2 580.79,1244.67 582.974,1244.2 585.157,1244.66 587.341,1244.25 589.525,1244.59 \n",
       "  591.708,1244.35 593.892,1244.48 596.076,1244.47 598.26,1244.35 600.443,1244.61 602.627,1244.22 604.811,1244.73 606.995,1244.12 609.178,1244.81 611.362,1244.08 \n",
       "  613.546,1244.82 615.73,1244.1 617.913,1244.76 620.097,1244.21 622.281,1244.62 624.464,1244.38 626.648,1244.43 628.832,1244.59 631.016,1244.22 633.199,1244.8 \n",
       "  635.383,1244.03 637.567,1244.97 639.751,1243.9 641.934,1245.05 644.118,1243.87 646.302,1245.02 648.485,1243.96 650.669,1244.87 652.853,1244.16 655.037,1244.61 \n",
       "  657.22,1244.46 659.404,1244.28 661.588,1244.8 663.772,1243.95 665.955,1245.12 668.139,1243.69 670.323,1245.34 672.507,1243.54 674.69,1245.41 676.874,1243.57 \n",
       "  679.058,1245.28 681.241,1243.78 683.425,1244.96 685.609,1244.16 687.793,1244.5 689.976,1244.67 692.16,1243.97 694.344,1245.2 696.528,1243.48 698.711,1245.66 \n",
       "  700.895,1243.13 703.079,1245.93 705.262,1243 707.446,1245.92 709.63,1243.15 711.814,1245.59 713.997,1243.59 716.181,1244.98 718.365,1244.27 720.549,1244.19 \n",
       "  722.732,1245.11 724.916,1243.36 727.1,1245.94 729.283,1242.66 731.467,1246.58 733.651,1242.24 735.835,1246.85 738.018,1242.2 740.202,1246.63 742.386,1242.61 \n",
       "  744.57,1245.9 746.753,1243.45 748.937,1244.79 751.121,1244.64 753.305,1243.49 755.488,1246 757.672,1242.25 759.856,1247.26 762.039,1241.32 764.223,1248.1 \n",
       "  766.407,1240.89 768.591,1248.24 770.774,1241.08 772.958,1247.53 775.142,1241.96 777.326,1246.06 779.509,1243.48 781.693,1244.12 783.877,1245.5 786.06,1242.09 \n",
       "  788.244,1247.69 790.428,1240.34 792.612,1249.57 794.795,1239.2 796.979,1250.57 799.163,1238.9 801.347,1250.22 803.53,1239.56 805.714,1248.47 807.898,1241.27 \n",
       "  810.082,1245.69 812.265,1243.93 814.449,1242.5 816.633,1247.32 818.816,1239.51 821,1250.85 823.184,1237.24 825.368,1253.61 827.551,1236.01 829.735,1254.47 \n",
       "  831.919,1236.07 834.103,1252.8 836.286,1237.59 838.47,1248.96 840.654,1240.63 842.837,1244.04 845.021,1245.18 847.205,1239.18 849.389,1250.9 851.572,1235.17 \n",
       "  853.756,1256.76 855.94,1232.48 858.124,1260.72 860.307,1231.41 862.491,1260.36 864.675,1232.18 866.858,1255.3 869.042,1235.02 871.226,1247.67 873.41,1240.16 \n",
       "  875.593,1239.86 877.777,1247.81 879.961,1233.24 882.145,1257.81 884.328,1228.4 886.512,1268.34 888.696,1225.6 890.88,1273.58 893.063,1225.02 895.247,1267.74 \n",
       "  897.431,1226.87 899.614,1255.07 901.798,1231.53 903.982,1242.2 906.166,1239.65 908.349,1231.65 910.533,1252.33 912.717,1223.85 914.901,1271.19 917.084,1218.74 \n",
       "  919.268,1294.66 921.452,1216.24 923.635,1295.61 925.819,1216.41 928.003,1269.5 930.187,1219.53 932.37,1246.63 934.554,1226.2 936.738,1230.2 938.922,1237.69 \n",
       "  941.105,1218.61 943.289,1256.99 945.473,1210.74 947.657,1293.62 949.84,1205.99 952.024,1445.72 954.208,1204.09 956.391,1292.62 958.575,1205.05 960.759,1250.82 \n",
       "  962.943,1209.16 965.126,1227.27 967.31,1217.05 969.494,1211.77 971.678,1230 973.861,1201.19 976.045,1250.22 978.229,1194.21 980.412,1276.88 982.596,1190.21 \n",
       "  984.78,1273.95 986.964,1188.93 989.147,1242.93 991.331,1190.33 993.515,1218.63 995.699,1194.51 997.882,1201.46 1000.07,1201.63 1002.25,1189.21 1004.43,1211.48 \n",
       "  1006.62,1180.57 1008.8,1221.75 1010.98,1174.84 1013.17,1225.07 1015.35,1171.62 1017.54,1215.67 1019.72,1170.68 1021.9,1200.3 1024.09,1171.87 1026.27,1185.72 \n",
       "  1028.45,1174.97 1030.64,1173.8 1032.82,1179.45 1035.01,1164.59 1037.19,1183.94 1039.37,1157.81 1041.56,1185.87 1043.74,1153.18 1045.92,1182.67 1048.11,1150.48 \n",
       "  1050.29,1174.64 1052.48,1149.47 1054.66,1164.52 1056.84,1149.87 1059.03,1154.61 1061.21,1151.22 1063.39,1145.98 1065.58,1152.71 1067.76,1138.96 1069.95,1153.13 \n",
       "  1072.13,1133.56 1074.31,1151.26 1076.5,1129.68 1078.68,1146.62 1080.86,1127.16 1083.05,1139.9 1085.23,1125.75 1087.42,1132.33 1089.6,1125.11 1091.78,1124.93 \n",
       "  1093.97,1124.73 1096.15,1118.3 1098.33,1123.96 1100.52,1112.7 1102.7,1122.1 1104.89,1108.18 1107.07,1118.74 1109.25,1104.71 1111.44,1113.92 1113.62,1102.11 \n",
       "  1115.8,1108.14 1117.99,1100.16 1120.17,1102.02 1122.35,1098.53 1124.54,1096.09 1126.72,1096.84 1128.91,1090.67 1131.09,1094.65 1133.27,1085.94 1135.46,1091.66 \n",
       "  1137.64,1081.94 1139.82,1087.76 1142.01,1078.6 1144.19,1083.09 1146.38,1075.8 1148.56,1077.97 1150.74,1073.33 1152.93,1072.74 1155.11,1070.93 1157.29,1067.68 \n",
       "  1159.48,1068.36 1161.66,1063 1163.85,1065.37 1166.03,1058.78 1168.21,1061.84 1170.4,1055.03 1172.58,1057.79 1174.76,1051.69 1176.95,1053.33 1179.13,1048.65 \n",
       "  1181.32,1048.66 1183.5,1045.74 1185.68,1043.99 1187.87,1042.81 1190.05,1039.48 1192.23,1039.69 1194.42,1035.22 1196.6,1036.27 1198.79,1031.28 1200.97,1032.52 \n",
       "  1203.15,1027.63 1205.34,1028.46 1207.52,1024.22 1209.7,1024.19 1211.89,1020.96 1214.07,1019.84 1216.26,1017.74 1218.44,1015.52 1220.62,1014.46 1222.81,1011.33 \n",
       "  1224.99,1011.02 1227.17,1007.32 1229.36,1007.39 1231.54,1003.51 1233.73,1003.54 1235.91,999.879 1238.09,999.528 1240.28,996.382 1242.46,995.412 1244.64,992.954 \n",
       "  1246.83,991.271 1249.01,989.522 1251.2,987.175 1253.38,986.023 1255.56,983.175 1257.75,982.411 1259.93,979.298 1262.11,978.668 1264.3,975.547 1266.48,974.801 \n",
       "  1268.66,971.9 1270.85,970.844 1273.03,968.323 1275.22,966.841 1277.4,964.771 1279.58,962.839 1281.77,961.199 1283.95,958.879 1286.13,957.57 1288.32,954.989 \n",
       "  1290.5,953.864 1292.69,951.179 1294.87,950.076 1297.05,947.446 1299.24,946.216 1301.42,943.771 1303.6,942.31 1305.79,940.13 1307.97,938.386 1310.16,936.493 \n",
       "  1312.34,934.473 1314.52,932.833 1316.71,930.595 1318.89,929.13 1321.07,926.764 1323.26,925.376 1325.44,922.986 1327.63,921.572 1329.81,919.252 1331.99,917.729 \n",
       "  1334.18,915.549 1336.36,913.862 1338.54,911.861 1340.73,909.992 1342.91,908.167 1345.1,906.135 1347.28,904.454 1349.46,902.304 1351.65,900.711 1353.83,898.506 \n",
       "  1356.01,896.935 1358.2,894.739 1360.38,893.129 1362.57,890.997 1364.75,889.302 1366.93,887.271 1369.12,885.465 1371.3,883.55 1373.48,881.63 1375.67,879.821 \n",
       "  1377.85,877.807 1380.04,876.076 1382.22,874.003 1384.4,872.311 1386.59,870.219 1388.77,868.526 1390.95,866.455 1393.14,864.724 1395.32,862.704 1397.5,860.911 \n",
       "  1399.69,858.961 1401.87,857.095 1404.06,855.217 1406.24,853.283 1408.42,851.466 1410.61,849.48 1412.79,847.704 1414.97,845.69 1417.16,843.928 1419.34,841.913 \n",
       "  1421.53,840.141 1423.71,838.147 1425.89,836.344 1428.08,834.388 1430.26,832.542 1432.44,830.632 1434.63,828.74 1436.81,826.873 1439,824.941 1441.18,823.11 \n",
       "  1443.36,821.15 1445.55,819.338 1447.73,817.367 1449.91,815.558 1452.1,813.592 1454.28,811.77 1456.47,809.823 1458.65,807.978 1460.83,806.058 1463.02,804.184 \n",
       "  1465.2,802.293 1467.38,800.391 1469.57,798.526 1471.75,796.601 1473.94,794.754 1476.12,792.817 1478.3,790.978 1480.49,789.037 1482.67,787.196 1484.85,785.262 \n",
       "  1487.04,783.41 1489.22,781.49 1491.41,779.622 1493.59,777.72 1495.77,775.833 1497.96,773.95 1500.14,772.046 1502.32,770.177 1504.51,768.261 1506.69,766.401 \n",
       "  1508.88,764.48 1511.06,762.622 1513.24,760.701 1515.43,758.84 1517.61,756.926 1519.79,755.056 1521.98,753.152 1524.16,751.271 1526.35,749.378 1528.53,747.486 \n",
       "  1530.71,745.604 1532.9,743.702 1535.08,741.828 1537.26,739.92 1539.45,738.05 1541.63,736.14 1543.81,734.27 1546,732.362 1548.18,730.488 1550.37,728.585 \n",
       "  1552.55,726.706 1554.73,724.809 1556.92,722.922 1559.1,721.034 1561.28,719.14 1563.47,717.257 1565.65,715.358 1567.84,713.48 1570.02,711.577 1572.2,709.701 \n",
       "  1574.39,707.798 1576.57,705.92 1578.75,704.02 1580.94,702.139 1583.12,700.243 1585.31,698.357 1587.49,696.465 1589.67,694.576 1591.86,692.688 1594.04,690.794 \n",
       "  1596.22,688.91 1598.41,687.014 1600.59,685.132 1602.78,683.234 1604.96,681.352 1607.14,679.455 1609.33,677.572 1611.51,675.676 1613.69,673.791 1615.88,671.898 \n",
       "  1618.06,670.01 1620.25,668.12 1622.43,666.23 1624.61,664.342 1626.8,662.449 1628.98,660.564 1631.16,658.669 1633.35,656.784 1635.53,654.89 1637.72,653.005 \n",
       "  1639.9,651.111 1642.08,649.225 1644.27,647.332 1646.45,645.444 1648.63,643.553 1650.82,641.664 1653,639.775 1655.19,637.884 1657.37,635.996 1659.55,634.104 \n",
       "  1661.74,632.217 1663.92,630.324 1666.1,628.438 1668.29,626.545 1670.47,624.658 1672.65,622.766 1674.84,620.878 1677.02,618.987 1679.21,617.098 1681.39,615.208 \n",
       "  1683.57,613.318 1685.76,611.429 1687.94,609.538 1690.12,607.65 1692.31,605.758 1694.49,603.871 1696.68,601.979 1698.86,600.091 1701.04,598.2 1703.23,596.312 \n",
       "  1705.41,594.421 1707.59,592.532 1709.78,590.641 1711.96,588.752 1714.15,586.862 1716.33,584.972 1718.51,583.083 1720.7,581.193 1722.88,579.304 1725.06,577.413 \n",
       "  1727.25,575.525 1729.43,573.634 1731.62,571.745 1733.8,569.854 1735.98,567.965 1738.17,566.075 1740.35,564.186 1742.53,562.296 1744.72,560.406 1746.9,558.517 \n",
       "  1749.09,556.626 1751.27,554.737 1753.45,552.847 1755.64,550.958 1757.82,549.067 1760,547.179 1762.19,545.288 1764.37,543.399 1766.56,541.509 1768.74,539.619 \n",
       "  1770.92,537.729 1773.11,535.84 1775.29,533.95 1777.47,532.06 1779.66,530.171 1781.84,528.281 1784.03,526.391 1786.21,524.501 1788.39,522.612 1790.58,520.722 \n",
       "  1792.76,518.833 1794.94,516.942 1797.13,515.053 1799.31,513.163 1801.5,511.274 1803.68,509.384 1805.86,507.494 1808.05,505.604 1810.23,503.714 1812.41,501.825 \n",
       "  1814.6,499.935 1816.78,498.046 1818.96,496.156 1821.15,494.266 1823.33,492.376 1825.52,490.487 1827.7,488.597 1829.88,486.707 1832.07,484.817 1834.25,482.928 \n",
       "  1836.43,481.038 1838.62,479.148 1840.8,477.259 1842.99,475.369 1845.17,473.479 1847.35,471.589 1849.54,469.7 1851.72,467.81 1853.9,465.92 1856.09,464.03 \n",
       "  1858.27,462.141 1860.46,460.251 1862.64,458.361 1864.82,456.472 1867.01,454.582 1869.19,452.692 1871.37,450.802 1873.56,448.913 1875.74,447.023 1877.93,445.133 \n",
       "  1880.11,443.243 1882.29,441.354 1884.48,439.464 1886.66,437.574 1888.84,435.685 1891.03,433.795 1893.21,431.905 1895.4,430.016 1897.58,428.126 1899.76,426.236 \n",
       "  1901.95,424.346 1904.13,422.457 1906.31,420.567 1908.5,418.677 1910.68,416.788 1912.87,414.898 1915.05,413.008 1917.23,411.118 1919.42,409.229 1921.6,407.339 \n",
       "  1923.78,405.449 1925.97,403.559 1928.15,401.67 1930.34,399.78 1932.52,397.89 1934.7,396.001 1936.89,394.111 1939.07,392.221 1941.25,390.331 1943.44,388.442 \n",
       "  1945.62,386.552 1947.8,384.662 1949.99,382.773 1952.17,380.883 1954.36,378.993 1956.54,377.103 1958.72,375.214 1960.91,373.324 1963.09,371.434 1965.27,369.544 \n",
       "  1967.46,367.655 1969.64,365.765 1971.83,363.875 1974.01,361.986 1976.19,360.096 1978.38,358.206 1980.56,356.316 1982.74,354.427 1984.93,352.537 1987.11,350.647 \n",
       "  1989.3,348.758 1991.48,346.868 1993.66,344.978 1995.85,343.088 1998.03,341.199 2000.21,339.309 2002.4,337.419 2004.58,335.53 2006.77,333.64 2008.95,331.75 \n",
       "  2011.13,329.86 2013.32,327.971 2015.5,326.081 2017.68,324.191 2019.87,322.301 2022.05,320.412 2024.24,318.522 2026.42,316.632 2028.6,314.743 2030.79,312.853 \n",
       "  2032.97,310.963 2035.15,309.073 2037.34,307.184 2039.52,305.294 2041.71,303.404 2043.89,301.515 2046.07,299.625 2048.26,297.735 2050.44,295.845 2052.62,293.956 \n",
       "  2054.81,292.066 2056.99,290.176 2059.18,288.287 2061.36,286.397 2063.54,284.507 2065.73,282.617 2067.91,280.728 2070.09,278.838 2072.28,276.948 2074.46,275.059 \n",
       "  2076.65,273.169 2078.83,271.279 2081.01,269.389 2083.2,267.5 2085.38,265.61 2087.56,263.72 2089.75,261.83 2091.93,259.941 2094.11,258.051 2096.3,256.161 \n",
       "  2098.48,254.272 2100.67,252.382 2102.85,250.492 2105.03,248.602 2107.22,246.713 2109.4,244.823 2111.58,242.933 2113.77,241.044 2115.95,239.154 2118.14,237.264 \n",
       "  2120.32,235.374 2122.5,233.485 2124.69,231.595 2126.87,229.705 2129.05,227.816 2131.24,225.926 2133.42,224.036 2135.61,222.146 2137.79,220.257 2139.97,218.367 \n",
       "  2142.16,216.477 2144.34,214.587 2146.52,212.698 2148.71,210.808 2150.89,208.918 2153.08,207.029 2155.26,205.139 2157.44,203.249 2159.63,201.359 2161.81,199.47 \n",
       "  2163.99,197.58 2166.18,195.69 2168.36,193.801 2170.55,191.911 2172.73,190.021 2174.91,188.131 2177.1,186.242 2179.28,184.352 2181.46,182.462 2183.65,180.573 \n",
       "  2185.83,178.683 2188.02,176.793 2190.2,174.903 2192.38,173.014 2194.57,171.124 2196.75,169.234 2198.93,167.344 2201.12,165.455 2203.3,163.565 2205.49,161.675 \n",
       "  2207.67,159.786 2209.85,157.896 2212.04,156.006 2214.22,154.116 2216.4,152.227 2218.59,150.337 2220.77,148.447 2222.95,146.558 2225.14,144.668 2227.32,142.778 \n",
       "  2229.51,140.888 2231.69,138.999 2233.87,137.109 2236.06,135.219 2238.24,133.33 2240.42,131.44 2242.61,129.55 2244.79,127.66 2246.98,125.771 2249.16,123.881 \n",
       "  2251.34,121.991 2253.53,120.102 2255.71,118.212 2257.89,116.322 2260.08,114.432 2262.26,112.543 2264.45,110.653 2266.63,108.763 2268.81,106.873 2271,104.984 \n",
       "  2273.18,103.094 2275.36,101.204 2277.55,99.3146 2279.73,97.4249 2281.92,95.5352 2284.1,93.6454 2286.28,91.7557 2288.47,89.866 2290.65,87.9763 \n",
       "  \"/>\n",
       "<path clip-path=\"url(#clip720)\" d=\"\n",
       "M1919.86 250.738 L2279.61 250.738 L2279.61 95.2176 L1919.86 95.2176  Z\n",
       "  \" fill=\"#ffffff\" fill-rule=\"evenodd\" fill-opacity=\"1\"/>\n",
       "<polyline clip-path=\"url(#clip720)\" style=\"stroke:#000000; stroke-linecap:butt; stroke-linejoin:round; stroke-width:4; stroke-opacity:1; fill:none\" points=\"\n",
       "  1919.86,250.738 2279.61,250.738 2279.61,95.2176 1919.86,95.2176 1919.86,250.738 \n",
       "  \"/>\n",
       "<polyline clip-path=\"url(#clip720)\" style=\"stroke:#009af9; stroke-linecap:butt; stroke-linejoin:round; stroke-width:4; stroke-opacity:1; fill:none\" points=\"\n",
       "  1944.24,147.058 2090.54,147.058 \n",
       "  \"/>\n",
       "<path clip-path=\"url(#clip720)\" d=\"M2136.89 152.474 Q2136.26 155.495 2135.44 157.229 Q2134.12 159.875 2131.9 159.875 Q2130.21 159.875 2129.02 158.845 Q2127.82 157.814 2127.54 156.268 Q2124.47 159.875 2121.29 159.875 Q2118.48 159.875 2116.7 157.744 Q2114.92 155.589 2114.92 152.193 Q2114.92 148.773 2116.6 145.494 Q2118.31 142.215 2121.01 140.177 Q2123.7 138.139 2126.46 138.139 Q2129.39 138.139 2130.89 141.208 Q2131.01 140.365 2131.55 139.732 Q2132.09 139.1 2132.91 139.1 Q2133.54 139.1 2133.91 139.451 Q2134.29 139.779 2134.29 140.388 Q2134.29 140.692 2133.96 142.028 L2132.23 148.726 L2131.17 153.06 Q2130.77 154.652 2130.66 155.238 Q2130.56 155.823 2130.56 156.596 Q2130.56 158.798 2131.99 158.798 Q2132.7 158.798 2133.26 158.353 Q2133.82 157.908 2134.26 156.971 Q2134.71 156.034 2134.99 155.168 Q2135.27 154.277 2135.65 152.872 Q2135.76 152.31 2135.86 152.169 Q2135.97 152.006 2136.3 152.006 Q2136.89 152.006 2136.89 152.474 M2130.31 143.409 Q2130.31 143.199 2130.14 142.613 Q2129.98 142.028 2129.6 141.208 Q2129.23 140.388 2128.41 139.802 Q2127.61 139.193 2126.54 139.193 Q2125.08 139.193 2123.56 140.435 Q2122.06 141.676 2120.96 143.784 Q2120.12 145.471 2119.2 149.007 Q2118.31 152.544 2118.31 154.301 Q2118.31 155.378 2118.55 156.339 Q2118.81 157.276 2119.53 158.049 Q2120.26 158.798 2121.38 158.798 Q2124.12 158.798 2126.82 155.402 Q2127.33 154.816 2127.45 154.582 Q2127.59 154.324 2127.78 153.622 L2130.17 144.229 Q2130.31 143.527 2130.31 143.409 Z\" fill=\"#000000\" fill-rule=\"evenodd\" fill-opacity=\"1\" /><path clip-path=\"url(#clip720)\" d=\"M2164.88 152.474 Q2164.88 152.661 2164.67 153.387 Q2164.46 154.114 2163.95 155.238 Q2163.45 156.362 2162.77 157.393 Q2162.1 158.4 2160.97 159.149 Q2159.87 159.875 2158.61 159.875 Q2156.92 159.875 2155.8 158.751 Q2154.67 157.627 2154.67 155.94 Q2154.67 155.004 2155.16 153.715 Q2158.28 145.4 2158.28 142.543 Q2158.28 139.193 2155.68 139.193 Q2154.39 139.193 2153.17 139.685 Q2151.98 140.154 2151.16 140.81 Q2150.34 141.465 2149.59 142.379 Q2148.86 143.269 2148.49 143.878 Q2148.14 144.463 2147.85 145.049 L2147.25 147.438 Q2147.11 148.094 2146.43 150.647 L2145.37 154.98 Q2144.62 158.212 2144.46 158.517 Q2144.22 159.173 2143.71 159.524 Q2143.19 159.875 2142.68 159.875 Q2142.09 159.875 2141.69 159.524 Q2141.3 159.173 2141.3 158.564 Q2141.3 158.47 2141.37 158.119 Q2141.44 157.767 2141.55 157.276 Q2141.67 156.784 2141.72 156.503 L2144.51 145.424 Q2145.02 143.409 2145.14 142.777 Q2145.28 142.121 2145.28 141.395 Q2145.28 139.193 2143.78 139.193 Q2142.56 139.193 2141.77 140.646 Q2140.97 142.098 2140.29 144.909 Q2140.08 145.681 2139.94 145.845 Q2139.82 146.009 2139.47 146.009 Q2138.88 145.986 2138.88 145.517 Q2138.88 145.4 2139.07 144.627 Q2139.26 143.855 2139.61 142.754 Q2139.98 141.629 2140.34 140.88 Q2140.64 140.318 2140.8 140.06 Q2140.99 139.779 2141.44 139.24 Q2141.91 138.678 2142.51 138.42 Q2143.15 138.139 2143.92 138.139 Q2145.65 138.139 2146.92 139.264 Q2148.18 140.365 2148.35 142.309 Q2151.46 138.139 2155.82 138.139 Q2158.39 138.139 2159.87 139.498 Q2161.35 140.856 2161.35 143.269 Q2161.35 143.831 2161.23 144.557 Q2161.14 145.26 2160.9 146.15 Q2160.69 147.04 2160.5 147.719 Q2160.32 148.398 2159.94 149.499 Q2159.57 150.577 2159.4 151.045 Q2159.24 151.514 2158.84 152.614 Q2158.47 153.692 2158.42 153.809 Q2157.55 155.987 2157.55 157.229 Q2157.55 158.049 2157.81 158.423 Q2158.09 158.798 2158.7 158.798 Q2160.34 158.798 2161.56 157.182 Q2162.8 155.542 2163.59 152.872 Q2163.78 152.287 2163.88 152.146 Q2163.99 152.006 2164.32 152.006 Q2164.88 152.006 2164.88 152.474 Z\" fill=\"#000000\" fill-rule=\"evenodd\" fill-opacity=\"1\" /><path clip-path=\"url(#clip720)\" d=\"M2190.49 152.474 Q2189.86 155.495 2189.04 157.229 Q2187.72 159.875 2185.5 159.875 Q2183.81 159.875 2182.62 158.845 Q2181.42 157.814 2181.14 156.268 Q2178.07 159.875 2174.89 159.875 Q2172.08 159.875 2170.3 157.744 Q2168.52 155.589 2168.52 152.193 Q2168.52 148.773 2170.2 145.494 Q2171.91 142.215 2174.61 140.177 Q2177.3 138.139 2180.06 138.139 Q2182.99 138.139 2184.49 141.208 Q2184.61 140.365 2185.15 139.732 Q2185.69 139.1 2186.51 139.1 Q2187.14 139.1 2187.51 139.451 Q2187.89 139.779 2187.89 140.388 Q2187.89 140.692 2187.56 142.028 L2185.83 148.726 L2184.77 153.06 Q2184.37 154.652 2184.26 155.238 Q2184.16 155.823 2184.16 156.596 Q2184.16 158.798 2185.59 158.798 Q2186.3 158.798 2186.86 158.353 Q2187.42 157.908 2187.86 156.971 Q2188.31 156.034 2188.59 155.168 Q2188.87 154.277 2189.25 152.872 Q2189.36 152.31 2189.46 152.169 Q2189.57 152.006 2189.9 152.006 Q2190.49 152.006 2190.49 152.474 M2183.91 143.409 Q2183.91 143.199 2183.74 142.613 Q2183.58 142.028 2183.2 141.208 Q2182.83 140.388 2182.01 139.802 Q2181.21 139.193 2180.14 139.193 Q2178.68 139.193 2177.16 140.435 Q2175.66 141.676 2174.56 143.784 Q2173.72 145.471 2172.8 149.007 Q2171.91 152.544 2171.91 154.301 Q2171.91 155.378 2172.15 156.339 Q2172.41 157.276 2173.13 158.049 Q2173.86 158.798 2174.98 158.798 Q2177.72 158.798 2180.42 155.402 Q2180.93 154.816 2181.05 154.582 Q2181.19 154.324 2181.38 153.622 L2183.77 144.229 Q2183.91 143.527 2183.91 143.409 Z\" fill=\"#000000\" fill-rule=\"evenodd\" fill-opacity=\"1\" /><path clip-path=\"url(#clip720)\" d=\"M2228.96 145.963 Q2228.96 149.429 2227.18 152.685 Q2225.42 155.94 2222.66 157.908 Q2219.92 159.875 2217.15 159.875 Q2214.04 159.875 2212.42 156.643 Q2209.49 168.378 2209.33 168.682 Q2208.65 169.689 2207.67 169.689 Q2207.06 169.689 2206.68 169.315 Q2206.31 168.963 2206.31 168.401 Q2206.33 168.214 2206.47 167.628 L2211.16 148.773 Q2212.23 144.393 2215.49 141.278 Q2218.77 138.139 2222.28 138.139 Q2225.07 138.139 2227.01 140.224 Q2228.96 142.309 2228.96 145.963 M2225.51 143.901 Q2225.51 141.559 2224.58 140.388 Q2223.64 139.193 2222.19 139.193 Q2220.85 139.193 2219.24 140.271 Q2217.64 141.348 2216.24 143.737 Q2215.49 145.119 2214.95 146.829 Q2214.41 148.539 2213.36 152.755 Q2212.98 154.441 2212.98 154.535 Q2212.98 154.723 2213.08 155.144 Q2213.19 155.566 2213.47 156.222 Q2213.78 156.854 2214.2 157.416 Q2214.62 157.978 2215.39 158.4 Q2216.17 158.798 2217.1 158.798 Q2218.56 158.798 2220.1 157.627 Q2221.67 156.432 2222.82 154.254 Q2223.78 152.497 2224.65 149.195 Q2225.51 145.869 2225.51 143.901 Z\" fill=\"#000000\" fill-rule=\"evenodd\" fill-opacity=\"1\" /><polyline clip-path=\"url(#clip720)\" style=\"stroke:#e26f46; stroke-linecap:butt; stroke-linejoin:round; stroke-width:4; stroke-opacity:1; fill:none\" points=\"\n",
       "  1944.24,198.898 2090.54,198.898 \n",
       "  \"/>\n",
       "<path clip-path=\"url(#clip720)\" d=\"M2136.89 207.393 Q2136.26 210.415 2135.44 212.148 Q2134.12 214.795 2131.9 214.795 Q2130.21 214.795 2129.02 213.764 Q2127.82 212.734 2127.54 211.188 Q2124.47 214.795 2121.29 214.795 Q2118.48 214.795 2116.7 212.664 Q2114.92 210.509 2114.92 207.112 Q2114.92 203.693 2116.6 200.414 Q2118.31 197.134 2121.01 195.097 Q2123.7 193.059 2126.46 193.059 Q2129.39 193.059 2130.89 196.127 Q2131.01 195.284 2131.55 194.652 Q2132.09 194.019 2132.91 194.019 Q2133.54 194.019 2133.91 194.371 Q2134.29 194.699 2134.29 195.308 Q2134.29 195.612 2133.96 196.947 L2132.23 203.646 L2131.17 207.979 Q2130.77 209.572 2130.66 210.157 Q2130.56 210.743 2130.56 211.516 Q2130.56 213.718 2131.99 213.718 Q2132.7 213.718 2133.26 213.273 Q2133.82 212.828 2134.26 211.891 Q2134.71 210.954 2134.99 210.087 Q2135.27 209.197 2135.65 207.792 Q2135.76 207.23 2135.86 207.089 Q2135.97 206.925 2136.3 206.925 Q2136.89 206.925 2136.89 207.393 M2130.31 198.329 Q2130.31 198.118 2130.14 197.533 Q2129.98 196.947 2129.6 196.127 Q2129.23 195.308 2128.41 194.722 Q2127.61 194.113 2126.54 194.113 Q2125.08 194.113 2123.56 195.354 Q2122.06 196.596 2120.96 198.704 Q2120.12 200.39 2119.2 203.927 Q2118.31 207.464 2118.31 209.22 Q2118.31 210.298 2118.55 211.258 Q2118.81 212.195 2119.53 212.968 Q2120.26 213.718 2121.38 213.718 Q2124.12 213.718 2126.82 210.321 Q2127.33 209.736 2127.45 209.502 Q2127.59 209.244 2127.78 208.541 L2130.17 199.149 Q2130.31 198.446 2130.31 198.329 Z\" fill=\"#000000\" fill-rule=\"evenodd\" fill-opacity=\"1\" /><path clip-path=\"url(#clip720)\" d=\"M2164.88 207.393 Q2164.88 207.581 2164.67 208.307 Q2164.46 209.033 2163.95 210.157 Q2163.45 211.282 2162.77 212.312 Q2162.1 213.319 2160.97 214.069 Q2159.87 214.795 2158.61 214.795 Q2156.92 214.795 2155.8 213.671 Q2154.67 212.546 2154.67 210.86 Q2154.67 209.923 2155.16 208.635 Q2158.28 200.32 2158.28 197.462 Q2158.28 194.113 2155.68 194.113 Q2154.39 194.113 2153.17 194.605 Q2151.98 195.073 2151.16 195.729 Q2150.34 196.385 2149.59 197.298 Q2148.86 198.188 2148.49 198.797 Q2148.14 199.383 2147.85 199.969 L2147.25 202.358 Q2147.11 203.013 2146.43 205.567 L2145.37 209.9 Q2144.62 213.132 2144.46 213.436 Q2144.22 214.092 2143.71 214.444 Q2143.19 214.795 2142.68 214.795 Q2142.09 214.795 2141.69 214.444 Q2141.3 214.092 2141.3 213.483 Q2141.3 213.39 2141.37 213.038 Q2141.44 212.687 2141.55 212.195 Q2141.67 211.703 2141.72 211.422 L2144.51 200.343 Q2145.02 198.329 2145.14 197.697 Q2145.28 197.041 2145.28 196.315 Q2145.28 194.113 2143.78 194.113 Q2142.56 194.113 2141.77 195.565 Q2140.97 197.017 2140.29 199.828 Q2140.08 200.601 2139.94 200.765 Q2139.82 200.929 2139.47 200.929 Q2138.88 200.905 2138.88 200.437 Q2138.88 200.32 2139.07 199.547 Q2139.26 198.774 2139.61 197.673 Q2139.98 196.549 2140.34 195.799 Q2140.64 195.237 2140.8 194.98 Q2140.99 194.699 2141.44 194.16 Q2141.91 193.598 2142.51 193.34 Q2143.15 193.059 2143.92 193.059 Q2145.65 193.059 2146.92 194.183 Q2148.18 195.284 2148.35 197.228 Q2151.46 193.059 2155.82 193.059 Q2158.39 193.059 2159.87 194.417 Q2161.35 195.776 2161.35 198.188 Q2161.35 198.751 2161.23 199.477 Q2161.14 200.179 2160.9 201.069 Q2160.69 201.959 2160.5 202.639 Q2160.32 203.318 2159.94 204.419 Q2159.57 205.496 2159.4 205.965 Q2159.24 206.433 2158.84 207.534 Q2158.47 208.611 2158.42 208.729 Q2157.55 210.907 2157.55 212.148 Q2157.55 212.968 2157.81 213.343 Q2158.09 213.718 2158.7 213.718 Q2160.34 213.718 2161.56 212.101 Q2162.8 210.462 2163.59 207.792 Q2163.78 207.206 2163.88 207.066 Q2163.99 206.925 2164.32 206.925 Q2164.88 206.925 2164.88 207.393 Z\" fill=\"#000000\" fill-rule=\"evenodd\" fill-opacity=\"1\" /><path clip-path=\"url(#clip720)\" d=\"M2190.49 207.393 Q2189.86 210.415 2189.04 212.148 Q2187.72 214.795 2185.5 214.795 Q2183.81 214.795 2182.62 213.764 Q2181.42 212.734 2181.14 211.188 Q2178.07 214.795 2174.89 214.795 Q2172.08 214.795 2170.3 212.664 Q2168.52 210.509 2168.52 207.112 Q2168.52 203.693 2170.2 200.414 Q2171.91 197.134 2174.61 195.097 Q2177.3 193.059 2180.06 193.059 Q2182.99 193.059 2184.49 196.127 Q2184.61 195.284 2185.15 194.652 Q2185.69 194.019 2186.51 194.019 Q2187.14 194.019 2187.51 194.371 Q2187.89 194.699 2187.89 195.308 Q2187.89 195.612 2187.56 196.947 L2185.83 203.646 L2184.77 207.979 Q2184.37 209.572 2184.26 210.157 Q2184.16 210.743 2184.16 211.516 Q2184.16 213.718 2185.59 213.718 Q2186.3 213.718 2186.86 213.273 Q2187.42 212.828 2187.86 211.891 Q2188.31 210.954 2188.59 210.087 Q2188.87 209.197 2189.25 207.792 Q2189.36 207.23 2189.46 207.089 Q2189.57 206.925 2189.9 206.925 Q2190.49 206.925 2190.49 207.393 M2183.91 198.329 Q2183.91 198.118 2183.74 197.533 Q2183.58 196.947 2183.2 196.127 Q2182.83 195.308 2182.01 194.722 Q2181.21 194.113 2180.14 194.113 Q2178.68 194.113 2177.16 195.354 Q2175.66 196.596 2174.56 198.704 Q2173.72 200.39 2172.8 203.927 Q2171.91 207.464 2171.91 209.22 Q2171.91 210.298 2172.15 211.258 Q2172.41 212.195 2173.13 212.968 Q2173.86 213.718 2174.98 213.718 Q2177.72 213.718 2180.42 210.321 Q2180.93 209.736 2181.05 209.502 Q2181.19 209.244 2181.38 208.541 L2183.77 199.149 Q2183.91 198.446 2183.91 198.329 Z\" fill=\"#000000\" fill-rule=\"evenodd\" fill-opacity=\"1\" /><path clip-path=\"url(#clip720)\" d=\"M2227.66 187.952 L2215.55 187.952 L2215.55 186.902 L2227.66 186.902 L2227.66 187.952 Z\" fill=\"#000000\" fill-rule=\"evenodd\" fill-opacity=\"1\" /><path clip-path=\"url(#clip720)\" d=\"M2229.96 200.882 Q2229.96 204.349 2228.18 207.604 Q2226.42 210.86 2223.66 212.828 Q2220.92 214.795 2218.15 214.795 Q2215.04 214.795 2213.42 211.563 Q2210.49 223.297 2210.33 223.602 Q2209.65 224.609 2208.67 224.609 Q2208.06 224.609 2207.68 224.234 Q2207.31 223.883 2207.31 223.321 Q2207.33 223.133 2207.47 222.548 L2212.16 203.693 Q2213.23 199.313 2216.49 196.198 Q2219.77 193.059 2223.28 193.059 Q2226.07 193.059 2228.01 195.144 Q2229.96 197.228 2229.96 200.882 M2226.51 198.821 Q2226.51 196.479 2225.58 195.308 Q2224.64 194.113 2223.19 194.113 Q2221.85 194.113 2220.24 195.19 Q2218.64 196.268 2217.24 198.657 Q2216.49 200.039 2215.95 201.749 Q2215.41 203.459 2214.36 207.675 Q2213.98 209.361 2213.98 209.455 Q2213.98 209.642 2214.08 210.064 Q2214.19 210.485 2214.47 211.141 Q2214.78 211.773 2215.2 212.336 Q2215.62 212.898 2216.39 213.319 Q2217.17 213.718 2218.1 213.718 Q2219.56 213.718 2221.1 212.546 Q2222.67 211.352 2223.82 209.174 Q2224.78 207.417 2225.65 204.114 Q2226.51 200.788 2226.51 198.821 Z\" fill=\"#000000\" fill-rule=\"evenodd\" fill-opacity=\"1\" /></svg>\n"
      ]
     },
     "execution_count": 86,
     "metadata": {},
     "output_type": "execute_result"
    }
   ],
   "source": [
    "using LinearAlgebra\n",
    "using DifferentialEquations, StaticArrays\n",
    "using Plots\n",
    "using LaTeXStrings\n",
    "using Plots\n",
    "\n",
    "#parameters\n",
    "const w_0 = 0.3 #km^-1\n",
    "mu_0 = 6e5 #6e5 km^-1\n",
    "theta = 1e-2 #1e-6\n",
    "\n",
    "const gcc = 0.5/11.4 #km^-1\n",
    "const gaep = 0.5/0.417#km^-1\n",
    "const gaem = 0.5/0.417#km^-1\n",
    "PAE = SA[0.0,0.0,2.0]\n",
    "const PAEZ = PAE[3]\n",
    "const PAE0 = 4.0\n",
    "\n",
    "const bgcc = 0.5/37.2 #km^-1\n",
    "const bgaep = 0.5/4.36 #km^-1\n",
    "const bgaem = 0.5/4.36 #km^-1\n",
    "bPAE = SA[0.0,0.0,1.5]\n",
    "const bPAEZ = bPAE[3]\n",
    "const bPAE0 = 3.5\n",
    "#B= SA[-sin(2*theta),0,cos(2*theta)]\n",
    "@fastmath @inbounds wB = w_0*SA[-sin(2*theta),0,cos(2*theta)]\n",
    "tkm = 0.0:0.01:25. #time in km^-1\n",
    "t = (10/3)tkm #time in microsecond\n",
    "\n",
    "#initial P_w\n",
    "Pi = [0.0,0.0,2.0]\n",
    "const Pi0 = 4.0\n",
    "bPi = [0.0,0.0,1.5] #P_bar\n",
    "const bPi0 = 3.5\n",
    "print()\n",
    "\n",
    "#parameters\n",
    "S=3.5\n",
    "D=0.5\n",
    "\n",
    "g = gcc+gaep #gamma\n",
    "bg = bgcc+bgaep #gamma_bar\n",
    "mup = 0.5(S+D)*mu_0\n",
    "mum = 0.5(S-D)*mu_0\n",
    "A = [-w_0*cos(2*theta)-mum-1im*g mup ; -mum w_0*cos(2*theta)+mup-1im*bg]\n",
    "omegam, omegap = eigvals(A)\n",
    "rho_ini = 0.5*Pi[1]+0.5im*Pi[2] #rho_ex = Px+i Py\n",
    "brho_ini = 0.5*bPi[1]+0.5im*bPi[2] #bar{rho}_ex = bPx+i bPy\n",
    "\n",
    "#adj\n",
    "rho0,brho0 = w_0*sin(2*theta)*inv(A)*[-1; 1]\n",
    "adjrho = rho_ini-rho0\n",
    "adjbrho = brho_ini-brho0\n",
    "\n",
    "#v^-1 \\rho\n",
    "Qexp = [adjrho adjbrho]*transpose(inv(eigvecs(A)))\n",
    "Qexp_abs = broadcast(abs,Qexp)\n",
    "Omegap = mu_0*D + 1im*(-0.5*(g+bg)+0.5*S*(g-bg)/D)\n",
    "Omegam = w_0*S/D - 1im*(0.5*(g+bg)+0.5*S*(g-bg)/D)\n",
    "iomegaptf(t) = exp(1im*Omegap*t)\n",
    "iomegapt = broadcast(iomegaptf,tkm)\n",
    "iomegamtf(t) = exp(1im*Omegam*t)\n",
    "iomegamt = broadcast(iomegamtf,tkm)\n",
    "Qm = broadcast(abs,Qexp[:,1].*iomegamt)\n",
    "Qp = broadcast(abs,Qexp[:,2].*iomegapt)\n",
    "\n",
    "#plot(t, Qexp_abs, xlabel = L\"t / \\mu s\",ylabel = \"Qexp\", label = [L\"Q_-\" L\"Q_+\"])\n",
    "plot(t, Qm, xlabel = L\"t / \\mu s\", yaxis=:log, ylabel = \"Q\", label = L\"Q_-\")\n",
    "plot!(t, Qp, label = L\"Q_+\")\n",
    "\n",
    "#analytical solution\n",
    "Qma, Qpa=Qexp[1,1], Qexp[1,2]\n",
    "miomegaptf(t) = exp(-1im*Omegap*t)\n",
    "miomegapt = broadcast(miomegaptf,tkm)\n",
    "miomegamtf(t) = exp(-1im*Omegam*t)\n",
    "miomegamt = broadcast(miomegamtf,tkm)\n",
    "anasol = eigvecs(A)*transpose([Qma*miomegamt Qpa*miomegapt])\n",
    "abs_anarho = broadcast(abs,anasol[1,:].+rho0)\n",
    "abs_anabrho = broadcast(abs,anasol[2,:].+brho0)\n",
    "\n",
    "@fastmath @inbounds y = [abs_anarho abs_anabrho]::Matrix{Float64}\n",
    "plot(t[2:950], y[2:950,:], yaxis=:log, label = [L\"ana ~\\rho\" L\"ana ~\\bar{\\rho}\"])\n",
    "#savefig(\"compare.png\")"
   ]
  },
  {
   "cell_type": "code",
   "execution_count": 87,
   "id": "6d8589fc-c7be-471d-a46b-fcc8da056310",
   "metadata": {
    "tags": []
   },
   "outputs": [
    {
     "data": {
      "image/svg+xml": [
       "<?xml version=\"1.0\" encoding=\"utf-8\"?>\n",
       "<svg xmlns=\"http://www.w3.org/2000/svg\" xmlns:xlink=\"http://www.w3.org/1999/xlink\" width=\"600\" height=\"400\" viewBox=\"0 0 2400 1600\">\n",
       "<defs>\n",
       "  <clipPath id=\"clip760\">\n",
       "    <rect x=\"0\" y=\"0\" width=\"2400\" height=\"1600\"/>\n",
       "  </clipPath>\n",
       "</defs>\n",
       "<path clip-path=\"url(#clip760)\" d=\"\n",
       "M0 1600 L2400 1600 L2400 0 L0 0  Z\n",
       "  \" fill=\"#ffffff\" fill-rule=\"evenodd\" fill-opacity=\"1\"/>\n",
       "<defs>\n",
       "  <clipPath id=\"clip761\">\n",
       "    <rect x=\"480\" y=\"0\" width=\"1681\" height=\"1600\"/>\n",
       "  </clipPath>\n",
       "</defs>\n",
       "<defs>\n",
       "  <clipPath id=\"clip762\">\n",
       "    <rect x=\"158\" y=\"47\" width=\"2195\" height=\"1440\"/>\n",
       "  </clipPath>\n",
       "</defs>\n",
       "<path clip-path=\"url(#clip760)\" d=\"\n",
       "M188.292 1486.45 L2352.76 1486.45 L2352.76 47.2441 L188.292 47.2441  Z\n",
       "  \" fill=\"#ffffff\" fill-rule=\"evenodd\" fill-opacity=\"1\"/>\n",
       "<defs>\n",
       "  <clipPath id=\"clip763\">\n",
       "    <rect x=\"188\" y=\"47\" width=\"2165\" height=\"1440\"/>\n",
       "  </clipPath>\n",
       "</defs>\n",
       "<polyline clip-path=\"url(#clip763)\" style=\"stroke:#000000; stroke-linecap:butt; stroke-linejoin:round; stroke-width:2; stroke-opacity:0.1; fill:none\" points=\"\n",
       "  247.397,1486.45 247.397,47.2441 \n",
       "  \"/>\n",
       "<polyline clip-path=\"url(#clip763)\" style=\"stroke:#000000; stroke-linecap:butt; stroke-linejoin:round; stroke-width:2; stroke-opacity:0.1; fill:none\" points=\"\n",
       "  893.582,1486.45 893.582,47.2441 \n",
       "  \"/>\n",
       "<polyline clip-path=\"url(#clip763)\" style=\"stroke:#000000; stroke-linecap:butt; stroke-linejoin:round; stroke-width:2; stroke-opacity:0.1; fill:none\" points=\"\n",
       "  1539.77,1486.45 1539.77,47.2441 \n",
       "  \"/>\n",
       "<polyline clip-path=\"url(#clip763)\" style=\"stroke:#000000; stroke-linecap:butt; stroke-linejoin:round; stroke-width:2; stroke-opacity:0.1; fill:none\" points=\"\n",
       "  2185.95,1486.45 2185.95,47.2441 \n",
       "  \"/>\n",
       "<polyline clip-path=\"url(#clip760)\" style=\"stroke:#000000; stroke-linecap:butt; stroke-linejoin:round; stroke-width:4; stroke-opacity:1; fill:none\" points=\"\n",
       "  188.292,1486.45 2352.76,1486.45 \n",
       "  \"/>\n",
       "<polyline clip-path=\"url(#clip760)\" style=\"stroke:#000000; stroke-linecap:butt; stroke-linejoin:round; stroke-width:4; stroke-opacity:1; fill:none\" points=\"\n",
       "  247.397,1486.45 247.397,1467.55 \n",
       "  \"/>\n",
       "<polyline clip-path=\"url(#clip760)\" style=\"stroke:#000000; stroke-linecap:butt; stroke-linejoin:round; stroke-width:4; stroke-opacity:1; fill:none\" points=\"\n",
       "  893.582,1486.45 893.582,1467.55 \n",
       "  \"/>\n",
       "<polyline clip-path=\"url(#clip760)\" style=\"stroke:#000000; stroke-linecap:butt; stroke-linejoin:round; stroke-width:4; stroke-opacity:1; fill:none\" points=\"\n",
       "  1539.77,1486.45 1539.77,1467.55 \n",
       "  \"/>\n",
       "<polyline clip-path=\"url(#clip760)\" style=\"stroke:#000000; stroke-linecap:butt; stroke-linejoin:round; stroke-width:4; stroke-opacity:1; fill:none\" points=\"\n",
       "  2185.95,1486.45 2185.95,1467.55 \n",
       "  \"/>\n",
       "<path clip-path=\"url(#clip760)\" d=\"M247.397 1517.37 Q243.786 1517.37 241.957 1520.93 Q240.151 1524.47 240.151 1531.6 Q240.151 1538.71 241.957 1542.27 Q243.786 1545.82 247.397 1545.82 Q251.031 1545.82 252.836 1542.27 Q254.665 1538.71 254.665 1531.6 Q254.665 1524.47 252.836 1520.93 Q251.031 1517.37 247.397 1517.37 M247.397 1513.66 Q253.207 1513.66 256.262 1518.27 Q259.341 1522.85 259.341 1531.6 Q259.341 1540.33 256.262 1544.94 Q253.207 1549.52 247.397 1549.52 Q241.587 1549.52 238.508 1544.94 Q235.452 1540.33 235.452 1531.6 Q235.452 1522.85 238.508 1518.27 Q241.587 1513.66 247.397 1513.66 Z\" fill=\"#000000\" fill-rule=\"evenodd\" fill-opacity=\"1\" /><path clip-path=\"url(#clip760)\" d=\"M868.27 1544.91 L875.909 1544.91 L875.909 1518.55 L867.599 1520.21 L867.599 1515.95 L875.863 1514.29 L880.538 1514.29 L880.538 1544.91 L888.177 1544.91 L888.177 1548.85 L868.27 1548.85 L868.27 1544.91 Z\" fill=\"#000000\" fill-rule=\"evenodd\" fill-opacity=\"1\" /><path clip-path=\"url(#clip760)\" d=\"M907.622 1517.37 Q904.011 1517.37 902.182 1520.93 Q900.376 1524.47 900.376 1531.6 Q900.376 1538.71 902.182 1542.27 Q904.011 1545.82 907.622 1545.82 Q911.256 1545.82 913.061 1542.27 Q914.89 1538.71 914.89 1531.6 Q914.89 1524.47 913.061 1520.93 Q911.256 1517.37 907.622 1517.37 M907.622 1513.66 Q913.432 1513.66 916.487 1518.27 Q919.566 1522.85 919.566 1531.6 Q919.566 1540.33 916.487 1544.94 Q913.432 1549.52 907.622 1549.52 Q901.812 1549.52 898.733 1544.94 Q895.677 1540.33 895.677 1531.6 Q895.677 1522.85 898.733 1518.27 Q901.812 1513.66 907.622 1513.66 Z\" fill=\"#000000\" fill-rule=\"evenodd\" fill-opacity=\"1\" /><path clip-path=\"url(#clip760)\" d=\"M1518.54 1544.91 L1534.86 1544.91 L1534.86 1548.85 L1512.92 1548.85 L1512.92 1544.91 Q1515.58 1542.16 1520.16 1537.53 Q1524.77 1532.88 1525.95 1531.53 Q1528.19 1529.01 1529.07 1527.27 Q1529.98 1525.51 1529.98 1523.82 Q1529.98 1521.07 1528.03 1519.33 Q1526.11 1517.6 1523.01 1517.6 Q1520.81 1517.6 1518.36 1518.36 Q1515.93 1519.13 1513.15 1520.68 L1513.15 1515.95 Q1515.97 1514.82 1518.43 1514.24 Q1520.88 1513.66 1522.92 1513.66 Q1528.29 1513.66 1531.48 1516.35 Q1534.68 1519.03 1534.68 1523.52 Q1534.68 1525.65 1533.87 1527.57 Q1533.08 1529.47 1530.97 1532.07 Q1530.39 1532.74 1527.29 1535.95 Q1524.19 1539.15 1518.54 1544.91 Z\" fill=\"#000000\" fill-rule=\"evenodd\" fill-opacity=\"1\" /><path clip-path=\"url(#clip760)\" d=\"M1554.68 1517.37 Q1551.06 1517.37 1549.24 1520.93 Q1547.43 1524.47 1547.43 1531.6 Q1547.43 1538.71 1549.24 1542.27 Q1551.06 1545.82 1554.68 1545.82 Q1558.31 1545.82 1560.12 1542.27 Q1561.94 1538.71 1561.94 1531.6 Q1561.94 1524.47 1560.12 1520.93 Q1558.31 1517.37 1554.68 1517.37 M1554.68 1513.66 Q1560.49 1513.66 1563.54 1518.27 Q1566.62 1522.85 1566.62 1531.6 Q1566.62 1540.33 1563.54 1544.94 Q1560.49 1549.52 1554.68 1549.52 Q1548.87 1549.52 1545.79 1544.94 Q1542.73 1540.33 1542.73 1531.6 Q1542.73 1522.85 1545.79 1518.27 Q1548.87 1513.66 1554.68 1513.66 Z\" fill=\"#000000\" fill-rule=\"evenodd\" fill-opacity=\"1\" /><path clip-path=\"url(#clip760)\" d=\"M2174.8 1530.21 Q2178.15 1530.93 2180.03 1533.2 Q2181.93 1535.47 2181.93 1538.8 Q2181.93 1543.92 2178.41 1546.72 Q2174.89 1549.52 2168.41 1549.52 Q2166.23 1549.52 2163.92 1549.08 Q2161.63 1548.66 2159.17 1547.81 L2159.17 1543.29 Q2161.12 1544.43 2163.43 1545.01 Q2165.75 1545.58 2168.27 1545.58 Q2172.67 1545.58 2174.96 1543.85 Q2177.27 1542.11 2177.27 1538.8 Q2177.27 1535.75 2175.12 1534.03 Q2172.99 1532.3 2169.17 1532.3 L2165.14 1532.3 L2165.14 1528.45 L2169.36 1528.45 Q2172.81 1528.45 2174.63 1527.09 Q2176.46 1525.7 2176.46 1523.11 Q2176.46 1520.45 2174.57 1519.03 Q2172.69 1517.6 2169.17 1517.6 Q2167.25 1517.6 2165.05 1518.01 Q2162.85 1518.43 2160.21 1519.31 L2160.21 1515.14 Q2162.88 1514.4 2165.19 1514.03 Q2167.53 1513.66 2169.59 1513.66 Q2174.91 1513.66 2178.01 1516.09 Q2181.12 1518.5 2181.12 1522.62 Q2181.12 1525.49 2179.47 1527.48 Q2177.83 1529.45 2174.8 1530.21 Z\" fill=\"#000000\" fill-rule=\"evenodd\" fill-opacity=\"1\" /><path clip-path=\"url(#clip760)\" d=\"M2200.79 1517.37 Q2197.18 1517.37 2195.35 1520.93 Q2193.55 1524.47 2193.55 1531.6 Q2193.55 1538.71 2195.35 1542.27 Q2197.18 1545.82 2200.79 1545.82 Q2204.43 1545.82 2206.23 1542.27 Q2208.06 1538.71 2208.06 1531.6 Q2208.06 1524.47 2206.23 1520.93 Q2204.43 1517.37 2200.79 1517.37 M2200.79 1513.66 Q2206.6 1513.66 2209.66 1518.27 Q2212.74 1522.85 2212.74 1531.6 Q2212.74 1540.33 2209.66 1544.94 Q2206.6 1549.52 2200.79 1549.52 Q2194.98 1549.52 2191.9 1544.94 Q2188.85 1540.33 2188.85 1531.6 Q2188.85 1522.85 2191.9 1518.27 Q2194.98 1513.66 2200.79 1513.66 Z\" fill=\"#000000\" fill-rule=\"evenodd\" fill-opacity=\"1\" /><polyline clip-path=\"url(#clip763)\" style=\"stroke:#000000; stroke-linecap:butt; stroke-linejoin:round; stroke-width:2; stroke-opacity:0.1; fill:none\" points=\"\n",
       "  188.292,1089.32 2352.76,1089.32 \n",
       "  \"/>\n",
       "<polyline clip-path=\"url(#clip763)\" style=\"stroke:#000000; stroke-linecap:butt; stroke-linejoin:round; stroke-width:2; stroke-opacity:0.1; fill:none\" points=\"\n",
       "  188.292,412.885 2352.76,412.885 \n",
       "  \"/>\n",
       "<polyline clip-path=\"url(#clip760)\" style=\"stroke:#000000; stroke-linecap:butt; stroke-linejoin:round; stroke-width:4; stroke-opacity:1; fill:none\" points=\"\n",
       "  188.292,1486.45 188.292,47.2441 \n",
       "  \"/>\n",
       "<polyline clip-path=\"url(#clip760)\" style=\"stroke:#000000; stroke-linecap:butt; stroke-linejoin:round; stroke-width:4; stroke-opacity:1; fill:none\" points=\"\n",
       "  188.292,1089.32 207.19,1089.32 \n",
       "  \"/>\n",
       "<polyline clip-path=\"url(#clip760)\" style=\"stroke:#000000; stroke-linecap:butt; stroke-linejoin:round; stroke-width:4; stroke-opacity:1; fill:none\" points=\"\n",
       "  188.292,412.885 207.19,412.885 \n",
       "  \"/>\n",
       "<path clip-path=\"url(#clip760)\" d=\"M51.6634 1109.11 L59.3023 1109.11 L59.3023 1082.75 L50.9921 1084.41 L50.9921 1080.15 L59.256 1078.49 L63.9319 1078.49 L63.9319 1109.11 L71.5707 1109.11 L71.5707 1113.05 L51.6634 1113.05 L51.6634 1109.11 Z\" fill=\"#000000\" fill-rule=\"evenodd\" fill-opacity=\"1\" /><path clip-path=\"url(#clip760)\" d=\"M91.0151 1081.57 Q87.404 1081.57 85.5753 1085.13 Q83.7697 1088.67 83.7697 1095.8 Q83.7697 1102.91 85.5753 1106.47 Q87.404 1110.01 91.0151 1110.01 Q94.6493 1110.01 96.4548 1106.47 Q98.2835 1102.91 98.2835 1095.8 Q98.2835 1088.67 96.4548 1085.13 Q94.6493 1081.57 91.0151 1081.57 M91.0151 1077.86 Q96.8252 1077.86 99.8808 1082.47 Q102.959 1087.05 102.959 1095.8 Q102.959 1104.53 99.8808 1109.13 Q96.8252 1113.72 91.0151 1113.72 Q85.2049 1113.72 82.1262 1109.13 Q79.0707 1104.53 79.0707 1095.8 Q79.0707 1087.05 82.1262 1082.47 Q85.2049 1077.86 91.0151 1077.86 Z\" fill=\"#000000\" fill-rule=\"evenodd\" fill-opacity=\"1\" /><path clip-path=\"url(#clip760)\" d=\"M102.959 1071.96 L127.071 1071.96 L127.071 1075.16 L102.959 1075.16 L102.959 1071.96 Z\" fill=\"#000000\" fill-rule=\"evenodd\" fill-opacity=\"1\" /><path clip-path=\"url(#clip760)\" d=\"M135.309 1057.56 L150.223 1057.56 L150.223 1060.75 L138.788 1060.75 L138.788 1067.64 Q139.616 1067.36 140.443 1067.22 Q141.271 1067.07 142.098 1067.07 Q146.8 1067.07 149.546 1069.65 Q152.292 1072.23 152.292 1076.63 Q152.292 1081.16 149.471 1083.68 Q146.65 1086.18 141.515 1086.18 Q139.747 1086.18 137.904 1085.88 Q136.08 1085.58 134.124 1084.98 L134.124 1081.16 Q135.817 1082.08 137.622 1082.53 Q139.428 1082.98 141.44 1082.98 Q144.694 1082.98 146.593 1081.27 Q148.493 1079.56 148.493 1076.63 Q148.493 1073.69 146.593 1071.98 Q144.694 1070.27 141.44 1070.27 Q139.917 1070.27 138.393 1070.61 Q136.889 1070.95 135.309 1071.66 L135.309 1057.56 Z\" fill=\"#000000\" fill-rule=\"evenodd\" fill-opacity=\"1\" /><path clip-path=\"url(#clip760)\" d=\"M81.5866 432.678 L89.2254 432.678 L89.2254 406.312 L80.9153 407.979 L80.9153 403.72 L89.1791 402.053 L93.855 402.053 L93.855 432.678 L101.494 432.678 L101.494 436.613 L81.5866 436.613 L81.5866 432.678 Z\" fill=\"#000000\" fill-rule=\"evenodd\" fill-opacity=\"1\" /><path clip-path=\"url(#clip760)\" d=\"M120.938 405.132 Q117.327 405.132 115.498 408.696 Q113.693 412.238 113.693 419.368 Q113.693 426.474 115.498 430.039 Q117.327 433.581 120.938 433.581 Q124.572 433.581 126.378 430.039 Q128.207 426.474 128.207 419.368 Q128.207 412.238 126.378 408.696 Q124.572 405.132 120.938 405.132 M120.938 401.428 Q126.748 401.428 129.804 406.034 Q132.883 410.618 132.883 419.368 Q132.883 428.095 129.804 432.701 Q126.748 437.284 120.938 437.284 Q115.128 437.284 112.049 432.701 Q108.994 428.095 108.994 419.368 Q108.994 410.618 112.049 406.034 Q115.128 401.428 120.938 401.428 Z\" fill=\"#000000\" fill-rule=\"evenodd\" fill-opacity=\"1\" /><path clip-path=\"url(#clip760)\" d=\"M142.587 383.624 Q139.653 383.624 138.168 386.52 Q136.701 389.398 136.701 395.191 Q136.701 400.965 138.168 403.861 Q139.653 406.739 142.587 406.739 Q145.54 406.739 147.007 403.861 Q148.493 400.965 148.493 395.191 Q148.493 389.398 147.007 386.52 Q145.54 383.624 142.587 383.624 M142.587 380.615 Q147.308 380.615 149.791 384.358 Q152.292 388.081 152.292 395.191 Q152.292 402.281 149.791 406.024 Q147.308 409.748 142.587 409.748 Q137.867 409.748 135.365 406.024 Q132.883 402.281 132.883 395.191 Q132.883 388.081 135.365 384.358 Q137.867 380.615 142.587 380.615 Z\" fill=\"#000000\" fill-rule=\"evenodd\" fill-opacity=\"1\" /><polyline clip-path=\"url(#clip763)\" style=\"stroke:#009af9; stroke-linecap:butt; stroke-linejoin:round; stroke-width:4; stroke-opacity:1; fill:none\" points=\"\n",
       "  249.551,1404.34 251.705,1364.97 253.859,1342.47 256.012,1326.89 258.166,1315.09 260.32,1305.68 262.474,1297.92 264.628,1291.36 266.782,1285.72 268.936,1280.79 \n",
       "  271.09,1276.46 273.244,1272.6 275.398,1269.15 277.552,1266.03 279.706,1263.2 281.86,1260.63 284.014,1258.28 286.168,1256.13 288.322,1254.15 290.476,1252.33 \n",
       "  292.63,1250.64 294.784,1249.08 296.938,1247.63 299.092,1246.29 301.245,1245.03 303.399,1243.87 305.553,1242.78 307.707,1241.77 309.861,1240.82 312.015,1239.93 \n",
       "  314.169,1239.1 316.323,1238.33 318.477,1237.6 320.631,1236.92 322.785,1236.28 324.939,1235.68 327.093,1235.12 329.247,1234.59 331.401,1234.1 333.555,1233.63 \n",
       "  335.709,1233.2 337.863,1232.79 340.017,1232.41 342.171,1232.05 344.325,1231.71 346.478,1231.39 348.632,1231.09 350.786,1230.82 352.94,1230.55 355.094,1230.31 \n",
       "  357.248,1230.08 359.402,1229.87 361.556,1229.66 363.71,1229.48 365.864,1229.29 368.018,1229.14 370.172,1228.98 372.326,1228.84 374.48,1228.7 376.634,1228.58 \n",
       "  378.788,1228.46 380.942,1228.35 383.096,1228.26 385.25,1228.15 387.404,1228.08 389.558,1227.98 391.711,1227.92 393.865,1227.84 396.019,1227.79 398.173,1227.72 \n",
       "  400.327,1227.67 402.481,1227.62 404.635,1227.57 406.789,1227.53 408.943,1227.49 411.097,1227.46 413.251,1227.42 415.405,1227.41 417.559,1227.36 419.713,1227.36 \n",
       "  421.867,1227.32 424.021,1227.32 426.175,1227.28 428.329,1227.29 430.483,1227.26 432.637,1227.26 434.791,1227.25 436.944,1227.24 439.098,1227.24 441.252,1227.22 \n",
       "  443.406,1227.24 445.56,1227.21 447.714,1227.24 449.868,1227.2 452.022,1227.24 454.176,1227.2 456.33,1227.24 458.484,1227.21 460.638,1227.24 462.792,1227.22 \n",
       "  464.946,1227.23 467.1,1227.24 469.254,1227.23 471.408,1227.26 473.562,1227.23 475.716,1227.28 477.87,1227.23 480.024,1227.29 482.177,1227.24 484.331,1227.3 \n",
       "  486.485,1227.26 488.639,1227.31 490.793,1227.28 492.947,1227.31 495.101,1227.3 497.255,1227.31 499.409,1227.33 501.563,1227.31 503.717,1227.36 505.871,1227.3 \n",
       "  508.025,1227.38 510.179,1227.31 512.333,1227.4 514.487,1227.32 516.641,1227.41 518.795,1227.33 520.949,1227.41 523.103,1227.36 525.257,1227.4 527.41,1227.39 \n",
       "  529.564,1227.38 531.718,1227.43 533.872,1227.37 536.026,1227.46 538.18,1227.36 540.334,1227.49 542.488,1227.36 544.642,1227.5 546.796,1227.37 548.95,1227.5 \n",
       "  551.104,1227.39 553.258,1227.48 555.412,1227.43 557.566,1227.45 559.72,1227.47 561.874,1227.42 564.028,1227.52 566.182,1227.39 568.336,1227.56 570.49,1227.37 \n",
       "  572.643,1227.58 574.797,1227.36 576.951,1227.59 579.105,1227.38 581.259,1227.57 583.413,1227.42 585.567,1227.53 587.721,1227.48 589.875,1227.47 592.029,1227.55 \n",
       "  594.183,1227.41 596.337,1227.61 598.491,1227.36 600.645,1227.66 602.799,1227.33 604.953,1227.68 607.107,1227.33 609.261,1227.67 611.415,1227.37 613.569,1227.62 \n",
       "  615.723,1227.44 617.876,1227.54 620.03,1227.54 622.184,1227.44 624.338,1227.64 626.492,1227.34 628.646,1227.73 630.8,1227.27 632.954,1227.79 635.108,1227.24 \n",
       "  637.262,1227.8 639.416,1227.26 641.57,1227.75 643.724,1227.34 645.878,1227.65 648.032,1227.47 650.186,1227.5 652.34,1227.62 654.494,1227.34 656.648,1227.78 \n",
       "  658.802,1227.2 660.956,1227.91 663.109,1227.11 665.263,1227.97 667.417,1227.09 669.571,1227.95 671.725,1227.15 673.879,1227.84 676.033,1227.31 678.187,1227.64 \n",
       "  680.341,1227.53 682.495,1227.4 684.649,1227.78 686.803,1227.15 688.957,1228.02 691.111,1226.95 693.265,1228.19 695.419,1226.84 697.573,1228.24 699.727,1226.86 \n",
       "  701.881,1228.14 704.035,1227.02 706.189,1227.91 708.342,1227.31 710.496,1227.56 712.65,1227.68 714.804,1227.16 716.958,1228.09 719.112,1226.79 721.266,1228.43 \n",
       "  723.42,1226.53 725.574,1228.63 727.728,1226.43 729.882,1228.62 732.036,1226.54 734.19,1228.38 736.344,1226.88 738.498,1227.92 740.652,1227.39 742.806,1227.33 \n",
       "  744.96,1228.02 747.114,1226.71 749.268,1228.64 751.422,1226.18 753.575,1229.12 755.729,1225.86 757.883,1229.31 760.037,1225.83 762.191,1229.15 764.345,1226.14 \n",
       "  766.499,1228.62 768.653,1226.78 770.807,1227.79 772.961,1227.68 775.115,1226.81 777.269,1228.69 779.423,1225.87 781.577,1229.62 783.731,1225.16 785.885,1230.24 \n",
       "  788.039,1224.83 790.193,1230.34 792.347,1224.98 794.501,1229.83 796.655,1225.66 798.808,1228.75 800.962,1226.83 803.116,1227.31 805.27,1228.34 807.424,1225.77 \n",
       "  809.578,1229.96 811.732,1224.43 813.886,1231.33 816.04,1223.55 818.194,1232.05 820.348,1223.31 822.502,1231.81 824.656,1223.84 826.81,1230.56 828.964,1225.17 \n",
       "  831.118,1228.53 833.272,1227.22 835.426,1226.13 837.58,1229.75 839.734,1223.83 841.888,1232.32 844.041,1222.05 846.195,1234.26 848.349,1221.08 850.503,1234.88 \n",
       "  852.657,1221.15 854.811,1233.75 856.965,1222.37 859.119,1231.04 861.273,1224.79 863.427,1227.42 865.581,1228.3 867.735,1223.69 869.889,1232.52 872.043,1220.51 \n",
       "  874.197,1236.63 876.351,1218.34 878.505,1239.29 880.659,1217.48 882.813,1239.12 884.967,1218.16 887.121,1235.81 889.274,1220.53 891.428,1230.42 893.582,1224.71 \n",
       "  895.736,1224.5 897.89,1230.64 900.044,1219.2 902.198,1237.85 904.352,1215.2 906.506,1244.71 908.66,1212.85 910.814,1247.93 912.968,1212.41 915.122,1244.75 \n",
       "  917.276,1214.1 919.43,1236.57 921.584,1218.18 923.738,1227.03 925.892,1225.05 928.046,1218.47 930.2,1235.13 932.354,1211.81 934.507,1248.3 936.661,1207.35 \n",
       "  938.815,1261.11 940.969,1205.19 943.123,1262.38 945.277,1205.49 947.431,1248.9 949.585,1208.52 951.739,1232.37 953.893,1214.82 956.047,1218.57 958.201,1225.4 \n",
       "  960.355,1208.2 962.509,1242.35 964.663,1200.98 966.817,1269.91 968.971,1196.62 971.125,1303.59 973.279,1194.99 975.433,1275.44 977.587,1196.2 979.74,1241.25 \n",
       "  981.894,1200.59 984.048,1218.98 986.202,1208.96 988.356,1203.86 990.51,1223.07 992.664,1193.47 994.818,1247.3 996.972,1186.66 999.126,1297.18 1001.28,1182.88 \n",
       "  1003.43,1308.38 1005.59,1181.92 1007.74,1246.98 1009.9,1183.83 1012.05,1216.4 1014.2,1188.93 1016.36,1197.15 1018.51,1197.82 1020.67,1184.02 1022.82,1211.38 \n",
       "  1024.97,1175.02 1027.13,1229.37 1029.28,1169.23 1031.44,1240.76 1033.59,1166.19 1035.74,1226.43 1037.9,1165.71 1040.05,1203.76 1042.21,1167.72 1044.36,1185.21 \n",
       "  1046.51,1172.23 1048.67,1171.3 1050.82,1179.04 1052.97,1161.1 1055.13,1186.98 1057.28,1153.88 1059.44,1192.4 1061.59,1149.18 1063.74,1189.87 1065.9,1146.71 \n",
       "  1068.05,1179.38 1070.21,1146.28 1072.36,1166.31 1074.51,1147.65 1076.67,1154.26 1078.82,1150.43 1080.98,1144.3 1083.13,1153.78 1085.28,1136.53 1087.44,1156.09 \n",
       "  1089.59,1130.81 1091.75,1155.25 1093.9,1126.94 1096.05,1150.24 1098.21,1124.72 1100.36,1142.18 1102.52,1123.91 1104.67,1133.12 1106.82,1124.16 1108.98,1124.51 \n",
       "  1111.13,1124.88 1113.29,1117.06 1115.44,1125.24 1117.59,1110.99 1119.75,1124.21 1121.9,1106.31 1124.06,1121.06 1126.21,1102.92 1128.36,1115.82 1130.52,1100.64 \n",
       "  1132.67,1109.25 1134.83,1099.22 1136.98,1102.29 1139.13,1098.27 1141.29,1095.65 1143.44,1097.29 1145.59,1089.75 1147.75,1095.7 1149.9,1084.75 1152.06,1093.03 \n",
       "  1154.21,1080.7 1156.36,1089.09 1158.52,1077.49 1160.67,1084.09 1162.83,1074.98 1164.98,1078.48 1167.13,1072.91 1169.29,1072.75 1171.44,1070.97 1173.6,1067.28 \n",
       "  1175.75,1068.81 1177.9,1062.32 1180.06,1066.12 1182.21,1057.97 1184.37,1062.69 1186.52,1054.23 1188.67,1058.54 1190.83,1051.03 1192.98,1053.84 1195.14,1048.22 \n",
       "  1197.29,1048.86 1199.44,1045.6 1201.6,1043.89 1203.75,1042.95 1205.91,1039.14 1208.06,1040.06 1210.21,1034.74 1212.37,1036.77 1214.52,1030.74 1216.68,1033.02 \n",
       "  1218.83,1027.13 1220.98,1028.87 1223.14,1023.84 1225.29,1024.43 1227.45,1020.75 1229.6,1019.88 1231.75,1017.72 1233.91,1015.39 1236.06,1014.6 1238.21,1011.06 \n",
       "  1240.37,1011.29 1242.52,1006.98 1244.68,1007.7 1246.83,1003.16 1248.98,1003.83 1251.14,999.579 1253.29,999.739 1255.45,996.174 1257.6,995.509 1259.75,992.861 \n",
       "  1261.91,991.248 1264.06,989.545 1266.22,987.047 1268.37,986.141 1270.52,982.975 1272.68,982.587 1274.83,979.067 1276.99,978.856 1279.14,975.325 1281.29,974.961 \n",
       "  1283.45,971.722 1285.6,970.943 1287.76,968.211 1289.91,966.865 1292.06,964.734 1294.22,962.789 1296.37,961.232 1298.53,958.77 1300.68,957.655 1302.83,954.843 \n",
       "  1304.99,953.973 1307.14,951.023 1309.3,950.182 1311.45,947.305 1313.6,946.296 1315.76,943.666 1317.91,942.346 1320.06,940.07 1322.22,938.374 1324.37,936.48 \n",
       "  1326.53,934.417 1328.68,932.86 1330.83,930.506 1332.99,929.184 1335.14,926.66 1337.3,925.439 1339.45,922.881 1341.6,921.626 1343.76,919.162 1345.91,917.761 \n",
       "  1348.07,915.486 1350.22,913.866 1352.37,911.827 1354.53,909.966 1356.68,908.163 1358.84,906.083 1360.99,904.472 1363.14,902.236 1365.3,900.741 1367.45,898.43 \n",
       "  1369.61,896.966 1371.76,894.667 1373.91,893.151 1376.07,890.939 1378.22,889.308 1380.38,887.231 1382.53,885.452 1384.68,883.528 1386.84,881.599 1388.99,879.816 \n",
       "  1391.15,877.762 1393.3,876.084 1395.45,873.95 1397.61,872.324 1399.76,870.165 1401.92,868.537 1404.07,866.405 1406.22,864.727 1408.38,862.664 1410.53,860.903 \n",
       "  1412.68,858.933 1414.84,857.075 1416.99,855.201 1419.15,853.252 1421.3,851.459 1423.45,849.442 1425.61,847.703 1427.76,845.648 1429.92,843.929 1432.07,841.872 \n",
       "  1434.22,840.139 1436.38,838.111 1438.53,836.336 1440.69,834.359 1442.84,832.527 1444.99,830.61 1447.15,828.717 1449.3,826.859 1451.46,824.913 1453.61,823.1 \n",
       "  1455.76,821.118 1457.92,819.331 1460.07,817.334 1462.23,815.551 1464.38,813.561 1466.53,811.761 1468.69,809.795 1470.84,807.965 1473,806.035 1475.15,804.166 \n",
       "  1477.3,802.275 1479.46,800.369 1481.61,798.512 1483.77,796.576 1485.92,794.743 1488.07,792.789 1490.23,790.967 1492.38,789.01 1494.54,787.185 1496.69,785.236 \n",
       "  1498.84,783.397 1501,781.467 1503.15,779.606 1505.3,777.7 1507.46,775.815 1509.61,773.933 1511.77,772.025 1513.92,770.162 1516.07,768.238 1518.23,766.388 \n",
       "  1520.38,764.456 1522.54,762.609 1524.69,760.678 1526.84,758.827 1529,756.904 1531.15,755.041 1533.31,753.132 1535.46,751.254 1537.61,749.36 1539.77,747.467 \n",
       "  1541.92,745.588 1544.08,743.682 1546.23,741.813 1548.38,739.899 1550.54,738.036 1552.69,736.119 1554.85,734.256 1557,732.341 1559.15,730.474 1561.31,728.566 \n",
       "  1563.46,726.69 1565.62,724.791 1567.77,722.906 1569.92,721.017 1572.08,719.122 1574.23,717.242 1576.39,715.339 1578.54,713.465 1580.69,711.558 1582.85,709.686 \n",
       "  1585,707.779 1587.16,705.906 1589.31,704.002 1591.46,702.124 1593.62,700.225 1595.77,698.342 1597.92,696.449 1600.08,694.559 1602.23,692.672 1604.39,690.777 \n",
       "  1606.54,688.895 1608.69,686.996 1610.85,685.117 1613,683.216 1615.16,681.338 1617.31,679.438 1619.46,677.557 1621.62,675.66 1623.77,673.776 1625.93,671.882 \n",
       "  1628.08,669.995 1630.23,668.105 1632.39,666.214 1634.54,664.327 1636.7,662.433 1638.85,660.549 1641,658.653 1643.16,656.77 1645.31,654.873 1647.47,652.99 \n",
       "  1649.62,651.095 1651.77,649.21 1653.93,647.316 1656.08,645.43 1658.24,643.538 1660.39,641.649 1662.54,639.76 1664.7,637.869 1666.85,635.982 1669.01,634.089 \n",
       "  1671.16,632.203 1673.31,630.309 1675.47,628.424 1677.62,626.53 1679.78,624.644 1681.93,622.751 1684.08,620.864 1686.24,618.972 1688.39,617.084 1690.54,615.194 \n",
       "  1692.7,613.304 1694.85,611.415 1697.01,609.524 1699.16,607.636 1701.31,605.744 1703.47,603.857 1705.62,601.965 1707.78,600.078 1709.93,598.186 1712.08,596.298 \n",
       "  1714.24,594.407 1716.39,592.518 1718.55,590.628 1720.7,588.739 1722.85,586.849 1725.01,584.959 1727.16,583.07 1729.32,581.179 1731.47,579.291 1733.62,577.4 \n",
       "  1735.78,575.512 1737.93,573.62 1740.09,571.732 1742.24,569.841 1744.39,567.953 1746.55,566.062 1748.7,564.173 1750.86,562.283 1753.01,560.393 1755.16,558.504 \n",
       "  1757.32,556.614 1759.47,554.725 1761.63,552.834 1763.78,550.946 1765.93,549.055 1768.09,547.166 1770.24,545.276 1772.39,543.387 1774.55,541.496 1776.7,539.607 \n",
       "  1778.86,537.717 1781.01,535.828 1783.16,533.938 1785.32,532.048 1787.47,530.159 1789.63,528.269 1791.78,526.38 1793.93,524.489 1796.09,522.6 1798.24,520.71 \n",
       "  1800.4,518.821 1802.55,516.931 1804.7,515.042 1806.86,513.152 1809.01,511.262 1811.17,509.372 1813.32,507.483 1815.47,505.593 1817.63,503.703 1819.78,501.814 \n",
       "  1821.94,499.924 1824.09,498.035 1826.24,496.144 1828.4,494.255 1830.55,492.365 1832.71,490.476 1834.86,488.586 1837.01,486.697 1839.17,484.807 1841.32,482.917 \n",
       "  1843.48,481.027 1845.63,479.138 1847.78,477.248 1849.94,475.358 1852.09,473.469 1854.25,471.579 1856.4,469.69 1858.55,467.8 1860.71,465.91 1862.86,464.02 \n",
       "  1865.01,462.131 1867.17,460.241 1869.32,458.351 1871.48,456.462 1873.63,454.572 1875.78,452.682 1877.94,450.793 1880.09,448.903 1882.25,447.013 1884.4,445.124 \n",
       "  1886.55,443.234 1888.71,441.344 1890.86,439.455 1893.02,437.565 1895.17,435.675 1897.32,433.786 1899.48,431.896 1901.63,430.006 1903.79,428.117 1905.94,426.227 \n",
       "  1908.09,424.337 1910.25,422.448 1912.4,420.558 1914.56,418.668 1916.71,416.779 1918.86,414.889 1921.02,412.999 1923.17,411.11 1925.33,409.22 1927.48,407.33 \n",
       "  1929.63,405.441 1931.79,403.551 1933.94,401.661 1936.1,399.772 1938.25,397.882 1940.4,395.992 1942.56,394.103 1944.71,392.213 1946.87,390.323 1949.02,388.434 \n",
       "  1951.17,386.544 1953.33,384.654 1955.48,382.765 1957.63,380.875 1959.79,378.985 1961.94,377.096 1964.1,375.206 1966.25,373.316 1968.4,371.427 1970.56,369.537 \n",
       "  1972.71,367.647 1974.87,365.758 1977.02,363.868 1979.17,361.978 1981.33,360.089 1983.48,358.199 1985.64,356.309 1987.79,354.42 1989.94,352.53 1992.1,350.64 \n",
       "  1994.25,348.751 1996.41,346.861 1998.56,344.971 2000.71,343.082 2002.87,341.192 2005.02,339.302 2007.18,337.413 2009.33,335.523 2011.48,333.633 2013.64,331.744 \n",
       "  2015.79,329.854 2017.95,327.964 2020.1,326.075 2022.25,324.185 2024.41,322.295 2026.56,320.406 2028.72,318.516 2030.87,316.626 2033.02,314.737 2035.18,312.847 \n",
       "  2037.33,310.957 2039.49,309.068 2041.64,307.178 2043.79,305.288 2045.95,303.399 2048.1,301.509 2050.25,299.619 2052.41,297.73 2054.56,295.84 2056.72,293.95 \n",
       "  2058.87,292.061 2061.02,290.171 2063.18,288.281 2065.33,286.392 2067.49,284.502 2069.64,282.612 2071.79,280.723 2073.95,278.833 2076.1,276.943 2078.26,275.054 \n",
       "  2080.41,273.164 2082.56,271.274 2084.72,269.385 2086.87,267.495 2089.03,265.605 2091.18,263.716 2093.33,261.826 2095.49,259.936 2097.64,258.047 2099.8,256.157 \n",
       "  2101.95,254.267 2104.1,252.378 2106.26,250.488 2108.41,248.598 2110.57,246.709 2112.72,244.819 2114.87,242.929 2117.03,241.04 2119.18,239.15 2121.34,237.26 \n",
       "  2123.49,235.371 2125.64,233.481 2127.8,231.591 2129.95,229.702 2132.11,227.812 2134.26,225.922 2136.41,224.033 2138.57,222.143 2140.72,220.253 2142.87,218.364 \n",
       "  2145.03,216.474 2147.18,214.584 2149.34,212.694 2151.49,210.805 2153.64,208.915 2155.8,207.025 2157.95,205.136 2160.11,203.246 2162.26,201.356 2164.41,199.467 \n",
       "  2166.57,197.577 2168.72,195.687 2170.88,193.798 2173.03,191.908 2175.18,190.018 2177.34,188.129 2179.49,186.239 2181.65,184.349 2183.8,182.46 2185.95,180.57 \n",
       "  2188.11,178.68 2190.26,176.791 2192.42,174.901 2194.57,173.011 2196.72,171.122 2198.88,169.232 2201.03,167.342 2203.19,165.453 2205.34,163.563 2207.49,161.673 \n",
       "  2209.65,159.784 2211.8,157.894 2213.96,156.004 2216.11,154.115 2218.26,152.225 2220.42,150.335 2222.57,148.446 2224.72,146.556 2226.88,144.666 2229.03,142.777 \n",
       "  2231.19,140.887 2233.34,138.997 2235.49,137.108 2237.65,135.218 2239.8,133.328 2241.96,131.439 2244.11,129.549 2246.26,127.659 2248.42,125.77 2250.57,123.88 \n",
       "  2252.73,121.99 2254.88,120.101 2257.03,118.211 2259.19,116.321 2261.34,114.432 2263.5,112.542 2265.65,110.652 2267.8,108.763 2269.96,106.873 2272.11,104.983 \n",
       "  2274.27,103.094 2276.42,101.204 2278.57,99.3144 2280.73,97.4247 2282.88,95.5351 2285.04,93.6454 2287.19,91.7557 2289.34,89.8661 2291.5,87.9764 \n",
       "  \"/>\n",
       "<polyline clip-path=\"url(#clip763)\" style=\"stroke:#e26f46; stroke-linecap:butt; stroke-linejoin:round; stroke-width:4; stroke-opacity:1; fill:none\" points=\"\n",
       "  249.551,1421.23 251.705,1381.87 253.859,1359.37 256.012,1343.79 258.166,1331.99 260.32,1322.58 262.474,1314.82 264.628,1308.26 266.782,1302.62 268.936,1297.7 \n",
       "  271.09,1293.37 273.244,1289.5 275.398,1286.05 277.552,1282.93 279.706,1280.11 281.86,1277.53 284.014,1275.19 286.168,1273.03 288.322,1271.05 290.476,1269.23 \n",
       "  292.63,1267.54 294.784,1265.98 296.938,1264.53 299.092,1263.19 301.245,1261.93 303.399,1260.77 305.553,1259.68 307.707,1258.67 309.861,1257.72 312.015,1256.84 \n",
       "  314.169,1256.01 316.323,1255.23 318.477,1254.5 320.631,1253.82 322.785,1253.19 324.939,1252.58 327.093,1252.03 329.247,1251.49 331.401,1251.01 333.555,1250.53 \n",
       "  335.709,1250.11 337.863,1249.69 340.017,1249.31 342.171,1248.95 344.325,1248.61 346.478,1248.3 348.632,1248 350.786,1247.72 352.94,1247.45 355.094,1247.22 \n",
       "  357.248,1246.98 359.402,1246.77 361.556,1246.56 363.71,1246.38 365.864,1246.2 368.018,1246.04 370.172,1245.88 372.326,1245.74 374.48,1245.6 376.634,1245.48 \n",
       "  378.788,1245.37 380.942,1245.25 383.096,1245.16 385.25,1245.05 387.404,1244.98 389.558,1244.88 391.711,1244.83 393.865,1244.74 396.019,1244.69 398.173,1244.62 \n",
       "  400.327,1244.58 402.481,1244.52 404.635,1244.48 406.789,1244.44 408.943,1244.39 411.097,1244.37 413.251,1244.32 415.405,1244.31 417.559,1244.26 419.713,1244.27 \n",
       "  421.867,1244.22 424.021,1244.23 426.175,1244.18 428.329,1244.19 430.483,1244.16 432.637,1244.16 434.791,1244.15 436.944,1244.14 439.098,1244.14 441.252,1244.12 \n",
       "  443.406,1244.14 445.56,1244.11 447.714,1244.14 449.868,1244.1 452.022,1244.15 454.176,1244.1 456.33,1244.14 458.484,1244.11 460.638,1244.14 462.792,1244.12 \n",
       "  464.946,1244.14 467.1,1244.14 469.254,1244.13 471.408,1244.16 473.562,1244.13 475.716,1244.19 477.87,1244.13 480.024,1244.2 482.177,1244.14 484.331,1244.22 \n",
       "  486.485,1244.15 488.639,1244.22 490.793,1244.17 492.947,1244.22 495.101,1244.2 497.255,1244.21 499.409,1244.24 501.563,1244.2 503.717,1244.27 505.871,1244.2 \n",
       "  508.025,1244.3 510.179,1244.19 512.333,1244.32 514.487,1244.2 516.641,1244.33 518.795,1244.22 520.949,1244.32 523.103,1244.26 525.257,1244.3 527.41,1244.3 \n",
       "  529.564,1244.28 531.718,1244.34 533.872,1244.26 536.026,1244.38 538.18,1244.24 540.334,1244.41 542.488,1244.23 544.642,1244.43 546.796,1244.25 548.95,1244.42 \n",
       "  551.104,1244.28 553.258,1244.4 555.412,1244.32 557.566,1244.36 559.72,1244.38 561.874,1244.31 564.028,1244.44 566.182,1244.27 568.336,1244.49 570.49,1244.24 \n",
       "  572.643,1244.52 574.797,1244.23 576.951,1244.53 579.105,1244.25 581.259,1244.5 583.413,1244.3 585.567,1244.44 587.721,1244.38 589.875,1244.37 592.029,1244.47 \n",
       "  594.183,1244.28 596.337,1244.55 598.491,1244.22 600.645,1244.62 602.799,1244.17 604.953,1244.65 607.107,1244.18 609.261,1244.63 611.415,1244.22 613.569,1244.56 \n",
       "  615.723,1244.32 617.876,1244.45 620.03,1244.45 622.184,1244.32 624.338,1244.58 626.492,1244.19 628.646,1244.7 630.8,1244.09 632.954,1244.78 635.108,1244.05 \n",
       "  637.262,1244.8 639.416,1244.08 641.57,1244.73 643.724,1244.18 645.878,1244.59 648.032,1244.35 650.186,1244.4 652.34,1244.56 654.494,1244.19 656.648,1244.77 \n",
       "  658.802,1244 660.956,1244.94 663.109,1243.87 665.263,1245.02 667.417,1243.84 669.571,1244.99 671.725,1243.93 673.879,1244.84 676.033,1244.14 678.187,1244.58 \n",
       "  680.341,1244.43 682.495,1244.25 684.649,1244.77 686.803,1243.93 688.957,1245.09 691.111,1243.66 693.265,1245.31 695.419,1243.51 697.573,1245.38 699.727,1243.54 \n",
       "  701.881,1245.25 704.035,1243.75 706.189,1244.93 708.342,1244.13 710.496,1244.47 712.65,1244.64 714.804,1243.94 716.958,1245.17 719.112,1243.45 721.266,1245.63 \n",
       "  723.42,1243.1 725.574,1245.9 727.728,1242.97 729.882,1245.89 732.036,1243.12 734.19,1245.56 736.344,1243.56 738.498,1244.95 740.652,1244.24 742.806,1244.16 \n",
       "  744.96,1245.08 747.114,1243.33 749.268,1245.91 751.422,1242.63 753.575,1246.55 755.729,1242.21 757.883,1246.82 760.037,1242.17 762.191,1246.6 764.345,1242.58 \n",
       "  766.499,1245.87 768.653,1243.42 770.807,1244.76 772.961,1244.61 775.115,1243.46 777.269,1245.97 779.423,1242.22 781.577,1247.23 783.731,1241.29 785.885,1248.07 \n",
       "  788.039,1240.86 790.193,1248.21 792.347,1241.05 794.501,1247.5 796.655,1241.93 798.808,1246.03 800.962,1243.46 803.116,1244.09 805.27,1245.47 807.424,1242.06 \n",
       "  809.578,1247.66 811.732,1240.31 813.886,1249.54 816.04,1239.17 818.194,1250.54 820.348,1238.87 822.502,1250.19 824.656,1239.54 826.81,1248.45 828.964,1241.24 \n",
       "  831.118,1245.66 833.272,1243.9 835.426,1242.47 837.58,1247.29 839.734,1239.49 841.888,1250.82 844.041,1237.21 846.195,1253.58 848.349,1235.98 850.503,1254.44 \n",
       "  852.657,1236.04 854.811,1252.77 856.965,1237.56 859.119,1248.93 861.273,1240.6 863.427,1244.01 865.581,1245.15 867.735,1239.15 869.889,1250.87 872.043,1235.14 \n",
       "  874.197,1256.73 876.351,1232.45 878.505,1260.69 880.659,1231.38 882.813,1260.33 884.967,1232.15 887.121,1255.27 889.274,1234.99 891.428,1247.64 893.582,1240.13 \n",
       "  895.736,1239.83 897.89,1247.78 900.044,1233.21 902.198,1257.78 904.352,1228.37 906.506,1268.31 908.66,1225.57 910.814,1273.55 912.968,1224.99 915.122,1267.71 \n",
       "  917.276,1226.84 919.43,1255.04 921.584,1231.5 923.738,1242.17 925.892,1239.62 928.046,1231.63 930.2,1252.29 932.354,1223.82 934.507,1271.15 936.661,1218.71 \n",
       "  938.815,1294.63 940.969,1216.21 943.123,1295.58 945.277,1216.38 947.431,1269.48 949.585,1219.5 951.739,1246.61 953.893,1226.17 956.047,1230.17 958.201,1237.66 \n",
       "  960.355,1218.58 962.509,1256.95 964.663,1210.71 966.817,1293.58 968.971,1205.96 971.125,1445.72 973.279,1204.06 975.433,1292.6 977.587,1205.02 979.74,1250.79 \n",
       "  981.894,1209.13 984.048,1227.24 986.202,1217.02 988.356,1211.74 990.51,1229.97 992.664,1201.16 994.818,1250.18 996.972,1194.18 999.126,1276.84 1001.28,1190.18 \n",
       "  1003.43,1273.92 1005.59,1188.9 1007.74,1242.9 1009.9,1190.3 1012.05,1218.6 1014.2,1194.48 1016.36,1201.43 1018.51,1201.6 1020.67,1189.18 1022.82,1211.45 \n",
       "  1024.97,1180.54 1027.13,1221.72 1029.28,1174.81 1031.44,1225.04 1033.59,1171.59 1035.74,1215.64 1037.9,1170.65 1040.05,1200.27 1042.21,1171.84 1044.36,1185.7 \n",
       "  1046.51,1174.94 1048.67,1173.77 1050.82,1179.42 1052.97,1164.56 1055.13,1183.91 1057.28,1157.78 1059.44,1185.84 1061.59,1153.15 1063.74,1182.64 1065.9,1150.45 \n",
       "  1068.05,1174.61 1070.21,1149.44 1072.36,1164.5 1074.51,1149.84 1076.67,1154.59 1078.82,1151.19 1080.98,1145.96 1083.13,1152.68 1085.28,1138.93 1087.44,1153.1 \n",
       "  1089.59,1133.53 1091.75,1151.23 1093.9,1129.65 1096.05,1146.59 1098.21,1127.13 1100.36,1139.87 1102.52,1125.72 1104.67,1132.3 1106.82,1125.08 1108.98,1124.9 \n",
       "  1111.13,1124.7 1113.29,1118.27 1115.44,1123.93 1117.59,1112.67 1119.75,1122.07 1121.9,1108.16 1124.06,1118.71 1126.21,1104.68 1128.36,1113.9 1130.52,1102.08 \n",
       "  1132.67,1108.12 1134.83,1100.13 1136.98,1102 1139.13,1098.51 1141.29,1096.06 1143.44,1096.81 1145.59,1090.64 1147.75,1094.62 1149.9,1085.92 1152.06,1091.63 \n",
       "  1154.21,1081.91 1156.36,1087.73 1158.52,1078.58 1160.67,1083.07 1162.83,1075.77 1164.98,1077.94 1167.13,1073.3 1169.29,1072.71 1171.44,1070.91 1173.6,1067.66 \n",
       "  1175.75,1068.33 1177.9,1062.97 1180.06,1065.34 1182.21,1058.75 1184.37,1061.82 1186.52,1055 1188.67,1057.76 1190.83,1051.66 1192.98,1053.3 1195.14,1048.62 \n",
       "  1197.29,1048.64 1199.44,1045.72 1201.6,1043.97 1203.75,1042.79 1205.91,1039.45 1208.06,1039.67 1210.21,1035.2 1212.37,1036.25 1214.52,1031.25 1216.68,1032.49 \n",
       "  1218.83,1027.6 1220.98,1028.43 1223.14,1024.19 1225.29,1024.16 1227.45,1020.93 1229.6,1019.81 1231.75,1017.72 1233.91,1015.5 1236.06,1014.43 1238.21,1011.3 \n",
       "  1240.37,1011 1242.52,1007.29 1244.68,1007.36 1246.83,1003.48 1248.98,1003.52 1251.14,999.854 1253.29,999.503 1255.45,996.358 1257.6,995.387 1259.75,992.929 \n",
       "  1261.91,991.247 1264.06,989.497 1266.22,987.151 1268.37,985.998 1270.52,983.151 1272.68,982.387 1274.83,979.274 1276.99,978.643 1279.14,975.522 1281.29,974.777 \n",
       "  1283.45,971.876 1285.6,970.82 1287.76,968.299 1289.91,966.817 1292.06,964.747 1294.22,962.816 1296.37,961.175 1298.53,958.856 1300.68,957.547 1302.83,954.965 \n",
       "  1304.99,953.841 1307.14,951.156 1309.3,950.052 1311.45,947.422 1313.6,946.193 1315.76,943.748 1317.91,942.286 1320.06,940.107 1322.22,938.363 1324.37,936.47 \n",
       "  1326.53,934.45 1328.68,932.81 1330.83,930.572 1332.99,929.107 1335.14,926.742 1337.3,925.354 1339.45,922.963 1341.6,921.55 1343.76,919.229 1345.91,917.706 \n",
       "  1348.07,915.527 1350.22,913.84 1352.37,911.838 1354.53,909.97 1356.68,908.145 1358.84,906.113 1360.99,904.432 1363.14,902.282 1365.3,900.689 1367.45,898.484 \n",
       "  1369.61,896.913 1371.76,894.717 1373.91,893.107 1376.07,890.975 1378.22,889.28 1380.38,887.25 1382.53,885.443 1384.68,883.528 1386.84,881.609 1388.99,879.799 \n",
       "  1391.15,877.786 1393.3,876.055 1395.45,873.982 1397.61,872.29 1399.76,870.198 1401.92,868.505 1404.07,866.434 1406.22,864.703 1408.38,862.683 1410.53,860.89 \n",
       "  1412.68,858.94 1414.84,857.074 1416.99,855.196 1419.15,853.262 1421.3,851.445 1423.45,849.46 1425.61,847.683 1427.76,845.669 1429.92,843.908 1432.07,841.892 \n",
       "  1434.22,840.12 1436.38,838.126 1438.53,836.323 1440.69,834.368 1442.84,832.521 1444.99,830.612 1447.15,828.719 1449.3,826.853 1451.46,824.921 1453.61,823.09 \n",
       "  1455.76,821.13 1457.92,819.318 1460.07,817.347 1462.23,815.538 1464.38,813.573 1466.53,811.751 1468.69,809.804 1470.84,807.959 1473,806.039 1475.15,804.165 \n",
       "  1477.3,802.274 1479.46,800.372 1481.61,798.507 1483.77,796.582 1485.92,794.735 1488.07,792.797 1490.23,790.959 1492.38,789.018 1494.54,787.177 1496.69,785.243 \n",
       "  1498.84,783.391 1501,781.472 1503.15,779.603 1505.3,777.701 1507.46,775.815 1509.61,773.931 1511.77,772.027 1513.92,770.158 1516.07,768.243 1518.23,766.383 \n",
       "  1520.38,764.461 1522.54,762.604 1524.69,760.683 1526.84,758.822 1529,756.907 1531.15,755.038 1533.31,753.134 1535.46,751.253 1537.61,749.36 1539.77,747.468 \n",
       "  1541.92,745.586 1544.08,743.684 1546.23,741.81 1548.38,739.902 1550.54,738.032 1552.69,736.122 1554.85,734.253 1557,732.344 1559.15,730.471 1561.31,728.568 \n",
       "  1563.46,726.688 1565.62,724.792 1567.77,722.905 1569.92,721.016 1572.08,719.123 1574.23,717.24 1576.39,715.341 1578.54,713.463 1580.69,711.56 1582.85,709.684 \n",
       "  1585,707.781 1587.16,705.904 1589.31,704.003 1591.46,702.122 1593.62,700.226 1595.77,698.341 1597.92,696.449 1600.08,694.559 1602.23,692.672 1604.39,690.778 \n",
       "  1606.54,688.894 1608.69,686.997 1610.85,685.115 1613,683.218 1615.16,681.336 1617.31,679.439 1619.46,677.556 1621.62,675.66 1623.77,673.775 1625.93,671.882 \n",
       "  1628.08,669.995 1630.23,668.105 1632.39,666.214 1634.54,664.327 1636.7,662.433 1638.85,660.548 1641,658.654 1643.16,656.769 1645.31,654.874 1647.47,652.989 \n",
       "  1649.62,651.095 1651.77,649.21 1653.93,647.317 1656.08,645.429 1658.24,643.538 1660.39,641.649 1662.54,639.76 1664.7,637.869 1666.85,635.981 1669.01,634.089 \n",
       "  1671.16,632.202 1673.31,630.309 1675.47,628.423 1677.62,626.53 1679.78,624.643 1681.93,622.751 1684.08,620.864 1686.24,618.972 1688.39,617.084 1690.54,615.194 \n",
       "  1692.7,613.304 1694.85,611.415 1697.01,609.524 1699.16,607.636 1701.31,605.744 1703.47,603.857 1705.62,601.965 1707.78,600.077 1709.93,598.186 1712.08,596.298 \n",
       "  1714.24,594.407 1716.39,592.518 1718.55,590.628 1720.7,588.738 1722.85,586.849 1725.01,584.959 1727.16,583.07 1729.32,581.179 1731.47,579.291 1733.62,577.4 \n",
       "  1735.78,575.511 1737.93,573.62 1740.09,571.732 1742.24,569.841 1744.39,567.952 1746.55,566.062 1748.7,564.173 1750.86,562.283 1753.01,560.393 1755.16,558.504 \n",
       "  1757.32,556.614 1759.47,554.725 1761.63,552.834 1763.78,550.945 1765.93,549.055 1768.09,547.166 1770.24,545.276 1772.39,543.387 1774.55,541.496 1776.7,539.607 \n",
       "  1778.86,537.717 1781.01,535.828 1783.16,533.938 1785.32,532.048 1787.47,530.159 1789.63,528.269 1791.78,526.38 1793.93,524.489 1796.09,522.6 1798.24,520.71 \n",
       "  1800.4,518.821 1802.55,516.931 1804.7,515.041 1806.86,513.151 1809.01,511.262 1811.17,509.372 1813.32,507.483 1815.47,505.593 1817.63,503.703 1819.78,501.814 \n",
       "  1821.94,499.924 1824.09,498.034 1826.24,496.144 1828.4,494.255 1830.55,492.365 1832.71,490.476 1834.86,488.586 1837.01,486.696 1839.17,484.807 1841.32,482.917 \n",
       "  1843.48,481.027 1845.63,479.138 1847.78,477.248 1849.94,475.358 1852.09,473.469 1854.25,471.579 1856.4,469.689 1858.55,467.799 1860.71,465.91 1862.86,464.02 \n",
       "  1865.01,462.131 1867.17,460.241 1869.32,458.351 1871.48,456.462 1873.63,454.572 1875.78,452.682 1877.94,450.793 1880.09,448.903 1882.25,447.013 1884.4,445.124 \n",
       "  1886.55,443.234 1888.71,441.344 1890.86,439.454 1893.02,437.565 1895.17,435.675 1897.32,433.786 1899.48,431.896 1901.63,430.006 1903.79,428.117 1905.94,426.227 \n",
       "  1908.09,424.337 1910.25,422.448 1912.4,420.558 1914.56,418.668 1916.71,416.779 1918.86,414.889 1921.02,412.999 1923.17,411.109 1925.33,409.22 1927.48,407.33 \n",
       "  1929.63,405.441 1931.79,403.551 1933.94,401.661 1936.1,399.772 1938.25,397.882 1940.4,395.992 1942.56,394.103 1944.71,392.213 1946.87,390.323 1949.02,388.434 \n",
       "  1951.17,386.544 1953.33,384.654 1955.48,382.764 1957.63,380.875 1959.79,378.985 1961.94,377.096 1964.1,375.206 1966.25,373.316 1968.4,371.427 1970.56,369.537 \n",
       "  1972.71,367.647 1974.87,365.757 1977.02,363.868 1979.17,361.978 1981.33,360.089 1983.48,358.199 1985.64,356.309 1987.79,354.419 1989.94,352.53 1992.1,350.64 \n",
       "  1994.25,348.75 1996.41,346.861 1998.56,344.971 2000.71,343.081 2002.87,341.192 2005.02,339.302 2007.18,337.412 2009.33,335.523 2011.48,333.633 2013.64,331.743 \n",
       "  2015.79,329.854 2017.95,327.964 2020.1,326.074 2022.25,324.185 2024.41,322.295 2026.56,320.405 2028.72,318.516 2030.87,316.626 2033.02,314.736 2035.18,312.847 \n",
       "  2037.33,310.957 2039.49,309.067 2041.64,307.178 2043.79,305.288 2045.95,303.398 2048.1,301.509 2050.25,299.619 2052.41,297.729 2054.56,295.84 2056.72,293.95 \n",
       "  2058.87,292.06 2061.02,290.171 2063.18,288.281 2065.33,286.391 2067.49,284.502 2069.64,282.612 2071.79,280.722 2073.95,278.833 2076.1,276.943 2078.26,275.053 \n",
       "  2080.41,273.164 2082.56,271.274 2084.72,269.384 2086.87,267.495 2089.03,265.605 2091.18,263.715 2093.33,261.826 2095.49,259.936 2097.64,258.046 2099.8,256.157 \n",
       "  2101.95,254.267 2104.1,252.377 2106.26,250.488 2108.41,248.598 2110.57,246.708 2112.72,244.819 2114.87,242.929 2117.03,241.039 2119.18,239.15 2121.34,237.26 \n",
       "  2123.49,235.37 2125.64,233.481 2127.8,231.591 2129.95,229.701 2132.11,227.812 2134.26,225.922 2136.41,224.032 2138.57,222.143 2140.72,220.253 2142.87,218.363 \n",
       "  2145.03,216.474 2147.18,214.584 2149.34,212.694 2151.49,210.805 2153.64,208.915 2155.8,207.025 2157.95,205.136 2160.11,203.246 2162.26,201.356 2164.41,199.467 \n",
       "  2166.57,197.577 2168.72,195.687 2170.88,193.798 2173.03,191.908 2175.18,190.018 2177.34,188.129 2179.49,186.239 2181.65,184.349 2183.8,182.46 2185.95,180.57 \n",
       "  2188.11,178.68 2190.26,176.791 2192.42,174.901 2194.57,173.011 2196.72,171.122 2198.88,169.232 2201.03,167.342 2203.19,165.453 2205.34,163.563 2207.49,161.673 \n",
       "  2209.65,159.784 2211.8,157.894 2213.96,156.004 2216.11,154.115 2218.26,152.225 2220.42,150.335 2222.57,148.446 2224.72,146.556 2226.88,144.666 2229.03,142.777 \n",
       "  2231.19,140.887 2233.34,138.997 2235.49,137.108 2237.65,135.218 2239.8,133.328 2241.96,131.439 2244.11,129.549 2246.26,127.659 2248.42,125.77 2250.57,123.88 \n",
       "  2252.73,121.99 2254.88,120.101 2257.03,118.211 2259.19,116.321 2261.34,114.432 2263.5,112.542 2265.65,110.652 2267.8,108.763 2269.96,106.873 2272.11,104.983 \n",
       "  2274.27,103.094 2276.42,101.204 2278.57,99.3143 2280.73,97.4246 2282.88,95.5349 2285.04,93.6453 2287.19,91.7556 2289.34,89.8659 2291.5,87.9763 \n",
       "  \"/>\n",
       "<path clip-path=\"url(#clip760)\" d=\"\n",
       "M1924.18 250.738 L2280.61 250.738 L2280.61 95.2176 L1924.18 95.2176  Z\n",
       "  \" fill=\"#ffffff\" fill-rule=\"evenodd\" fill-opacity=\"1\"/>\n",
       "<polyline clip-path=\"url(#clip760)\" style=\"stroke:#000000; stroke-linecap:butt; stroke-linejoin:round; stroke-width:4; stroke-opacity:1; fill:none\" points=\"\n",
       "  1924.18,250.738 2280.61,250.738 2280.61,95.2176 1924.18,95.2176 1924.18,250.738 \n",
       "  \"/>\n",
       "<polyline clip-path=\"url(#clip760)\" style=\"stroke:#009af9; stroke-linecap:butt; stroke-linejoin:round; stroke-width:4; stroke-opacity:1; fill:none\" points=\"\n",
       "  1948.23,147.058 2092.53,147.058 \n",
       "  \"/>\n",
       "<path clip-path=\"url(#clip760)\" d=\"M2138.55 152.474 Q2137.92 155.495 2137.1 157.229 Q2135.79 159.875 2133.56 159.875 Q2131.87 159.875 2130.68 158.845 Q2129.49 157.814 2129.2 156.268 Q2126.14 159.875 2122.95 159.875 Q2120.14 159.875 2118.36 157.744 Q2116.58 155.589 2116.58 152.193 Q2116.58 148.773 2118.27 145.494 Q2119.98 142.215 2122.67 140.177 Q2125.36 138.139 2128.13 138.139 Q2131.06 138.139 2132.55 141.208 Q2132.67 140.365 2133.21 139.732 Q2133.75 139.1 2134.57 139.1 Q2135.2 139.1 2135.58 139.451 Q2135.95 139.779 2135.95 140.388 Q2135.95 140.692 2135.62 142.028 L2133.89 148.726 L2132.84 153.06 Q2132.44 154.652 2132.32 155.238 Q2132.23 155.823 2132.23 156.596 Q2132.23 158.798 2133.66 158.798 Q2134.36 158.798 2134.92 158.353 Q2135.48 157.908 2135.93 156.971 Q2136.37 156.034 2136.65 155.168 Q2136.93 154.277 2137.31 152.872 Q2137.43 152.31 2137.52 152.169 Q2137.64 152.006 2137.96 152.006 Q2138.55 152.006 2138.55 152.474 M2131.97 143.409 Q2131.97 143.199 2131.8 142.613 Q2131.64 142.028 2131.27 141.208 Q2130.89 140.388 2130.07 139.802 Q2129.28 139.193 2128.2 139.193 Q2126.75 139.193 2125.22 140.435 Q2123.72 141.676 2122.62 143.784 Q2121.78 145.471 2120.87 149.007 Q2119.98 152.544 2119.98 154.301 Q2119.98 155.378 2120.21 156.339 Q2120.47 157.276 2121.19 158.049 Q2121.92 158.798 2123.04 158.798 Q2125.79 158.798 2128.48 155.402 Q2128.99 154.816 2129.11 154.582 Q2129.25 154.324 2129.44 153.622 L2131.83 144.229 Q2131.97 143.527 2131.97 143.409 Z\" fill=\"#000000\" fill-rule=\"evenodd\" fill-opacity=\"1\" /><path clip-path=\"url(#clip760)\" d=\"M2166.55 152.474 Q2166.55 152.661 2166.33 153.387 Q2166.12 154.114 2165.61 155.238 Q2165.12 156.362 2164.44 157.393 Q2163.76 158.4 2162.63 159.149 Q2161.53 159.875 2160.27 159.875 Q2158.58 159.875 2157.46 158.751 Q2156.33 157.627 2156.33 155.94 Q2156.33 155.004 2156.83 153.715 Q2159.94 145.4 2159.94 142.543 Q2159.94 139.193 2157.34 139.193 Q2156.05 139.193 2154.83 139.685 Q2153.64 140.154 2152.82 140.81 Q2152 141.465 2151.25 142.379 Q2150.52 143.269 2150.15 143.878 Q2149.8 144.463 2149.52 145.049 L2148.91 147.438 Q2148.77 148.094 2148.09 150.647 L2147.03 154.98 Q2146.28 158.212 2146.12 158.517 Q2145.89 159.173 2145.37 159.524 Q2144.86 159.875 2144.34 159.875 Q2143.76 159.875 2143.36 159.524 Q2142.96 159.173 2142.96 158.564 Q2142.96 158.47 2143.03 158.119 Q2143.1 157.767 2143.22 157.276 Q2143.33 156.784 2143.38 156.503 L2146.17 145.424 Q2146.68 143.409 2146.8 142.777 Q2146.94 142.121 2146.94 141.395 Q2146.94 139.193 2145.44 139.193 Q2144.22 139.193 2143.43 140.646 Q2142.63 142.098 2141.95 144.909 Q2141.74 145.681 2141.6 145.845 Q2141.48 146.009 2141.13 146.009 Q2140.55 145.986 2140.55 145.517 Q2140.55 145.4 2140.73 144.627 Q2140.92 143.855 2141.27 142.754 Q2141.65 141.629 2142 140.88 Q2142.3 140.318 2142.47 140.06 Q2142.65 139.779 2143.1 139.24 Q2143.57 138.678 2144.18 138.42 Q2144.81 138.139 2145.58 138.139 Q2147.32 138.139 2148.58 139.264 Q2149.85 140.365 2150.01 142.309 Q2153.12 138.139 2157.48 138.139 Q2160.06 138.139 2161.53 139.498 Q2163.01 140.856 2163.01 143.269 Q2163.01 143.831 2162.89 144.557 Q2162.8 145.26 2162.56 146.15 Q2162.35 147.04 2162.17 147.719 Q2161.98 148.398 2161.6 149.499 Q2161.23 150.577 2161.06 151.045 Q2160.9 151.514 2160.5 152.614 Q2160.13 153.692 2160.08 153.809 Q2159.21 155.987 2159.21 157.229 Q2159.21 158.049 2159.47 158.423 Q2159.75 158.798 2160.36 158.798 Q2162 158.798 2163.22 157.182 Q2164.46 155.542 2165.26 152.872 Q2165.44 152.287 2165.54 152.146 Q2165.66 152.006 2165.98 152.006 Q2166.55 152.006 2166.55 152.474 Z\" fill=\"#000000\" fill-rule=\"evenodd\" fill-opacity=\"1\" /><path clip-path=\"url(#clip760)\" d=\"M2192.15 152.474 Q2191.52 155.495 2190.7 157.229 Q2189.39 159.875 2187.16 159.875 Q2185.47 159.875 2184.28 158.845 Q2183.09 157.814 2182.8 156.268 Q2179.74 159.875 2176.55 159.875 Q2173.74 159.875 2171.96 157.744 Q2170.18 155.589 2170.18 152.193 Q2170.18 148.773 2171.87 145.494 Q2173.58 142.215 2176.27 140.177 Q2178.96 138.139 2181.73 138.139 Q2184.65 138.139 2186.15 141.208 Q2186.27 140.365 2186.81 139.732 Q2187.35 139.1 2188.17 139.1 Q2188.8 139.1 2189.18 139.451 Q2189.55 139.779 2189.55 140.388 Q2189.55 140.692 2189.22 142.028 L2187.49 148.726 L2186.44 153.06 Q2186.04 154.652 2185.92 155.238 Q2185.83 155.823 2185.83 156.596 Q2185.83 158.798 2187.25 158.798 Q2187.96 158.798 2188.52 158.353 Q2189.08 157.908 2189.53 156.971 Q2189.97 156.034 2190.25 155.168 Q2190.53 154.277 2190.91 152.872 Q2191.03 152.31 2191.12 152.169 Q2191.24 152.006 2191.56 152.006 Q2192.15 152.006 2192.15 152.474 M2185.57 143.409 Q2185.57 143.199 2185.4 142.613 Q2185.24 142.028 2184.87 141.208 Q2184.49 140.388 2183.67 139.802 Q2182.87 139.193 2181.8 139.193 Q2180.35 139.193 2178.82 140.435 Q2177.32 141.676 2176.22 143.784 Q2175.38 145.471 2174.47 149.007 Q2173.58 152.544 2173.58 154.301 Q2173.58 155.378 2173.81 156.339 Q2174.07 157.276 2174.79 158.049 Q2175.52 158.798 2176.64 158.798 Q2179.38 158.798 2182.08 155.402 Q2182.59 154.816 2182.71 154.582 Q2182.85 154.324 2183.04 153.622 L2185.43 144.229 Q2185.57 143.527 2185.57 143.409 Z\" fill=\"#000000\" fill-rule=\"evenodd\" fill-opacity=\"1\" /><path clip-path=\"url(#clip760)\" d=\"M2230.62 145.963 Q2230.62 149.429 2228.84 152.685 Q2227.08 155.94 2224.32 157.908 Q2221.58 159.875 2218.81 159.875 Q2215.7 159.875 2214.08 156.643 Q2211.15 168.378 2210.99 168.682 Q2210.31 169.689 2209.33 169.689 Q2208.72 169.689 2208.34 169.315 Q2207.97 168.963 2207.97 168.401 Q2207.99 168.214 2208.13 167.628 L2212.82 148.773 Q2213.9 144.393 2217.15 141.278 Q2220.43 138.139 2223.94 138.139 Q2226.73 138.139 2228.67 140.224 Q2230.62 142.309 2230.62 145.963 M2227.18 143.901 Q2227.18 141.559 2226.24 140.388 Q2225.3 139.193 2223.85 139.193 Q2222.51 139.193 2220.9 140.271 Q2219.31 141.348 2217.9 143.737 Q2217.15 145.119 2216.61 146.829 Q2216.07 148.539 2215.02 152.755 Q2214.64 154.441 2214.64 154.535 Q2214.64 154.723 2214.74 155.144 Q2214.86 155.566 2215.14 156.222 Q2215.44 156.854 2215.86 157.416 Q2216.28 157.978 2217.06 158.4 Q2217.83 158.798 2218.77 158.798 Q2220.22 158.798 2221.77 157.627 Q2223.33 156.432 2224.48 154.254 Q2225.44 152.497 2226.31 149.195 Q2227.18 145.869 2227.18 143.901 Z\" fill=\"#000000\" fill-rule=\"evenodd\" fill-opacity=\"1\" /><polyline clip-path=\"url(#clip760)\" style=\"stroke:#e26f46; stroke-linecap:butt; stroke-linejoin:round; stroke-width:4; stroke-opacity:1; fill:none\" points=\"\n",
       "  1948.23,198.898 2092.53,198.898 \n",
       "  \"/>\n",
       "<path clip-path=\"url(#clip760)\" d=\"M2138.55 207.393 Q2137.92 210.415 2137.1 212.148 Q2135.79 214.795 2133.56 214.795 Q2131.87 214.795 2130.68 213.764 Q2129.49 212.734 2129.2 211.188 Q2126.14 214.795 2122.95 214.795 Q2120.14 214.795 2118.36 212.664 Q2116.58 210.509 2116.58 207.112 Q2116.58 203.693 2118.27 200.414 Q2119.98 197.134 2122.67 195.097 Q2125.36 193.059 2128.13 193.059 Q2131.06 193.059 2132.55 196.127 Q2132.67 195.284 2133.21 194.652 Q2133.75 194.019 2134.57 194.019 Q2135.2 194.019 2135.58 194.371 Q2135.95 194.699 2135.95 195.308 Q2135.95 195.612 2135.62 196.947 L2133.89 203.646 L2132.84 207.979 Q2132.44 209.572 2132.32 210.157 Q2132.23 210.743 2132.23 211.516 Q2132.23 213.718 2133.66 213.718 Q2134.36 213.718 2134.92 213.273 Q2135.48 212.828 2135.93 211.891 Q2136.37 210.954 2136.65 210.087 Q2136.93 209.197 2137.31 207.792 Q2137.43 207.23 2137.52 207.089 Q2137.64 206.925 2137.96 206.925 Q2138.55 206.925 2138.55 207.393 M2131.97 198.329 Q2131.97 198.118 2131.8 197.533 Q2131.64 196.947 2131.27 196.127 Q2130.89 195.308 2130.07 194.722 Q2129.28 194.113 2128.2 194.113 Q2126.75 194.113 2125.22 195.354 Q2123.72 196.596 2122.62 198.704 Q2121.78 200.39 2120.87 203.927 Q2119.98 207.464 2119.98 209.22 Q2119.98 210.298 2120.21 211.258 Q2120.47 212.195 2121.19 212.968 Q2121.92 213.718 2123.04 213.718 Q2125.79 213.718 2128.48 210.321 Q2128.99 209.736 2129.11 209.502 Q2129.25 209.244 2129.44 208.541 L2131.83 199.149 Q2131.97 198.446 2131.97 198.329 Z\" fill=\"#000000\" fill-rule=\"evenodd\" fill-opacity=\"1\" /><path clip-path=\"url(#clip760)\" d=\"M2166.55 207.393 Q2166.55 207.581 2166.33 208.307 Q2166.12 209.033 2165.61 210.157 Q2165.12 211.282 2164.44 212.312 Q2163.76 213.319 2162.63 214.069 Q2161.53 214.795 2160.27 214.795 Q2158.58 214.795 2157.46 213.671 Q2156.33 212.546 2156.33 210.86 Q2156.33 209.923 2156.83 208.635 Q2159.94 200.32 2159.94 197.462 Q2159.94 194.113 2157.34 194.113 Q2156.05 194.113 2154.83 194.605 Q2153.64 195.073 2152.82 195.729 Q2152 196.385 2151.25 197.298 Q2150.52 198.188 2150.15 198.797 Q2149.8 199.383 2149.52 199.969 L2148.91 202.358 Q2148.77 203.013 2148.09 205.567 L2147.03 209.9 Q2146.28 213.132 2146.12 213.436 Q2145.89 214.092 2145.37 214.444 Q2144.86 214.795 2144.34 214.795 Q2143.76 214.795 2143.36 214.444 Q2142.96 214.092 2142.96 213.483 Q2142.96 213.39 2143.03 213.038 Q2143.1 212.687 2143.22 212.195 Q2143.33 211.703 2143.38 211.422 L2146.17 200.343 Q2146.68 198.329 2146.8 197.697 Q2146.94 197.041 2146.94 196.315 Q2146.94 194.113 2145.44 194.113 Q2144.22 194.113 2143.43 195.565 Q2142.63 197.017 2141.95 199.828 Q2141.74 200.601 2141.6 200.765 Q2141.48 200.929 2141.13 200.929 Q2140.55 200.905 2140.55 200.437 Q2140.55 200.32 2140.73 199.547 Q2140.92 198.774 2141.27 197.673 Q2141.65 196.549 2142 195.799 Q2142.3 195.237 2142.47 194.98 Q2142.65 194.699 2143.1 194.16 Q2143.57 193.598 2144.18 193.34 Q2144.81 193.059 2145.58 193.059 Q2147.32 193.059 2148.58 194.183 Q2149.85 195.284 2150.01 197.228 Q2153.12 193.059 2157.48 193.059 Q2160.06 193.059 2161.53 194.417 Q2163.01 195.776 2163.01 198.188 Q2163.01 198.751 2162.89 199.477 Q2162.8 200.179 2162.56 201.069 Q2162.35 201.959 2162.17 202.639 Q2161.98 203.318 2161.6 204.419 Q2161.23 205.496 2161.06 205.965 Q2160.9 206.433 2160.5 207.534 Q2160.13 208.611 2160.08 208.729 Q2159.21 210.907 2159.21 212.148 Q2159.21 212.968 2159.47 213.343 Q2159.75 213.718 2160.36 213.718 Q2162 213.718 2163.22 212.101 Q2164.46 210.462 2165.26 207.792 Q2165.44 207.206 2165.54 207.066 Q2165.66 206.925 2165.98 206.925 Q2166.55 206.925 2166.55 207.393 Z\" fill=\"#000000\" fill-rule=\"evenodd\" fill-opacity=\"1\" /><path clip-path=\"url(#clip760)\" d=\"M2192.15 207.393 Q2191.52 210.415 2190.7 212.148 Q2189.39 214.795 2187.16 214.795 Q2185.47 214.795 2184.28 213.764 Q2183.09 212.734 2182.8 211.188 Q2179.74 214.795 2176.55 214.795 Q2173.74 214.795 2171.96 212.664 Q2170.18 210.509 2170.18 207.112 Q2170.18 203.693 2171.87 200.414 Q2173.58 197.134 2176.27 195.097 Q2178.96 193.059 2181.73 193.059 Q2184.65 193.059 2186.15 196.127 Q2186.27 195.284 2186.81 194.652 Q2187.35 194.019 2188.17 194.019 Q2188.8 194.019 2189.18 194.371 Q2189.55 194.699 2189.55 195.308 Q2189.55 195.612 2189.22 196.947 L2187.49 203.646 L2186.44 207.979 Q2186.04 209.572 2185.92 210.157 Q2185.83 210.743 2185.83 211.516 Q2185.83 213.718 2187.25 213.718 Q2187.96 213.718 2188.52 213.273 Q2189.08 212.828 2189.53 211.891 Q2189.97 210.954 2190.25 210.087 Q2190.53 209.197 2190.91 207.792 Q2191.03 207.23 2191.12 207.089 Q2191.24 206.925 2191.56 206.925 Q2192.15 206.925 2192.15 207.393 M2185.57 198.329 Q2185.57 198.118 2185.4 197.533 Q2185.24 196.947 2184.87 196.127 Q2184.49 195.308 2183.67 194.722 Q2182.87 194.113 2181.8 194.113 Q2180.35 194.113 2178.82 195.354 Q2177.32 196.596 2176.22 198.704 Q2175.38 200.39 2174.47 203.927 Q2173.58 207.464 2173.58 209.22 Q2173.58 210.298 2173.81 211.258 Q2174.07 212.195 2174.79 212.968 Q2175.52 213.718 2176.64 213.718 Q2179.38 213.718 2182.08 210.321 Q2182.59 209.736 2182.71 209.502 Q2182.85 209.244 2183.04 208.541 L2185.43 199.149 Q2185.57 198.446 2185.57 198.329 Z\" fill=\"#000000\" fill-rule=\"evenodd\" fill-opacity=\"1\" /><path clip-path=\"url(#clip760)\" d=\"M2229.33 187.952 L2217.21 187.952 L2217.21 186.902 L2229.33 186.902 L2229.33 187.952 Z\" fill=\"#000000\" fill-rule=\"evenodd\" fill-opacity=\"1\" /><path clip-path=\"url(#clip760)\" d=\"M2231.62 200.882 Q2231.62 204.349 2229.84 207.604 Q2228.08 210.86 2225.32 212.828 Q2222.58 214.795 2219.81 214.795 Q2216.7 214.795 2215.08 211.563 Q2212.15 223.297 2211.99 223.602 Q2211.31 224.609 2210.33 224.609 Q2209.72 224.609 2209.34 224.234 Q2208.97 223.883 2208.97 223.321 Q2208.99 223.133 2209.13 222.548 L2213.82 203.693 Q2214.9 199.313 2218.15 196.198 Q2221.43 193.059 2224.94 193.059 Q2227.73 193.059 2229.67 195.144 Q2231.62 197.228 2231.62 200.882 M2228.18 198.821 Q2228.18 196.479 2227.24 195.308 Q2226.3 194.113 2224.85 194.113 Q2223.51 194.113 2221.9 195.19 Q2220.31 196.268 2218.9 198.657 Q2218.15 200.039 2217.61 201.749 Q2217.07 203.459 2216.02 207.675 Q2215.64 209.361 2215.64 209.455 Q2215.64 209.642 2215.74 210.064 Q2215.86 210.485 2216.14 211.141 Q2216.44 211.773 2216.86 212.336 Q2217.28 212.898 2218.06 213.319 Q2218.83 213.718 2219.77 213.718 Q2221.22 213.718 2222.77 212.546 Q2224.33 211.352 2225.48 209.174 Q2226.44 207.417 2227.31 204.114 Q2228.18 200.788 2228.18 198.821 Z\" fill=\"#000000\" fill-rule=\"evenodd\" fill-opacity=\"1\" /></svg>\n"
      ]
     },
     "execution_count": 87,
     "metadata": {},
     "output_type": "execute_result"
    }
   ],
   "source": [
    "using LinearAlgebra\n",
    "using DifferentialEquations, StaticArrays\n",
    "using Plots\n",
    "using LaTeXStrings\n",
    "using Plots\n",
    "\n",
    "#parameters\n",
    "const w_0 = 0.3 #km^-1\n",
    "mu_0 = 6e5 #6e5 km^-1\n",
    "theta = 1e-6 #1e-6\n",
    "\n",
    "const gcc = 0.5/11.4 #km^-1\n",
    "const gaep = 0.5/0.417#km^-1\n",
    "const gaem = 0.5/0.417#km^-1\n",
    "PAE = SA[0.0,0.0,2.0]\n",
    "const PAEZ = PAE[3]\n",
    "const PAE0 = 4.0\n",
    "\n",
    "const bgcc = 0.5/37.2 #km^-1\n",
    "const bgaep = 0.5/4.36 #km^-1\n",
    "const bgaem = 0.5/4.36 #km^-1\n",
    "bPAE = SA[0.0,0.0,1.5]\n",
    "const bPAEZ = bPAE[3]\n",
    "const bPAE0 = 3.5\n",
    "#B= SA[-sin(2*theta),0,cos(2*theta)]\n",
    "@fastmath @inbounds wB = w_0*SA[-sin(2*theta),0,cos(2*theta)]\n",
    "tkm = 0.0:0.01:25. #time in km^-1\n",
    "t = (10/3)tkm #time in microsecond\n",
    "\n",
    "#initial P_w\n",
    "Pi = [0.0,0.0,2.0]\n",
    "const Pi0 = 4.0\n",
    "bPi = [0.0,0.0,1.5] #P_bar\n",
    "const bPi0 = 3.5\n",
    "print()\n",
    "\n",
    "#parameters\n",
    "S=3.5\n",
    "D=0.5\n",
    "\n",
    "g = gcc+gaep #gamma\n",
    "bg = bgcc+bgaep #gamma_bar\n",
    "mup = 0.5(S+D)*mu_0\n",
    "mum = 0.5(S-D)*mu_0\n",
    "A = [-w_0*cos(2*theta)-mum-1im*g mup ; -mum w_0*cos(2*theta)+mup-1im*bg]\n",
    "omegam, omegap = eigvals(A)\n",
    "rho_ini = 0.5*Pi[1]+0.5im*Pi[2] #rho_ex = Px+i Py\n",
    "brho_ini = 0.5*bPi[1]+0.5im*bPi[2] #bar{rho}_ex = bPx+i bPy\n",
    "\n",
    "#adj\n",
    "rho0,brho0 = w_0*sin(2*theta)*inv(A)*[-1; 1]\n",
    "adjrho = rho_ini-rho0\n",
    "adjbrho = brho_ini-brho0\n",
    "\n",
    "#v^-1 \\rho\n",
    "Qexp = [adjrho adjbrho]*transpose(inv(eigvecs(A)))\n",
    "Qexp_abs = broadcast(abs,Qexp)\n",
    "Omegap = mu_0*D + 1im*(-0.5*(g+bg)+0.5*S*(g-bg)/D)\n",
    "Omegam = w_0*S/D - 1im*(0.5*(g+bg)+0.5*S*(g-bg)/D)\n",
    "iomegaptf(t) = exp(1im*Omegap*t)\n",
    "iomegapt = broadcast(iomegaptf,tkm)\n",
    "iomegamtf(t) = exp(1im*Omegam*t)\n",
    "iomegamt = broadcast(iomegamtf,tkm)\n",
    "Qm = broadcast(abs,Qexp[:,1].*iomegamt)\n",
    "Qp = broadcast(abs,Qexp[:,2].*iomegapt)\n",
    "\n",
    "#plot(t, Qexp_abs, xlabel = L\"t / \\mu s\",ylabel = \"Qexp\", label = [L\"Q_-\" L\"Q_+\"])\n",
    "plot(t, Qm, xlabel = L\"t / \\mu s\", yaxis=:log, ylabel = \"Q\", label = L\"Q_-\")\n",
    "plot!(t, Qp, label = L\"Q_+\")\n",
    "\n",
    "#analytical solution\n",
    "Qma, Qpa=Qexp[1,1], Qexp[1,2]\n",
    "miomegaptf(t) = exp(-1im*Omegap*t)\n",
    "miomegapt = broadcast(miomegaptf,tkm)\n",
    "miomegamtf(t) = exp(-1im*Omegam*t)\n",
    "miomegamt = broadcast(miomegamtf,tkm)\n",
    "anasol = eigvecs(A)*transpose([Qma*miomegamt Qpa*miomegapt])\n",
    "abs_anarho = broadcast(abs,anasol[1,:].+rho0)\n",
    "abs_anabrho = broadcast(abs,anasol[2,:].+brho0)\n",
    "\n",
    "@fastmath @inbounds y = [abs_anarho abs_anabrho]::Matrix{Float64}\n",
    "plot(t[2:950], y[2:950,:], yaxis=:log, label = [L\"ana ~\\rho\" L\"ana ~\\bar{\\rho}\"])\n",
    "#savefig(\"compare.png\")"
   ]
  },
  {
   "cell_type": "code",
   "execution_count": 88,
   "id": "a8165f83-911a-459b-8e8a-c3269b9ab553",
   "metadata": {},
   "outputs": [
    {
     "name": "stdout",
     "output_type": "stream",
     "text": [
      "11.26666666666666711.311.33333333333333411.36666666666666711.411.43333333333333411.46666666666666711.511.53333333333333311.533333333333333"
     ]
    }
   ],
   "source": [
    "#abs(Qp*vp*exp(-i*Omema_p*t))\n",
    "a = broadcast(abs, eigvecs(A)[2,2]*Qpa*miomegapt)\n",
    "b = broadcast(abs, eigvecs(A)[1,2]*Qpa*miomegapt) \n",
    "for i in 1:length(t)\n",
    "    if a[i]>abs(adjbrho)\n",
    "        print(t[i])\n",
    "    end\n",
    "    if b[i]>abs(adjrho)\n",
    "        print(t[i])\n",
    "        break\n",
    "    end\n",
    "end"
   ]
  },
  {
   "cell_type": "markdown",
   "id": "6ea5ca33-ad63-4a90-a437-112d4f42fe15",
   "metadata": {},
   "source": [
    "## Draw the proportions of each mode with differential method\n",
    "\n",
    "Notice that\n",
    "$$\n",
    "\\begin{bmatrix}\n",
    "\\rho_{ex} (t)\\\\ \\bar{\\rho}_{ex} (t)\n",
    "\\end{bmatrix}\n",
    "= \n",
    "\\begin{bmatrix}\n",
    "Q_+ \\\\ \\bar{Q}_+\n",
    "\\end{bmatrix}\n",
    "e^{-i \\Omega_{+} ~\\bf{t}} + \n",
    "\\begin{bmatrix}\n",
    "Q_- \\\\ \\bar{Q}_-\n",
    "\\end{bmatrix}\n",
    "e^{-i \\Omega_{-} ~\\bf{t}}\n",
    "$$, or\n",
    "$$\n",
    "\\begin{bmatrix}\n",
    "\\dot{\\rho_{ex}} (t)\\\\ \\dot{\\bar{\\rho}}_{ex} (t)\n",
    "\\end{bmatrix}\n",
    "= \n",
    "-i \\Omega_{+} \\begin{bmatrix}\n",
    "Q_+ \\\\ \\bar{Q}_+\n",
    "\\end{bmatrix}\n",
    "e^{-i \\Omega_{+} ~\\bf{t}} - \n",
    "i \\Omega_{-}\n",
    "\\begin{bmatrix}\n",
    "Q_- \\\\ \\bar{Q}_-\n",
    "\\end{bmatrix}\n",
    "e^{-i \\Omega_{-} ~\\bf{t}}\n",
    "$$, where we assume the variation of Q is a quasistatic process.\n",
    "\n",
    "Therefore,\n",
    "$$\n",
    "\\begin{cases}\n",
    "\\left|Q_+\\right| = \\left|\\left(\\frac{i\\Omega_- ~ \\rho_{ex} ~+ \\dot{\\rho}_{ex}}{\\Omega_+ - \\Omega_-}\\right) e^{i \\Omega_{+} ~\\bf{t}}\\right|\n",
    "\\\\\n",
    "\\left|Q_-\\right| =  \\left|\\left(\\frac{i\\Omega_+ ~ \\rho_{ex} ~+ \\dot{\\rho}_{ex}}{\\Omega_+ - \\Omega_-}\\right) e^{i \\Omega_{-} ~\\bf{t}}\\right|\n",
    "\\\\\n",
    "\\left|\\bar{Q}_+\\right| = \\left|\\left(\\frac{i\\Omega_- ~ \\bar{\\rho}_{ex} ~+ \\dot{\\bar{\\rho}}_{ex}}{\\Omega_+ - \\Omega_-}\\right) e^{i \\Omega_{+} ~\\bf{t}}\\right|\n",
    "\\\\\n",
    "\\left|\\bar{Q}_-\\right| = \\left|\\left(\\frac{i\\Omega_+ ~ \\bar{\\rho}_{ex} ~+ \\dot{\\bar{\\rho}}_{ex}}{\\Omega_+ - \\Omega_-}\\right) e^{i \\Omega_{-} ~\\bf{t}}\\right|\n",
    "\\end{cases}\n",
    "$$, or\n",
    "$$\n",
    "\\begin{cases}\n",
    "Q_+^2 \\equiv \\left|Q_+\\right|^2 + \\left|\\bar{Q}_+\\right|^2 \\\\= \n",
    "\\left|\\left(\\frac{i\\Omega_- ~ \\rho_{ex} ~+ \\dot{\\rho}_{ex}}{\\Omega_+ - \\Omega_-}\\right) e^{i \\Omega_{+} ~\\bf{t}}\\right| +\n",
    "\\left|\\left(\\frac{i\\Omega_- ~ \\bar{\\rho}_{ex} ~+ \\dot{\\bar{\\rho}}_{ex}}{\\Omega_+ - \\Omega_-}\\right) e^{i \\Omega_{+} ~\\bf{t}}\\right|^2\n",
    "\\\\\n",
    "Q_-^2 \\equiv \\left|Q_-\\right|^2 + \\left|\\bar{Q}_-\\right|^2 \\\\= \n",
    "\\left|\\left(\\frac{i\\Omega_+ ~ \\rho_{ex} ~+ \\dot{\\rho}_{ex}}{\\Omega_+ - \\Omega_-}\\right) e^{i \\Omega_{-} ~\\bf{t}}\\right| +\n",
    "\\left|\\left(\\frac{i\\Omega_+ ~ \\bar{\\rho}_{ex} ~+ \\dot{\\bar{\\rho}}_{ex}}{\\Omega_+ - \\Omega_-}\\right) e^{i \\Omega_{-} ~\\bf{t}}\\right|^2\n",
    "\\end{cases}\n",
    "$$"
   ]
  },
  {
   "cell_type": "code",
   "execution_count": null,
   "id": "62377b0a-a510-4658-96cd-683ea58425c7",
   "metadata": {},
   "outputs": [],
   "source": []
  }
 ],
 "metadata": {
  "kernelspec": {
   "display_name": "Julia 8 Threads 1.7.2",
   "language": "julia",
   "name": "julia-8-threads-1.7"
  },
  "language_info": {
   "file_extension": ".jl",
   "mimetype": "application/julia",
   "name": "julia",
   "version": "1.7.2"
  },
  "widgets": {
   "application/vnd.jupyter.widget-state+json": {
    "state": {},
    "version_major": 2,
    "version_minor": 0
   }
  }
 },
 "nbformat": 4,
 "nbformat_minor": 5
}
